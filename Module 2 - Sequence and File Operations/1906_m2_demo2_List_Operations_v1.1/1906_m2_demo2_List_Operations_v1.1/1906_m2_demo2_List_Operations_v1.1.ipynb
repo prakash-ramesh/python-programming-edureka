{
  "cells": [
    {
      "cell_type": "markdown",
      "source": [
        "##Demo 2 - List Operations\n",
        "\n",
        "In this demo, you will learn about different operations performed on List Data type."
      ],
      "metadata": {
        "id": "4DYDvoIlfH-9"
      }
    },
    {
      "cell_type": "markdown",
      "metadata": {
        "id": "SW4Km8u2fGmG"
      },
      "source": [
        "## Lists and its various implementation"
      ]
    },
    {
      "cell_type": "code",
      "execution_count": null,
      "metadata": {
        "colab": {
          "base_uri": "https://localhost:8080/"
        },
        "id": "nX54knFhfGmS",
        "outputId": "db27bf2f-c72b-481a-9309-6dd2545d46c1"
      },
      "outputs": [
        {
          "output_type": "stream",
          "name": "stdout",
          "text": [
            "List:  ['zero', 1, 2, 3, 4, 5, 'six']\n"
          ]
        }
      ],
      "source": [
        "# Initializing list\n",
        "lst=[\"zero\",1,2,3,4,5,'six']\n",
        "print('List: ',lst)"
      ]
    },
    {
      "cell_type": "code",
      "execution_count": null,
      "metadata": {
        "colab": {
          "base_uri": "https://localhost:8080/"
        },
        "id": "soeJgP-rfGmW",
        "outputId": "0242a86c-493c-4788-c225-b4fdba79eb47"
      },
      "outputs": [
        {
          "output_type": "execute_result",
          "data": {
            "text/plain": [
              "['cat', [1, 2, 3], ['a', 'b', 'c']]"
            ]
          },
          "metadata": {},
          "execution_count": 2
        }
      ],
      "source": [
        "# nested list\n",
        "my_list = [\"cat\", [1,2,3], ['a','b','c']]\n",
        "my_list"
      ]
    },
    {
      "cell_type": "code",
      "execution_count": null,
      "metadata": {
        "colab": {
          "base_uri": "https://localhost:8080/"
        },
        "id": "_GfCxbD6fGmX",
        "outputId": "45cc6990-d206-44bd-b453-aac0aacfd4e2"
      },
      "outputs": [
        {
          "output_type": "stream",
          "name": "stdout",
          "text": [
            "First item of list: cat\n",
            "Second item of list: [1, 2, 3]\n",
            "Third item of list: ['a', 'b', 'c']\n",
            "Third item of list and second item of list inside it: b\n"
          ]
        }
      ],
      "source": [
        "#Indexing in list\n",
        "print('First item of list:',my_list[0])\n",
        "print('Second item of list:',my_list[1])\n",
        "print('Third item of list:',my_list[2])\n",
        "print('Third item of list and second item of list inside it:',my_list[2][1])"
      ]
    },
    {
      "cell_type": "code",
      "execution_count": null,
      "metadata": {
        "colab": {
          "base_uri": "https://localhost:8080/"
        },
        "id": "95gJUzPefGmY",
        "outputId": "d4bde334-4352-47f5-ea0d-b181e33a649a"
      },
      "outputs": [
        {
          "output_type": "stream",
          "name": "stdout",
          "text": [
            "Length of a list: 3\n"
          ]
        }
      ],
      "source": [
        "# length of list\n",
        "length_of_list=len(my_list) # len() is a built-in function can be used with any iterable\n",
        "print('Length of a list:',length_of_list)"
      ]
    },
    {
      "cell_type": "code",
      "execution_count": null,
      "metadata": {
        "colab": {
          "base_uri": "https://localhost:8080/",
          "height": 226
        },
        "id": "Q3GUYe8jfGmZ",
        "outputId": "6aba2f94-fd30-4549-af25-e2899e97c6d3"
      },
      "outputs": [
        {
          "output_type": "stream",
          "name": "stdout",
          "text": [
            "Element at index -3: cat\n"
          ]
        },
        {
          "output_type": "error",
          "ename": "IndexError",
          "evalue": "ignored",
          "traceback": [
            "\u001b[0;31m---------------------------------------------------------------------------\u001b[0m",
            "\u001b[0;31mIndexError\u001b[0m                                Traceback (most recent call last)",
            "\u001b[0;32m<ipython-input-5-e9b32d44e712>\u001b[0m in \u001b[0;36m<module>\u001b[0;34m()\u001b[0m\n\u001b[1;32m      2\u001b[0m \u001b[0mprint\u001b[0m\u001b[0;34m(\u001b[0m\u001b[0;34m'Element at index -%d:'\u001b[0m\u001b[0;34m%\u001b[0m\u001b[0;34m(\u001b[0m\u001b[0mlength_of_list\u001b[0m\u001b[0;34m)\u001b[0m\u001b[0;34m,\u001b[0m\u001b[0mmy_list\u001b[0m\u001b[0;34m[\u001b[0m\u001b[0;34m-\u001b[0m\u001b[0mlength_of_list\u001b[0m\u001b[0;34m]\u001b[0m\u001b[0;34m)\u001b[0m \u001b[0;31m# will print first element of list\u001b[0m\u001b[0;34m\u001b[0m\u001b[0;34m\u001b[0m\u001b[0m\n\u001b[1;32m      3\u001b[0m \u001b[0;34m\u001b[0m\u001b[0m\n\u001b[0;32m----> 4\u001b[0;31m \u001b[0mprint\u001b[0m\u001b[0;34m(\u001b[0m\u001b[0;34m'Element at index %d:'\u001b[0m\u001b[0;34m%\u001b[0m\u001b[0;34m(\u001b[0m\u001b[0mlength_of_list\u001b[0m\u001b[0;34m)\u001b[0m\u001b[0;34m,\u001b[0m\u001b[0mmy_list\u001b[0m\u001b[0;34m[\u001b[0m\u001b[0mlength_of_list\u001b[0m\u001b[0;34m]\u001b[0m\u001b[0;34m)\u001b[0m \u001b[0;31m# Index out of range error because it is not a valid index\u001b[0m\u001b[0;34m\u001b[0m\u001b[0;34m\u001b[0m\u001b[0m\n\u001b[0m",
            "\u001b[0;31mIndexError\u001b[0m: list index out of range"
          ]
        }
      ],
      "source": [
        "# Proper indexing\n",
        "print('Element at index -%d:'%(length_of_list),my_list[-length_of_list]) # will print first element of list\n",
        "\n",
        "print('Element at index %d:'%(length_of_list),my_list[length_of_list]) # Index out of range error because it is not a valid index"
      ]
    },
    {
      "cell_type": "code",
      "execution_count": null,
      "metadata": {
        "colab": {
          "base_uri": "https://localhost:8080/"
        },
        "id": "y5uCu3KRfGma",
        "outputId": "6bcca1e4-5967-4fa2-b979-09609c618f73"
      },
      "outputs": [
        {
          "output_type": "stream",
          "name": "stdout",
          "text": [
            "Sales data(seperated by comma): 23,2,4,555,43,200,60,333,346,778,2245,4678\n",
            "Map Object for above Sales of the week: <map object at 0x7fb2357403d0>\n"
          ]
        }
      ],
      "source": [
        "# Wilson wants to input his sales of the week in list\n",
        "sales=map(int,input('Sales data(seperated by comma): ').split(','))\n",
        "print('Map Object for above Sales of the week:',sales)"
      ]
    },
    {
      "cell_type": "code",
      "execution_count": null,
      "metadata": {
        "colab": {
          "base_uri": "https://localhost:8080/"
        },
        "id": "dtf-dSvRfGmc",
        "outputId": "7cbb05b1-eb28-4b98-e157-5dfa298cdc82"
      },
      "outputs": [
        {
          "output_type": "stream",
          "name": "stdout",
          "text": [
            "Sales of the week: [23, 2, 4, 555, 43, 200, 60, 333, 346, 778, 2245, 4678]\n"
          ]
        }
      ],
      "source": [
        "# Map return an iterable, so wilson will have to convert it to a list\n",
        "sales=list(sales)\n",
        "print('Sales of the week:',sales)"
      ]
    },
    {
      "cell_type": "code",
      "execution_count": null,
      "metadata": {
        "colab": {
          "base_uri": "https://localhost:8080/"
        },
        "id": "D-vI9H6ofGmd",
        "outputId": "219f0483-6e16-41d2-99a5-1aae63912edb"
      },
      "outputs": [
        {
          "output_type": "stream",
          "name": "stdout",
          "text": [
            "Sales of first 5 days: [23, 2, 4, 555, 43]\n",
            "Sales after correction: [23, 2, 4, 555, 43, 700, 60, 333, 346, 778, 2245, 4678]\n"
          ]
        }
      ],
      "source": [
        "# To just print the sales of first 5 days\n",
        "print('Sales of first 5 days:',sales[:5])\n",
        "\n",
        "# Apparently wilson made a mistake in entering data\n",
        "index=sales.index(200)\n",
        "sales.remove(200)\n",
        "sales.insert(index,700)\n",
        "print('Sales after correction: {}'.format(sales))\n"
      ]
    },
    {
      "cell_type": "code",
      "execution_count": null,
      "metadata": {
        "colab": {
          "base_uri": "https://localhost:8080/"
        },
        "id": "-pI_bLxufGmf",
        "outputId": "42042772-1c43-4788-fdc7-29057aa7b05c"
      },
      "outputs": [
        {
          "output_type": "stream",
          "name": "stdout",
          "text": [
            "Sorted sales in ascending order: [2, 4, 23, 43, 60, 333, 346, 555, 700, 778, 2245, 4678]\n",
            "Sorted sales in descending order: [4678, 2245, 778, 700, 555, 346, 333, 60, 43, 23, 4, 2]\n"
          ]
        }
      ],
      "source": [
        "# He wants to sort the sales in ascending order\n",
        "sales.sort()\n",
        "print('Sorted sales in ascending order:',sales)\n",
        "# To print in reverse order, :: means nothing for first argument and second argument. \n",
        "# :: works as-> [start:stop(exclusive):step]\n",
        "# Third parameter is required number of steps to take\n",
        "print('Sorted sales in descending order:',sales[::-1])"
      ]
    },
    {
      "cell_type": "code",
      "execution_count": null,
      "metadata": {
        "colab": {
          "base_uri": "https://localhost:8080/"
        },
        "id": "AVX2GRQAfGmg",
        "outputId": "5c9d5f91-2df3-471e-973c-9a290aa7324b"
      },
      "outputs": [
        {
          "output_type": "stream",
          "name": "stdout",
          "text": [
            "Odd numbers: [1, 3, 5, 7, 9, 11, 13, 15, 17, 19]\n",
            "Even numbers: [2, 4, 6, 8, 10, 12, 14, 16, 18, 20]\n"
          ]
        }
      ],
      "source": [
        "# More about the ::\n",
        "numbers=[1,2,3,4,5,6,7,8,9,10,11,12,13,14,15,16,17,18,19,20]\n",
        "print('Odd numbers:',numbers[::2])  # To print odd only\n",
        "print('Even numbers:',numbers[1::2]) # To print even only"
      ]
    },
    {
      "cell_type": "code",
      "execution_count": null,
      "metadata": {
        "colab": {
          "base_uri": "https://localhost:8080/"
        },
        "id": "4OHD0rEcfGmh",
        "outputId": "a5d7458f-0f6b-4b02-a3fc-60ac8ffad3e3"
      },
      "outputs": [
        {
          "output_type": "stream",
          "name": "stdout",
          "text": [
            "Sales in last two weeks: [2, 4, 23, 43, 60, 333, 346, 555, 700, 778, 2245, 4678, 651, 752, 673, 85, 567, 750]\n",
            "Last day sales:34\n",
            "Sales in last two weeks(appended last day sales): [2, 4, 23, 43, 60, 333, 346, 555, 700, 778, 2245, 4678, 651, 752, 673, 85, 567, 750, 34]\n"
          ]
        }
      ],
      "source": [
        "# Now wilson wants to add data for second week to sales\n",
        "second_week=[651,752,673,85,567,750]\n",
        "sales.extend(second_week)\n",
        "print('Sales in last two weeks:',sales)\n",
        "\n",
        "# Well second_week does not have data for last day\n",
        "last_day=int(input('Last day sales:'))\n",
        "sales.append(last_day)\n",
        "print('Sales in last two weeks(appended last day sales):',sales)\n"
      ]
    },
    {
      "cell_type": "code",
      "execution_count": null,
      "metadata": {
        "colab": {
          "base_uri": "https://localhost:8080/"
        },
        "id": "I8ftGbb0fGmi",
        "outputId": "6844bfe0-ea80-4f42-8948-2f2b5681567e"
      },
      "outputs": [
        {
          "output_type": "stream",
          "name": "stdout",
          "text": [
            "Total sales: 13279\n",
            "Maximum Sales: 4678\n",
            "Minimum Sales: 2\n"
          ]
        }
      ],
      "source": [
        "# Total sales\n",
        "print('Total sales:',sum(sales))\n",
        "\n",
        "# Maximum Sales\n",
        "print('Maximum Sales:',max(sales))\n",
        "# Minimum Sales\n",
        "print('Minimum Sales:',min(sales))"
      ]
    },
    {
      "cell_type": "code",
      "execution_count": null,
      "metadata": {
        "colab": {
          "base_uri": "https://localhost:8080/",
          "height": 226
        },
        "id": "etkrttAWfGmj",
        "outputId": "f5d1f950-c012-4f26-8d82-c53f6f8bea4d"
      },
      "outputs": [
        {
          "output_type": "error",
          "ename": "NameError",
          "evalue": "ignored",
          "traceback": [
            "\u001b[0;31m---------------------------------------------------------------------------\u001b[0m",
            "\u001b[0;31mNameError\u001b[0m                                 Traceback (most recent call last)",
            "\u001b[0;32m<ipython-input-13-e819e8d8bc26>\u001b[0m in \u001b[0;36m<module>\u001b[0;34m()\u001b[0m\n\u001b[1;32m      1\u001b[0m \u001b[0;31m# He no more needs the second_week data seperately\u001b[0m\u001b[0;34m\u001b[0m\u001b[0;34m\u001b[0m\u001b[0;34m\u001b[0m\u001b[0m\n\u001b[1;32m      2\u001b[0m \u001b[0;32mdel\u001b[0m \u001b[0msecond_week\u001b[0m\u001b[0;34m\u001b[0m\u001b[0;34m\u001b[0m\u001b[0m\n\u001b[0;32m----> 3\u001b[0;31m \u001b[0mprint\u001b[0m\u001b[0;34m(\u001b[0m\u001b[0msecond_week\u001b[0m\u001b[0;34m)\u001b[0m  \u001b[0;31m# it will throw error as second week list deleted in previous step\u001b[0m\u001b[0;34m\u001b[0m\u001b[0;34m\u001b[0m\u001b[0m\n\u001b[0m\u001b[1;32m      4\u001b[0m \u001b[0;31m#Note: del will unbind the name 'second_week' from the list object. It will not delete the data appended to Sales\u001b[0m\u001b[0;34m\u001b[0m\u001b[0;34m\u001b[0m\u001b[0;34m\u001b[0m\u001b[0m\n",
            "\u001b[0;31mNameError\u001b[0m: name 'second_week' is not defined"
          ]
        }
      ],
      "source": [
        "# He no more needs the second_week data seperately\n",
        "del second_week\n",
        "print(second_week)  # it will throw error as second week list deleted in previous step\n",
        "#Note: del will unbind the name 'second_week' from the list object. It will not delete the data appended to Sales"
      ]
    },
    {
      "cell_type": "code",
      "execution_count": null,
      "metadata": {
        "colab": {
          "base_uri": "https://localhost:8080/"
        },
        "id": "Th9w_pJ-fGml",
        "outputId": "fac0cb27-2c37-4844-c867-b294effd2045"
      },
      "outputs": [
        {
          "output_type": "stream",
          "name": "stdout",
          "text": [
            "Sales: 2|4|23|43|60|333|346|555|700|778|2245|4678|651|752|673|85|567|750|34\n"
          ]
        }
      ],
      "source": [
        "# printing list the elegant way\n",
        "print('Sales: ',end='') # 'end' argument appends a string after the last value, default is a newline.\n",
        "print(*sales,sep='|')   # 'sep' argument inserts a string between multiple values"
      ]
    },
    {
      "cell_type": "code",
      "execution_count": null,
      "metadata": {
        "id": "AGLL3KzofGmm"
      },
      "outputs": [],
      "source": [
        "# pop() and remove()\n",
        "list1=[10,20,30,40,50]\n",
        "list1.pop() # It pops the last element and returns\n",
        "list1.pop(2) # It pops the element at index 2 and returns\n",
        "list1.remove(40) # it removes the value 40"
      ]
    },
    {
      "cell_type": "code",
      "execution_count": null,
      "metadata": {
        "colab": {
          "base_uri": "https://localhost:8080/"
        },
        "id": "yUkbXEaCfGmm",
        "outputId": "ceb32cf3-aa26-4f53-c9ae-bc8ff499dbec"
      },
      "outputs": [
        {
          "output_type": "execute_result",
          "data": {
            "text/plain": [
              "[10, 20]"
            ]
          },
          "metadata": {},
          "execution_count": 16
        }
      ],
      "source": [
        "list1"
      ]
    },
    {
      "cell_type": "code",
      "execution_count": null,
      "metadata": {
        "colab": {
          "base_uri": "https://localhost:8080/",
          "height": 171
        },
        "id": "UVJU0VG_fGmn",
        "outputId": "89e3785e-33b6-4945-d722-861197850ca8"
      },
      "outputs": [
        {
          "output_type": "error",
          "ename": "ValueError",
          "evalue": "ignored",
          "traceback": [
            "\u001b[0;31m---------------------------------------------------------------------------\u001b[0m",
            "\u001b[0;31mValueError\u001b[0m                                Traceback (most recent call last)",
            "\u001b[0;32m<ipython-input-17-86e673072088>\u001b[0m in \u001b[0;36m<module>\u001b[0;34m()\u001b[0m\n\u001b[0;32m----> 1\u001b[0;31m \u001b[0mlist1\u001b[0m\u001b[0;34m.\u001b[0m\u001b[0mremove\u001b[0m\u001b[0;34m(\u001b[0m\u001b[0;36m60\u001b[0m\u001b[0;34m)\u001b[0m    \u001b[0;31m# It will remove the value/entry as 60 if present in list1\u001b[0m\u001b[0;34m\u001b[0m\u001b[0;34m\u001b[0m\u001b[0m\n\u001b[0m",
            "\u001b[0;31mValueError\u001b[0m: list.remove(x): x not in list"
          ]
        }
      ],
      "source": [
        "list1.remove(60)    # It will remove the value/entry as 60 if present in list1"
      ]
    },
    {
      "cell_type": "code",
      "execution_count": null,
      "metadata": {
        "colab": {
          "base_uri": "https://localhost:8080/"
        },
        "id": "5izj5kLxfGmo",
        "outputId": "3362a8b0-a27c-4268-a3b9-e719d3f231c4"
      },
      "outputs": [
        {
          "output_type": "execute_result",
          "data": {
            "text/plain": [
              "[10, 20, 30, 40, 50, 60, [70, 80]]"
            ]
          },
          "metadata": {},
          "execution_count": 18
        }
      ],
      "source": [
        "# Extend vs Append in list\n",
        "\n",
        "list1=[10,20,30,40]\n",
        "list2=[50,60]\n",
        "list3=[70,80]\n",
        "list1.extend(list2) # It adds two elements at two separate index positions\n",
        "list1\n",
        "list1.append(list3) # It appends list3 as a single element.\n",
        "list1"
      ]
    },
    {
      "cell_type": "code",
      "execution_count": null,
      "metadata": {
        "colab": {
          "base_uri": "https://localhost:8080/"
        },
        "id": "6Q0FO1-GfGmp",
        "outputId": "d634b3a0-a30e-4fc0-ff97-e6583dd671fb"
      },
      "outputs": [
        {
          "output_type": "stream",
          "name": "stdout",
          "text": [
            "[10, 30, 40, 50]\n",
            "[30, 10, 50, 40]\n",
            "[2, 5, 30, 40]\n"
          ]
        }
      ],
      "source": [
        "# sorted vs sort\n",
        "list1=[30,10,50,40]\n",
        "print(sorted(list1))  # It will sort list1 and print but originally the list will not be modified\n",
        "print(list1)\n",
        "list2=[5,40,2,30]\n",
        "list2.sort()   # It actually sorts i.e. modifies the list\n",
        "print(list2)"
      ]
    },
    {
      "cell_type": "markdown",
      "metadata": {
        "id": "L8oZTidEfGmq"
      },
      "source": [
        "## Is it possible to remember all the methods of list?  It is not easy. Then can we list out all the methods supported in a list? Yes, you can.\n"
      ]
    },
    {
      "cell_type": "code",
      "execution_count": null,
      "metadata": {
        "colab": {
          "base_uri": "https://localhost:8080/"
        },
        "id": "3iBbdC1JfGmr",
        "outputId": "34f9ef1f-5f62-408b-f2bd-c58d562cb6c2"
      },
      "outputs": [
        {
          "output_type": "stream",
          "name": "stdout",
          "text": [
            "__add__\n",
            "__class__\n",
            "__contains__\n",
            "__delattr__\n",
            "__delitem__\n",
            "__dir__\n",
            "__doc__\n",
            "__eq__\n",
            "__format__\n",
            "__ge__\n",
            "__getattribute__\n",
            "__getitem__\n",
            "__gt__\n",
            "__hash__\n",
            "__iadd__\n",
            "__imul__\n",
            "__init__\n",
            "__init_subclass__\n",
            "__iter__\n",
            "__le__\n",
            "__len__\n",
            "__lt__\n",
            "__mul__\n",
            "__ne__\n",
            "__new__\n",
            "__reduce__\n",
            "__reduce_ex__\n",
            "__repr__\n",
            "__reversed__\n",
            "__rmul__\n",
            "__setattr__\n",
            "__setitem__\n",
            "__sizeof__\n",
            "__str__\n",
            "__subclasshook__\n",
            "append\n",
            "clear\n",
            "copy\n",
            "count\n",
            "extend\n",
            "index\n",
            "insert\n",
            "pop\n",
            "remove\n",
            "reverse\n",
            "sort\n"
          ]
        }
      ],
      "source": [
        "for i in dir(list1):\n",
        "    print(i)"
      ]
    },
    {
      "cell_type": "markdown",
      "metadata": {
        "id": "tpLXI2iMfGmr"
      },
      "source": [
        "## How to check documentation of any API?"
      ]
    },
    {
      "cell_type": "code",
      "execution_count": null,
      "metadata": {
        "colab": {
          "base_uri": "https://localhost:8080/"
        },
        "id": "s33x-PX3fGms",
        "outputId": "a56dd308-6d2f-420d-fac4-ba0e3968402c"
      },
      "outputs": [
        {
          "output_type": "stream",
          "name": "stdout",
          "text": [
            "Insert object before index.\n"
          ]
        }
      ],
      "source": [
        "print(list1.insert.__doc__)"
      ]
    },
    {
      "cell_type": "markdown",
      "metadata": {
        "id": "6R5mSxMifGmt"
      },
      "source": [
        "## List Comprehension"
      ]
    },
    {
      "cell_type": "code",
      "execution_count": null,
      "metadata": {
        "colab": {
          "base_uri": "https://localhost:8080/"
        },
        "id": "gBs0pxbmfGmt",
        "outputId": "eca674a5-68c1-4d4c-c42f-ef364696a975"
      },
      "outputs": [
        {
          "output_type": "stream",
          "name": "stdout",
          "text": [
            "[1, 4, 9, 16]\n"
          ]
        }
      ],
      "source": [
        "## List Comprehension\n",
        "\n",
        "a=[1,2,3,4]\n",
        "b=[i**2 for i in a]\n",
        "print(b)"
      ]
    },
    {
      "cell_type": "code",
      "execution_count": null,
      "metadata": {
        "colab": {
          "base_uri": "https://localhost:8080/"
        },
        "id": "LqOX8XTqfGmu",
        "outputId": "47e3582b-0727-4dde-88f7-bbdd5452e3a6"
      },
      "outputs": [
        {
          "output_type": "stream",
          "name": "stdout",
          "text": [
            "[1, 4]\n"
          ]
        }
      ],
      "source": [
        "c=[i**2 for i in a if i<3]\n",
        "print(c)"
      ]
    },
    {
      "cell_type": "code",
      "execution_count": null,
      "metadata": {
        "colab": {
          "base_uri": "https://localhost:8080/"
        },
        "id": "9zUwqAjqfGmv",
        "outputId": "41af860e-65df-4ea4-b4da-2cf88854a6a6"
      },
      "outputs": [
        {
          "output_type": "stream",
          "name": "stdout",
          "text": [
            "[24, 35, 24, 155]\n"
          ]
        }
      ],
      "source": [
        "#print the list after removing the 0th,4th,5th numbers in [12,24,35,70,88,120,155].\n",
        "\n",
        "list1=[12,24,35,24,88,120,155]\n",
        "list2=[list1[i] for i in range(0,len(list1)) if i not in [0,4,5]]\n",
        "print(list2)"
      ]
    }
  ],
  "metadata": {
    "kernelspec": {
      "display_name": "Python 3",
      "language": "python",
      "name": "python3"
    },
    "language_info": {
      "codemirror_mode": {
        "name": "ipython",
        "version": 3
      },
      "file_extension": ".py",
      "mimetype": "text/x-python",
      "name": "python",
      "nbconvert_exporter": "python",
      "pygments_lexer": "ipython3",
      "version": "3.7.3"
    },
    "colab": {
      "name": "1906_m2_demo2 - List Operations_v1_1.ipynb",
      "provenance": []
    }
  },
  "nbformat": 4,
  "nbformat_minor": 0
}