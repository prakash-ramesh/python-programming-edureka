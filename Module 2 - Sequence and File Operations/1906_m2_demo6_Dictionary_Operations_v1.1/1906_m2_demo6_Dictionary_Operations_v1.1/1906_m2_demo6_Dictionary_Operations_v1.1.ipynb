{
  "cells": [
    {
      "cell_type": "markdown",
      "source": [
        "## Demo 6 - Dictionary Operations\n",
        "\n",
        "In this demo, you will learn about different operations performed on Dictionary Data type."
      ],
      "metadata": {
        "id": "MivFBuJ-Xm34"
      }
    },
    {
      "cell_type": "markdown",
      "source": [
        "Creating a Dictionary"
      ],
      "metadata": {
        "id": "MF3oCsr2XwPe"
      }
    },
    {
      "cell_type": "code",
      "execution_count": null,
      "metadata": {
        "id": "JlRG4kc9Vt5E",
        "outputId": "ed6f5540-3af8-4e1c-9470-70ace10c48ab"
      },
      "outputs": [
        {
          "name": "stdout",
          "output_type": "stream",
          "text": [
            "{'Name': 'James', 'Age': 21, 'Band': 'C'}\n"
          ]
        }
      ],
      "source": [
        "# James wants to insert Employee Data \n",
        "emp_data={'Name':'James','Age':21,'Band':'C'}\n",
        "print(emp_data)"
      ]
    },
    {
      "cell_type": "markdown",
      "source": [
        "In-built Functions in Dictionary"
      ],
      "metadata": {
        "id": "6mMxOWkuX0GY"
      }
    },
    {
      "cell_type": "code",
      "execution_count": null,
      "metadata": {
        "id": "-yOAVUeqVt5K",
        "outputId": "4b674c49-459e-460a-ac73-287a26bbea46"
      },
      "outputs": [
        {
          "name": "stdout",
          "output_type": "stream",
          "text": [
            "dict_keys(['Name', 'Age', 'Band'])\n"
          ]
        }
      ],
      "source": [
        "# keys() method will return keys of dictionary\n",
        "keys=emp_data.keys()\n",
        "print(keys)"
      ]
    },
    {
      "cell_type": "code",
      "execution_count": null,
      "metadata": {
        "id": "z26gIipQVt5M",
        "outputId": "ae402e69-147f-4bc7-f690-8ed1a0ed973a"
      },
      "outputs": [
        {
          "name": "stdout",
          "output_type": "stream",
          "text": [
            "dict_values(['James', 21, 'C'])\n"
          ]
        }
      ],
      "source": [
        "# values() method will return values of dictionary\n",
        "print(emp_data.values())"
      ]
    },
    {
      "cell_type": "code",
      "execution_count": null,
      "metadata": {
        "id": "3H6AeL8eVt5N",
        "outputId": "8296465d-b092-4765-c211-6e058bdaef6d"
      },
      "outputs": [
        {
          "name": "stdout",
          "output_type": "stream",
          "text": [
            "Team Data: {'Name': None, 'Age': None, 'Band': None}\n"
          ]
        }
      ],
      "source": [
        "# So now he wants to insert data of his team\n",
        "team_data=dict.fromkeys(keys)\n",
        "print('Team Data:',team_data)"
      ]
    },
    {
      "cell_type": "code",
      "execution_count": null,
      "metadata": {
        "id": "l66lSAKtVt5O"
      },
      "outputs": [],
      "source": [
        "# Team data\n",
        "names=['Smith','Manali','Kabir']\n",
        "ages=[21,28,22]\n",
        "bands=['C','B','D']"
      ]
    },
    {
      "cell_type": "code",
      "execution_count": null,
      "metadata": {
        "id": "wOY0m3ErVt5P"
      },
      "outputs": [],
      "source": [
        "# Inserting data\n",
        "team_data['Name']=names\n",
        "team_data['Age']=ages\n",
        "team_data['Band']=bands"
      ]
    },
    {
      "cell_type": "code",
      "execution_count": null,
      "metadata": {
        "id": "Uip6aHFgVt5P",
        "outputId": "decb4443-f326-4aad-d77c-d5ab9bec71e9"
      },
      "outputs": [
        {
          "name": "stdout",
          "output_type": "stream",
          "text": [
            "Team Data after inserting data: {'Name': ['Smith', 'Manali', 'Kabir'], 'Age': [21, 28, 22], 'Band': ['C', 'B', 'D']}\n"
          ]
        }
      ],
      "source": [
        "print('Team Data after inserting data:',team_data)"
      ]
    },
    {
      "cell_type": "code",
      "execution_count": null,
      "metadata": {
        "id": "vD-4Fd3DVt5R",
        "outputId": "4e964444-367d-416f-e941-d1732beaef30"
      },
      "outputs": [
        {
          "name": "stdout",
          "output_type": "stream",
          "text": [
            "Manali\n"
          ]
        }
      ],
      "source": [
        "# Printing data from dictionary\n",
        "print(team_data['Name'][1])"
      ]
    },
    {
      "cell_type": "code",
      "execution_count": null,
      "metadata": {
        "id": "o4jCbBmwVt5S",
        "outputId": "dd489412-043d-425f-9a64-060dda846e53"
      },
      "outputs": [
        {
          "name": "stdout",
          "output_type": "stream",
          "text": [
            "Updatad Team Data: {'Name': ['Smith', 'Manali', 'Kabir'], 'Band': ['C', 'B', 'D']}\n"
          ]
        }
      ],
      "source": [
        "# He no longer requires Age attribute\n",
        "team_data.pop('Age') # removing Age attribute\n",
        "print('Updatad Team Data:',team_data)"
      ]
    },
    {
      "cell_type": "code",
      "execution_count": null,
      "metadata": {
        "id": "pp_Y_2ARVt5T",
        "outputId": "43772924-038e-4d88-a3d4-4e31624b2a31"
      },
      "outputs": [
        {
          "name": "stdout",
          "output_type": "stream",
          "text": [
            "dict_items([(1, 100), (2, 200)])\n",
            "400\n",
            "None\n",
            "dict_items([(1, 100), (2, 200)])\n"
          ]
        }
      ],
      "source": [
        "## Example\n",
        "dict1={1:100,2:200,3:300}\n",
        "del dict1[3]\n",
        "print(dict1.items())\n",
        "print(dict1.get(4,400))   # Although the key 4 is not present, but it display the value 400. But note that the key won't be added\n",
        "print(dict1.get(5))  # When you don't pass any value then it prints None\n",
        "print(dict1.items())"
      ]
    }
  ],
  "metadata": {
    "kernelspec": {
      "display_name": "Python 3",
      "language": "python",
      "name": "python3"
    },
    "language_info": {
      "codemirror_mode": {
        "name": "ipython",
        "version": 3
      },
      "file_extension": ".py",
      "mimetype": "text/x-python",
      "name": "python",
      "nbconvert_exporter": "python",
      "pygments_lexer": "ipython3",
      "version": "3.7.4"
    },
    "colab": {
      "name": "1906_m2_demo6 - Dictionaries Operations_v1.1.ipynb",
      "provenance": []
    }
  },
  "nbformat": 4,
  "nbformat_minor": 0
}