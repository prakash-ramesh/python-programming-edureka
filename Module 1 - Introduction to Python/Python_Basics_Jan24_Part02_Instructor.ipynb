{
 "cells": [
  {
   "cell_type": "code",
   "execution_count": 3,
   "id": "5463d319-d12e-4e6b-a057-a5d63a9c4af4",
   "metadata": {},
   "outputs": [
    {
     "name": "stdout",
     "output_type": "stream",
     "text": [
      "Hi,Amit, your age is 26\n",
      "Hi,26, your age is Amit\n",
      "Hi,Amit, your age is 26\n"
     ]
    }
   ],
   "source": [
    "#String Formatting/Interpolations\n",
    "#Format()\n",
    "name=\"Amit\"\n",
    "age=26\n",
    "print(\"Hi,{}, your age is {}\".format(name,age))\n",
    "print(\"Hi,{}, your age is {}\".format(age,name))\n",
    "print(\"Hi,{1}, your age is {0}\".format(age,name))"
   ]
  },
  {
   "cell_type": "code",
   "execution_count": 7,
   "id": "972542f9-ba92-43e9-81c4-7bfbf62aa276",
   "metadata": {},
   "outputs": [
    {
     "name": "stdin",
     "output_type": "stream",
     "text": [
      "Enter your name: Garima\n",
      "Enter your age: 56\n"
     ]
    },
    {
     "name": "stdout",
     "output_type": "stream",
     "text": [
      "Hi,{name}, your age is {age}\n"
     ]
    }
   ],
   "source": [
    "#f strings\n",
    "name=input(\"Enter your name:\")\n",
    "age=int(input(\"Enter your age:\"))\n",
    "print(f\"Hi,{name}, your age is {age}\")"
   ]
  },
  {
   "cell_type": "code",
   "execution_count": 8,
   "id": "e6773631-2987-4c7d-aced-4145ae989e77",
   "metadata": {},
   "outputs": [
    {
     "name": "stdout",
     "output_type": "stream",
     "text": [
      "hi,your age is 56\n"
     ]
    }
   ],
   "source": [
    "#% modulo string %d,%f,%s\n",
    "print(\"hi,your age is %d\"%age)"
   ]
  },
  {
   "cell_type": "code",
   "execution_count": 9,
   "id": "8b1ab407-5c0b-49c7-a22e-8f4d1401679a",
   "metadata": {},
   "outputs": [
    {
     "name": "stdout",
     "output_type": "stream",
     "text": [
      "False\n"
     ]
    }
   ],
   "source": [
    "print(1.1+2.2==3.3)"
   ]
  },
  {
   "cell_type": "code",
   "execution_count": 10,
   "id": "e7c4bac1-1982-4e61-b33b-468262a94a1b",
   "metadata": {},
   "outputs": [
    {
     "name": "stdout",
     "output_type": "stream",
     "text": [
      "AmitSharma\n"
     ]
    }
   ],
   "source": [
    "print('Amit'+'Sharma')"
   ]
  },
  {
   "cell_type": "code",
   "execution_count": 13,
   "id": "a2f80ab6-baa1-46ee-836d-f14159f89e52",
   "metadata": {},
   "outputs": [
    {
     "name": "stdin",
     "output_type": "stream",
     "text": [
      "Enter any number 22\n"
     ]
    },
    {
     "name": "stdout",
     "output_type": "stream",
     "text": [
      "Number is even\n"
     ]
    }
   ],
   "source": [
    "#Conditional Statements/Flow Control\n",
    "#Number is even or odd ??\n",
    "num=int(input(\"Enter any number\"))\n",
    "#if\n",
    "if num%2==0:  #T/F\n",
    "    print(\"Number is even\")\n",
    "else:\n",
    "    print(\"Number is odd\")\n",
    "\n"
   ]
  },
  {
   "cell_type": "code",
   "execution_count": 18,
   "id": "86739d08-ea8f-4625-8529-1d1b244311e7",
   "metadata": {},
   "outputs": [
    {
     "name": "stdin",
     "output_type": "stream",
     "text": [
      "Enter any char i\n"
     ]
    },
    {
     "name": "stdout",
     "output_type": "stream",
     "text": [
      "char i is vowel\n"
     ]
    }
   ],
   "source": [
    "#elif\n",
    "#Char is vowel or consonent  \n",
    "char=input(\"Enter any char\")\n",
    "if char=='a' or char=='A': #c1\n",
    "    print(f\"char {char} is vowel\")\n",
    "elif char=='e' or char=='E': #c2\n",
    "    print(f\"char {char} is vowel\")\n",
    "elif char=='i' or char=='I': #c3\n",
    "    print(f\"char {char} is vowel\")\n",
    "elif char=='o' or char=='O': #c4\n",
    "    print(f\"char {char} is vowel\")\n",
    "elif char=='u' or char=='U':\n",
    "    print(f\"char {char} is vowel\")\n",
    "else:\n",
    "    print(\"char is consonent\")"
   ]
  },
  {
   "cell_type": "code",
   "execution_count": 26,
   "id": "8f951a81-4fd3-43ed-8722-7e40f7cbcc32",
   "metadata": {},
   "outputs": [
    {
     "name": "stdin",
     "output_type": "stream",
     "text": [
      "Enter your marks 95\n"
     ]
    },
    {
     "name": "stdout",
     "output_type": "stream",
     "text": [
      "Grade:A+\n"
     ]
    }
   ],
   "source": [
    "#Nested Conditional statements\n",
    "#marks>50 and marks<65---C\n",
    "#marks>=65 and marks<85---B\n",
    "#marks>=85 and marks<92---A\n",
    "#marks>=92...A+\n",
    "mrk=int(input(\"Enter your marks\"))\n",
    "if mrk<0 or mrk>100:\n",
    "    print(\"Invalid Marks, try again\")\n",
    "else:\n",
    "    if mrk>50 and mrk<65:\n",
    "        print(\"Grade:C\")\n",
    "    elif mrk>=65 and mrk<85:\n",
    "        print(\"Grade:B\")\n",
    "    elif mrk>85 and mrk<100:\n",
    "        if mrk>92:\n",
    "            print(\"Grade:A+\")\n",
    "        else:\n",
    "            print(\"Grade:A\")\n"
   ]
  },
  {
   "cell_type": "code",
   "execution_count": 28,
   "id": "7fbe88ad-739b-45cb-aa02-aa60511c1480",
   "metadata": {},
   "outputs": [
    {
     "name": "stdin",
     "output_type": "stream",
     "text": [
      "Enter any number: 60\n"
     ]
    },
    {
     "name": "stdout",
     "output_type": "stream",
     "text": [
      "Invalid Value\n"
     ]
    }
   ],
   "source": [
    "#Match Case\n",
    "num=int(input(\"Enter any number:\"))\n",
    "match num:\n",
    "    case 10:\n",
    "        print(\"10 in valid\")\n",
    "    case 20:\n",
    "        print(\"20 is valid\")\n",
    "    case 30:\n",
    "        print(\"30 is valid\")\n",
    "    case 40:\n",
    "        print(\"40 is valid\")\n",
    "    case _:\n",
    "        print(\"Invalid Value\")"
   ]
  },
  {
   "cell_type": "code",
   "execution_count": 29,
   "id": "5c505b9b-db72-4979-b560-0d5d95ec22e7",
   "metadata": {},
   "outputs": [
    {
     "name": "stdin",
     "output_type": "stream",
     "text": [
      "Enter any number 20\n"
     ]
    },
    {
     "ename": "TypeError",
     "evalue": "unsupported operand type(s) for +: 'int' and 'str'",
     "output_type": "error",
     "traceback": [
      "\u001b[1;31m---------------------------------------------------------------------------\u001b[0m",
      "\u001b[1;31mTypeError\u001b[0m                                 Traceback (most recent call last)",
      "Cell \u001b[1;32mIn[29], line 7\u001b[0m\n\u001b[0;32m      5\u001b[0m     \u001b[38;5;28mprint\u001b[39m(num \u001b[38;5;241m+\u001b[39m \u001b[38;5;124m\"\u001b[39m\u001b[38;5;124m is valid\u001b[39m\u001b[38;5;124m\"\u001b[39m)\n\u001b[0;32m      6\u001b[0m \u001b[38;5;28;01mcase\u001b[39;00m \u001b[38;5;241m20\u001b[39m:\n\u001b[1;32m----> 7\u001b[0m     \u001b[38;5;28mprint\u001b[39m(\u001b[43mnum\u001b[49m\u001b[43m \u001b[49m\u001b[38;5;241;43m+\u001b[39;49m\u001b[43m \u001b[49m\u001b[38;5;124;43m\"\u001b[39;49m\u001b[38;5;124;43m is valid\u001b[39;49m\u001b[38;5;124;43m\"\u001b[39;49m)\n\u001b[0;32m      8\u001b[0m \u001b[38;5;28;01mcase\u001b[39;00m \u001b[38;5;241m30\u001b[39m:\n\u001b[0;32m      9\u001b[0m     \u001b[38;5;28mprint\u001b[39m(num \u001b[38;5;241m+\u001b[39m \u001b[38;5;124m\"\u001b[39m\u001b[38;5;124m is valid\u001b[39m\u001b[38;5;124m\"\u001b[39m)\n",
      "\u001b[1;31mTypeError\u001b[0m: unsupported operand type(s) for +: 'int' and 'str'"
     ]
    }
   ],
   "source": [
    "#Deepika's Code\n",
    "num=int(input(\"Enter any number\"))\n",
    "match num:\n",
    "    case 10:\n",
    "        print(num + \" is valid\")\n",
    "    case 20:\n",
    "        print(num + \" is valid\")\n",
    "    case 30:\n",
    "        print(num + \" is valid\")\n",
    "    case _:\n",
    "        print(num + \" is not valid\")"
   ]
  },
  {
   "cell_type": "code",
   "execution_count": null,
   "id": "593e3ed6-d65f-43eb-b465-74266396f71c",
   "metadata": {},
   "outputs": [],
   "source": [
    "num=int(input(\"enter the num\"))\n",
    "match num:\n",
    "    case 10:\n",
    "        print(str(num)+\" is valid\")\n",
    "    case 20:\n",
    "        print(str(num)+\" is valid\")\n",
    "    case _:\n",
    "        print(\"invalid\")"
   ]
  },
  {
   "cell_type": "code",
   "execution_count": 31,
   "id": "a8ef1964-551d-4ae2-98aa-f429854ee950",
   "metadata": {},
   "outputs": [
    {
     "name": "stdin",
     "output_type": "stream",
     "text": [
      "Enter any number: 15\n"
     ]
    },
    {
     "name": "stdout",
     "output_type": "stream",
     "text": [
      "15*1=15\n",
      "15*2=30\n",
      "15*3=45\n",
      "15*4=60\n",
      "15*5=75\n",
      "15*6=90\n",
      "15*7=105\n",
      "15*8=120\n",
      "15*9=135\n",
      "15*10=150\n"
     ]
    }
   ],
   "source": [
    "#Loops: while and for\n",
    "\n",
    "#While\n",
    "num=int(input(\"Enter any number:\"))\n",
    "i=1\n",
    "while i<=10:\n",
    "    print(\"{}*{}={}\".format(num,i,i*num))\n",
    "    i+=1 #i=i+1"
   ]
  },
  {
   "cell_type": "code",
   "execution_count": 37,
   "id": "a29b7b59-505f-43df-8490-667ef965b65e",
   "metadata": {},
   "outputs": [
    {
     "name": "stdout",
     "output_type": "stream",
     "text": [
      "[1, 2, 3, 4, 5, 6, 7, 8, 9, 10]\n",
      "[1, 4, 7, 10, 13, 16, 19, 22, 25, 28, 31, 34, 37, 40, 43, 46, 49]\n"
     ]
    }
   ],
   "source": [
    "#range(start,stop,step)\n",
    "print(list(range(1,11)))\n",
    "print(list(range(1,51,3)))"
   ]
  },
  {
   "cell_type": "code",
   "execution_count": 38,
   "id": "6d62016c-8b5c-48de-8f68-bce2e9ae88b5",
   "metadata": {},
   "outputs": [
    {
     "name": "stdin",
     "output_type": "stream",
     "text": [
      "Enter any number: 16\n"
     ]
    },
    {
     "name": "stdout",
     "output_type": "stream",
     "text": [
      "16*1=16\n",
      "16*2=32\n",
      "16*3=48\n",
      "16*4=64\n",
      "16*5=80\n",
      "16*6=96\n",
      "16*7=112\n",
      "16*8=128\n",
      "16*9=144\n",
      "16*10=160\n"
     ]
    }
   ],
   "source": [
    "#for\n",
    "num=int(input(\"Enter any number:\"))\n",
    "for i in range(1,11):\n",
    "    print(\"{}*{}={}\".format(num,i,i*num))"
   ]
  },
  {
   "cell_type": "code",
   "execution_count": 39,
   "id": "e5d111e4-e469-422e-ae20-862d9f342316",
   "metadata": {},
   "outputs": [
    {
     "name": "stdin",
     "output_type": "stream",
     "text": [
      "Enter any Number 15\n"
     ]
    },
    {
     "name": "stdout",
     "output_type": "stream",
     "text": [
      "15*1=15\n",
      "15*2=30\n",
      "15*3=45\n",
      "15*4=60\n",
      "15*5=75\n",
      "15*6=90\n",
      "15*7=105\n",
      "15*8=120\n",
      "15*9=135\n",
      "15*10=150\n"
     ]
    }
   ],
   "source": [
    "num=int(input(\"Enter any Number\"))\n",
    "for i in range(1,11):\n",
    "    print(\"{}*{}={}\".format(num,i,i*num))"
   ]
  },
  {
   "cell_type": "code",
   "execution_count": 40,
   "id": "b5c291eb-54ad-40ec-8f87-c8be35f53d53",
   "metadata": {},
   "outputs": [
    {
     "name": "stdin",
     "output_type": "stream",
     "text": [
      "Enter any number: 15\n"
     ]
    },
    {
     "name": "stdout",
     "output_type": "stream",
     "text": [
      "15*1=15\n",
      "15*2=30\n",
      "15*3=45\n",
      "15*4=60\n",
      "15*5=75\n",
      "15*6=90\n",
      "15*7=105\n",
      "15*8=120\n",
      "15*9=135\n",
      "15*10=150\n",
      "Finished !\n"
     ]
    }
   ],
   "source": [
    "num=int(input(\"Enter any number:\"))\n",
    "for i in range(1,11):\n",
    "    print(\"{}*{}={}\".format(num,i,i*num))\n",
    "else:\n",
    "    print(\"Finished !\")"
   ]
  },
  {
   "cell_type": "code",
   "execution_count": 43,
   "id": "15b759e8-53a6-4e4f-b293-9359f54f280c",
   "metadata": {},
   "outputs": [
    {
     "name": "stdin",
     "output_type": "stream",
     "text": [
      "Enter number 100\n"
     ]
    },
    {
     "name": "stdout",
     "output_type": "stream",
     "text": [
      "45\n",
      "63\n",
      "95\n",
      "32\n",
      "68\n",
      "78\n",
      "45\n",
      "12\n",
      "96\n",
      "85\n",
      "37\n",
      "Number no found\n"
     ]
    }
   ],
   "source": [
    "#break and continue\n",
    "lst=[45,63,95,32,68,78,45,12,96,85,37]\n",
    "num=int(input(\"Enter number\"))\n",
    "for i in lst:\n",
    "    print(i)\n",
    "    if i==num:\n",
    "        print(\"Number found\")\n",
    "        break\n",
    "else:\n",
    "    print(\"Number not found\")"
   ]
  },
  {
   "cell_type": "code",
   "execution_count": 44,
   "id": "d2d87ead-e0a5-471c-af43-c5ea2fee2f81",
   "metadata": {},
   "outputs": [
    {
     "name": "stdin",
     "output_type": "stream",
     "text": [
      "Enter number 32\n"
     ]
    },
    {
     "name": "stdout",
     "output_type": "stream",
     "text": [
      "45\n",
      "63\n",
      "95\n",
      "32\n",
      "Number found\n",
      "68\n",
      "78\n",
      "32\n",
      "Number found\n",
      "12\n",
      "96\n",
      "85\n",
      "37\n",
      "Number no found\n"
     ]
    }
   ],
   "source": [
    "lst=[45,63,95,32,68,78,32,12,96,85,37]\n",
    "num=int(input(\"Enter number\"))\n",
    "for i in lst:\n",
    "    print(i)\n",
    "    if i==num:\n",
    "        print(\"Number found\")\n",
    "        continue\n",
    "else:\n",
    "    print(\"Number not found\")"
   ]
  },
  {
   "cell_type": "code",
   "execution_count": 51,
   "id": "5a606e01-36da-4525-9471-ff9cf5c5dc0a",
   "metadata": {},
   "outputs": [
    {
     "name": "stdout",
     "output_type": "stream",
     "text": [
      "This is a sample string \n",
      " here new line start\n"
     ]
    }
   ],
   "source": [
    "#Strings in Python\n",
    "str=\"This is a sample string\"\n",
    "str='This is also a string'   #char='u'\n",
    "str=\"\"\"\n",
    "This is\n",
    "a \n",
    "multiline string\n",
    "\"\"\"\n",
    "str='''\n",
    "This is also\n",
    "a \n",
    "multiline \n",
    "string\n",
    "'''\n",
    "str=\"This is Jhon's house\"\n",
    "str='The \"sun\" rises in east'\n",
    "str=\"This is a sample string \\n here new line start\"\n",
    "print(str)"
   ]
  },
  {
   "cell_type": "code",
   "execution_count": 58,
   "id": "2c412856-f7f1-4a91-9e51-9ecf38355380",
   "metadata": {},
   "outputs": [
    {
     "name": "stdout",
     "output_type": "stream",
     "text": [
      "t\n",
      "n\n"
     ]
    }
   ],
   "source": [
    "#indexing in string\n",
    "str=\"Sample string\"\n",
    "print(str[8])\n",
    "print(str[-2])"
   ]
  },
  {
   "cell_type": "code",
   "execution_count": 59,
   "id": "78dcd0e1-6904-419c-a2b1-f109ca5bed78",
   "metadata": {},
   "outputs": [
    {
     "name": "stdout",
     "output_type": "stream",
     "text": [
      "String1String2\n"
     ]
    }
   ],
   "source": [
    "str1=\"String1\"\n",
    "str2=\"String2\"\n",
    "print(str1+str2)"
   ]
  },
  {
   "cell_type": "code",
   "execution_count": 68,
   "id": "fcf992b8-1ce6-44b3-85ae-fcc9b376a011",
   "metadata": {},
   "outputs": [
    {
     "name": "stdout",
     "output_type": "stream",
     "text": [
      "defgh\n",
      " ijklmn\n",
      "abcde\n",
      "fgh ijklmnopqr\n",
      "aceg jlnpr\n",
      "rqponmlkji hgfedcba\n",
      "19\n",
      "a\n",
      "b\n",
      "c\n",
      "d\n",
      "e\n",
      "f\n",
      "g\n",
      "h\n",
      " \n",
      "i\n",
      "j\n",
      "k\n",
      "l\n",
      "m\n",
      "n\n",
      "o\n",
      "p\n",
      "q\n",
      "r\n"
     ]
    }
   ],
   "source": [
    "#slicing in string\n",
    "str=\"abcdefghijklmnopqr\"\n",
    "print(str[3:8]) #start:stop:step\n",
    "print(str[8:15])\n",
    "print(str[:5])\n",
    "print(str[5:])\n",
    "print(str[::2])\n",
    "print(str[::-1])\n",
    "print(len(str))\n",
    "\n",
    "for i in str:\n",
    "    print(i)"
   ]
  },
  {
   "cell_type": "code",
   "execution_count": 70,
   "id": "775923e8-0472-4262-b20c-be19299620b3",
   "metadata": {},
   "outputs": [
    {
     "name": "stdout",
     "output_type": "stream",
     "text": [
      "__add__\n",
      "__class__\n",
      "__contains__\n",
      "__delattr__\n",
      "__dir__\n",
      "__doc__\n",
      "__eq__\n",
      "__format__\n",
      "__ge__\n",
      "__getattribute__\n",
      "__getitem__\n",
      "__getnewargs__\n",
      "__getstate__\n",
      "__gt__\n",
      "__hash__\n",
      "__init__\n",
      "__init_subclass__\n",
      "__iter__\n",
      "__le__\n",
      "__len__\n",
      "__lt__\n",
      "__mod__\n",
      "__mul__\n",
      "__ne__\n",
      "__new__\n",
      "__reduce__\n",
      "__reduce_ex__\n",
      "__repr__\n",
      "__rmod__\n",
      "__rmul__\n",
      "__setattr__\n",
      "__sizeof__\n",
      "__str__\n",
      "__subclasshook__\n",
      "capitalize\n",
      "casefold\n",
      "center\n",
      "count\n",
      "encode\n",
      "endswith\n",
      "expandtabs\n",
      "find\n",
      "format\n",
      "format_map\n",
      "index\n",
      "isalnum\n",
      "isalpha\n",
      "isascii\n",
      "isdecimal\n",
      "isdigit\n",
      "isidentifier\n",
      "islower\n",
      "isnumeric\n",
      "isprintable\n",
      "isspace\n",
      "istitle\n",
      "isupper\n",
      "join\n",
      "ljust\n",
      "lower\n",
      "lstrip\n",
      "maketrans\n",
      "partition\n",
      "removeprefix\n",
      "removesuffix\n",
      "replace\n",
      "rfind\n",
      "rindex\n",
      "rjust\n",
      "rpartition\n",
      "rsplit\n",
      "rstrip\n",
      "split\n",
      "splitlines\n",
      "startswith\n",
      "strip\n",
      "swapcase\n",
      "title\n",
      "translate\n",
      "upper\n",
      "zfill\n"
     ]
    }
   ],
   "source": [
    "#dir()\n",
    "\n",
    "#print(dir(str))\n",
    "for i in dir(str):\n",
    "    print(i)"
   ]
  },
  {
   "cell_type": "code",
   "execution_count": 72,
   "id": "07f493c1-ebc8-45e2-9ea9-3e50041645fe",
   "metadata": {},
   "outputs": [
    {
     "name": "stdout",
     "output_type": "stream",
     "text": [
      "Return a copy of the string converted to uppercase.\n"
     ]
    }
   ],
   "source": [
    "print(str.upper.__doc__)"
   ]
  },
  {
   "cell_type": "code",
   "execution_count": 73,
   "id": "5fc2eb53-cbf9-4591-a794-7870ac59d9c7",
   "metadata": {},
   "outputs": [
    {
     "name": "stdout",
     "output_type": "stream",
     "text": [
      "<class 'list'>\n"
     ]
    }
   ],
   "source": [
    "lst=[10,20,30]\n",
    "print(type(lst))"
   ]
  },
  {
   "cell_type": "code",
   "execution_count": 75,
   "id": "ff3a1d29-4264-4476-a63c-c4bf89c23966",
   "metadata": {},
   "outputs": [
    {
     "name": "stdout",
     "output_type": "stream",
     "text": [
      "__add__\n",
      "__class__\n",
      "__class_getitem__\n",
      "__contains__\n",
      "__delattr__\n",
      "__delitem__\n",
      "__dir__\n",
      "__doc__\n",
      "__eq__\n",
      "__format__\n",
      "__ge__\n",
      "__getattribute__\n",
      "__getitem__\n",
      "__getstate__\n",
      "__gt__\n",
      "__hash__\n",
      "__iadd__\n",
      "__imul__\n",
      "__init__\n",
      "__init_subclass__\n",
      "__iter__\n",
      "__le__\n",
      "__len__\n",
      "__lt__\n",
      "__mul__\n",
      "__ne__\n",
      "__new__\n",
      "__reduce__\n",
      "__reduce_ex__\n",
      "__repr__\n",
      "__reversed__\n",
      "__rmul__\n",
      "__setattr__\n",
      "__setitem__\n",
      "__sizeof__\n",
      "__str__\n",
      "__subclasshook__\n",
      "append\n",
      "clear\n",
      "copy\n",
      "count\n",
      "extend\n",
      "index\n",
      "insert\n",
      "pop\n",
      "remove\n",
      "reverse\n",
      "sort\n"
     ]
    }
   ],
   "source": [
    "#print(dir(lst))\n",
    "\n",
    "for i in dir(lst):\n",
    "    print(i)"
   ]
  },
  {
   "cell_type": "code",
   "execution_count": 77,
   "id": "fed9774e-fb98-4269-be74-b734d419bd70",
   "metadata": {},
   "outputs": [
    {
     "name": "stdout",
     "output_type": "stream",
     "text": [
      "True\n"
     ]
    }
   ],
   "source": [
    "str=\"Amit\"\n",
    "#print(str=='amit')\n",
    "print(str.casefold()=='amit') "
   ]
  },
  {
   "cell_type": "code",
   "execution_count": null,
   "id": "9d82ae8f-0085-4305-b581-fdaca176fbac",
   "metadata": {},
   "outputs": [],
   "source": []
  }
 ],
 "metadata": {
  "kernelspec": {
   "display_name": "Python 3 (ipykernel)",
   "language": "python",
   "name": "python3"
  },
  "language_info": {
   "codemirror_mode": {
    "name": "ipython",
    "version": 3
   },
   "file_extension": ".py",
   "mimetype": "text/x-python",
   "name": "python",
   "nbconvert_exporter": "python",
   "pygments_lexer": "ipython3",
   "version": "3.12.1"
  }
 },
 "nbformat": 4,
 "nbformat_minor": 5
}
