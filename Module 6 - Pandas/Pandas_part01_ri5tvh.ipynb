{
 "cells": [
  {
   "cell_type": "code",
   "execution_count": 3,
   "id": "44a0f063-0e46-496a-8c07-5e512a270324",
   "metadata": {},
   "outputs": [
    {
     "name": "stdout",
     "output_type": "stream",
     "text": [
      "  first_name last_name  age preTestScore  postTestScore\n",
      "0      Jason    Miller   42            4             25\n",
      "1      Molly  Jacobson   52           24             94\n",
      "2       Tina         .   36           31             57\n",
      "3       Jake    Milner   24            .             62\n",
      "4        Amy     Cooze  100            .             70\n"
     ]
    }
   ],
   "source": [
    "#Create dataframes\n",
    "import pandas as pd\n",
    "\n",
    "raw_data = {'first_name': ['Jason', 'Molly', 'Tina', 'Jake', 'Amy'],\n",
    "        'last_name': ['Miller', 'Jacobson', \".\", 'Milner', 'Cooze'],\n",
    "        'age': [42, 52, 36, 24, 100],\n",
    "        'preTestScore': [4, 24, 31, \".\", \".\"],\n",
    "        'postTestScore': [25, 94, 57, 62, 70]}\n",
    "\n",
    "df=pd.DataFrame(raw_data)\n",
    "print(df)"
   ]
  },
  {
   "cell_type": "code",
   "execution_count": 2,
   "id": "621c9743-27ee-4d5a-a1b3-76d29bf985ff",
   "metadata": {},
   "outputs": [
    {
     "name": "stdout",
     "output_type": "stream",
     "text": [
      "  first_name last_name  age\n",
      "0      Jason    Miller   42\n",
      "1      Molly  Jacobson   52\n",
      "2       Tina         .   36\n",
      "3       Jake    Milner   24\n",
      "4        Amy     Cooze  100\n"
     ]
    }
   ],
   "source": [
    "df=pd.DataFrame(raw_data,columns=['first_name','last_name','age'])\n",
    "print(df)"
   ]
  },
  {
   "cell_type": "code",
   "execution_count": null,
   "id": "8c91795c-3377-4b00-ad57-d422dba1d185",
   "metadata": {},
   "outputs": [],
   "source": [
    "#Import and Export  \n",
    "#Import File-->df  read_csv(),read_json(),read_excel()\n",
    "#Exporting df--->file to_csv(),to_json(),to_excel()"
   ]
  },
  {
   "cell_type": "code",
   "execution_count": 4,
   "id": "72aa7eee-109e-467d-94cc-5b2c46b6aa0a",
   "metadata": {},
   "outputs": [],
   "source": [
    "df.to_csv(\"ExampleFile.csv\")"
   ]
  },
  {
   "cell_type": "code",
   "execution_count": 7,
   "id": "048f5972-2562-4a7b-8503-c28dfe65d30b",
   "metadata": {},
   "outputs": [
    {
     "name": "stdout",
     "output_type": "stream",
     "text": [
      "     Pregnancies  Glucose  BloodPressure  SkinThickness  Insulin   BMI  \\\n",
      "0              6      148             72             35    250.0  33.6   \n",
      "1              1       85             66             29    300.0  26.6   \n",
      "2              8      183             64              0      NaN  23.3   \n",
      "3              1       89             66             23     94.0  28.1   \n",
      "4              0      137             40             35    168.0  43.1   \n",
      "..           ...      ...            ...            ...      ...   ...   \n",
      "763           10      101             76             48    180.0  32.9   \n",
      "764            2      122             70             27      0.0  36.8   \n",
      "765            5      121             72             23    112.0  26.2   \n",
      "766            1      126             60              0      0.0  30.1   \n",
      "767            1       93             70             31      0.0  30.4   \n",
      "\n",
      "     DiabetesPedigreeFunction  Age  Outcome  \n",
      "0                       0.627   50        1  \n",
      "1                       0.351   31        0  \n",
      "2                       0.672   32        1  \n",
      "3                       0.167   21        0  \n",
      "4                       2.288   33        1  \n",
      "..                        ...  ...      ...  \n",
      "763                     0.171   63        0  \n",
      "764                     0.340   27        0  \n",
      "765                     0.245   30        0  \n",
      "766                     0.349   47        1  \n",
      "767                     0.315   23        0  \n",
      "\n",
      "[768 rows x 9 columns]\n"
     ]
    }
   ],
   "source": [
    "#Import Data\n",
    "df=pd.read_csv(\"diabetes.csv\")\n",
    "print(df)\n",
    "#print(df.to_string())"
   ]
  },
  {
   "cell_type": "code",
   "execution_count": 8,
   "id": "646c4fc1-6e65-4ada-a54c-97d206f63021",
   "metadata": {},
   "outputs": [
    {
     "name": "stdout",
     "output_type": "stream",
     "text": [
      "(768, 9)\n"
     ]
    }
   ],
   "source": [
    "print(df.shape)"
   ]
  },
  {
   "cell_type": "code",
   "execution_count": 9,
   "id": "d0732bb7-849d-4b39-9e9f-d1e64d00b5d8",
   "metadata": {},
   "outputs": [
    {
     "name": "stdout",
     "output_type": "stream",
     "text": [
      "               0        1              2              3        4     5  \\\n",
      "0    Pregnancies  Glucose  BloodPressure  SkinThickness  Insulin   BMI   \n",
      "1              6      148             72             35      250  33.6   \n",
      "2              1       85             66             29      300  26.6   \n",
      "3              8      183             64              0      NaN  23.3   \n",
      "4              1       89             66             23       94  28.1   \n",
      "..           ...      ...            ...            ...      ...   ...   \n",
      "764           10      101             76             48      180  32.9   \n",
      "765            2      122             70             27        0  36.8   \n",
      "766            5      121             72             23      112  26.2   \n",
      "767            1      126             60              0        0  30.1   \n",
      "768            1       93             70             31        0  30.4   \n",
      "\n",
      "                            6    7        8  \n",
      "0    DiabetesPedigreeFunction  Age  Outcome  \n",
      "1                       0.627   50        1  \n",
      "2                       0.351   31        0  \n",
      "3                       0.672   32        1  \n",
      "4                       0.167   21        0  \n",
      "..                        ...  ...      ...  \n",
      "764                     0.171   63        0  \n",
      "765                      0.34   27        0  \n",
      "766                     0.245   30        0  \n",
      "767                     0.349   47        1  \n",
      "768                     0.315   23        0  \n",
      "\n",
      "[769 rows x 9 columns]\n"
     ]
    }
   ],
   "source": [
    "df=pd.read_csv(\"diabetes.csv\",header=None)\n",
    "print(df)"
   ]
  },
  {
   "cell_type": "code",
   "execution_count": 13,
   "id": "e4918dae-9fe2-44e1-a880-c37a3548f7f8",
   "metadata": {},
   "outputs": [
    {
     "name": "stdout",
     "output_type": "stream",
     "text": [
      "      Pregnancies  Glucose  BloodPressure  SkinThickness  Insulin   BMI  \\\n",
      "Pid                                                                       \n",
      "1001            6      148             72             35    250.0  33.6   \n",
      "1002            1       85             66             29    300.0  26.6   \n",
      "1003            8      183             64              0      NaN  23.3   \n",
      "1004            1       89             66             23     94.0  28.1   \n",
      "1005            0      137             40             35    168.0  43.1   \n",
      "...           ...      ...            ...            ...      ...   ...   \n",
      "1764           10      101             76             48    180.0  32.9   \n",
      "1765            2      122             70             27      0.0  36.8   \n",
      "1766            5      121             72             23    112.0  26.2   \n",
      "1767            1      126             60              0      0.0  30.1   \n",
      "1768            1       93             70             31      0.0  30.4   \n",
      "\n",
      "      DiabetesPedigreeFunction  Age  Outcome  \n",
      "Pid                                           \n",
      "1001                     0.627   50        1  \n",
      "1002                     0.351   31        0  \n",
      "1003                     0.672   32        1  \n",
      "1004                     0.167   21        0  \n",
      "1005                     2.288   33        1  \n",
      "...                        ...  ...      ...  \n",
      "1764                     0.171   63        0  \n",
      "1765                     0.340   27        0  \n",
      "1766                     0.245   30        0  \n",
      "1767                     0.349   47        1  \n",
      "1768                     0.315   23        0  \n",
      "\n",
      "[768 rows x 9 columns]\n"
     ]
    }
   ],
   "source": [
    "#Indexing\n",
    "df=pd.read_csv(\"diabetes.csv\",index_col=['Pid'])\n",
    "print(df)"
   ]
  },
  {
   "cell_type": "code",
   "execution_count": 16,
   "id": "756d64f4-104a-4363-be76-bd7037169abf",
   "metadata": {},
   "outputs": [
    {
     "name": "stdout",
     "output_type": "stream",
     "text": [
      "   UID  First Name  Last Name  Age\n",
      "0  NaN  first_name  last_name  age\n",
      "1  0.0       Jason     Miller   42\n",
      "2  1.0       Molly   Jacobson   52\n",
      "3  2.0        Tina          .   36\n",
      "4  3.0        Jake     Milner   24\n",
      "5  4.0         Amy      Cooze  100\n"
     ]
    }
   ],
   "source": [
    "#Renaming the columns\n",
    "df = pd.read_csv('ExampleFile.csv', names=['UID', 'First Name', 'Last Name', 'Age'])\n",
    "print(df)"
   ]
  },
  {
   "cell_type": "code",
   "execution_count": 21,
   "id": "0e325a97-ab98-4aef-a8a9-d7978d5b65bb",
   "metadata": {},
   "outputs": [
    {
     "name": "stdout",
     "output_type": "stream",
     "text": [
      "      Pregnancies  Glucose  BloodPressure  SkinThickness  Insulin   BMI  \\\n",
      "Pid                                                                       \n",
      "1756            1      128             88             39    110.0  36.5   \n",
      "1429            0      135             94             46    145.0  40.6   \n",
      "1092            4      123             80             15    176.0  32.0   \n",
      "1504            7       94             64             25     79.0  33.3   \n",
      "1493            4       99             68             38      0.0  32.8   \n",
      "\n",
      "      DiabetesPedigreeFunction  Age  Outcome  \n",
      "Pid                                           \n",
      "1756                     1.057   37        1  \n",
      "1429                     0.284   26        0  \n",
      "1092                     0.443   34        0  \n",
      "1504                     0.738   41        0  \n",
      "1493                     0.145   33        0  \n"
     ]
    }
   ],
   "source": [
    "#Selections: sample(),at(),loc,iloc()\n",
    "#Random Selection\n",
    "df=pd.read_csv(\"diabetes.csv\",index_col=['Pid'])\n",
    "#print(df)\n",
    "print(df.sample(5))"
   ]
  },
  {
   "cell_type": "code",
   "execution_count": null,
   "id": "db6e0052-95fb-487e-8ec4-2a153348d2b9",
   "metadata": {},
   "outputs": [],
   "source": [
    "\"\"\"\n",
    "1.Index based\n",
    "2.label based\n",
    "3.Conditional\n",
    "4.random selection\n",
    "\"\"\""
   ]
  },
  {
   "cell_type": "code",
   "execution_count": 22,
   "id": "4f9b3ad8-8b2e-4702-9375-ad0951ee5f97",
   "metadata": {},
   "outputs": [
    {
     "name": "stdout",
     "output_type": "stream",
     "text": [
      "26\n"
     ]
    }
   ],
   "source": [
    "print(df.at[1429,'Age'])  #(index,colm)"
   ]
  },
  {
   "cell_type": "code",
   "execution_count": 23,
   "id": "9c19f5f9-8a30-4587-90e4-b79d3f43db7e",
   "metadata": {},
   "outputs": [
    {
     "name": "stdout",
     "output_type": "stream",
     "text": [
      "36\n"
     ]
    }
   ],
   "source": [
    "df.at[1429,'Age']=36   #Updation\n",
    "print(df.at[1429,'Age'])"
   ]
  },
  {
   "cell_type": "code",
   "execution_count": 25,
   "id": "115637a9-69b5-4a65-a2a2-b6ed932e89ac",
   "metadata": {},
   "outputs": [
    {
     "name": "stdout",
     "output_type": "stream",
     "text": [
      "      Pregnancies  Glucose  BloodPressure  SkinThickness  Insulin   BMI  \\\n",
      "Pid                                                                       \n",
      "1001          6.0    148.0           72.0           35.0    250.0  33.6   \n",
      "1002          1.0     85.0           66.0           29.0    300.0  26.6   \n",
      "1003          8.0    183.0           64.0            0.0      NaN  23.3   \n",
      "1004          1.0     89.0           66.0           23.0     94.0  28.1   \n",
      "1005          0.0    137.0           40.0           35.0    168.0  43.1   \n",
      "...           ...      ...            ...            ...      ...   ...   \n",
      "1765          2.0    122.0           70.0           27.0      0.0  36.8   \n",
      "1766          5.0    121.0           72.0           23.0    112.0  26.2   \n",
      "1767          1.0    126.0           60.0            0.0      0.0  30.1   \n",
      "1768          1.0     93.0           70.0           31.0      0.0  30.4   \n",
      "0             NaN      NaN            NaN            NaN      NaN   NaN   \n",
      "\n",
      "      DiabetesPedigreeFunction   Age  Outcome    City  \n",
      "Pid                                                    \n",
      "1001                     0.627  50.0      1.0  Mumbai  \n",
      "1002                     0.351  31.0      0.0     nan  \n",
      "1003                     0.672  32.0      1.0     nan  \n",
      "1004                     0.167  21.0      0.0     nan  \n",
      "1005                     2.288  33.0      1.0     nan  \n",
      "...                        ...   ...      ...     ...  \n",
      "1765                     0.340  27.0      0.0     nan  \n",
      "1766                     0.245  30.0      0.0     nan  \n",
      "1767                     0.349  47.0      1.0     nan  \n",
      "1768                     0.315  23.0      0.0     nan  \n",
      "0                          NaN   NaN      NaN  Mumbai  \n",
      "\n",
      "[769 rows x 10 columns]\n"
     ]
    }
   ],
   "source": [
    "df.at[1001,'City']='Mumbai'  #Adding new column\n",
    "print(df)"
   ]
  },
  {
   "cell_type": "code",
   "execution_count": 28,
   "id": "89a06c14-0782-4b9f-afda-45aeeffa891f",
   "metadata": {},
   "outputs": [
    {
     "name": "stdout",
     "output_type": "stream",
     "text": [
      "      Glucose  BloodPressure  Insulin   Age\n",
      "Pid                                        \n",
      "1045    159.0           64.0      0.0  40.0\n",
      "1046    180.0           66.0      0.0  25.0\n",
      "1047    146.0           56.0      0.0  29.0\n",
      "1048     71.0           70.0      0.0  22.0\n",
      "1049    103.0           66.0      0.0  31.0\n",
      "1050    105.0            0.0      0.0  24.0\n"
     ]
    }
   ],
   "source": [
    "#Loc(row index range,column list)---Lable based selection\n",
    "df_new=df.loc[1045:1050,['Glucose','BloodPressure','Insulin','Age']]\n",
    "print(df_new)\n"
   ]
  },
  {
   "cell_type": "code",
   "execution_count": 29,
   "id": "12a9ba3b-6100-4345-a19e-dc3c095b26c6",
   "metadata": {},
   "outputs": [
    {
     "name": "stdout",
     "output_type": "stream",
     "text": [
      "      Glucose  BloodPressure  Insulin   Age\n",
      "Pid                                        \n",
      "1001    148.0           72.0    250.0  50.0\n",
      "1002     85.0           66.0    300.0  31.0\n",
      "1003    183.0           64.0      NaN  32.0\n",
      "1004     89.0           66.0     94.0  21.0\n",
      "1005    137.0           40.0    168.0  33.0\n",
      "...       ...            ...      ...   ...\n",
      "1765    122.0           70.0      0.0  27.0\n",
      "1766    121.0           72.0    112.0  30.0\n",
      "1767    126.0           60.0      0.0  47.0\n",
      "1768     93.0           70.0      0.0  23.0\n",
      "0         NaN            NaN      NaN   NaN\n",
      "\n",
      "[769 rows x 4 columns]\n"
     ]
    }
   ],
   "source": [
    "df_new=df.loc[:,['Glucose','BloodPressure','Insulin','Age']]\n",
    "print(df_new)"
   ]
  },
  {
   "cell_type": "code",
   "execution_count": 30,
   "id": "9a7cb5ca-035d-4c58-8abb-d1c66f72fd26",
   "metadata": {},
   "outputs": [
    {
     "name": "stdout",
     "output_type": "stream",
     "text": [
      "      Glucose  BloodPressure  Insulin   Age  New col\n",
      "Pid                                                 \n",
      "1001    148.0           72.0    250.0  50.0        0\n",
      "1002     85.0           66.0    300.0  31.0        0\n",
      "1003    183.0           64.0      NaN  32.0        0\n",
      "1004     89.0           66.0     94.0  21.0        0\n",
      "1005    137.0           40.0    168.0  33.0        0\n",
      "...       ...            ...      ...   ...      ...\n",
      "1765    122.0           70.0      0.0  27.0        0\n",
      "1766    121.0           72.0    112.0  30.0        0\n",
      "1767    126.0           60.0      0.0  47.0        0\n",
      "1768     93.0           70.0      0.0  23.0        0\n",
      "0         NaN            NaN      NaN   NaN        0\n",
      "\n",
      "[769 rows x 5 columns]\n"
     ]
    }
   ],
   "source": [
    "df_new.loc[:,['New col']]=0\n",
    "print(df_new)"
   ]
  },
  {
   "cell_type": "code",
   "execution_count": 37,
   "id": "ad5b76c2-9815-4a43-9839-c2bd08b1e388",
   "metadata": {},
   "outputs": [
    {
     "name": "stdout",
     "output_type": "stream",
     "text": [
      "Pid\n",
      "1001    148.0\n",
      "1002     85.0\n",
      "1003    183.0\n",
      "1004     89.0\n",
      "1005    137.0\n",
      "        ...  \n",
      "1765    122.0\n",
      "1766    121.0\n",
      "1767    126.0\n",
      "1768     93.0\n",
      "0         NaN\n",
      "Name: Glucose, Length: 769, dtype: float64\n"
     ]
    }
   ],
   "source": [
    "print(df[\"Glucose\"])"
   ]
  },
  {
   "cell_type": "code",
   "execution_count": 33,
   "id": "aef9444d-1860-4e98-9ad4-e0e9132e2a23",
   "metadata": {},
   "outputs": [
    {
     "name": "stdout",
     "output_type": "stream",
     "text": [
      "Pid\n",
      "1001    148.0\n",
      "1002     85.0\n",
      "1003    183.0\n",
      "1004     89.0\n",
      "1005    137.0\n",
      "        ...  \n",
      "1765    122.0\n",
      "1766    121.0\n",
      "1767    126.0\n",
      "1768     93.0\n",
      "0         NaN\n",
      "Name: Glucose, Length: 769, dtype: float64\n"
     ]
    }
   ],
   "source": [
    "print(df.Glucose)"
   ]
  },
  {
   "cell_type": "code",
   "execution_count": 38,
   "id": "56f49cc2-f031-4473-82d8-1702a65bb45b",
   "metadata": {},
   "outputs": [
    {
     "name": "stdout",
     "output_type": "stream",
     "text": [
      "      Glucose  BloodPressure  SkinThickness\n",
      "Pid                                        \n",
      "1001    148.0           72.0           35.0\n",
      "1002     85.0           66.0           29.0\n",
      "1003    183.0           64.0            0.0\n",
      "1004     89.0           66.0           23.0\n",
      "1005    137.0           40.0           35.0\n"
     ]
    }
   ],
   "source": [
    "#iloc(row index,col index)--->index based selection\n",
    "print(df.iloc[0:5,1:4])  #work with the default index only"
   ]
  },
  {
   "cell_type": "code",
   "execution_count": 40,
   "id": "9f8b932f-74c1-4de6-9ba5-c562dc5a075e",
   "metadata": {},
   "outputs": [
    {
     "name": "stdout",
     "output_type": "stream",
     "text": [
      "      Pregnancies  Glucose  BloodPressure  SkinThickness  Insulin   BMI  \\\n",
      "Pid                                                                       \n",
      "1124          5.0    132.0           80.0            0.0      0.0  26.8   \n",
      "1222          2.0    158.0           90.0            0.0      0.0  31.6   \n",
      "1364          4.0    146.0           78.0            0.0      0.0  38.5   \n",
      "1454          2.0    119.0            0.0            0.0      0.0  19.6   \n",
      "1460          9.0    134.0           74.0           33.0     60.0  25.9   \n",
      "1490          8.0    194.0           80.0            0.0      0.0  26.1   \n",
      "1496          6.0    166.0           74.0            0.0      0.0  26.6   \n",
      "1538          0.0     57.0           60.0            0.0      0.0  21.7   \n",
      "1553          6.0    114.0           88.0            0.0      0.0  27.8   \n",
      "1667          4.0    145.0           82.0           18.0      0.0  32.5   \n",
      "1675          8.0     91.0           82.0            0.0      0.0  35.6   \n",
      "1685          5.0    136.0           82.0            0.0      0.0   0.0   \n",
      "1760          6.0    190.0           92.0            0.0      0.0  35.5   \n",
      "\n",
      "      DiabetesPedigreeFunction   Age  Outcome City  \n",
      "Pid                                                 \n",
      "1124                     0.186  69.0      0.0  nan  \n",
      "1222                     0.805  66.0      1.0  nan  \n",
      "1364                     0.520  67.0      1.0  nan  \n",
      "1454                     0.832  72.0      0.0  nan  \n",
      "1460                     0.460  81.0      0.0  nan  \n",
      "1490                     0.551  67.0      0.0  nan  \n",
      "1496                     0.304  66.0      0.0  nan  \n",
      "1538                     0.735  67.0      0.0  nan  \n",
      "1553                     0.247  66.0      0.0  nan  \n",
      "1667                     0.235  70.0      1.0  nan  \n",
      "1675                     0.587  68.0      0.0  nan  \n",
      "1685                     0.640  69.0      0.0  nan  \n",
      "1760                     0.278  66.0      1.0  nan  \n"
     ]
    }
   ],
   "source": [
    "#Conditional Selection\n",
    "print(df[df[\"Age\"]>65])"
   ]
  },
  {
   "cell_type": "code",
   "execution_count": 41,
   "id": "28da3806-f450-42e5-a8f3-4d7d6313fc08",
   "metadata": {},
   "outputs": [
    {
     "name": "stdout",
     "output_type": "stream",
     "text": [
      "      Pregnancies  Glucose  BloodPressure  SkinThickness  Insulin   BMI  \\\n",
      "Pid                                                                       \n",
      "1222          2.0    158.0           90.0            0.0      0.0  31.6   \n",
      "1553          6.0    114.0           88.0            0.0      0.0  27.8   \n",
      "1667          4.0    145.0           82.0           18.0      0.0  32.5   \n",
      "1675          8.0     91.0           82.0            0.0      0.0  35.6   \n",
      "1685          5.0    136.0           82.0            0.0      0.0   0.0   \n",
      "1760          6.0    190.0           92.0            0.0      0.0  35.5   \n",
      "\n",
      "      DiabetesPedigreeFunction   Age  Outcome City  \n",
      "Pid                                                 \n",
      "1222                     0.805  66.0      1.0  nan  \n",
      "1553                     0.247  66.0      0.0  nan  \n",
      "1667                     0.235  70.0      1.0  nan  \n",
      "1675                     0.587  68.0      0.0  nan  \n",
      "1685                     0.640  69.0      0.0  nan  \n",
      "1760                     0.278  66.0      1.0  nan  \n"
     ]
    }
   ],
   "source": [
    "# and--&, or--|\n",
    "print(df[(df[\"Age\"]>65) & (df[\"BloodPressure\"]>80)])"
   ]
  },
  {
   "cell_type": "code",
   "execution_count": 51,
   "id": "056f274a-b655-4e0e-aeee-962d8f032a2c",
   "metadata": {},
   "outputs": [
    {
     "name": "stdout",
     "output_type": "stream",
     "text": [
      "      Pregnancies  Glucose  BloodPressure  SkinThickness  Insulin   BMI  \\\n",
      "Pid                                                                       \n",
      "1001            6      148             72             35    250.0  33.6   \n",
      "1002            1       85             66             29    300.0  26.6   \n",
      "1003            8      183             64              0      NaN  23.3   \n",
      "1004            1       89             66             23     94.0  28.1   \n",
      "1005            0      137             40             35    168.0  43.1   \n",
      "1006            5      116             74              0      NaN  25.6   \n",
      "1007            3       78             50             32     88.0  31.0   \n",
      "1008           10      115              0              0    400.0  35.3   \n",
      "1009            2      197             70             45    543.0  30.5   \n",
      "1010            8      125             96              0      0.0   0.0   \n",
      "\n",
      "      DiabetesPedigreeFunction  Age  Outcome  Gender  \n",
      "Pid                                                   \n",
      "1001                     0.627   50        1    Male  \n",
      "1002                     0.351   31        0  Female  \n",
      "1003                     0.672   32        1  Female  \n",
      "1004                     0.167   21        0  Female  \n",
      "1005                     2.288   33        1  Female  \n",
      "1006                     0.201   30        0  Female  \n",
      "1007                     0.248   26        1  Female  \n",
      "1008                     0.134   29        0  Female  \n",
      "1009                     0.158   53        1    Male  \n",
      "1010                     0.232   54        1    Male  \n"
     ]
    }
   ],
   "source": [
    "#Analyse Data\n",
    "df=pd.read_csv(\"diabetes.csv\",index_col=['Pid'])\n",
    "print(df.head(10))"
   ]
  },
  {
   "cell_type": "code",
   "execution_count": 52,
   "id": "3741dda0-e237-4bd4-94b2-f1dc5420e819",
   "metadata": {},
   "outputs": [
    {
     "name": "stdout",
     "output_type": "stream",
     "text": [
      "      Pregnancies  Glucose  BloodPressure  SkinThickness  Insulin   BMI  \\\n",
      "Pid                                                                       \n",
      "1754            0      181             88             44    510.0  43.3   \n",
      "1755            8      154             78             32      0.0  32.4   \n",
      "1756            1      128             88             39    110.0  36.5   \n",
      "1757            7      137             90             41      0.0  32.0   \n",
      "1758            0      123             72              0      0.0  36.3   \n",
      "1759            1      106             76              0      0.0  37.5   \n",
      "1760            6      190             92              0      0.0  35.5   \n",
      "1761            2       88             58             26     16.0  28.4   \n",
      "1762            9      170             74             31      0.0  44.0   \n",
      "1763            9       89             62              0      0.0  22.5   \n",
      "1764           10      101             76             48    180.0  32.9   \n",
      "1765            2      122             70             27      0.0  36.8   \n",
      "1766            5      121             72             23    112.0  26.2   \n",
      "1767            1      126             60              0      0.0  30.1   \n",
      "1768            1       93             70             31      0.0  30.4   \n",
      "\n",
      "      DiabetesPedigreeFunction  Age  Outcome Gender  \n",
      "Pid                                                  \n",
      "1754                     0.222   26        1    NaN  \n",
      "1755                     0.443   45        1    NaN  \n",
      "1756                     1.057   37        1    NaN  \n",
      "1757                     0.391   39        0    NaN  \n",
      "1758                     0.258   52        1    NaN  \n",
      "1759                     0.197   26        0    NaN  \n",
      "1760                     0.278   66        1    NaN  \n",
      "1761                     0.766   22        0    NaN  \n",
      "1762                     0.403   43        1    NaN  \n",
      "1763                     0.142   33        0    NaN  \n",
      "1764                     0.171   63        0    NaN  \n",
      "1765                     0.340   27        0    NaN  \n",
      "1766                     0.245   30        0    NaN  \n",
      "1767                     0.349   47        1    NaN  \n",
      "1768                     0.315   23        0    NaN  \n"
     ]
    }
   ],
   "source": [
    "print(df.tail(15))"
   ]
  },
  {
   "cell_type": "code",
   "execution_count": 53,
   "id": "ea11ad19-7a51-4341-8ba8-72a413dddab3",
   "metadata": {},
   "outputs": [
    {
     "name": "stdout",
     "output_type": "stream",
     "text": [
      "       Pregnancies     Glucose  BloodPressure  SkinThickness     Insulin  \\\n",
      "count   768.000000  768.000000     768.000000     768.000000  766.000000   \n",
      "mean      3.845052  120.894531      69.105469      20.536458   81.248042   \n",
      "std       3.369578   31.972618      19.355807      15.952218  116.221576   \n",
      "min       0.000000    0.000000       0.000000       0.000000    0.000000   \n",
      "25%       1.000000   99.000000      62.000000       0.000000    0.000000   \n",
      "50%       3.000000  117.000000      72.000000      23.000000   36.500000   \n",
      "75%       6.000000  140.250000      80.000000      32.000000  130.000000   \n",
      "max      17.000000  199.000000     122.000000      99.000000  846.000000   \n",
      "\n",
      "              BMI  DiabetesPedigreeFunction         Age     Outcome  \n",
      "count  768.000000                768.000000  768.000000  768.000000  \n",
      "mean    31.992578                  0.471876   33.240885    0.348958  \n",
      "std      7.884160                  0.331329   11.760232    0.476951  \n",
      "min      0.000000                  0.078000   21.000000    0.000000  \n",
      "25%     27.300000                  0.243750   24.000000    0.000000  \n",
      "50%     32.000000                  0.372500   29.000000    0.000000  \n",
      "75%     36.600000                  0.626250   41.000000    1.000000  \n",
      "max     67.100000                  2.420000   81.000000    1.000000  \n"
     ]
    }
   ],
   "source": [
    "print(df.describe())"
   ]
  },
  {
   "cell_type": "code",
   "execution_count": 49,
   "id": "ee649737-c3b2-4182-b3fc-797e12bb3c09",
   "metadata": {},
   "outputs": [
    {
     "name": "stdout",
     "output_type": "stream",
     "text": [
      "count    768.000000\n",
      "mean     120.894531\n",
      "std       31.972618\n",
      "min        0.000000\n",
      "25%       99.000000\n",
      "50%      117.000000\n",
      "75%      140.250000\n",
      "max      199.000000\n",
      "Name: Glucose, dtype: float64\n"
     ]
    }
   ],
   "source": [
    "print(df[\"Glucose\"].describe())"
   ]
  },
  {
   "cell_type": "code",
   "execution_count": 54,
   "id": "5c550708-9d44-43f3-916c-d692da03aece",
   "metadata": {},
   "outputs": [
    {
     "name": "stdout",
     "output_type": "stream",
     "text": [
      "<class 'pandas.core.frame.DataFrame'>\n",
      "Index: 768 entries, 1001 to 1768\n",
      "Data columns (total 10 columns):\n",
      " #   Column                    Non-Null Count  Dtype  \n",
      "---  ------                    --------------  -----  \n",
      " 0   Pregnancies               768 non-null    int64  \n",
      " 1   Glucose                   768 non-null    int64  \n",
      " 2   BloodPressure             768 non-null    int64  \n",
      " 3   SkinThickness             768 non-null    int64  \n",
      " 4   Insulin                   766 non-null    float64\n",
      " 5   BMI                       768 non-null    float64\n",
      " 6   DiabetesPedigreeFunction  768 non-null    float64\n",
      " 7   Age                       768 non-null    int64  \n",
      " 8   Outcome                   768 non-null    int64  \n",
      " 9   Gender                    39 non-null     object \n",
      "dtypes: float64(3), int64(6), object(1)\n",
      "memory usage: 66.0+ KB\n"
     ]
    }
   ],
   "source": [
    "df.info()"
   ]
  },
  {
   "cell_type": "code",
   "execution_count": 55,
   "id": "851948eb-de2b-4748-92c8-f7e814c4db63",
   "metadata": {},
   "outputs": [
    {
     "name": "stdout",
     "output_type": "stream",
     "text": [
      "81.24804177545693\n"
     ]
    }
   ],
   "source": [
    "print(df[\"Insulin\"].mean())"
   ]
  },
  {
   "cell_type": "code",
   "execution_count": 60,
   "id": "9d3cbcb8-af95-4f63-8503-0831de05a5c4",
   "metadata": {},
   "outputs": [
    {
     "name": "stdout",
     "output_type": "stream",
     "text": [
      "      Pregnancies  Glucose  BloodPressure  SkinThickness  Insulin   BMI  \\\n",
      "Pid                                                                       \n",
      "1662            1      199             76             43      0.0  42.9   \n",
      "1562            0      198             66             32    274.0  41.3   \n",
      "1229            4      197             70             39    744.0  36.7   \n",
      "1009            2      197             70             45    543.0  30.5   \n",
      "1580            2      197             70             99      0.0  34.7   \n",
      "...           ...      ...            ...            ...      ...   ...   \n",
      "1343            1        0             68             35      0.0  32.0   \n",
      "1350            5        0             80             32      0.0  41.0   \n",
      "1503            6        0             68             41      0.0  39.0   \n",
      "1183            1        0             74             20     23.0  27.7   \n",
      "1076            1        0             48             20      0.0  24.7   \n",
      "\n",
      "      DiabetesPedigreeFunction  Age  Outcome Gender  \n",
      "Pid                                                  \n",
      "1662                     1.394   22        1    NaN  \n",
      "1562                     0.502   28        1    NaN  \n",
      "1229                     2.329   31        0    NaN  \n",
      "1009                     0.158   53        1   Male  \n",
      "1580                     0.575   62        1    NaN  \n",
      "...                        ...  ...      ...    ...  \n",
      "1343                     0.389   22        0    NaN  \n",
      "1350                     0.346   37        1    NaN  \n",
      "1503                     0.727   41        1    NaN  \n",
      "1183                     0.299   21        0    NaN  \n",
      "1076                     0.140   22        0    NaN  \n",
      "\n",
      "[768 rows x 10 columns]\n"
     ]
    }
   ],
   "source": [
    "#Sort Values\n",
    "print(df.sort_values(by=[\"Glucose\"],ascending=False))"
   ]
  },
  {
   "cell_type": "code",
   "execution_count": 61,
   "id": "d43b3565-2a5a-4568-9f5e-784586152ed3",
   "metadata": {},
   "outputs": [
    {
     "name": "stdout",
     "output_type": "stream",
     "text": [
      "      Pregnancies  Glucose  BloodPressure  SkinThickness  Insulin   BMI  \\\n",
      "Pid                                                                       \n",
      "1662            1      199             76             43      0.0  42.9   \n",
      "1562            0      198             66             32    274.0  41.3   \n",
      "1409            8      197             74              0      0.0  25.9   \n",
      "1009            2      197             70             45    543.0  30.5   \n",
      "1229            4      197             70             39    744.0  36.7   \n",
      "...           ...      ...            ...            ...      ...   ...   \n",
      "1350            5        0             80             32      0.0  41.0   \n",
      "1183            1        0             74             20     23.0  27.7   \n",
      "1343            1        0             68             35      0.0  32.0   \n",
      "1503            6        0             68             41      0.0  39.0   \n",
      "1076            1        0             48             20      0.0  24.7   \n",
      "\n",
      "      DiabetesPedigreeFunction  Age  Outcome Gender  \n",
      "Pid                                                  \n",
      "1662                     1.394   22        1    NaN  \n",
      "1562                     0.502   28        1    NaN  \n",
      "1409                     1.191   39        1    NaN  \n",
      "1009                     0.158   53        1   Male  \n",
      "1229                     2.329   31        0    NaN  \n",
      "...                        ...  ...      ...    ...  \n",
      "1350                     0.346   37        1    NaN  \n",
      "1183                     0.299   21        0    NaN  \n",
      "1343                     0.389   22        0    NaN  \n",
      "1503                     0.727   41        1    NaN  \n",
      "1076                     0.140   22        0    NaN  \n",
      "\n",
      "[768 rows x 10 columns]\n"
     ]
    }
   ],
   "source": [
    "print(df.sort_values(by=[\"Glucose\",\"BloodPressure\"],ascending=False))"
   ]
  },
  {
   "cell_type": "code",
   "execution_count": 65,
   "id": "48271bab-65e5-4a5a-992f-717409f481d2",
   "metadata": {},
   "outputs": [
    {
     "name": "stdout",
     "output_type": "stream",
     "text": [
      "      Pregnancies  Glucose  BloodPressure  SkinThickness  Insulin   BMI  \\\n",
      "Pid                                                                       \n",
      "1002            1       85             66             29    300.0  26.6   \n",
      "1003            8      183             64              0      NaN  23.3   \n",
      "1004            1       89             66             23     94.0  28.1   \n",
      "1005            0      137             40             35    168.0  43.1   \n",
      "1006            5      116             74              0      NaN  25.6   \n",
      "\n",
      "      DiabetesPedigreeFunction  Age  Outcome  Gender  \n",
      "Pid                                                   \n",
      "1002                     0.351   31        0  Female  \n",
      "1003                     0.672   32        1  Female  \n",
      "1004                     0.167   21        0  Female  \n",
      "1005                     2.288   33        1  Female  \n",
      "1006                     0.201   30        0  Female  \n"
     ]
    }
   ],
   "source": [
    "#Droping rows and column----drop()\n",
    "#Deleting rows axis=0\n",
    "#df_new=df.drop(1001,axis=0)\n",
    "df.drop(1001,axis=0,inplace=True)\n",
    "print(df.head())"
   ]
  },
  {
   "cell_type": "code",
   "execution_count": 66,
   "id": "ad4f0e57-a721-474d-be2c-9f00e2760fa1",
   "metadata": {},
   "outputs": [
    {
     "name": "stdout",
     "output_type": "stream",
     "text": [
      "      Pregnancies  Glucose  BloodPressure  SkinThickness  Insulin   BMI  \\\n",
      "Pid                                                                       \n",
      "1002            1       85             66             29    300.0  26.6   \n",
      "1003            8      183             64              0      NaN  23.3   \n",
      "1004            1       89             66             23     94.0  28.1   \n",
      "1005            0      137             40             35    168.0  43.1   \n",
      "1006            5      116             74              0      NaN  25.6   \n",
      "...           ...      ...            ...            ...      ...   ...   \n",
      "1764           10      101             76             48    180.0  32.9   \n",
      "1765            2      122             70             27      0.0  36.8   \n",
      "1766            5      121             72             23    112.0  26.2   \n",
      "1767            1      126             60              0      0.0  30.1   \n",
      "1768            1       93             70             31      0.0  30.4   \n",
      "\n",
      "      DiabetesPedigreeFunction  Age  Outcome  \n",
      "Pid                                           \n",
      "1002                     0.351   31        0  \n",
      "1003                     0.672   32        1  \n",
      "1004                     0.167   21        0  \n",
      "1005                     2.288   33        1  \n",
      "1006                     0.201   30        0  \n",
      "...                        ...  ...      ...  \n",
      "1764                     0.171   63        0  \n",
      "1765                     0.340   27        0  \n",
      "1766                     0.245   30        0  \n",
      "1767                     0.349   47        1  \n",
      "1768                     0.315   23        0  \n",
      "\n",
      "[767 rows x 9 columns]\n"
     ]
    }
   ],
   "source": [
    "#Deleting any column  axis=1\n",
    "df.drop([\"Gender\"],axis=1,inplace=True)\n",
    "print(df)"
   ]
  },
  {
   "cell_type": "code",
   "execution_count": null,
   "id": "c02ce9a1-25ba-44c4-8a82-a9085f1bb31e",
   "metadata": {},
   "outputs": [],
   "source": []
  }
 ],
 "metadata": {
  "kernelspec": {
   "display_name": "Python 3 (ipykernel)",
   "language": "python",
   "name": "python3"
  },
  "language_info": {
   "codemirror_mode": {
    "name": "ipython",
    "version": 3
   },
   "file_extension": ".py",
   "mimetype": "text/x-python",
   "name": "python",
   "nbconvert_exporter": "python",
   "pygments_lexer": "ipython3",
   "version": "3.12.1"
  }
 },
 "nbformat": 4,
 "nbformat_minor": 5
}
