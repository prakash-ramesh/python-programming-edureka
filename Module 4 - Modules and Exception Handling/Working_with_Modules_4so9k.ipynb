{
 "cells": [
  {
   "cell_type": "code",
   "execution_count": 2,
   "id": "68572911-90cd-4b2e-bfe6-4b1e6d42b9f0",
   "metadata": {},
   "outputs": [],
   "source": [
    "import math\n",
    "import pandas"
   ]
  },
  {
   "cell_type": "code",
   "execution_count": 3,
   "id": "7454569d-5696-4795-8c0f-47cca914dfdd",
   "metadata": {},
   "outputs": [
    {
     "name": "stdout",
     "output_type": "stream",
     "text": [
      "__doc__\n",
      "__loader__\n",
      "__name__\n",
      "__package__\n",
      "__spec__\n",
      "acos\n",
      "acosh\n",
      "asin\n",
      "asinh\n",
      "atan\n",
      "atan2\n",
      "atanh\n",
      "cbrt\n",
      "ceil\n",
      "comb\n",
      "copysign\n",
      "cos\n",
      "cosh\n",
      "degrees\n",
      "dist\n",
      "e\n",
      "erf\n",
      "erfc\n",
      "exp\n",
      "exp2\n",
      "expm1\n",
      "fabs\n",
      "factorial\n",
      "floor\n",
      "fmod\n",
      "frexp\n",
      "fsum\n",
      "gamma\n",
      "gcd\n",
      "hypot\n",
      "inf\n",
      "isclose\n",
      "isfinite\n",
      "isinf\n",
      "isnan\n",
      "isqrt\n",
      "lcm\n",
      "ldexp\n",
      "lgamma\n",
      "log\n",
      "log10\n",
      "log1p\n",
      "log2\n",
      "modf\n",
      "nan\n",
      "nextafter\n",
      "perm\n",
      "pi\n",
      "pow\n",
      "prod\n",
      "radians\n",
      "remainder\n",
      "sin\n",
      "sinh\n",
      "sqrt\n",
      "sumprod\n",
      "tan\n",
      "tanh\n",
      "tau\n",
      "trunc\n",
      "ulp\n"
     ]
    }
   ],
   "source": [
    "for i in dir(math):\n",
    "    print(i)\n"
   ]
  },
  {
   "cell_type": "code",
   "execution_count": 8,
   "id": "722191e5-3fea-46d3-ad1f-04c9b9df6604",
   "metadata": {},
   "outputs": [
    {
     "name": "stdout",
     "output_type": "stream",
     "text": [
      "Return the integer part of the square root of the input.\n",
      "10\n"
     ]
    }
   ],
   "source": [
    "print(math.isqrt.__doc__)\n",
    "print(math.isqrt(120))"
   ]
  },
  {
   "cell_type": "code",
   "execution_count": 9,
   "id": "e089bec4-2669-480c-9c66-a80608c90628",
   "metadata": {},
   "outputs": [
    {
     "name": "stdout",
     "output_type": "stream",
     "text": [
      "4.0\n"
     ]
    }
   ],
   "source": [
    "from math import sqrt,ceil\n",
    "print(sqrt(16))"
   ]
  },
  {
   "cell_type": "code",
   "execution_count": null,
   "id": "9f60aea4-a36f-4581-80c9-60b9243a080d",
   "metadata": {},
   "outputs": [],
   "source": [
    "#Alias\n",
    "import numpy as np\n",
    "np.array()"
   ]
  },
  {
   "cell_type": "code",
   "execution_count": 13,
   "id": "d0ae1bc5-b1bd-4037-9f7a-cbba220ebbc9",
   "metadata": {},
   "outputs": [
    {
     "name": "stdout",
     "output_type": "stream",
     "text": [
      "12\n",
      "11\n",
      "3.141592653589793\n",
      "19.365\n"
     ]
    }
   ],
   "source": [
    "#Built-in Modules\n",
    "#Math Module\n",
    "import math\n",
    "print(math.ceil(11.0568))\n",
    "print(math.floor(11.0568))\n",
    "print(math.pi)\n",
    "print(math.fabs(-19.365))"
   ]
  },
  {
   "cell_type": "code",
   "execution_count": 14,
   "id": "19fdd871-c59b-4dbf-9ebf-bd8b7f82c838",
   "metadata": {},
   "outputs": [
    {
     "name": "stdout",
     "output_type": "stream",
     "text": [
      "['C:\\\\Users\\\\Dell\\\\AppData\\\\Local\\\\Programs\\\\Python\\\\Python312\\\\Lib\\\\site-packages\\\\ipykernel_launcher.py', '-f', 'C:\\\\Users\\\\Dell\\\\AppData\\\\Roaming\\\\jupyter\\\\runtime\\\\kernel-e4ed3379-b7f9-4ad0-ad25-c6911ca2d383.json']\n"
     ]
    }
   ],
   "source": [
    "#Sys module\n",
    "import sys\n",
    "print(sys.argv)\n",
    "print(sys.exit())  #Terminate excecution of the program"
   ]
  },
  {
   "cell_type": "code",
   "execution_count": 18,
   "id": "7b9a1e96-cd11-43cc-b738-a84984db0419",
   "metadata": {},
   "outputs": [
    {
     "name": "stdout",
     "output_type": "stream",
     "text": [
      "C:\\Users\\Dell\\Python Prog Jan 24\n",
      "None\n"
     ]
    }
   ],
   "source": [
    "#OS module\n",
    "import os\n",
    "print(os.getcwd())\n",
    "#print(os.mkdir(os.getcwd()+'/Newdir'))\n",
    "print(os.rmdir(os.getcwd()+'/Newdir'))"
   ]
  },
  {
   "cell_type": "code",
   "execution_count": 20,
   "id": "52cbceed-c575-45b6-957f-519830021cd9",
   "metadata": {},
   "outputs": [
    {
     "ename": "FileExistsError",
     "evalue": "[WinError 183] Cannot create a file when that file already exists: 'C:\\\\Users\\\\Dell\\\\Python Prog Jan 24/Newdir'",
     "output_type": "error",
     "traceback": [
      "\u001b[1;31m---------------------------------------------------------------------------\u001b[0m",
      "\u001b[1;31mFileExistsError\u001b[0m                           Traceback (most recent call last)",
      "Cell \u001b[1;32mIn[20], line 2\u001b[0m\n\u001b[0;32m      1\u001b[0m \u001b[38;5;28;01mimport\u001b[39;00m \u001b[38;5;21;01mos\u001b[39;00m\u001b[38;5;21;01m.\u001b[39;00m\u001b[38;5;21;01mpath\u001b[39;00m\n\u001b[1;32m----> 2\u001b[0m \u001b[38;5;28mprint\u001b[39m(\u001b[43mos\u001b[49m\u001b[38;5;241;43m.\u001b[39;49m\u001b[43mmkdir\u001b[49m\u001b[43m(\u001b[49m\u001b[43mos\u001b[49m\u001b[38;5;241;43m.\u001b[39;49m\u001b[43mgetcwd\u001b[49m\u001b[43m(\u001b[49m\u001b[43m)\u001b[49m\u001b[38;5;241;43m+\u001b[39;49m\u001b[38;5;124;43m'\u001b[39;49m\u001b[38;5;124;43m/Newdir\u001b[39;49m\u001b[38;5;124;43m'\u001b[39;49m\u001b[43m)\u001b[49m)\n\u001b[0;32m      3\u001b[0m \u001b[38;5;28mprint\u001b[39m(os\u001b[38;5;241m.\u001b[39mpath\u001b[38;5;241m.\u001b[39mabspath(\u001b[38;5;124m'\u001b[39m\u001b[38;5;124m/Newdir\u001b[39m\u001b[38;5;124m'\u001b[39m))\n",
      "\u001b[1;31mFileExistsError\u001b[0m: [WinError 183] Cannot create a file when that file already exists: 'C:\\\\Users\\\\Dell\\\\Python Prog Jan 24/Newdir'"
     ]
    }
   ],
   "source": [
    "import os.path\n",
    "print(os.mkdir(os.getcwd()+'/Newdir'))"
   ]
  },
  {
   "cell_type": "code",
   "execution_count": 22,
   "id": "88bf4477-af4b-4064-bd14-d15560adca9e",
   "metadata": {},
   "outputs": [
    {
     "name": "stdout",
     "output_type": "stream",
     "text": [
      "C:\\Users\\Dell\\Python Prog Jan 24\\Newdir\n"
     ]
    }
   ],
   "source": [
    "print(os.path.abspath(os.getcwd()+'/Newdir'))"
   ]
  },
  {
   "cell_type": "code",
   "execution_count": 24,
   "id": "ab02f9c2-4029-41ae-bda2-fcc3f5acafec",
   "metadata": {},
   "outputs": [
    {
     "name": "stdout",
     "output_type": "stream",
     "text": [
      "('C:\\\\Users\\\\Dell\\\\Python Prog Jan 24\\\\Newdir', 'newFile.txt')\n",
      "True\n"
     ]
    }
   ],
   "source": [
    "print(os.path.split('C:\\\\Users\\\\Dell\\\\Python Prog Jan 24\\\\Newdir\\\\newFile.txt'))\n",
    "print(os.path.exists('C:\\\\Users\\\\Dell\\\\Python Prog Jan 24\\\\Newdir'))"
   ]
  },
  {
   "cell_type": "code",
   "execution_count": 26,
   "id": "c988e5bf-fdf2-437d-a6ad-ca7bc84b4df3",
   "metadata": {},
   "outputs": [],
   "source": [
    "def func():\n",
    "    pass"
   ]
  },
  {
   "cell_type": "code",
   "execution_count": 27,
   "id": "cf1d42e1-dd59-4865-8673-cbccfdf2594b",
   "metadata": {},
   "outputs": [],
   "source": [
    "class a:\n",
    "    pass\n",
    "class b:\n",
    "    pass\n",
    "class c:\n",
    "    pass"
   ]
  },
  {
   "cell_type": "code",
   "execution_count": 34,
   "id": "630c9993-affa-44c3-af62-7edab6f9013a",
   "metadata": {},
   "outputs": [
    {
     "name": "stdout",
     "output_type": "stream",
     "text": [
      "95\n",
      "80\n",
      "21\n"
     ]
    }
   ],
   "source": [
    "#Random module\n",
    "# Random Module Implementations\n",
    "import random\n",
    "num = random.randrange(50,100)  # Generates a random integer within the given range\n",
    "print(num)\n",
    "ran=random.randrange(0,100,20)  # Return a randomly selected element from range(start, stop, step)\n",
    "print(ran)\n",
    "inte=random.randint(0,30)   # Return a random integer N such that a <= N <= b\n",
    "print(inte)"
   ]
  },
  {
   "cell_type": "code",
   "execution_count": 37,
   "id": "7c7782e9-8737-45e0-aea0-f57f8f8588a2",
   "metadata": {},
   "outputs": [
    {
     "name": "stdout",
     "output_type": "stream",
     "text": [
      "2024-01-21 09:03:57.304472\n",
      "<class 'datetime.datetime'>\n",
      "1995-03-12 22:10:00\n",
      "10541 days, 10:53:57.305469\n",
      "<class 'datetime.datetime'>\n",
      "future_date_3years: 2021-01-21 09:03:57.305468\n"
     ]
    }
   ],
   "source": [
    "#DateTime Modules\n",
    "import datetime\n",
    "\n",
    "print(datetime.datetime.today())\n",
    "\n",
    "now=datetime.datetime.today()\n",
    "print(type(now))\n",
    "\n",
    "other=datetime.datetime(1995,3,12,22,10) #(y,m,d,hr,min)\n",
    "\n",
    "print(other)\n",
    "\n",
    "print(now-other)"
   ]
  },
  {
   "cell_type": "code",
   "execution_count": 40,
   "id": "c0eeea90-2be2-4b63-a4af-50dbd7643dac",
   "metadata": {},
   "outputs": [
    {
     "name": "stdout",
     "output_type": "stream",
     "text": [
      "future_date_3years: 2027-01-20 09:11:31.687318\n"
     ]
    }
   ],
   "source": [
    "#TimeDelta\n",
    "# present Date and Time \n",
    "present_date = datetime.datetime.now() \n",
    "  \n",
    "# Future Date After 3 years\n",
    "future_date = present_date + timedelta(days = 1095) \n",
    "print('future_date_3years:', str(future_date)) "
   ]
  },
  {
   "cell_type": "code",
   "execution_count": 42,
   "id": "b35d2476-f7f9-404e-a776-5ce4e5f16a8b",
   "metadata": {},
   "outputs": [
    {
     "name": "stdout",
     "output_type": "stream",
     "text": [
      "<class 'dict'>\n",
      "{\"name\": \"Smith\", \"age\": 35}\n",
      "<class 'str'>\n",
      "{'name': 'Smith', 'age': 35}\n",
      "<class 'dict'>\n"
     ]
    }
   ],
   "source": [
    "# JSON Module\n",
    "import json\n",
    "data={'name':'Smith','age':35}\n",
    "print(type(data))\n",
    "\n",
    "json_str=json.dumps(data)   # The original data gets transformed into Json format and type will be String\n",
    "\n",
    "print(json_str)\n",
    "print(type(json_str))\n",
    "\n",
    "original=json.loads(json_str)  # The Json format data gets decoded and the receiver gets the data in original form and type will be again dictionary\n",
    "\n",
    "print(original)\n",
    "print(type(original))"
   ]
  },
  {
   "cell_type": "code",
   "execution_count": 44,
   "id": "b2381d39-afeb-493f-8a9c-185919cd2864",
   "metadata": {},
   "outputs": [
    {
     "name": "stdout",
     "output_type": "stream",
     "text": [
      "python is there\n"
     ]
    }
   ],
   "source": [
    "#Regular Expression (pattern Matching)\n",
    "import re\n",
    "if re.search(\"Python\",\"Python is awesome Python\"):\n",
    "    print('python is there')"
   ]
  },
  {
   "cell_type": "code",
   "execution_count": 45,
   "id": "23f62871-7149-42a6-b90e-e65423045999",
   "metadata": {},
   "outputs": [
    {
     "name": "stdout",
     "output_type": "stream",
     "text": [
      "4\n"
     ]
    }
   ],
   "source": [
    "allpython=re.findall(\"python\",\"Python python python is awesome and python is dynamically typed language python\")\n",
    "print(len(allpython))"
   ]
  },
  {
   "cell_type": "code",
   "execution_count": 46,
   "id": "95040317-6b56-4c37-bd92-a89143cb416f",
   "metadata": {},
   "outputs": [
    {
     "name": "stdout",
     "output_type": "stream",
     "text": [
      "Valid email\n",
      "Valid email\n",
      "Invalid email\n",
      "Invalid email\n"
     ]
    }
   ],
   "source": [
    "import re\n",
    "\n",
    "regex = re.compile(r'([A-Za-z0-9]+[.-_])*[A-Za-z0-9]+@[A-Za-z0-9-]+(\\.[A-Z|a-z]{2,})+')\n",
    "def isValid(email):\n",
    "    if re.fullmatch(regex, email):\n",
    "        print(\"Valid email\")\n",
    "    else:\n",
    "        print(\"Invalid email\")\n",
    "\n",
    "isValid(\"Ajitabh@gmail.com\")\n",
    "isValid(\"ajitabh@gmail.in\")\n",
    "\n",
    "isValid(\"ajitabhgmail.in\")\n",
    "isValid(\"ajitabh@gmailcom\")"
   ]
  },
  {
   "cell_type": "code",
   "execution_count": 47,
   "id": "5a52e8e4-7c06-4d6e-ae51-ec04f9f7c1ab",
   "metadata": {},
   "outputs": [
    {
     "name": "stdout",
     "output_type": "stream",
     "text": [
      "Hi,Kapil welcome to my module\n"
     ]
    }
   ],
   "source": [
    "#Working with own module\n",
    "import MyModule as mm\n",
    "mm.func1(\"Kapil\")"
   ]
  },
  {
   "cell_type": "code",
   "execution_count": 48,
   "id": "b0729675-d5f7-4eb9-9774-f18befcec8f7",
   "metadata": {},
   "outputs": [
    {
     "name": "stdout",
     "output_type": "stream",
     "text": [
      "Even:[98, 78, 52, 36, 12],odd:[45, 63, 15]\n"
     ]
    }
   ],
   "source": [
    "mm.func2([45,63,98,78,52,36,15,12])"
   ]
  },
  {
   "cell_type": "code",
   "execution_count": null,
   "id": "1ef730ea-6aa9-45d2-880c-aa0bbadd6659",
   "metadata": {},
   "outputs": [],
   "source": [
    "i= input(\"enter list1 values: \")\n",
    "j= input(\"enter list2 values: \")\n",
    "print(intersection(i, j))\n",
    "i.intersection(j)"
   ]
  },
  {
   "cell_type": "code",
   "execution_count": null,
   "id": "03d4a3c7-5c8a-479d-b418-5f47bf386ced",
   "metadata": {},
   "outputs": [],
   "source": [
    "my_list = [12,24,35,24,88,120,155]\n",
    "n = int(input(\"Size of list: \"))\n",
    "for i in range(n):\n",
    "    my_list.append(int(input(\"Enter value: \")))\n",
    "for i in my_list:\n",
    "    if i % 6 != 0:\n",
    "        continue\n",
    "    else:\n",
    "        my_list.remove(i)\n",
    "print(my_list)"
   ]
  }
 ],
 "metadata": {
  "kernelspec": {
   "display_name": "Python 3 (ipykernel)",
   "language": "python",
   "name": "python3"
  },
  "language_info": {
   "codemirror_mode": {
    "name": "ipython",
    "version": 3
   },
   "file_extension": ".py",
   "mimetype": "text/x-python",
   "name": "python",
   "nbconvert_exporter": "python",
   "pygments_lexer": "ipython3",
   "version": "3.12.1"
  }
 },
 "nbformat": 4,
 "nbformat_minor": 5
}
