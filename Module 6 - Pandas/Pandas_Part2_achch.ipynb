{
 "cells": [
  {
   "cell_type": "code",
   "execution_count": null,
   "id": "a3cd9e73-ba17-4e01-bbce-473b5426003b",
   "metadata": {},
   "outputs": [],
   "source": [
    "#Data Cleaning using Pandas\n",
    "\"\"\"\n",
    "1.NULL values\n",
    "2.Duplicates\n",
    "3.Wrong Data\n",
    "4.Wrong format data\n",
    "\"\"\""
   ]
  },
  {
   "cell_type": "code",
   "execution_count": 1,
   "id": "69969c01-c4d0-4887-a767-2e7c53f21564",
   "metadata": {},
   "outputs": [
    {
     "name": "stdout",
     "output_type": "stream",
     "text": [
      "   Duration          Date  Pulse  Maxpulse  Calories Gender\n",
      "0        60  '2020/12/01'    110       130     409.1      M\n",
      "1        60  '2020/12/02'    117       145     479.0      F\n",
      "2        60  '2020/12/03'    103       135     340.0      F\n",
      "3        45  '2020/12/04'    109       175     282.4      F\n",
      "4        45  '2020/12/05'    117       148     406.0    NaN\n"
     ]
    }
   ],
   "source": [
    "#Null Values\n",
    "import pandas as pd\n",
    "df=pd.read_csv(\"dirtydata.csv\")\n",
    "print(df.head())"
   ]
  },
  {
   "cell_type": "code",
   "execution_count": 2,
   "id": "921f147b-34f4-4b05-918e-9cc85875aeaf",
   "metadata": {},
   "outputs": [
    {
     "name": "stdout",
     "output_type": "stream",
     "text": [
      "<class 'pandas.core.frame.DataFrame'>\n",
      "RangeIndex: 36 entries, 0 to 35\n",
      "Data columns (total 6 columns):\n",
      " #   Column    Non-Null Count  Dtype  \n",
      "---  ------    --------------  -----  \n",
      " 0   Duration  36 non-null     int64  \n",
      " 1   Date      35 non-null     object \n",
      " 2   Pulse     36 non-null     int64  \n",
      " 3   Maxpulse  36 non-null     int64  \n",
      " 4   Calories  34 non-null     float64\n",
      " 5   Gender    31 non-null     object \n",
      "dtypes: float64(1), int64(3), object(2)\n",
      "memory usage: 1.8+ KB\n"
     ]
    }
   ],
   "source": [
    "df.info()"
   ]
  },
  {
   "cell_type": "code",
   "execution_count": 4,
   "id": "6d345e78-4f90-4343-82ec-1ff13ccaa34c",
   "metadata": {},
   "outputs": [
    {
     "data": {
      "text/plain": [
       "Duration    0\n",
       "Date        1\n",
       "Pulse       0\n",
       "Maxpulse    0\n",
       "Calories    2\n",
       "Gender      5\n",
       "dtype: int64"
      ]
     },
     "execution_count": 4,
     "metadata": {},
     "output_type": "execute_result"
    }
   ],
   "source": [
    "df.isnull().sum()"
   ]
  },
  {
   "cell_type": "code",
   "execution_count": 5,
   "id": "e0341030-5f6e-49bb-a7c5-25d77db4458a",
   "metadata": {},
   "outputs": [
    {
     "data": {
      "text/plain": [
       "(36, 6)"
      ]
     },
     "execution_count": 5,
     "metadata": {},
     "output_type": "execute_result"
    }
   ],
   "source": [
    "df.shape"
   ]
  },
  {
   "cell_type": "code",
   "execution_count": 6,
   "id": "51ff7097-26ad-45c4-87f5-9bb3d1d3650b",
   "metadata": {},
   "outputs": [],
   "source": [
    "#Solutions: droping rows,Replace null values\n",
    "df.dropna(inplace=True)"
   ]
  },
  {
   "cell_type": "code",
   "execution_count": 7,
   "id": "7a9eb68e-ad44-4c9f-8256-5b843ff3817e",
   "metadata": {},
   "outputs": [
    {
     "data": {
      "text/plain": [
       "(29, 6)"
      ]
     },
     "execution_count": 7,
     "metadata": {},
     "output_type": "execute_result"
    }
   ],
   "source": [
    "df.shape"
   ]
  },
  {
   "cell_type": "code",
   "execution_count": 20,
   "id": "9486bdf7-bb9a-41fe-968d-8cde8e475daa",
   "metadata": {},
   "outputs": [
    {
     "name": "stdout",
     "output_type": "stream",
     "text": [
      "    Duration          Date  Pulse  Maxpulse  Calories Gender\n",
      "0         60  '2020/12/01'    110       130     409.1      M\n",
      "1         60  '2020/12/02'    117       145     479.0      F\n",
      "2         60  '2020/12/03'    103       135     340.0      F\n",
      "3         45  '2020/12/04'    109       175     282.4      F\n",
      "4         45  '2020/12/05'    117       148     406.0    NaN\n",
      "5         60  '2020/12/06'    102       127     300.0      M\n",
      "6         60  '2020/12/06'    102       127     300.0      M\n",
      "7        450  '2020/12/08'    104       134     253.3      M\n",
      "8         30  '2020/12/09'    109       133     195.1    NaN\n",
      "9         60  '2020/12/06'    102       127     300.0      M\n",
      "10        60  '2020/12/10'     98       124     269.0      F\n",
      "11        60  '2020/12/11'    103       147     329.3      F\n",
      "12        60  '2020/12/12'    100       120     250.7      M\n",
      "13        60  '2020/12/12'    100       120     250.7      F\n",
      "14        60  '2020/12/13'    106       128     345.3      M\n",
      "15        60  '2020/12/12'    100       120     250.7      F\n",
      "16        60  '2020/12/14'    104       132     379.3      F\n",
      "17        60  '2020/12/15'     98       123     275.0      F\n",
      "18        60  '2020/12/16'     98       120     215.2      M\n",
      "19        60  '2020/12/17'    100       120     300.0      M\n",
      "20        45  '2020/12/18'     90       112       NaN      F\n",
      "21        60  '2020/12/19'    103       123     323.0      F\n",
      "22        45  '2020/12/20'     97       125     243.0      F\n",
      "23        60  '2020/12/21'    108       131     364.2      F\n",
      "24        45           NaN    100       119     282.0      M\n",
      "25        60  '2020/12/23'    130       101     300.0    NaN\n",
      "26        45  '2020/12/24'    105       132     246.0      M\n",
      "27        60  '2020/12/25'    102       126     334.5      M\n",
      "28        60      20201226    100       120     250.0      M\n",
      "29        60  '2020/12/27'     92       118     241.0      F\n",
      "30        60  '2020/12/28'    103       132       NaN    NaN\n",
      "31        60  '2020/12/29'    100       132     280.0      M\n",
      "32        60  '2020/12/30'    102       129     380.3      F\n",
      "33        60  '2020/12/31'     92       115     243.0      F\n",
      "34        60  '2020/12/30'    102       129     380.3      F\n",
      "35        60  '2020/12/27'     92       118     241.0    NaN\n"
     ]
    }
   ],
   "source": [
    "df=pd.read_csv(\"dirtydata.csv\")\n",
    "print(df)\n",
    "#Replacing NULL values:"
   ]
  },
  {
   "cell_type": "code",
   "execution_count": 21,
   "id": "38ec50a9-74dd-4cac-b429-699454cede84",
   "metadata": {},
   "outputs": [
    {
     "data": {
      "text/html": [
       "<div>\n",
       "<style scoped>\n",
       "    .dataframe tbody tr th:only-of-type {\n",
       "        vertical-align: middle;\n",
       "    }\n",
       "\n",
       "    .dataframe tbody tr th {\n",
       "        vertical-align: top;\n",
       "    }\n",
       "\n",
       "    .dataframe thead th {\n",
       "        text-align: right;\n",
       "    }\n",
       "</style>\n",
       "<table border=\"1\" class=\"dataframe\">\n",
       "  <thead>\n",
       "    <tr style=\"text-align: right;\">\n",
       "      <th></th>\n",
       "      <th>Duration</th>\n",
       "      <th>Pulse</th>\n",
       "      <th>Maxpulse</th>\n",
       "      <th>Calories</th>\n",
       "    </tr>\n",
       "  </thead>\n",
       "  <tbody>\n",
       "    <tr>\n",
       "      <th>count</th>\n",
       "      <td>36.000000</td>\n",
       "      <td>36.000000</td>\n",
       "      <td>36.000000</td>\n",
       "      <td>34.000000</td>\n",
       "    </tr>\n",
       "    <tr>\n",
       "      <th>mean</th>\n",
       "      <td>67.500000</td>\n",
       "      <td>102.777778</td>\n",
       "      <td>127.694444</td>\n",
       "      <td>301.129412</td>\n",
       "    </tr>\n",
       "    <tr>\n",
       "      <th>std</th>\n",
       "      <td>65.970773</td>\n",
       "      <td>7.544577</td>\n",
       "      <td>12.358501</td>\n",
       "      <td>63.683819</td>\n",
       "    </tr>\n",
       "    <tr>\n",
       "      <th>min</th>\n",
       "      <td>30.000000</td>\n",
       "      <td>90.000000</td>\n",
       "      <td>101.000000</td>\n",
       "      <td>195.100000</td>\n",
       "    </tr>\n",
       "    <tr>\n",
       "      <th>25%</th>\n",
       "      <td>60.000000</td>\n",
       "      <td>100.000000</td>\n",
       "      <td>120.000000</td>\n",
       "      <td>250.700000</td>\n",
       "    </tr>\n",
       "    <tr>\n",
       "      <th>50%</th>\n",
       "      <td>60.000000</td>\n",
       "      <td>102.000000</td>\n",
       "      <td>127.000000</td>\n",
       "      <td>291.200000</td>\n",
       "    </tr>\n",
       "    <tr>\n",
       "      <th>75%</th>\n",
       "      <td>60.000000</td>\n",
       "      <td>104.250000</td>\n",
       "      <td>132.000000</td>\n",
       "      <td>338.625000</td>\n",
       "    </tr>\n",
       "    <tr>\n",
       "      <th>max</th>\n",
       "      <td>450.000000</td>\n",
       "      <td>130.000000</td>\n",
       "      <td>175.000000</td>\n",
       "      <td>479.000000</td>\n",
       "    </tr>\n",
       "  </tbody>\n",
       "</table>\n",
       "</div>"
      ],
      "text/plain": [
       "         Duration       Pulse    Maxpulse    Calories\n",
       "count   36.000000   36.000000   36.000000   34.000000\n",
       "mean    67.500000  102.777778  127.694444  301.129412\n",
       "std     65.970773    7.544577   12.358501   63.683819\n",
       "min     30.000000   90.000000  101.000000  195.100000\n",
       "25%     60.000000  100.000000  120.000000  250.700000\n",
       "50%     60.000000  102.000000  127.000000  291.200000\n",
       "75%     60.000000  104.250000  132.000000  338.625000\n",
       "max    450.000000  130.000000  175.000000  479.000000"
      ]
     },
     "execution_count": 21,
     "metadata": {},
     "output_type": "execute_result"
    }
   ],
   "source": [
    "df.describe()"
   ]
  },
  {
   "cell_type": "code",
   "execution_count": 22,
   "id": "2e0aadc8-6f14-4fe8-b648-b6632571cf4b",
   "metadata": {},
   "outputs": [
    {
     "name": "stdout",
     "output_type": "stream",
     "text": [
      "    Duration          Date  Pulse  Maxpulse    Calories Gender\n",
      "0         60  '2020/12/01'    110       130  409.100000      M\n",
      "1         60  '2020/12/02'    117       145  479.000000      F\n",
      "2         60  '2020/12/03'    103       135  340.000000      F\n",
      "3         45  '2020/12/04'    109       175  282.400000      F\n",
      "4         45  '2020/12/05'    117       148  406.000000    NaN\n",
      "5         60  '2020/12/06'    102       127  300.000000      M\n",
      "6         60  '2020/12/06'    102       127  300.000000      M\n",
      "7        450  '2020/12/08'    104       134  253.300000      M\n",
      "8         30  '2020/12/09'    109       133  195.100000    NaN\n",
      "9         60  '2020/12/06'    102       127  300.000000      M\n",
      "10        60  '2020/12/10'     98       124  269.000000      F\n",
      "11        60  '2020/12/11'    103       147  329.300000      F\n",
      "12        60  '2020/12/12'    100       120  250.700000      M\n",
      "13        60  '2020/12/12'    100       120  250.700000      F\n",
      "14        60  '2020/12/13'    106       128  345.300000      M\n",
      "15        60  '2020/12/12'    100       120  250.700000      F\n",
      "16        60  '2020/12/14'    104       132  379.300000      F\n",
      "17        60  '2020/12/15'     98       123  275.000000      F\n",
      "18        60  '2020/12/16'     98       120  215.200000      M\n",
      "19        60  '2020/12/17'    100       120  300.000000      M\n",
      "20        45  '2020/12/18'     90       112  301.129412      F\n",
      "21        60  '2020/12/19'    103       123  323.000000      F\n",
      "22        45  '2020/12/20'     97       125  243.000000      F\n",
      "23        60  '2020/12/21'    108       131  364.200000      F\n",
      "24        45           NaN    100       119  282.000000      M\n",
      "25        60  '2020/12/23'    130       101  300.000000    NaN\n",
      "26        45  '2020/12/24'    105       132  246.000000      M\n",
      "27        60  '2020/12/25'    102       126  334.500000      M\n",
      "28        60      20201226    100       120  250.000000      M\n",
      "29        60  '2020/12/27'     92       118  241.000000      F\n",
      "30        60  '2020/12/28'    103       132  301.129412    NaN\n",
      "31        60  '2020/12/29'    100       132  280.000000      M\n",
      "32        60  '2020/12/30'    102       129  380.300000      F\n",
      "33        60  '2020/12/31'     92       115  243.000000      F\n",
      "34        60  '2020/12/30'    102       129  380.300000      F\n",
      "35        60  '2020/12/27'     92       118  241.000000    NaN\n"
     ]
    },
    {
     "data": {
      "text/plain": [
       "Duration    0\n",
       "Date        1\n",
       "Pulse       0\n",
       "Maxpulse    0\n",
       "Calories    0\n",
       "Gender      5\n",
       "dtype: int64"
      ]
     },
     "execution_count": 22,
     "metadata": {},
     "output_type": "execute_result"
    }
   ],
   "source": [
    "df[\"Calories\"]=df[\"Calories\"].fillna(df[\"Calories\"].mean())\n",
    "print(df)\n",
    "df.isnull().sum()"
   ]
  },
  {
   "cell_type": "code",
   "execution_count": 23,
   "id": "e10be052-1100-44e5-ac0b-c5fd60d59137",
   "metadata": {},
   "outputs": [
    {
     "data": {
      "text/html": [
       "<div>\n",
       "<style scoped>\n",
       "    .dataframe tbody tr th:only-of-type {\n",
       "        vertical-align: middle;\n",
       "    }\n",
       "\n",
       "    .dataframe tbody tr th {\n",
       "        vertical-align: top;\n",
       "    }\n",
       "\n",
       "    .dataframe thead th {\n",
       "        text-align: right;\n",
       "    }\n",
       "</style>\n",
       "<table border=\"1\" class=\"dataframe\">\n",
       "  <thead>\n",
       "    <tr style=\"text-align: right;\">\n",
       "      <th></th>\n",
       "      <th>Duration</th>\n",
       "      <th>Pulse</th>\n",
       "      <th>Maxpulse</th>\n",
       "      <th>Calories</th>\n",
       "    </tr>\n",
       "  </thead>\n",
       "  <tbody>\n",
       "    <tr>\n",
       "      <th>count</th>\n",
       "      <td>36.000000</td>\n",
       "      <td>36.000000</td>\n",
       "      <td>36.000000</td>\n",
       "      <td>36.000000</td>\n",
       "    </tr>\n",
       "    <tr>\n",
       "      <th>mean</th>\n",
       "      <td>67.500000</td>\n",
       "      <td>102.777778</td>\n",
       "      <td>127.694444</td>\n",
       "      <td>301.129412</td>\n",
       "    </tr>\n",
       "    <tr>\n",
       "      <th>std</th>\n",
       "      <td>65.970773</td>\n",
       "      <td>7.544577</td>\n",
       "      <td>12.358501</td>\n",
       "      <td>61.837518</td>\n",
       "    </tr>\n",
       "    <tr>\n",
       "      <th>min</th>\n",
       "      <td>30.000000</td>\n",
       "      <td>90.000000</td>\n",
       "      <td>101.000000</td>\n",
       "      <td>195.100000</td>\n",
       "    </tr>\n",
       "    <tr>\n",
       "      <th>25%</th>\n",
       "      <td>60.000000</td>\n",
       "      <td>100.000000</td>\n",
       "      <td>120.000000</td>\n",
       "      <td>250.700000</td>\n",
       "    </tr>\n",
       "    <tr>\n",
       "      <th>50%</th>\n",
       "      <td>60.000000</td>\n",
       "      <td>102.000000</td>\n",
       "      <td>127.000000</td>\n",
       "      <td>300.000000</td>\n",
       "    </tr>\n",
       "    <tr>\n",
       "      <th>75%</th>\n",
       "      <td>60.000000</td>\n",
       "      <td>104.250000</td>\n",
       "      <td>132.000000</td>\n",
       "      <td>335.875000</td>\n",
       "    </tr>\n",
       "    <tr>\n",
       "      <th>max</th>\n",
       "      <td>450.000000</td>\n",
       "      <td>130.000000</td>\n",
       "      <td>175.000000</td>\n",
       "      <td>479.000000</td>\n",
       "    </tr>\n",
       "  </tbody>\n",
       "</table>\n",
       "</div>"
      ],
      "text/plain": [
       "         Duration       Pulse    Maxpulse    Calories\n",
       "count   36.000000   36.000000   36.000000   36.000000\n",
       "mean    67.500000  102.777778  127.694444  301.129412\n",
       "std     65.970773    7.544577   12.358501   61.837518\n",
       "min     30.000000   90.000000  101.000000  195.100000\n",
       "25%     60.000000  100.000000  120.000000  250.700000\n",
       "50%     60.000000  102.000000  127.000000  300.000000\n",
       "75%     60.000000  104.250000  132.000000  335.875000\n",
       "max    450.000000  130.000000  175.000000  479.000000"
      ]
     },
     "execution_count": 23,
     "metadata": {},
     "output_type": "execute_result"
    }
   ],
   "source": [
    "df.describe()"
   ]
  },
  {
   "cell_type": "code",
   "execution_count": 24,
   "id": "f1fe6bf3-f307-4086-be83-947fd82072d2",
   "metadata": {},
   "outputs": [
    {
     "data": {
      "text/plain": [
       "0    F\n",
       "Name: Gender, dtype: object"
      ]
     },
     "execution_count": 24,
     "metadata": {},
     "output_type": "execute_result"
    }
   ],
   "source": [
    "df[\"Gender\"].mode()"
   ]
  },
  {
   "cell_type": "code",
   "execution_count": 25,
   "id": "3be1a038-f818-488c-b0ab-0468ca1eb74b",
   "metadata": {},
   "outputs": [
    {
     "name": "stdout",
     "output_type": "stream",
     "text": [
      "    Duration          Date  Pulse  Maxpulse    Calories Gender\n",
      "0         60  '2020/12/01'    110       130  409.100000      M\n",
      "1         60  '2020/12/02'    117       145  479.000000      F\n",
      "2         60  '2020/12/03'    103       135  340.000000      F\n",
      "3         45  '2020/12/04'    109       175  282.400000      F\n",
      "4         45  '2020/12/05'    117       148  406.000000      F\n",
      "5         60  '2020/12/06'    102       127  300.000000      M\n",
      "6         60  '2020/12/06'    102       127  300.000000      M\n",
      "7        450  '2020/12/08'    104       134  253.300000      M\n",
      "8         30  '2020/12/09'    109       133  195.100000      F\n",
      "9         60  '2020/12/06'    102       127  300.000000      M\n",
      "10        60  '2020/12/10'     98       124  269.000000      F\n",
      "11        60  '2020/12/11'    103       147  329.300000      F\n",
      "12        60  '2020/12/12'    100       120  250.700000      M\n",
      "13        60  '2020/12/12'    100       120  250.700000      F\n",
      "14        60  '2020/12/13'    106       128  345.300000      M\n",
      "15        60  '2020/12/12'    100       120  250.700000      F\n",
      "16        60  '2020/12/14'    104       132  379.300000      F\n",
      "17        60  '2020/12/15'     98       123  275.000000      F\n",
      "18        60  '2020/12/16'     98       120  215.200000      M\n",
      "19        60  '2020/12/17'    100       120  300.000000      M\n",
      "20        45  '2020/12/18'     90       112  301.129412      F\n",
      "21        60  '2020/12/19'    103       123  323.000000      F\n",
      "22        45  '2020/12/20'     97       125  243.000000      F\n",
      "23        60  '2020/12/21'    108       131  364.200000      F\n",
      "24        45           NaN    100       119  282.000000      M\n",
      "25        60  '2020/12/23'    130       101  300.000000      F\n",
      "26        45  '2020/12/24'    105       132  246.000000      M\n",
      "27        60  '2020/12/25'    102       126  334.500000      M\n",
      "28        60      20201226    100       120  250.000000      M\n",
      "29        60  '2020/12/27'     92       118  241.000000      F\n",
      "30        60  '2020/12/28'    103       132  301.129412      F\n",
      "31        60  '2020/12/29'    100       132  280.000000      M\n",
      "32        60  '2020/12/30'    102       129  380.300000      F\n",
      "33        60  '2020/12/31'     92       115  243.000000      F\n",
      "34        60  '2020/12/30'    102       129  380.300000      F\n",
      "35        60  '2020/12/27'     92       118  241.000000      F\n"
     ]
    },
    {
     "data": {
      "text/plain": [
       "Duration    0\n",
       "Date        1\n",
       "Pulse       0\n",
       "Maxpulse    0\n",
       "Calories    0\n",
       "Gender      0\n",
       "dtype: int64"
      ]
     },
     "execution_count": 25,
     "metadata": {},
     "output_type": "execute_result"
    }
   ],
   "source": [
    "df[\"Gender\"]=df[\"Gender\"].fillna(df[\"Gender\"].mode()[0])\n",
    "print(df)\n",
    "df.isnull().sum()"
   ]
  },
  {
   "cell_type": "code",
   "execution_count": 26,
   "id": "a094871c-14b4-4d61-84c0-fba4815b99e8",
   "metadata": {},
   "outputs": [
    {
     "data": {
      "text/plain": [
       "0     False\n",
       "1     False\n",
       "2     False\n",
       "3     False\n",
       "4     False\n",
       "5     False\n",
       "6      True\n",
       "7     False\n",
       "8     False\n",
       "9      True\n",
       "10    False\n",
       "11    False\n",
       "12    False\n",
       "13    False\n",
       "14    False\n",
       "15     True\n",
       "16    False\n",
       "17    False\n",
       "18    False\n",
       "19    False\n",
       "20    False\n",
       "21    False\n",
       "22    False\n",
       "23    False\n",
       "24    False\n",
       "25    False\n",
       "26    False\n",
       "27    False\n",
       "28    False\n",
       "29    False\n",
       "30    False\n",
       "31    False\n",
       "32    False\n",
       "33    False\n",
       "34     True\n",
       "35     True\n",
       "dtype: bool"
      ]
     },
     "execution_count": 26,
     "metadata": {},
     "output_type": "execute_result"
    }
   ],
   "source": [
    "#Dealing with Duplicates\n",
    "df.duplicated()"
   ]
  },
  {
   "cell_type": "code",
   "execution_count": 27,
   "id": "1999415f-436d-4e25-8a02-e52b90b88c60",
   "metadata": {},
   "outputs": [
    {
     "name": "stdout",
     "output_type": "stream",
     "text": [
      "    Duration          Date  Pulse  Maxpulse    Calories Gender\n",
      "0         60  '2020/12/01'    110       130  409.100000      M\n",
      "1         60  '2020/12/02'    117       145  479.000000      F\n",
      "2         60  '2020/12/03'    103       135  340.000000      F\n",
      "3         45  '2020/12/04'    109       175  282.400000      F\n",
      "4         45  '2020/12/05'    117       148  406.000000      F\n",
      "5         60  '2020/12/06'    102       127  300.000000      M\n",
      "7        450  '2020/12/08'    104       134  253.300000      M\n",
      "8         30  '2020/12/09'    109       133  195.100000      F\n",
      "10        60  '2020/12/10'     98       124  269.000000      F\n",
      "11        60  '2020/12/11'    103       147  329.300000      F\n",
      "12        60  '2020/12/12'    100       120  250.700000      M\n",
      "13        60  '2020/12/12'    100       120  250.700000      F\n",
      "14        60  '2020/12/13'    106       128  345.300000      M\n",
      "16        60  '2020/12/14'    104       132  379.300000      F\n",
      "17        60  '2020/12/15'     98       123  275.000000      F\n",
      "18        60  '2020/12/16'     98       120  215.200000      M\n",
      "19        60  '2020/12/17'    100       120  300.000000      M\n",
      "20        45  '2020/12/18'     90       112  301.129412      F\n",
      "21        60  '2020/12/19'    103       123  323.000000      F\n",
      "22        45  '2020/12/20'     97       125  243.000000      F\n",
      "23        60  '2020/12/21'    108       131  364.200000      F\n",
      "24        45           NaN    100       119  282.000000      M\n",
      "25        60  '2020/12/23'    130       101  300.000000      F\n",
      "26        45  '2020/12/24'    105       132  246.000000      M\n",
      "27        60  '2020/12/25'    102       126  334.500000      M\n",
      "28        60      20201226    100       120  250.000000      M\n",
      "29        60  '2020/12/27'     92       118  241.000000      F\n",
      "30        60  '2020/12/28'    103       132  301.129412      F\n",
      "31        60  '2020/12/29'    100       132  280.000000      M\n",
      "32        60  '2020/12/30'    102       129  380.300000      F\n",
      "33        60  '2020/12/31'     92       115  243.000000      F\n"
     ]
    }
   ],
   "source": [
    "df.drop_duplicates(inplace=True)\n",
    "print(df)"
   ]
  },
  {
   "cell_type": "code",
   "execution_count": null,
   "id": "1b062f41-1d30-4e1a-99e9-657e2fca2dc6",
   "metadata": {},
   "outputs": [],
   "source": []
  },
  {
   "cell_type": "code",
   "execution_count": null,
   "id": "175b52cc-2f62-45a3-9f01-9ac4c87eab7f",
   "metadata": {},
   "outputs": [],
   "source": []
  }
 ],
 "metadata": {
  "kernelspec": {
   "display_name": "Python 3 (ipykernel)",
   "language": "python",
   "name": "python3"
  },
  "language_info": {
   "codemirror_mode": {
    "name": "ipython",
    "version": 3
   },
   "file_extension": ".py",
   "mimetype": "text/x-python",
   "name": "python",
   "nbconvert_exporter": "python",
   "pygments_lexer": "ipython3",
   "version": "3.12.1"
  }
 },
 "nbformat": 4,
 "nbformat_minor": 5
}
