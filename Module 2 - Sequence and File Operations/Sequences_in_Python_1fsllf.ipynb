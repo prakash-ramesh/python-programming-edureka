{
 "cells": [
  {
   "cell_type": "code",
   "execution_count": null,
   "id": "64f61ddc-2a1f-4f7a-aa9e-f35759d88280",
   "metadata": {},
   "outputs": [],
   "source": [
    "\"\"\"\n",
    "Sequences/Collection Data types\n",
    "1.List[]:ordered,Mutable,allow duplicates\n",
    "2.Tuple():ordered,Immutable,allow duplicates\n",
    "3.Set{}:unordered,Mutable,DONT ALLOW DUPLICATES\n",
    "4.Dict{key:value}:Key-values\n",
    "\n",
    "Ordered/Unordered(index)\n",
    "Mutable/Immutable(Changes)\n",
    "Allow duplicates or not\n",
    "\"\"\""
   ]
  },
  {
   "cell_type": "code",
   "execution_count": 3,
   "id": "6cdad6a8-de21-4660-ab47-1111a69f1906",
   "metadata": {},
   "outputs": [
    {
     "name": "stdout",
     "output_type": "stream",
     "text": [
      "[1001, 'John', 50000, ['proj1', 'proj2'], 4.6]\n",
      "<class 'list'>\n"
     ]
    }
   ],
   "source": [
    "#Lists in Python\n",
    "#lst=[10,20,30,40,50]\n",
    "lst=[1001,'John',50000,['proj1','proj2'],4.6]\n",
    "print(lst)\n",
    "print(type(lst))"
   ]
  },
  {
   "cell_type": "code",
   "execution_count": 8,
   "id": "acf94318-bebd-4dd6-b330-db0db771493a",
   "metadata": {},
   "outputs": [
    {
     "name": "stdout",
     "output_type": "stream",
     "text": [
      "50000\n",
      "[1001, 'John', 60000, ['proj1', 'proj2'], 4.6]\n",
      "[10, 10, 20, 20, 30]\n"
     ]
    }
   ],
   "source": [
    "#Ordered(index)\n",
    "lst=[1001,'John',50000,['proj1','proj2'],4.6]\n",
    "print(lst[2])\n",
    "\n",
    "#Mutable(Changable)\n",
    "lst[2]=60000\n",
    "print(lst)\n",
    "\n",
    "#Allow Duplicates\n",
    "lst=[10,10,20,20,30]\n",
    "print(lst)"
   ]
  },
  {
   "cell_type": "code",
   "execution_count": 10,
   "id": "f90ccbe8-209a-4968-a7a7-bbb01eed8963",
   "metadata": {},
   "outputs": [
    {
     "name": "stdout",
     "output_type": "stream",
     "text": [
      "5\n"
     ]
    }
   ],
   "source": [
    "#Length of the list\n",
    "lst=[1001,'John',50000,['proj1','proj2'],4.6]\n",
    "print(len(lst))"
   ]
  },
  {
   "cell_type": "code",
   "execution_count": 14,
   "id": "9c6eb0f3-9258-4dc2-a004-3a2cdc711f16",
   "metadata": {},
   "outputs": [
    {
     "name": "stdout",
     "output_type": "stream",
     "text": [
      "[45, 63, 89, 75, 62, 32, 47, 100]\n",
      "[45, 63, 89, 75, 62, 32, 47, 100, 100, 200, 300]\n",
      "[45, 63, 1000, 89, 75, 62, 32, 47, 100, 100, 200, 300]\n"
     ]
    }
   ],
   "source": [
    "#Adding new element\n",
    "#append(),extend(),insert()\n",
    "lst=[45,63,89,75,62,32,47]\n",
    "lst.append(100)  #one value at a time at the end of list\n",
    "print(lst)\n",
    "\n",
    "lst.extend([100,200,300])  #Multiple values at the end of list\n",
    "print(lst)\n",
    "\n",
    "lst.insert(2,1000)  #(index,new_value)\n",
    "print(lst)\n"
   ]
  },
  {
   "cell_type": "code",
   "execution_count": 23,
   "id": "7ced82e8-8420-4c01-bcda-1c3f6949161a",
   "metadata": {},
   "outputs": [
    {
     "name": "stdout",
     "output_type": "stream",
     "text": [
      "1\n"
     ]
    }
   ],
   "source": [
    "lst=[45,63,89,75,62,32,47,45,63]\n",
    "print(lst.index(63)) #First Occurance"
   ]
  },
  {
   "cell_type": "code",
   "execution_count": 27,
   "id": "fd646d3b-283e-45ca-bbb4-00dd8d54acf2",
   "metadata": {},
   "outputs": [
    {
     "name": "stdout",
     "output_type": "stream",
     "text": [
      "[45, 63, 75, 62, 32, 47, 45, 63]\n",
      "Element popped off: 89\n"
     ]
    }
   ],
   "source": [
    "#Delete item from from the list\n",
    "#pop(),remove()\n",
    "lst=[45,63,89,75,62,32,47,45,63]\n",
    "#lst.pop()\n",
    "#x=lst.pop(2)\n",
    "x=lst.pop(lst.index(89))\n",
    "print(lst)\n",
    "print(\"Element popped off:\",x)\n"
   ]
  },
  {
   "cell_type": "code",
   "execution_count": 28,
   "id": "404da0b6-a217-4b86-8c62-92e976e81776",
   "metadata": {},
   "outputs": [
    {
     "name": "stdout",
     "output_type": "stream",
     "text": [
      "[63, 89, 75, 62, 32, 47, 45, 63]\n"
     ]
    }
   ],
   "source": [
    "lst=[45,63,89,75,62,32,47,45,63]\n",
    "lst.remove(45)   #First occurance\n",
    "print(lst)"
   ]
  },
  {
   "cell_type": "code",
   "execution_count": 29,
   "id": "7fb4b5c4-9f67-48ac-a0f1-d9a0b48e3eb1",
   "metadata": {},
   "outputs": [
    {
     "name": "stdout",
     "output_type": "stream",
     "text": [
      "[63, 89, 75, 62, 32, 47, 63]\n"
     ]
    }
   ],
   "source": [
    "lst=[45,63,89,75,62,32,47,45,63]\n",
    "for i in lst:\n",
    "    if i==45:\n",
    "        lst.remove(45)\n",
    "\n",
    "print(lst)"
   ]
  },
  {
   "cell_type": "code",
   "execution_count": 3,
   "id": "74cb9dd9-2953-4f31-bd52-618a65ceca4a",
   "metadata": {},
   "outputs": [
    {
     "name": "stdout",
     "output_type": "stream",
     "text": [
      "[45, 1000, 63, 89, 75, 62, 32, 47, 100, 200, 300]\n"
     ]
    }
   ],
   "source": [
    "lst = [45,1000,63,89,75,62,32,47,100,100,200,300]\n",
    "for i in lst:\n",
    "    if i==100:\n",
    "        lst.remove(i)\n",
    "        \n",
    "print(lst)"
   ]
  },
  {
   "cell_type": "code",
   "execution_count": 4,
   "id": "4e4b997a-9add-44ea-b73f-5e7fcc569168",
   "metadata": {},
   "outputs": [
    {
     "name": "stdout",
     "output_type": "stream",
     "text": [
      "{32, 100, 1000, 200, 75, 300, 45, 47, 89, 62, 63}\n"
     ]
    }
   ],
   "source": [
    "lst=set(lst)\n",
    "print(lst)"
   ]
  },
  {
   "cell_type": "code",
   "execution_count": 6,
   "id": "74ddd2ad-ed7f-4896-a49a-c8ba0fe1ec0c",
   "metadata": {},
   "outputs": [
    {
     "name": "stdout",
     "output_type": "stream",
     "text": [
      "[12, 25, 45, 63, 78, 93, 98]\n",
      "[98, 93, 78, 63, 45, 25, 12]\n"
     ]
    }
   ],
   "source": [
    "#Sorting of elements\n",
    "#Sort(),Sorted()\n",
    "lst=[45,63,98,25,12,78,93]\n",
    "lst.sort()\n",
    "print(lst)\n",
    "print(lst[::-1])"
   ]
  },
  {
   "cell_type": "code",
   "execution_count": 11,
   "id": "3ae29d1c-7a98-4804-8ca6-7dd8a4115dc2",
   "metadata": {},
   "outputs": [
    {
     "name": "stdout",
     "output_type": "stream",
     "text": [
      "[12, 25, 45, 63, 78, 93, 98]\n",
      "[45, 63, 98, 25, 12, 78, 93]\n"
     ]
    }
   ],
   "source": [
    "lst=[45,63,98,25,12,78,93]\n",
    "print((sorted(lst)))\n",
    "print(lst)"
   ]
  },
  {
   "cell_type": "code",
   "execution_count": 14,
   "id": "46d0d53a-fab2-488c-9476-c29d160bcb68",
   "metadata": {},
   "outputs": [
    {
     "name": "stdout",
     "output_type": "stream",
     "text": [
      "Total Sales: 31860\n",
      "Max sales last week: 8920\n",
      "Max sales last week: 4500\n"
     ]
    }
   ],
   "source": [
    "#Aggregate Functions\n",
    "sales=[4500,6300,8920,7530,4610]\n",
    "print(\"Total Sales:\",sum(sales))\n",
    "print(\"Max sales last week:\",max(sales))\n",
    "print(\"Max sales last week:\",min(sales))"
   ]
  },
  {
   "cell_type": "code",
   "execution_count": 17,
   "id": "730eda25-3e81-4883-8f49-9c8d3088eca4",
   "metadata": {},
   "outputs": [
    {
     "name": "stdout",
     "output_type": "stream",
     "text": [
      "True\n",
      "False\n",
      "False\n"
     ]
    }
   ],
   "source": [
    "#Membership operators: in and not in\n",
    "\n",
    "lst=[45,63,98,25,12,78,93]\n",
    "print(98 in lst)\n",
    "print(100 in lst)\n",
    "print(98 not in lst)"
   ]
  },
  {
   "cell_type": "code",
   "execution_count": 21,
   "id": "3f1f46fb-8eb3-45f7-814e-23f7a9f133a1",
   "metadata": {},
   "outputs": [
    {
     "name": "stdout",
     "output_type": "stream",
     "text": [
      "[49, 64, 36, 81, 49, 9, 25, 100]\n",
      "[8, 6, 10]\n"
     ]
    }
   ],
   "source": [
    "#List Comprehensions\n",
    "lst=[7,8,6,9,7,3,5,10]\n",
    "new_lst=[x**2 for x in lst]\n",
    "print(new_lst)\n",
    "\n",
    "new_lst1=[x for x in lst if x>7]\n",
    "new_lst1=[x for x in lst if x%2==0]\n",
    "print(new_lst1)"
   ]
  },
  {
   "cell_type": "code",
   "execution_count": null,
   "id": "ca5087c9-69c5-4ee3-b9ba-08c9130aa971",
   "metadata": {},
   "outputs": [],
   "source": [
    "for i in lst:\n",
    "    new_lst.append(i**2)"
   ]
  },
  {
   "cell_type": "code",
   "execution_count": 24,
   "id": "3d23194d-a2e6-464e-ba52-9be5ea64a2bd",
   "metadata": {},
   "outputs": [
    {
     "name": "stdout",
     "output_type": "stream",
     "text": [
      "[10, 20, 30]\n",
      "30\n",
      "50\n"
     ]
    }
   ],
   "source": [
    "lst=[[10,20,30],[40,50,60]]\n",
    "print(lst[0])\n",
    "print(lst[0][2])\n",
    "print(lst[1][1])"
   ]
  },
  {
   "cell_type": "code",
   "execution_count": 25,
   "id": "a1088bf1-0be8-4451-a279-52d4ce9790ff",
   "metadata": {},
   "outputs": [
    {
     "name": "stdout",
     "output_type": "stream",
     "text": [
      "[7, 8, 6, 9, 7, 3, 5, 2000, 10]\n"
     ]
    }
   ],
   "source": [
    "lst=[7,8,6,9,7,3,5,10]\n",
    "lst.insert(-1,2000)\n",
    "print(lst)"
   ]
  },
  {
   "cell_type": "code",
   "execution_count": 26,
   "id": "515d7739-9776-4ba8-a991-ce4e927103db",
   "metadata": {},
   "outputs": [
    {
     "name": "stdout",
     "output_type": "stream",
     "text": [
      "[10, 20, 30, 10, 20, 30, 10, 20, 30]\n"
     ]
    }
   ],
   "source": [
    "#Repetions\n",
    "lst=[10,20,30]\n",
    "print(lst*3)"
   ]
  },
  {
   "cell_type": "code",
   "execution_count": 31,
   "id": "4d01b61e-b2ee-4255-b40f-dcdb496d176f",
   "metadata": {},
   "outputs": [
    {
     "name": "stdout",
     "output_type": "stream",
     "text": [
      "(45, 63, 98, 78, 36, 63, 78)\n",
      "<class 'tuple'>\n",
      "78\n"
     ]
    },
    {
     "ename": "TypeError",
     "evalue": "'tuple' object does not support item assignment",
     "output_type": "error",
     "traceback": [
      "\u001b[1;31m---------------------------------------------------------------------------\u001b[0m",
      "\u001b[1;31mTypeError\u001b[0m                                 Traceback (most recent call last)",
      "Cell \u001b[1;32mIn[31], line 8\u001b[0m\n\u001b[0;32m      5\u001b[0m \u001b[38;5;28mprint\u001b[39m(tup[\u001b[38;5;241m3\u001b[39m])\n\u001b[0;32m      7\u001b[0m \u001b[38;5;66;03m#immutable\u001b[39;00m\n\u001b[1;32m----> 8\u001b[0m \u001b[43mtup\u001b[49m\u001b[43m[\u001b[49m\u001b[38;5;241;43m3\u001b[39;49m\u001b[43m]\u001b[49m\u001b[38;5;241m=\u001b[39m\u001b[38;5;241m100\u001b[39m\n",
      "\u001b[1;31mTypeError\u001b[0m: 'tuple' object does not support item assignment"
     ]
    }
   ],
   "source": [
    "#Tuple in python\n",
    "tup=(45,63,98,78,36,63,78)\n",
    "print(tup)\n",
    "print(type(tup))\n",
    "print(tup[3])\n",
    "\n",
    "#immutable\n",
    "tup[3]=100\n"
   ]
  },
  {
   "cell_type": "code",
   "execution_count": 33,
   "id": "a9919b44-f919-42be-80f7-6c7f0f5681e2",
   "metadata": {},
   "outputs": [
    {
     "name": "stdout",
     "output_type": "stream",
     "text": [
      "[10, 20, 30, 40, 50]\n",
      "(10, 200, 30, 40, 50)\n"
     ]
    }
   ],
   "source": [
    "tup=(10,20,30,40,50)\n",
    "lst=list(tup)\n",
    "print(lst)\n",
    "lst[1]=200\n",
    "tup=tuple(lst)\n",
    "print(tup)"
   ]
  },
  {
   "cell_type": "code",
   "execution_count": 36,
   "id": "0b64ee90-da62-4c4b-897a-cb103170cb7a",
   "metadata": {},
   "outputs": [
    {
     "name": "stdout",
     "output_type": "stream",
     "text": [
      "([10, 200], [30, 40])\n"
     ]
    },
    {
     "ename": "TypeError",
     "evalue": "'tuple' object does not support item assignment",
     "output_type": "error",
     "traceback": [
      "\u001b[1;31m---------------------------------------------------------------------------\u001b[0m",
      "\u001b[1;31mTypeError\u001b[0m                                 Traceback (most recent call last)",
      "Cell \u001b[1;32mIn[36], line 7\u001b[0m\n\u001b[0;32m      5\u001b[0m \u001b[38;5;66;03m#Can a list be immutable ?\u001b[39;00m\n\u001b[0;32m      6\u001b[0m lst\u001b[38;5;241m=\u001b[39m[(\u001b[38;5;241m10\u001b[39m,\u001b[38;5;241m20\u001b[39m),(\u001b[38;5;241m30\u001b[39m,\u001b[38;5;241m40\u001b[39m)]\n\u001b[1;32m----> 7\u001b[0m \u001b[43mlst\u001b[49m\u001b[43m[\u001b[49m\u001b[38;5;241;43m0\u001b[39;49m\u001b[43m]\u001b[49m\u001b[43m[\u001b[49m\u001b[38;5;241;43m1\u001b[39;49m\u001b[43m]\u001b[49m\u001b[38;5;241m=\u001b[39m\u001b[38;5;241m200\u001b[39m\n",
      "\u001b[1;31mTypeError\u001b[0m: 'tuple' object does not support item assignment"
     ]
    }
   ],
   "source": [
    "#Can tuple be mutable ?\n",
    "tup=([10,20],[30,40])\n",
    "tup[0][1]=200\n",
    "print(tup)\n",
    "#Can a list be immutable ?\n",
    "lst=[(10,20),(30,40)]\n",
    "lst[0][1]=200"
   ]
  },
  {
   "cell_type": "code",
   "execution_count": 35,
   "id": "db6bd4d8-262a-4f84-acd1-530a1dd21c2e",
   "metadata": {},
   "outputs": [
    {
     "name": "stdout",
     "output_type": "stream",
     "text": [
      "3\n"
     ]
    }
   ],
   "source": [
    "tup=(10,20,20,30,30,30,40,40,50)\n",
    "print(tup.count(30))  #Frequncy of an item"
   ]
  },
  {
   "cell_type": "code",
   "execution_count": 37,
   "id": "2d492587-a0f2-4d2d-9b37-e5ea3292546e",
   "metadata": {},
   "outputs": [
    {
     "name": "stdout",
     "output_type": "stream",
     "text": [
      "[10, 20, 30, 40, 50]\n"
     ]
    }
   ],
   "source": [
    "tup=(10, 20, 30, 40, 50)\n",
    "lst=list(tup)\n",
    "print(lst)"
   ]
  },
  {
   "cell_type": "code",
   "execution_count": 41,
   "id": "de28ef07-c7c9-4206-883f-e03c9c904dbc",
   "metadata": {},
   "outputs": [
    {
     "name": "stdout",
     "output_type": "stream",
     "text": [
      "{32, 98, 'abc', 85, 75, 63, 15}\n"
     ]
    }
   ],
   "source": [
    "#Sets in python (do not allows duplicates)\n",
    "set={15,63,98,75,32,32,98,15,63,85,'abc','abc'}\n",
    "print(set)\n",
    "#print(set[0]) 'set' object is not subscriptable\n"
   ]
  },
  {
   "cell_type": "code",
   "execution_count": 42,
   "id": "c27eeb18-03c0-40bd-abbe-fb64c4855ad3",
   "metadata": {},
   "outputs": [
    {
     "name": "stdout",
     "output_type": "stream",
     "text": [
      "Elements in A but not in B {0, 1, 2, 6, 8}\n",
      "Elements in B but not in A {25, 51, 324, 23}\n",
      "Union of sets A and B: {0, 1, 2, 3, 4, 324, 6, 8, 51, 23, 25}\n",
      "Intersection of A and B {3, 4}\n"
     ]
    }
   ],
   "source": [
    "# set difference\n",
    "set_a={0,8,6,3,2,1,4,6,4,8,0,1}\n",
    "set_b={4,324,25,25,23,51,3}\n",
    "print('Elements in A but not in B',set_a-set_b)\n",
    "print('Elements in B but not in A',set_b-set_a)"
   ]
  },
  {
   "cell_type": "code",
   "execution_count": 43,
   "id": "3740c62d-5626-4e41-8d22-e8a4c4bd843e",
   "metadata": {},
   "outputs": [
    {
     "name": "stdout",
     "output_type": "stream",
     "text": [
      "Union of sets A and B: {0, 1, 2, 3, 4, 324, 6, 8, 51, 23, 25}\n",
      "Intersection of A and B {3, 4}\n"
     ]
    }
   ],
   "source": [
    "# Union and Intersection\n",
    "print('Union of sets A and B:',set_a.union(set_b))\n",
    "print('Intersection of A and B',set_a.intersection(set_b))"
   ]
  },
  {
   "cell_type": "code",
   "execution_count": 47,
   "id": "c12ca163-ec20-43ea-b312-aac4c5e64d80",
   "metadata": {},
   "outputs": [
    {
     "name": "stdout",
     "output_type": "stream",
     "text": [
      "{0, 1, 2, 3, 4, 5, 6, 7, 8, 9}\n",
      "{0, 1, 2, 3, 4, 5, 6, 7, 8, 9, 50}\n"
     ]
    }
   ],
   "source": [
    "#Insert(add) and update(add multiple)\n",
    "set={0,2,3,4,5,6,7,8,9}\n",
    "set.add(1)\n",
    "print(set)\n",
    "\n",
    "set.update([50,1,2,6])\n",
    "print(set)"
   ]
  },
  {
   "cell_type": "code",
   "execution_count": 50,
   "id": "db4adb25-a323-40e4-b666-549e75d9d7ca",
   "metadata": {},
   "outputs": [
    {
     "name": "stdout",
     "output_type": "stream",
     "text": [
      "<class 'dict'>\n",
      "50000\n"
     ]
    }
   ],
   "source": [
    "#Dictionaries in Python\n",
    "#{key:value}\n",
    "emp_data={'id':1001,'name':'Ramesh','Salary':50000,'project':['proj1','proj2'],100:'abc'}\n",
    "print(type(emp_data))\n",
    "print(emp_data['Salary'])"
   ]
  },
  {
   "cell_type": "code",
   "execution_count": 51,
   "id": "e971e4ee-a2f9-4b57-85dc-baf46a0109e7",
   "metadata": {},
   "outputs": [
    {
     "name": "stdout",
     "output_type": "stream",
     "text": [
      "{'id': 1001, 'name': 'Ramesh', 'Salary': 60000, 'project': ['proj1', 'proj2'], 100: 'abc'}\n"
     ]
    }
   ],
   "source": [
    "#Updation in Dict\n",
    "emp_data['Salary']=60000\n",
    "print(emp_data)"
   ]
  },
  {
   "cell_type": "code",
   "execution_count": 52,
   "id": "3cafd93c-88ff-4ecd-ae8c-1f9253fd4488",
   "metadata": {},
   "outputs": [
    {
     "name": "stdout",
     "output_type": "stream",
     "text": [
      "{'name': 'Tarun', 'class': 'A', 'Category': 'A'}\n"
     ]
    }
   ],
   "source": [
    "dc={'name':'Rakesh','class':'A','Category':'A','name':'Tarun'}\n",
    "print(dc)"
   ]
  },
  {
   "cell_type": "code",
   "execution_count": 1,
   "id": "f46a82ed-f383-42b9-a1f8-2934e8f7f31d",
   "metadata": {},
   "outputs": [
    {
     "name": "stdout",
     "output_type": "stream",
     "text": [
      "{32, 75, 45, 47, 89, 62, 63}\n"
     ]
    }
   ],
   "source": [
    "lst=[45,63,89,75,62,32,47,45,63]\n",
    "new_lst=set(lst)\n",
    "print(new_lst)"
   ]
  },
  {
   "cell_type": "code",
   "execution_count": 3,
   "id": "a5c5f18a-facc-48cd-bbb8-88d03c83a195",
   "metadata": {},
   "outputs": [
    {
     "name": "stdout",
     "output_type": "stream",
     "text": [
      "{'id': 1001, 'name': 'Ramesh', 'Salary': 60000, 'project': ['proj1', 'proj2'], 100: 'abc'}\n",
      "{'id': 1001, 'name': 'Ramesh', 'Salary': 60000, 'project': ['proj1', 'proj2'], 100: 'abc', 'City': 'Mumbai'}\n"
     ]
    }
   ],
   "source": [
    "#Adding a new key value pair\n",
    "emp_data={'id':1001,'name':'Ramesh','Salary':50000,'project':['proj1','proj2'],100:'abc'}\n",
    "emp_data['Salary']=60000\n",
    "print(emp_data)\n",
    "\n",
    "emp_data['City']='Mumbai'\n",
    "print(emp_data)"
   ]
  },
  {
   "cell_type": "code",
   "execution_count": 7,
   "id": "4d06b42c-3e09-45d6-a9a1-7aff7eef11e1",
   "metadata": {},
   "outputs": [
    {
     "ename": "KeyError",
     "evalue": "'project'",
     "output_type": "error",
     "traceback": [
      "\u001b[1;31m---------------------------------------------------------------------------\u001b[0m",
      "\u001b[1;31mKeyError\u001b[0m                                  Traceback (most recent call last)",
      "Cell \u001b[1;32mIn[7], line 2\u001b[0m\n\u001b[0;32m      1\u001b[0m \u001b[38;5;66;03m#Remove key value pair\u001b[39;00m\n\u001b[1;32m----> 2\u001b[0m \u001b[43memp_data\u001b[49m\u001b[38;5;241;43m.\u001b[39;49m\u001b[43mpop\u001b[49m\u001b[43m(\u001b[49m\u001b[38;5;124;43m'\u001b[39;49m\u001b[38;5;124;43mproject\u001b[39;49m\u001b[38;5;124;43m'\u001b[39;49m\u001b[43m)\u001b[49m\n\u001b[0;32m      3\u001b[0m \u001b[38;5;28mprint\u001b[39m(emp_data)\n\u001b[0;32m      4\u001b[0m emp_data\u001b[38;5;241m.\u001b[39mpop(\u001b[38;5;241m100\u001b[39m)\n",
      "\u001b[1;31mKeyError\u001b[0m: 'project'"
     ]
    }
   ],
   "source": [
    "#Remove key value pair\n",
    "emp_data.pop('project')\n",
    "print(emp_data)"
   ]
  },
  {
   "cell_type": "code",
   "execution_count": 8,
   "id": "6471d292-c0a8-4035-a4ae-9a53e39365ad",
   "metadata": {},
   "outputs": [
    {
     "data": {
      "text/plain": [
       "'abc'"
      ]
     },
     "execution_count": 8,
     "metadata": {},
     "output_type": "execute_result"
    }
   ],
   "source": [
    "emp_data.pop(100)"
   ]
  },
  {
   "cell_type": "code",
   "execution_count": 9,
   "id": "df0e9f15-c7a1-4d88-a7f0-fcefa32f7591",
   "metadata": {},
   "outputs": [
    {
     "name": "stdout",
     "output_type": "stream",
     "text": [
      "dict_keys(['id', 'name', 'Salary', 'City'])\n",
      "dict_values([1001, 'Ramesh', 60000, 'Mumbai'])\n"
     ]
    }
   ],
   "source": [
    "keys=emp_data.keys()\n",
    "print(keys)\n",
    "print(emp_data.values())"
   ]
  },
  {
   "cell_type": "code",
   "execution_count": 13,
   "id": "e312dde9-ad8a-43fa-8ced-ea46fc3f533d",
   "metadata": {},
   "outputs": [
    {
     "name": "stdout",
     "output_type": "stream",
     "text": [
      "{'id': None, 'name': None, 'Salary': None, 'City': None}\n",
      "{'id': [1001, 1002, 1003], 'name': None, 'Salary': None, 'City': None}\n",
      "{'id': [1001, 1002, 1003], 'name': 'Ramesh', 'Salary': None, 'City': None}\n"
     ]
    }
   ],
   "source": [
    "#fromkeys()\n",
    "team=dict.fromkeys(keys)\n",
    "print(team)\n",
    "team['id']=[1001,1002,1003]\n",
    "print(team)\n",
    "team['name']=emp_data['name']\n",
    "print(team)"
   ]
  },
  {
   "cell_type": "code",
   "execution_count": 17,
   "id": "f8b578aa-6473-4e7b-ae4b-a44a7b3cbf45",
   "metadata": {},
   "outputs": [
    {
     "name": "stdout",
     "output_type": "stream",
     "text": [
      "Key:id,values:1001\n",
      "Key:name,values:Ramesh\n",
      "Key:Salary,values:60000\n",
      "Key:City,values:Mumbai\n"
     ]
    }
   ],
   "source": [
    "for i in emp_data:\n",
    "    print(f\"Key:{i},values:{emp_data[i]}\")"
   ]
  },
  {
   "cell_type": "code",
   "execution_count": 14,
   "id": "36ead335-3481-4f79-a3ea-d3b8d12ab995",
   "metadata": {},
   "outputs": [
    {
     "ename": "NameError",
     "evalue": "name 'lst' is not defined",
     "output_type": "error",
     "traceback": [
      "\u001b[1;31m---------------------------------------------------------------------------\u001b[0m",
      "\u001b[1;31mNameError\u001b[0m                                 Traceback (most recent call last)",
      "Cell \u001b[1;32mIn[14], line 4\u001b[0m\n\u001b[0;32m      2\u001b[0m lst\u001b[38;5;241m=\u001b[39m[\u001b[38;5;241m10\u001b[39m,\u001b[38;5;241m20\u001b[39m,\u001b[38;5;241m30\u001b[39m]\n\u001b[0;32m      3\u001b[0m \u001b[38;5;28;01mdel\u001b[39;00m lst\n\u001b[1;32m----> 4\u001b[0m \u001b[38;5;28mprint\u001b[39m(\u001b[43mlst\u001b[49m)\n",
      "\u001b[1;31mNameError\u001b[0m: name 'lst' is not defined"
     ]
    }
   ],
   "source": [
    "#Delete sequences\n",
    "lst=[10,20,30]\n",
    "del lst\n",
    "print(lst)"
   ]
  },
  {
   "cell_type": "code",
   "execution_count": 20,
   "id": "5a27b350-bd3b-49d9-b8ef-3e32031d2c42",
   "metadata": {},
   "outputs": [
    {
     "name": "stdout",
     "output_type": "stream",
     "text": [
      "True\n"
     ]
    }
   ],
   "source": [
    "print(round((1.1+2.2),1)==3.3)"
   ]
  },
  {
   "cell_type": "code",
   "execution_count": null,
   "id": "c2db11ed-f55e-4c07-980d-9f2dccdfe27e",
   "metadata": {},
   "outputs": [],
   "source": []
  }
 ],
 "metadata": {
  "kernelspec": {
   "display_name": "Python 3 (ipykernel)",
   "language": "python",
   "name": "python3"
  },
  "language_info": {
   "codemirror_mode": {
    "name": "ipython",
    "version": 3
   },
   "file_extension": ".py",
   "mimetype": "text/x-python",
   "name": "python",
   "nbconvert_exporter": "python",
   "pygments_lexer": "ipython3",
   "version": "3.12.1"
  }
 },
 "nbformat": 4,
 "nbformat_minor": 5
}
