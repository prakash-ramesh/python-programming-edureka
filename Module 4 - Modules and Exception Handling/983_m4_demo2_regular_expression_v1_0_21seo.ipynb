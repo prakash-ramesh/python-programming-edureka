{
 "cells": [
  {
   "cell_type": "markdown",
   "metadata": {},
   "source": [
    "## Regular Expression"
   ]
  },
  {
   "cell_type": "code",
   "execution_count": 2,
   "metadata": {},
   "outputs": [],
   "source": [
    "# Example 1 --  Finding a word in a String\n",
    "import re\n",
    "if re.search(\"python\",\"Python is awesome Python\"):\n",
    "    print('python is there')"
   ]
  },
  {
   "cell_type": "code",
   "execution_count": 3,
   "metadata": {},
   "outputs": [
    {
     "name": "stdout",
     "output_type": "stream",
     "text": [
      "4\n",
      "python\n",
      "python\n",
      "python\n",
      "python\n"
     ]
    }
   ],
   "source": [
    "# Example 2 -- findall\n",
    "# In findall(), it checks the entire string and prints the searched character as many times as the word is present in the string\n",
    "import re\n",
    "allpython=re.findall(\"python\",\"Python python python is awesome and python is dynamically typed language python\")\n",
    "print(len(allpython))\n",
    "for i in allpython:\n",
    "    print(i)"
   ]
  },
  {
   "cell_type": "code",
   "execution_count": 1,
   "metadata": {},
   "outputs": [
    {
     "name": "stdout",
     "output_type": "stream",
     "text": [
      "hat\n",
      "mat\n",
      "pat\n"
     ]
    }
   ],
   "source": [
    "# Example 4 -- Matching words with pattern\n",
    "\n",
    "# What is common in the string? You can see that the letters ‘a’ and ‘t’ are common among all of the input strings.\n",
    "#[shmp] in the code denotes the starting letter of the words to be found.\n",
    "#So any substring starting with the letters s, h, m or p will be considered for matching. \n",
    "#Any among that and compulsorily followed by ‘at’ at the end.\n",
    "#Do note that they are all case sensitive.\n",
    "\n",
    "import re\n",
    " \n",
    "Str = \"Sat, hat, mat, pat, Amit\"\n",
    " \n",
    "allStr = re.findall(\"[shmp]at\", Str)\n",
    " \n",
    "for i in allStr:\n",
    "    print(i)"
   ]
  },
  {
   "cell_type": "code",
   "execution_count": 5,
   "metadata": {},
   "outputs": [
    {
     "name": "stdout",
     "output_type": "stream",
     "text": [
      "hat\n",
      "mat\n"
     ]
    }
   ],
   "source": [
    "# Example 5  -- Matching Series of Range of characters\n",
    "\n",
    "#We wish to output all the words whose first letter should start in between h and m and compulsorily followed by at.\n",
    "\n",
    "import re\n",
    " \n",
    "Str = \"sat, hat, mat, pat\"\n",
    " \n",
    "someStr = re.findall(\"[h-m]at\", Str)\n",
    " \n",
    "for i in someStr:\n",
    "    print(i)"
   ]
  },
  {
   "cell_type": "code",
   "execution_count": 6,
   "metadata": {},
   "outputs": [
    {
     "name": "stdout",
     "output_type": "stream",
     "text": [
      "sat\n",
      "pat\n"
     ]
    }
   ],
   "source": [
    "# Example 6 -- Matching Series of Range of characters\n",
    "# We have added a caret symbol(^) in the Regular Expression. \n",
    "#What this does it negates the effect of whatever it follows. \n",
    "# Instead of giving us the output of everything starting with h to m, we will be presented with the output of everything apart from that.\n",
    "\n",
    "import re\n",
    " \n",
    "Str = \"sat, hat, mat, pat\"\n",
    " \n",
    "someStr = re.findall(\"[^h-m]at\", Str) #not starting from [h-m]\n",
    " \n",
    "for i in someStr:\n",
    "    print(i)"
   ]
  },
  {
   "cell_type": "code",
   "execution_count": 3,
   "metadata": {},
   "outputs": [
    {
     "name": "stdout",
     "output_type": "stream",
     "text": [
      "Not a valid number\n"
     ]
    }
   ],
   "source": [
    "# Example 9 -- Phone Number Verification use case\n",
    "\n",
    "import re\n",
    " \n",
    "phn = \"414-555-1212\"\n",
    " \n",
    "if re.search(\"[0-9]{3}-[0-9]{3}-[0-9]{4}\", phn):\n",
    "    print(\"Valid phone number\")\n",
    "else:\n",
    "    print(\"Not a valid number\")\n",
    "    "
   ]
  },
  {
   "cell_type": "code",
   "execution_count": 4,
   "metadata": {},
   "outputs": [
    {
     "name": "stdout",
     "output_type": "stream",
     "text": [
      "Valid email\n",
      "Valid email\n",
      "Invalid email\n",
      "Invalid email\n"
     ]
    }
   ],
   "source": [
    "# Example 10 --- Email Id Verification use case\n",
    "import re\n",
    "\n",
    "regex = re.compile(r'([A-Za-z0-9]+[.-_])*[A-Za-z0-9]+@[A-Za-z0-9-]+(\\.[A-Z|a-z]{2,})+')\n",
    "\n",
    "def isValid(email):\n",
    "    if re.fullmatch(regex, email):\n",
    "        print(\"Valid email\")\n",
    "    else:\n",
    "        print(\"Invalid email\")\n",
    "\n",
    "isValid(\"Ajitabh@gmail.com\")\n",
    "isValid(\"ajitabh@gmail.in\")\n",
    "\n",
    "isValid(\"ajitabhgmail.in\")\n",
    "isValid(\"ajitabh@gmailcom\")"
   ]
  },
  {
   "cell_type": "code",
   "execution_count": null,
   "metadata": {},
   "outputs": [],
   "source": []
  }
 ],
 "metadata": {
  "kernelspec": {
   "display_name": "Python 3 (ipykernel)",
   "language": "python",
   "name": "python3"
  },
  "language_info": {
   "codemirror_mode": {
    "name": "ipython",
    "version": 3
   },
   "file_extension": ".py",
   "mimetype": "text/x-python",
   "name": "python",
   "nbconvert_exporter": "python",
   "pygments_lexer": "ipython3",
   "version": "3.12.1"
  }
 },
 "nbformat": 4,
 "nbformat_minor": 4
}
