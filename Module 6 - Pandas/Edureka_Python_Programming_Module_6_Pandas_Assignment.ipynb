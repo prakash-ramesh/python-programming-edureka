{
  "nbformat": 4,
  "nbformat_minor": 0,
  "metadata": {
    "colab": {
      "provenance": []
    },
    "kernelspec": {
      "name": "python3",
      "display_name": "Python 3"
    },
    "language_info": {
      "name": "python"
    }
  },
  "cells": [
    {
      "cell_type": "markdown",
      "source": [
        "```\n",
        "1. Extract data from the givenSalaryGender CSV fileand store the data from each column in a separate NumPy array.\n",
        "```"
      ],
      "metadata": {
        "id": "MStHZvGifsuc"
      }
    },
    {
      "cell_type": "code",
      "execution_count": 1,
      "metadata": {
        "id": "A5ZaSLz7_Z6R",
        "colab": {
          "base_uri": "https://localhost:8080/",
          "height": 206
        },
        "outputId": "c4d6af2f-7d31-4619-84fe-c2c8fcd7e14a"
      },
      "outputs": [
        {
          "output_type": "execute_result",
          "data": {
            "text/plain": [
              "   Salary  Gender  Age  PhD\n",
              "0   140.0       1   47    1\n",
              "1    30.0       0   65    1\n",
              "2    35.1       0   56    0\n",
              "3    30.0       1   23    0\n",
              "4    80.0       0   53    1"
            ],
            "text/html": [
              "\n",
              "  <div id=\"df-7e2a14f9-934f-4a37-92f6-dfb8969557a8\" class=\"colab-df-container\">\n",
              "    <div>\n",
              "<style scoped>\n",
              "    .dataframe tbody tr th:only-of-type {\n",
              "        vertical-align: middle;\n",
              "    }\n",
              "\n",
              "    .dataframe tbody tr th {\n",
              "        vertical-align: top;\n",
              "    }\n",
              "\n",
              "    .dataframe thead th {\n",
              "        text-align: right;\n",
              "    }\n",
              "</style>\n",
              "<table border=\"1\" class=\"dataframe\">\n",
              "  <thead>\n",
              "    <tr style=\"text-align: right;\">\n",
              "      <th></th>\n",
              "      <th>Salary</th>\n",
              "      <th>Gender</th>\n",
              "      <th>Age</th>\n",
              "      <th>PhD</th>\n",
              "    </tr>\n",
              "  </thead>\n",
              "  <tbody>\n",
              "    <tr>\n",
              "      <th>0</th>\n",
              "      <td>140.0</td>\n",
              "      <td>1</td>\n",
              "      <td>47</td>\n",
              "      <td>1</td>\n",
              "    </tr>\n",
              "    <tr>\n",
              "      <th>1</th>\n",
              "      <td>30.0</td>\n",
              "      <td>0</td>\n",
              "      <td>65</td>\n",
              "      <td>1</td>\n",
              "    </tr>\n",
              "    <tr>\n",
              "      <th>2</th>\n",
              "      <td>35.1</td>\n",
              "      <td>0</td>\n",
              "      <td>56</td>\n",
              "      <td>0</td>\n",
              "    </tr>\n",
              "    <tr>\n",
              "      <th>3</th>\n",
              "      <td>30.0</td>\n",
              "      <td>1</td>\n",
              "      <td>23</td>\n",
              "      <td>0</td>\n",
              "    </tr>\n",
              "    <tr>\n",
              "      <th>4</th>\n",
              "      <td>80.0</td>\n",
              "      <td>0</td>\n",
              "      <td>53</td>\n",
              "      <td>1</td>\n",
              "    </tr>\n",
              "  </tbody>\n",
              "</table>\n",
              "</div>\n",
              "    <div class=\"colab-df-buttons\">\n",
              "\n",
              "  <div class=\"colab-df-container\">\n",
              "    <button class=\"colab-df-convert\" onclick=\"convertToInteractive('df-7e2a14f9-934f-4a37-92f6-dfb8969557a8')\"\n",
              "            title=\"Convert this dataframe to an interactive table.\"\n",
              "            style=\"display:none;\">\n",
              "\n",
              "  <svg xmlns=\"http://www.w3.org/2000/svg\" height=\"24px\" viewBox=\"0 -960 960 960\">\n",
              "    <path d=\"M120-120v-720h720v720H120Zm60-500h600v-160H180v160Zm220 220h160v-160H400v160Zm0 220h160v-160H400v160ZM180-400h160v-160H180v160Zm440 0h160v-160H620v160ZM180-180h160v-160H180v160Zm440 0h160v-160H620v160Z\"/>\n",
              "  </svg>\n",
              "    </button>\n",
              "\n",
              "  <style>\n",
              "    .colab-df-container {\n",
              "      display:flex;\n",
              "      gap: 12px;\n",
              "    }\n",
              "\n",
              "    .colab-df-convert {\n",
              "      background-color: #E8F0FE;\n",
              "      border: none;\n",
              "      border-radius: 50%;\n",
              "      cursor: pointer;\n",
              "      display: none;\n",
              "      fill: #1967D2;\n",
              "      height: 32px;\n",
              "      padding: 0 0 0 0;\n",
              "      width: 32px;\n",
              "    }\n",
              "\n",
              "    .colab-df-convert:hover {\n",
              "      background-color: #E2EBFA;\n",
              "      box-shadow: 0px 1px 2px rgba(60, 64, 67, 0.3), 0px 1px 3px 1px rgba(60, 64, 67, 0.15);\n",
              "      fill: #174EA6;\n",
              "    }\n",
              "\n",
              "    .colab-df-buttons div {\n",
              "      margin-bottom: 4px;\n",
              "    }\n",
              "\n",
              "    [theme=dark] .colab-df-convert {\n",
              "      background-color: #3B4455;\n",
              "      fill: #D2E3FC;\n",
              "    }\n",
              "\n",
              "    [theme=dark] .colab-df-convert:hover {\n",
              "      background-color: #434B5C;\n",
              "      box-shadow: 0px 1px 3px 1px rgba(0, 0, 0, 0.15);\n",
              "      filter: drop-shadow(0px 1px 2px rgba(0, 0, 0, 0.3));\n",
              "      fill: #FFFFFF;\n",
              "    }\n",
              "  </style>\n",
              "\n",
              "    <script>\n",
              "      const buttonEl =\n",
              "        document.querySelector('#df-7e2a14f9-934f-4a37-92f6-dfb8969557a8 button.colab-df-convert');\n",
              "      buttonEl.style.display =\n",
              "        google.colab.kernel.accessAllowed ? 'block' : 'none';\n",
              "\n",
              "      async function convertToInteractive(key) {\n",
              "        const element = document.querySelector('#df-7e2a14f9-934f-4a37-92f6-dfb8969557a8');\n",
              "        const dataTable =\n",
              "          await google.colab.kernel.invokeFunction('convertToInteractive',\n",
              "                                                    [key], {});\n",
              "        if (!dataTable) return;\n",
              "\n",
              "        const docLinkHtml = 'Like what you see? Visit the ' +\n",
              "          '<a target=\"_blank\" href=https://colab.research.google.com/notebooks/data_table.ipynb>data table notebook</a>'\n",
              "          + ' to learn more about interactive tables.';\n",
              "        element.innerHTML = '';\n",
              "        dataTable['output_type'] = 'display_data';\n",
              "        await google.colab.output.renderOutput(dataTable, element);\n",
              "        const docLink = document.createElement('div');\n",
              "        docLink.innerHTML = docLinkHtml;\n",
              "        element.appendChild(docLink);\n",
              "      }\n",
              "    </script>\n",
              "  </div>\n",
              "\n",
              "\n",
              "<div id=\"df-e1023c8b-3070-437c-a257-d0bdcdd67b1b\">\n",
              "  <button class=\"colab-df-quickchart\" onclick=\"quickchart('df-e1023c8b-3070-437c-a257-d0bdcdd67b1b')\"\n",
              "            title=\"Suggest charts\"\n",
              "            style=\"display:none;\">\n",
              "\n",
              "<svg xmlns=\"http://www.w3.org/2000/svg\" height=\"24px\"viewBox=\"0 0 24 24\"\n",
              "     width=\"24px\">\n",
              "    <g>\n",
              "        <path d=\"M19 3H5c-1.1 0-2 .9-2 2v14c0 1.1.9 2 2 2h14c1.1 0 2-.9 2-2V5c0-1.1-.9-2-2-2zM9 17H7v-7h2v7zm4 0h-2V7h2v10zm4 0h-2v-4h2v4z\"/>\n",
              "    </g>\n",
              "</svg>\n",
              "  </button>\n",
              "\n",
              "<style>\n",
              "  .colab-df-quickchart {\n",
              "      --bg-color: #E8F0FE;\n",
              "      --fill-color: #1967D2;\n",
              "      --hover-bg-color: #E2EBFA;\n",
              "      --hover-fill-color: #174EA6;\n",
              "      --disabled-fill-color: #AAA;\n",
              "      --disabled-bg-color: #DDD;\n",
              "  }\n",
              "\n",
              "  [theme=dark] .colab-df-quickchart {\n",
              "      --bg-color: #3B4455;\n",
              "      --fill-color: #D2E3FC;\n",
              "      --hover-bg-color: #434B5C;\n",
              "      --hover-fill-color: #FFFFFF;\n",
              "      --disabled-bg-color: #3B4455;\n",
              "      --disabled-fill-color: #666;\n",
              "  }\n",
              "\n",
              "  .colab-df-quickchart {\n",
              "    background-color: var(--bg-color);\n",
              "    border: none;\n",
              "    border-radius: 50%;\n",
              "    cursor: pointer;\n",
              "    display: none;\n",
              "    fill: var(--fill-color);\n",
              "    height: 32px;\n",
              "    padding: 0;\n",
              "    width: 32px;\n",
              "  }\n",
              "\n",
              "  .colab-df-quickchart:hover {\n",
              "    background-color: var(--hover-bg-color);\n",
              "    box-shadow: 0 1px 2px rgba(60, 64, 67, 0.3), 0 1px 3px 1px rgba(60, 64, 67, 0.15);\n",
              "    fill: var(--button-hover-fill-color);\n",
              "  }\n",
              "\n",
              "  .colab-df-quickchart-complete:disabled,\n",
              "  .colab-df-quickchart-complete:disabled:hover {\n",
              "    background-color: var(--disabled-bg-color);\n",
              "    fill: var(--disabled-fill-color);\n",
              "    box-shadow: none;\n",
              "  }\n",
              "\n",
              "  .colab-df-spinner {\n",
              "    border: 2px solid var(--fill-color);\n",
              "    border-color: transparent;\n",
              "    border-bottom-color: var(--fill-color);\n",
              "    animation:\n",
              "      spin 1s steps(1) infinite;\n",
              "  }\n",
              "\n",
              "  @keyframes spin {\n",
              "    0% {\n",
              "      border-color: transparent;\n",
              "      border-bottom-color: var(--fill-color);\n",
              "      border-left-color: var(--fill-color);\n",
              "    }\n",
              "    20% {\n",
              "      border-color: transparent;\n",
              "      border-left-color: var(--fill-color);\n",
              "      border-top-color: var(--fill-color);\n",
              "    }\n",
              "    30% {\n",
              "      border-color: transparent;\n",
              "      border-left-color: var(--fill-color);\n",
              "      border-top-color: var(--fill-color);\n",
              "      border-right-color: var(--fill-color);\n",
              "    }\n",
              "    40% {\n",
              "      border-color: transparent;\n",
              "      border-right-color: var(--fill-color);\n",
              "      border-top-color: var(--fill-color);\n",
              "    }\n",
              "    60% {\n",
              "      border-color: transparent;\n",
              "      border-right-color: var(--fill-color);\n",
              "    }\n",
              "    80% {\n",
              "      border-color: transparent;\n",
              "      border-right-color: var(--fill-color);\n",
              "      border-bottom-color: var(--fill-color);\n",
              "    }\n",
              "    90% {\n",
              "      border-color: transparent;\n",
              "      border-bottom-color: var(--fill-color);\n",
              "    }\n",
              "  }\n",
              "</style>\n",
              "\n",
              "  <script>\n",
              "    async function quickchart(key) {\n",
              "      const quickchartButtonEl =\n",
              "        document.querySelector('#' + key + ' button');\n",
              "      quickchartButtonEl.disabled = true;  // To prevent multiple clicks.\n",
              "      quickchartButtonEl.classList.add('colab-df-spinner');\n",
              "      try {\n",
              "        const charts = await google.colab.kernel.invokeFunction(\n",
              "            'suggestCharts', [key], {});\n",
              "      } catch (error) {\n",
              "        console.error('Error during call to suggestCharts:', error);\n",
              "      }\n",
              "      quickchartButtonEl.classList.remove('colab-df-spinner');\n",
              "      quickchartButtonEl.classList.add('colab-df-quickchart-complete');\n",
              "    }\n",
              "    (() => {\n",
              "      let quickchartButtonEl =\n",
              "        document.querySelector('#df-e1023c8b-3070-437c-a257-d0bdcdd67b1b button');\n",
              "      quickchartButtonEl.style.display =\n",
              "        google.colab.kernel.accessAllowed ? 'block' : 'none';\n",
              "    })();\n",
              "  </script>\n",
              "</div>\n",
              "\n",
              "    </div>\n",
              "  </div>\n"
            ]
          },
          "metadata": {},
          "execution_count": 1
        }
      ],
      "source": [
        "import pandas as pd\n",
        "sal = pd.read_csv('SalaryGender.csv')\n",
        "sal.head()"
      ]
    },
    {
      "cell_type": "code",
      "source": [
        "salary = sal['Salary'].to_numpy()\n",
        "gender = sal['Gender'].to_numpy()\n",
        "age = sal['Age'].to_numpy()\n",
        "phd = sal['PhD'].to_numpy()\n",
        "print(type(salary), \"\\n\", salary)"
      ],
      "metadata": {
        "colab": {
          "base_uri": "https://localhost:8080/"
        },
        "id": "7sLwhcjkf-aS",
        "outputId": "43844622-11d0-40f9-faa4-f70966cc5549"
      },
      "execution_count": 2,
      "outputs": [
        {
          "output_type": "stream",
          "name": "stdout",
          "text": [
            "<class 'numpy.ndarray'> \n",
            " [140.    30.    35.1   30.    80.    30.    60.    31.1  125.    51.\n",
            "   3.    46.   150.     3.   130.    15.   130.    84.   190.    74.\n",
            "  73.    10.    50.     7.     9.5   15.2   28.6   20.    72.    81.\n",
            " 100.    90.    90.    35.    30.    25.    52.     9.    63.    72.\n",
            "  16.    92.   106.     2.5    9.    32.    32.    55.    52.    28.\n",
            "  20.    14.7   22.3   34.8   84.    19.   160.    65.    55.     4.6\n",
            " 102.    20.    62.    55.    45.6   40.    24.    35.    48.    20.\n",
            "  40.7   15.     0.25 152.    39.8   12.    30.   120.     1.7   36.\n",
            "  96.    38.    90.     9.    25.8   22.    38.8   72.    89.    41.\n",
            "  89.    25.    52.   115.    66.    18.6  152.     1.8   35.     4.  ]\n"
          ]
        }
      ]
    },
    {
      "cell_type": "markdown",
      "source": [
        "```\n",
        "2. Find:\n",
        "1. The number of men with a Ph.D.\n",
        "2. The number of women with a Ph.D\n",
        "```"
      ],
      "metadata": {
        "id": "aJhINz3dgl3B"
      }
    },
    {
      "cell_type": "code",
      "source": [
        "men_with_phd = sal[(sal['Gender'] == 0) & (sal['PhD'] == 1)]\n",
        "women_with_phd = sal[(sal['Gender'] == 1) & (sal['PhD'] == 1)]\n",
        "print(\"Men with PhD: \", men_with_phd.shape[0], \" \", \"Women with PhD: \",  women_with_phd.shape[0])"
      ],
      "metadata": {
        "colab": {
          "base_uri": "https://localhost:8080/"
        },
        "id": "fcYbG2TfgIhR",
        "outputId": "5d7c4afe-e810-49cc-b604-dd9bee5cd3f0"
      },
      "execution_count": 3,
      "outputs": [
        {
          "output_type": "stream",
          "name": "stdout",
          "text": [
            "Men with PhD:  15   Women with PhD:  24\n"
          ]
        }
      ]
    },
    {
      "cell_type": "markdown",
      "source": [
        "```\n",
        "3. Store the \"Age\"and \"Ph.D.\"columns in one DataFrame and delete the data of all people who don't have a Ph.D.from the SalaryGender CSV file\n",
        "```"
      ],
      "metadata": {
        "id": "NCnPxdQIiXQ1"
      }
    },
    {
      "cell_type": "code",
      "source": [
        "age_phd = sal[(sal['PhD'] == 1)][['Age', 'PhD']]"
      ],
      "metadata": {
        "id": "ZTocd3FrhRfQ"
      },
      "execution_count": 4,
      "outputs": []
    },
    {
      "cell_type": "markdown",
      "source": [
        "```\n",
        "4. Calculate the total number of people who have a Ph.D.degreefrom the SalaryGender CSV file\n",
        "```"
      ],
      "metadata": {
        "id": "PJfwvW7cjIJv"
      }
    },
    {
      "cell_type": "code",
      "source": [
        "print(age_phd.shape[0])"
      ],
      "metadata": {
        "colab": {
          "base_uri": "https://localhost:8080/"
        },
        "id": "ca6dWyczioFI",
        "outputId": "14f82709-9d80-4f38-e79f-bd5fd4963be5"
      },
      "execution_count": 5,
      "outputs": [
        {
          "output_type": "stream",
          "name": "stdout",
          "text": [
            "39\n"
          ]
        }
      ]
    },
    {
      "cell_type": "markdown",
      "source": [
        "```\n",
        "5. How  do  you count the frequency  ofeach  value  appearingin the  givenarray  of integers?\n",
        "[0, 5, 4, 0, 4, 4, 3, 0, 0, 5, 2, 1, 1, 9]\n",
        "\n",
        "Answer:array([4, 2, 1, 1, 3, 2, 0, 0, 0, 1]) which means 0 comes 4 times, 1 comes 2 times, 2 comes 1 time, 3 comes 1 time and so on.\n",
        "```"
      ],
      "metadata": {
        "id": "uUr0TNe0jTWb"
      }
    },
    {
      "cell_type": "code",
      "source": [
        "import numpy as np\n",
        "arr = np.array([0, 5, 4, 0, 4, 4, 3, 0, 0, 5, 2, 1, 1, 9])\n",
        "arr.sort()\n",
        "\n",
        "s = pd.DataFrame(arr)\n",
        "\n",
        "freq = s.value_counts()\n",
        "print(freq, \"\\n\")\n",
        "\n",
        "print(\"Ans:\", freq.to_numpy())"
      ],
      "metadata": {
        "colab": {
          "base_uri": "https://localhost:8080/"
        },
        "id": "bjfMKiMcjOAo",
        "outputId": "82cbfe88-b24b-49f8-a9de-5a0773b7d2c3"
      },
      "execution_count": 6,
      "outputs": [
        {
          "output_type": "stream",
          "name": "stdout",
          "text": [
            "0    4\n",
            "4    3\n",
            "1    2\n",
            "5    2\n",
            "2    1\n",
            "3    1\n",
            "9    1\n",
            "dtype: int64 \n",
            "\n",
            "Ans: [4 3 2 2 1 1 1]\n"
          ]
        }
      ]
    },
    {
      "cell_type": "markdown",
      "source": [
        "```\n",
        "6. Create a NumPyarray [[0, 1, 2],[ 3, 4, 5],[ 6, 7, 8],[ 9,10, 11]]) and filter the elements greater than 5\n",
        "```"
      ],
      "metadata": {
        "id": "9Xs_tPXGmfTP"
      }
    },
    {
      "cell_type": "code",
      "source": [
        "arr = np.array([[0, 1, 2],[ 3, 4, 5],[ 6, 7, 8],[ 9,10, 11]])\n",
        "arr[arr > 5]"
      ],
      "metadata": {
        "colab": {
          "base_uri": "https://localhost:8080/"
        },
        "id": "arvaSJSYknFO",
        "outputId": "806810c0-32ad-4a96-a3a4-7349db0efb7e"
      },
      "execution_count": 7,
      "outputs": [
        {
          "output_type": "execute_result",
          "data": {
            "text/plain": [
              "array([ 6,  7,  8,  9, 10, 11])"
            ]
          },
          "metadata": {},
          "execution_count": 7
        }
      ]
    },
    {
      "cell_type": "markdown",
      "source": [
        "```\n",
        "7. Create a NumPyarray having NaN (Not a Number) and print it.\n",
        "array([ nan,   1.,   2.,  NaN,   3.,   4.,   5.])\n",
        "Print the same array omitting all elements,which are NaN\n",
        "```"
      ],
      "metadata": {
        "id": "MU2MKwNMnDhZ"
      }
    },
    {
      "cell_type": "code",
      "source": [
        "arr = np.array([ np.nan,   1.,   2.,  np.NaN,   3.,   4.,   5.])\n",
        "print(arr)\n",
        "\n",
        "df = pd.DataFrame(arr)\n",
        "df[df[0].notnull()].to_numpy()"
      ],
      "metadata": {
        "colab": {
          "base_uri": "https://localhost:8080/"
        },
        "id": "9H2p6-r0msOJ",
        "outputId": "2d1306df-628a-43d5-c37b-9616fcd83469"
      },
      "execution_count": 8,
      "outputs": [
        {
          "output_type": "stream",
          "name": "stdout",
          "text": [
            "[nan  1.  2. nan  3.  4.  5.]\n"
          ]
        },
        {
          "output_type": "execute_result",
          "data": {
            "text/plain": [
              "array([[1.],\n",
              "       [2.],\n",
              "       [3.],\n",
              "       [4.],\n",
              "       [5.]])"
            ]
          },
          "metadata": {},
          "execution_count": 8
        }
      ]
    },
    {
      "cell_type": "markdown",
      "source": [
        "```\n",
        "8. Create  a  10x10  array  with  random  values  and  find  the  minimum  and  maximum values\n",
        "```"
      ],
      "metadata": {
        "id": "G_1fQO4LphHx"
      }
    },
    {
      "cell_type": "code",
      "source": [
        "arr = np.random.randint(11, 99, (10, 10))\n",
        "print(arr, \"\\n\\n\", arr.min(), arr.max())"
      ],
      "metadata": {
        "colab": {
          "base_uri": "https://localhost:8080/"
        },
        "id": "ntmZILqtnOyA",
        "outputId": "5d03936f-5e8a-4d13-fcb5-e4780e895de2"
      },
      "execution_count": 9,
      "outputs": [
        {
          "output_type": "stream",
          "name": "stdout",
          "text": [
            "[[40 22 91 44 19 89 56 70 37 28]\n",
            " [56 15 97 38 27 22 53 78 30 68]\n",
            " [91 31 91 61 48 38 75 38 68 24]\n",
            " [46 35 39 53 42 87 42 72 51 38]\n",
            " [33 76 27 75 25 19 58 60 73 59]\n",
            " [57 47 71 77 19 84 22 64 46 26]\n",
            " [28 78 14 89 37 24 71 41 73 15]\n",
            " [29 13 24 59 72 46 48 32 75 50]\n",
            " [32 47 82 26 28 27 34 84 63 19]\n",
            " [91 53 31 50 72 30 45 83 38 98]] \n",
            "\n",
            " 13 98\n"
          ]
        }
      ]
    },
    {
      "cell_type": "markdown",
      "source": [
        "```\n",
        "9. Create a random vector of size 30 and find the mean value\n",
        "```"
      ],
      "metadata": {
        "id": "yzIi5oaZq6cs"
      }
    },
    {
      "cell_type": "code",
      "source": [
        "arr = np.random.random(30)\n",
        "arr.mean()"
      ],
      "metadata": {
        "id": "EdXnUI1GqSAJ",
        "colab": {
          "base_uri": "https://localhost:8080/"
        },
        "outputId": "27f5b1c2-4e52-4fe8-ae34-7c800a5bd41c"
      },
      "execution_count": 10,
      "outputs": [
        {
          "output_type": "execute_result",
          "data": {
            "text/plain": [
              "0.5163414632446471"
            ]
          },
          "metadata": {},
          "execution_count": 10
        }
      ]
    },
    {
      "cell_type": "markdown",
      "source": [
        "```\n",
        "10. Create a NumPyarray  having  elements  0  to  10  And  negate  all  the  elements between 3 and 9\n",
        "```"
      ],
      "metadata": {
        "id": "qnO2f5Yj502B"
      }
    },
    {
      "cell_type": "code",
      "source": [
        "arr = np.arange(0, 11)\n",
        "m = (arr > 3) & (arr < 9)\n",
        "arr[m] *= -1\n",
        "arr"
      ],
      "metadata": {
        "colab": {
          "base_uri": "https://localhost:8080/"
        },
        "id": "_YH-AGQA3X7u",
        "outputId": "468a8902-d0cd-418e-ee13-b4ba5afd3c3b"
      },
      "execution_count": 11,
      "outputs": [
        {
          "output_type": "execute_result",
          "data": {
            "text/plain": [
              "array([ 0,  1,  2,  3, -4, -5, -6, -7, -8,  9, 10])"
            ]
          },
          "metadata": {},
          "execution_count": 11
        }
      ]
    },
    {
      "cell_type": "markdown",
      "source": [
        "```\n",
        "11. Create a random array of 3 rows and 3 columns and sort it according tothefirst, second,or thirdcolumn\n",
        "```"
      ],
      "metadata": {
        "id": "Ntwew2IP6-aB"
      }
    },
    {
      "cell_type": "code",
      "source": [
        "# Create a random array of 3 rows and 3 columns\n",
        "arr = np.random.randint(1, 10, (3, 3))\n",
        "\n",
        "# Sort the array according to the first column\n",
        "sorted_by_first_column = arr[arr[:, 0].argsort()]\n",
        "\n",
        "# Sort the array according to the second column\n",
        "sorted_by_second_column = arr[arr[:, 1].argsort()]\n",
        "\n",
        "# Sort the array according to the third column\n",
        "sorted_by_third_column = arr[arr[:, 2].argsort()]\n",
        "\n",
        "# Print the sorted arrays\n",
        "print(arr)\n",
        "print(\"Sorted by first column:\\n\", sorted_by_first_column)\n",
        "print(\"\\nSorted by second column:\\n\", sorted_by_second_column)\n",
        "print(\"\\nSorted by third column:\\n\", sorted_by_third_column)\n"
      ],
      "metadata": {
        "id": "Ht5KbbsT59Tr",
        "colab": {
          "base_uri": "https://localhost:8080/"
        },
        "outputId": "a79bbb91-4d7f-49f8-fa4d-4ea3ccfa63f2"
      },
      "execution_count": 12,
      "outputs": [
        {
          "output_type": "stream",
          "name": "stdout",
          "text": [
            "[[4 3 1]\n",
            " [8 6 3]\n",
            " [9 5 7]]\n",
            "Sorted by first column:\n",
            " [[4 3 1]\n",
            " [8 6 3]\n",
            " [9 5 7]]\n",
            "\n",
            "Sorted by second column:\n",
            " [[4 3 1]\n",
            " [9 5 7]\n",
            " [8 6 3]]\n",
            "\n",
            "Sorted by third column:\n",
            " [[4 3 1]\n",
            " [8 6 3]\n",
            " [9 5 7]]\n"
          ]
        }
      ]
    },
    {
      "cell_type": "markdown",
      "source": [
        "```\n",
        "12. Create a four dimensions arraytogetthesum over the last two axes at once.\n",
        "```"
      ],
      "metadata": {
        "id": "RhH6Bpjsxiiu"
      }
    },
    {
      "cell_type": "code",
      "source": [
        "# Create a four dimensions array\n",
        "arr = np.array([[[[1, 2], [3, 4]], [[5, 6], [7, 8]]], [[[9, 10], [11, 12]], [[13, 14], [15, 16]]]])\n",
        "\n",
        "# Get the sum over the last two axes at once\n",
        "sum_last_two_axes = arr.sum(axis=(-2, -1))\n",
        "\n",
        "# Print the sum\n",
        "print(arr)\n",
        "print(arr.ndim, arr.shape, arr.size)\n",
        "print(sum_last_two_axes)\n"
      ],
      "metadata": {
        "colab": {
          "base_uri": "https://localhost:8080/"
        },
        "id": "EXS2Gh7qwaOG",
        "outputId": "20e89786-fefa-4511-8a76-8a6b761908a4"
      },
      "execution_count": 13,
      "outputs": [
        {
          "output_type": "stream",
          "name": "stdout",
          "text": [
            "[[[[ 1  2]\n",
            "   [ 3  4]]\n",
            "\n",
            "  [[ 5  6]\n",
            "   [ 7  8]]]\n",
            "\n",
            "\n",
            " [[[ 9 10]\n",
            "   [11 12]]\n",
            "\n",
            "  [[13 14]\n",
            "   [15 16]]]]\n",
            "4 (2, 2, 2, 2) 16\n",
            "[[10 26]\n",
            " [42 58]]\n"
          ]
        }
      ]
    },
    {
      "cell_type": "markdown",
      "source": [
        "```\n",
        "13. Create a random array and swap two rows of an array\n",
        "```"
      ],
      "metadata": {
        "id": "bNlkl3dpyoWx"
      }
    },
    {
      "cell_type": "code",
      "source": [
        "# Create a random array\n",
        "arr = np.random.randint(1, 10, (5, 5))\n",
        "\n",
        "# Print the original array\n",
        "print(\"Original array:\")\n",
        "print(arr)\n",
        "\n",
        "# Swap two rows of the array\n",
        "arr[[1, 3]] = arr[[3, 1]]\n",
        "\n",
        "# Print the modified array\n",
        "print(\"Modified array:\")\n",
        "print(arr)\n"
      ],
      "metadata": {
        "colab": {
          "base_uri": "https://localhost:8080/"
        },
        "id": "iFV7Y2B1x6s1",
        "outputId": "14f0c809-5810-4678-d189-79657c9c079b"
      },
      "execution_count": 14,
      "outputs": [
        {
          "output_type": "stream",
          "name": "stdout",
          "text": [
            "Original array:\n",
            "[[7 2 5 5 2]\n",
            " [1 8 2 3 4]\n",
            " [9 2 6 1 9]\n",
            " [2 2 7 6 9]\n",
            " [9 8 4 9 7]]\n",
            "Modified array:\n",
            "[[7 2 5 5 2]\n",
            " [2 2 7 6 9]\n",
            " [9 2 6 1 9]\n",
            " [1 8 2 3 4]\n",
            " [9 8 4 9 7]]\n"
          ]
        }
      ]
    },
    {
      "cell_type": "markdown",
      "source": [
        "```\n",
        "14. Create a random matrix and compute thematrix rank\n",
        "\n",
        "```"
      ],
      "metadata": {
        "id": "eNqOAmhFzF76"
      }
    },
    {
      "cell_type": "code",
      "source": [
        "arr = np.random.randint(1, 10, (5, 5))\n",
        "print(arr)\n",
        "print(\"Matrix rank:\", np.linalg.matrix_rank(arr))\n"
      ],
      "metadata": {
        "colab": {
          "base_uri": "https://localhost:8080/"
        },
        "id": "jsvzocW9y0vJ",
        "outputId": "f4121f66-85a9-481b-9e5b-c1081c730625"
      },
      "execution_count": 15,
      "outputs": [
        {
          "output_type": "stream",
          "name": "stdout",
          "text": [
            "[[5 8 6 3 4]\n",
            " [2 8 8 3 8]\n",
            " [6 8 2 3 3]\n",
            " [3 8 8 5 4]\n",
            " [9 9 5 4 8]]\n",
            "Matrix rank: 5\n"
          ]
        }
      ]
    },
    {
      "cell_type": "markdown",
      "source": [
        "```\n",
        "15. Middle school analysis\n",
        "```"
      ],
      "metadata": {
        "id": "cl6tJ-NpZ81W"
      }
    },
    {
      "cell_type": "code",
      "source": [
        "df = pd.read_csv(\"middle_tn_schools.csv\")\n",
        "df.head()"
      ],
      "metadata": {
        "id": "CVG775pPzR-B",
        "colab": {
          "base_uri": "https://localhost:8080/",
          "height": 330
        },
        "outputId": "3110a6f7-ea24-4ade-e2d9-5f45e41d98df"
      },
      "execution_count": 16,
      "outputs": [
        {
          "output_type": "execute_result",
          "data": {
            "text/plain": [
              "                          name  school_rating   size  reduced_lunch  \\\n",
              "0  Allendale Elementary School            5.0  851.0           10.0   \n",
              "1          Anderson Elementary            2.0  412.0           71.0   \n",
              "2             Avoca Elementary            4.0  482.0           43.0   \n",
              "3                Bailey Middle            0.0  394.0           91.0   \n",
              "4          Barfield Elementary            4.0  948.0           26.0   \n",
              "\n",
              "   state_percentile_16  state_percentile_15  stu_teach_ratio    school_type  \\\n",
              "0                 90.2                 95.8             15.7         Public   \n",
              "1                 32.8                 37.3             12.8         Public   \n",
              "2                 78.4                 83.6             16.6         Public   \n",
              "3                  1.6                  1.0             13.1  Public Magnet   \n",
              "4                 85.3                 89.2             14.8         Public   \n",
              "\n",
              "   avg_score_15  avg_score_16  full_time_teachers  percent_black  \\\n",
              "0          89.4          85.2                54.0            2.9   \n",
              "1          43.0          38.3                32.0            3.9   \n",
              "2          75.7          73.0                29.0            1.0   \n",
              "3           2.1           4.4                30.0           80.7   \n",
              "4          81.3          79.6                64.0           11.8   \n",
              "\n",
              "   percent_white  percent_asian  percent_hispanic  \n",
              "0           85.5            1.6               5.6  \n",
              "1           86.7            1.0               4.9  \n",
              "2           91.5            1.2               4.4  \n",
              "3           11.7            2.3               4.3  \n",
              "4           71.2            7.1               6.0  "
            ],
            "text/html": [
              "\n",
              "  <div id=\"df-7779c336-a1c1-4f94-ac90-fba251cdf523\" class=\"colab-df-container\">\n",
              "    <div>\n",
              "<style scoped>\n",
              "    .dataframe tbody tr th:only-of-type {\n",
              "        vertical-align: middle;\n",
              "    }\n",
              "\n",
              "    .dataframe tbody tr th {\n",
              "        vertical-align: top;\n",
              "    }\n",
              "\n",
              "    .dataframe thead th {\n",
              "        text-align: right;\n",
              "    }\n",
              "</style>\n",
              "<table border=\"1\" class=\"dataframe\">\n",
              "  <thead>\n",
              "    <tr style=\"text-align: right;\">\n",
              "      <th></th>\n",
              "      <th>name</th>\n",
              "      <th>school_rating</th>\n",
              "      <th>size</th>\n",
              "      <th>reduced_lunch</th>\n",
              "      <th>state_percentile_16</th>\n",
              "      <th>state_percentile_15</th>\n",
              "      <th>stu_teach_ratio</th>\n",
              "      <th>school_type</th>\n",
              "      <th>avg_score_15</th>\n",
              "      <th>avg_score_16</th>\n",
              "      <th>full_time_teachers</th>\n",
              "      <th>percent_black</th>\n",
              "      <th>percent_white</th>\n",
              "      <th>percent_asian</th>\n",
              "      <th>percent_hispanic</th>\n",
              "    </tr>\n",
              "  </thead>\n",
              "  <tbody>\n",
              "    <tr>\n",
              "      <th>0</th>\n",
              "      <td>Allendale Elementary School</td>\n",
              "      <td>5.0</td>\n",
              "      <td>851.0</td>\n",
              "      <td>10.0</td>\n",
              "      <td>90.2</td>\n",
              "      <td>95.8</td>\n",
              "      <td>15.7</td>\n",
              "      <td>Public</td>\n",
              "      <td>89.4</td>\n",
              "      <td>85.2</td>\n",
              "      <td>54.0</td>\n",
              "      <td>2.9</td>\n",
              "      <td>85.5</td>\n",
              "      <td>1.6</td>\n",
              "      <td>5.6</td>\n",
              "    </tr>\n",
              "    <tr>\n",
              "      <th>1</th>\n",
              "      <td>Anderson Elementary</td>\n",
              "      <td>2.0</td>\n",
              "      <td>412.0</td>\n",
              "      <td>71.0</td>\n",
              "      <td>32.8</td>\n",
              "      <td>37.3</td>\n",
              "      <td>12.8</td>\n",
              "      <td>Public</td>\n",
              "      <td>43.0</td>\n",
              "      <td>38.3</td>\n",
              "      <td>32.0</td>\n",
              "      <td>3.9</td>\n",
              "      <td>86.7</td>\n",
              "      <td>1.0</td>\n",
              "      <td>4.9</td>\n",
              "    </tr>\n",
              "    <tr>\n",
              "      <th>2</th>\n",
              "      <td>Avoca Elementary</td>\n",
              "      <td>4.0</td>\n",
              "      <td>482.0</td>\n",
              "      <td>43.0</td>\n",
              "      <td>78.4</td>\n",
              "      <td>83.6</td>\n",
              "      <td>16.6</td>\n",
              "      <td>Public</td>\n",
              "      <td>75.7</td>\n",
              "      <td>73.0</td>\n",
              "      <td>29.0</td>\n",
              "      <td>1.0</td>\n",
              "      <td>91.5</td>\n",
              "      <td>1.2</td>\n",
              "      <td>4.4</td>\n",
              "    </tr>\n",
              "    <tr>\n",
              "      <th>3</th>\n",
              "      <td>Bailey Middle</td>\n",
              "      <td>0.0</td>\n",
              "      <td>394.0</td>\n",
              "      <td>91.0</td>\n",
              "      <td>1.6</td>\n",
              "      <td>1.0</td>\n",
              "      <td>13.1</td>\n",
              "      <td>Public Magnet</td>\n",
              "      <td>2.1</td>\n",
              "      <td>4.4</td>\n",
              "      <td>30.0</td>\n",
              "      <td>80.7</td>\n",
              "      <td>11.7</td>\n",
              "      <td>2.3</td>\n",
              "      <td>4.3</td>\n",
              "    </tr>\n",
              "    <tr>\n",
              "      <th>4</th>\n",
              "      <td>Barfield Elementary</td>\n",
              "      <td>4.0</td>\n",
              "      <td>948.0</td>\n",
              "      <td>26.0</td>\n",
              "      <td>85.3</td>\n",
              "      <td>89.2</td>\n",
              "      <td>14.8</td>\n",
              "      <td>Public</td>\n",
              "      <td>81.3</td>\n",
              "      <td>79.6</td>\n",
              "      <td>64.0</td>\n",
              "      <td>11.8</td>\n",
              "      <td>71.2</td>\n",
              "      <td>7.1</td>\n",
              "      <td>6.0</td>\n",
              "    </tr>\n",
              "  </tbody>\n",
              "</table>\n",
              "</div>\n",
              "    <div class=\"colab-df-buttons\">\n",
              "\n",
              "  <div class=\"colab-df-container\">\n",
              "    <button class=\"colab-df-convert\" onclick=\"convertToInteractive('df-7779c336-a1c1-4f94-ac90-fba251cdf523')\"\n",
              "            title=\"Convert this dataframe to an interactive table.\"\n",
              "            style=\"display:none;\">\n",
              "\n",
              "  <svg xmlns=\"http://www.w3.org/2000/svg\" height=\"24px\" viewBox=\"0 -960 960 960\">\n",
              "    <path d=\"M120-120v-720h720v720H120Zm60-500h600v-160H180v160Zm220 220h160v-160H400v160Zm0 220h160v-160H400v160ZM180-400h160v-160H180v160Zm440 0h160v-160H620v160ZM180-180h160v-160H180v160Zm440 0h160v-160H620v160Z\"/>\n",
              "  </svg>\n",
              "    </button>\n",
              "\n",
              "  <style>\n",
              "    .colab-df-container {\n",
              "      display:flex;\n",
              "      gap: 12px;\n",
              "    }\n",
              "\n",
              "    .colab-df-convert {\n",
              "      background-color: #E8F0FE;\n",
              "      border: none;\n",
              "      border-radius: 50%;\n",
              "      cursor: pointer;\n",
              "      display: none;\n",
              "      fill: #1967D2;\n",
              "      height: 32px;\n",
              "      padding: 0 0 0 0;\n",
              "      width: 32px;\n",
              "    }\n",
              "\n",
              "    .colab-df-convert:hover {\n",
              "      background-color: #E2EBFA;\n",
              "      box-shadow: 0px 1px 2px rgba(60, 64, 67, 0.3), 0px 1px 3px 1px rgba(60, 64, 67, 0.15);\n",
              "      fill: #174EA6;\n",
              "    }\n",
              "\n",
              "    .colab-df-buttons div {\n",
              "      margin-bottom: 4px;\n",
              "    }\n",
              "\n",
              "    [theme=dark] .colab-df-convert {\n",
              "      background-color: #3B4455;\n",
              "      fill: #D2E3FC;\n",
              "    }\n",
              "\n",
              "    [theme=dark] .colab-df-convert:hover {\n",
              "      background-color: #434B5C;\n",
              "      box-shadow: 0px 1px 3px 1px rgba(0, 0, 0, 0.15);\n",
              "      filter: drop-shadow(0px 1px 2px rgba(0, 0, 0, 0.3));\n",
              "      fill: #FFFFFF;\n",
              "    }\n",
              "  </style>\n",
              "\n",
              "    <script>\n",
              "      const buttonEl =\n",
              "        document.querySelector('#df-7779c336-a1c1-4f94-ac90-fba251cdf523 button.colab-df-convert');\n",
              "      buttonEl.style.display =\n",
              "        google.colab.kernel.accessAllowed ? 'block' : 'none';\n",
              "\n",
              "      async function convertToInteractive(key) {\n",
              "        const element = document.querySelector('#df-7779c336-a1c1-4f94-ac90-fba251cdf523');\n",
              "        const dataTable =\n",
              "          await google.colab.kernel.invokeFunction('convertToInteractive',\n",
              "                                                    [key], {});\n",
              "        if (!dataTable) return;\n",
              "\n",
              "        const docLinkHtml = 'Like what you see? Visit the ' +\n",
              "          '<a target=\"_blank\" href=https://colab.research.google.com/notebooks/data_table.ipynb>data table notebook</a>'\n",
              "          + ' to learn more about interactive tables.';\n",
              "        element.innerHTML = '';\n",
              "        dataTable['output_type'] = 'display_data';\n",
              "        await google.colab.output.renderOutput(dataTable, element);\n",
              "        const docLink = document.createElement('div');\n",
              "        docLink.innerHTML = docLinkHtml;\n",
              "        element.appendChild(docLink);\n",
              "      }\n",
              "    </script>\n",
              "  </div>\n",
              "\n",
              "\n",
              "<div id=\"df-d485a8fe-637d-4d78-ac38-33f1452f4441\">\n",
              "  <button class=\"colab-df-quickchart\" onclick=\"quickchart('df-d485a8fe-637d-4d78-ac38-33f1452f4441')\"\n",
              "            title=\"Suggest charts\"\n",
              "            style=\"display:none;\">\n",
              "\n",
              "<svg xmlns=\"http://www.w3.org/2000/svg\" height=\"24px\"viewBox=\"0 0 24 24\"\n",
              "     width=\"24px\">\n",
              "    <g>\n",
              "        <path d=\"M19 3H5c-1.1 0-2 .9-2 2v14c0 1.1.9 2 2 2h14c1.1 0 2-.9 2-2V5c0-1.1-.9-2-2-2zM9 17H7v-7h2v7zm4 0h-2V7h2v10zm4 0h-2v-4h2v4z\"/>\n",
              "    </g>\n",
              "</svg>\n",
              "  </button>\n",
              "\n",
              "<style>\n",
              "  .colab-df-quickchart {\n",
              "      --bg-color: #E8F0FE;\n",
              "      --fill-color: #1967D2;\n",
              "      --hover-bg-color: #E2EBFA;\n",
              "      --hover-fill-color: #174EA6;\n",
              "      --disabled-fill-color: #AAA;\n",
              "      --disabled-bg-color: #DDD;\n",
              "  }\n",
              "\n",
              "  [theme=dark] .colab-df-quickchart {\n",
              "      --bg-color: #3B4455;\n",
              "      --fill-color: #D2E3FC;\n",
              "      --hover-bg-color: #434B5C;\n",
              "      --hover-fill-color: #FFFFFF;\n",
              "      --disabled-bg-color: #3B4455;\n",
              "      --disabled-fill-color: #666;\n",
              "  }\n",
              "\n",
              "  .colab-df-quickchart {\n",
              "    background-color: var(--bg-color);\n",
              "    border: none;\n",
              "    border-radius: 50%;\n",
              "    cursor: pointer;\n",
              "    display: none;\n",
              "    fill: var(--fill-color);\n",
              "    height: 32px;\n",
              "    padding: 0;\n",
              "    width: 32px;\n",
              "  }\n",
              "\n",
              "  .colab-df-quickchart:hover {\n",
              "    background-color: var(--hover-bg-color);\n",
              "    box-shadow: 0 1px 2px rgba(60, 64, 67, 0.3), 0 1px 3px 1px rgba(60, 64, 67, 0.15);\n",
              "    fill: var(--button-hover-fill-color);\n",
              "  }\n",
              "\n",
              "  .colab-df-quickchart-complete:disabled,\n",
              "  .colab-df-quickchart-complete:disabled:hover {\n",
              "    background-color: var(--disabled-bg-color);\n",
              "    fill: var(--disabled-fill-color);\n",
              "    box-shadow: none;\n",
              "  }\n",
              "\n",
              "  .colab-df-spinner {\n",
              "    border: 2px solid var(--fill-color);\n",
              "    border-color: transparent;\n",
              "    border-bottom-color: var(--fill-color);\n",
              "    animation:\n",
              "      spin 1s steps(1) infinite;\n",
              "  }\n",
              "\n",
              "  @keyframes spin {\n",
              "    0% {\n",
              "      border-color: transparent;\n",
              "      border-bottom-color: var(--fill-color);\n",
              "      border-left-color: var(--fill-color);\n",
              "    }\n",
              "    20% {\n",
              "      border-color: transparent;\n",
              "      border-left-color: var(--fill-color);\n",
              "      border-top-color: var(--fill-color);\n",
              "    }\n",
              "    30% {\n",
              "      border-color: transparent;\n",
              "      border-left-color: var(--fill-color);\n",
              "      border-top-color: var(--fill-color);\n",
              "      border-right-color: var(--fill-color);\n",
              "    }\n",
              "    40% {\n",
              "      border-color: transparent;\n",
              "      border-right-color: var(--fill-color);\n",
              "      border-top-color: var(--fill-color);\n",
              "    }\n",
              "    60% {\n",
              "      border-color: transparent;\n",
              "      border-right-color: var(--fill-color);\n",
              "    }\n",
              "    80% {\n",
              "      border-color: transparent;\n",
              "      border-right-color: var(--fill-color);\n",
              "      border-bottom-color: var(--fill-color);\n",
              "    }\n",
              "    90% {\n",
              "      border-color: transparent;\n",
              "      border-bottom-color: var(--fill-color);\n",
              "    }\n",
              "  }\n",
              "</style>\n",
              "\n",
              "  <script>\n",
              "    async function quickchart(key) {\n",
              "      const quickchartButtonEl =\n",
              "        document.querySelector('#' + key + ' button');\n",
              "      quickchartButtonEl.disabled = true;  // To prevent multiple clicks.\n",
              "      quickchartButtonEl.classList.add('colab-df-spinner');\n",
              "      try {\n",
              "        const charts = await google.colab.kernel.invokeFunction(\n",
              "            'suggestCharts', [key], {});\n",
              "      } catch (error) {\n",
              "        console.error('Error during call to suggestCharts:', error);\n",
              "      }\n",
              "      quickchartButtonEl.classList.remove('colab-df-spinner');\n",
              "      quickchartButtonEl.classList.add('colab-df-quickchart-complete');\n",
              "    }\n",
              "    (() => {\n",
              "      let quickchartButtonEl =\n",
              "        document.querySelector('#df-d485a8fe-637d-4d78-ac38-33f1452f4441 button');\n",
              "      quickchartButtonEl.style.display =\n",
              "        google.colab.kernel.accessAllowed ? 'block' : 'none';\n",
              "    })();\n",
              "  </script>\n",
              "</div>\n",
              "\n",
              "    </div>\n",
              "  </div>\n"
            ]
          },
          "metadata": {},
          "execution_count": 16
        }
      ]
    },
    {
      "cell_type": "code",
      "source": [
        "df.describe()"
      ],
      "metadata": {
        "colab": {
          "base_uri": "https://localhost:8080/",
          "height": 320
        },
        "id": "r1XP6EEEXD3b",
        "outputId": "e0b78557-25ec-412e-c1f4-f82e4fef8947"
      },
      "execution_count": 17,
      "outputs": [
        {
          "output_type": "execute_result",
          "data": {
            "text/plain": [
              "       school_rating         size  reduced_lunch  state_percentile_16  \\\n",
              "count     347.000000   347.000000     347.000000           347.000000   \n",
              "mean        2.968300   699.472622      50.279539            58.801729   \n",
              "std         1.690377   400.598636      25.480236            32.540747   \n",
              "min         0.000000    53.000000       2.000000             0.200000   \n",
              "25%         2.000000   420.500000      30.000000            30.950000   \n",
              "50%         3.000000   595.000000      51.000000            66.400000   \n",
              "75%         4.000000   851.000000      71.500000            88.000000   \n",
              "max         5.000000  2314.000000      98.000000            99.800000   \n",
              "\n",
              "       state_percentile_15  stu_teach_ratio  avg_score_15  avg_score_16  \\\n",
              "count           341.000000       347.000000    341.000000    347.000000   \n",
              "mean             58.249267        15.461671     57.004692     57.049856   \n",
              "std              32.702630         5.725170     26.696450     27.968974   \n",
              "min               0.600000         4.700000      1.500000      0.100000   \n",
              "25%              27.100000        13.700000     37.600000     37.000000   \n",
              "50%              65.800000        15.000000     61.800000     60.700000   \n",
              "75%              88.600000        16.700000     79.600000     80.250000   \n",
              "max              99.800000       111.000000     99.000000     98.900000   \n",
              "\n",
              "       full_time_teachers  percent_black  percent_white  percent_asian  \\\n",
              "count          347.000000     347.000000     347.000000     347.000000   \n",
              "mean            44.939481      21.197983      61.673487       2.642651   \n",
              "std             22.053386      23.562538      27.274859       3.109629   \n",
              "min              2.000000       0.000000       1.100000       0.000000   \n",
              "25%             30.000000       3.600000      40.600000       0.750000   \n",
              "50%             40.000000      13.500000      68.700000       1.600000   \n",
              "75%             54.000000      28.350000      85.950000       3.100000   \n",
              "max            140.000000      97.400000      99.700000      21.100000   \n",
              "\n",
              "       percent_hispanic  \n",
              "count        347.000000  \n",
              "mean          11.164553  \n",
              "std           12.030608  \n",
              "min            0.000000  \n",
              "25%            3.800000  \n",
              "50%            6.400000  \n",
              "75%           13.800000  \n",
              "max           65.200000  "
            ],
            "text/html": [
              "\n",
              "  <div id=\"df-d8e76956-0fd1-42a6-beb8-dd8e1d091f80\" class=\"colab-df-container\">\n",
              "    <div>\n",
              "<style scoped>\n",
              "    .dataframe tbody tr th:only-of-type {\n",
              "        vertical-align: middle;\n",
              "    }\n",
              "\n",
              "    .dataframe tbody tr th {\n",
              "        vertical-align: top;\n",
              "    }\n",
              "\n",
              "    .dataframe thead th {\n",
              "        text-align: right;\n",
              "    }\n",
              "</style>\n",
              "<table border=\"1\" class=\"dataframe\">\n",
              "  <thead>\n",
              "    <tr style=\"text-align: right;\">\n",
              "      <th></th>\n",
              "      <th>school_rating</th>\n",
              "      <th>size</th>\n",
              "      <th>reduced_lunch</th>\n",
              "      <th>state_percentile_16</th>\n",
              "      <th>state_percentile_15</th>\n",
              "      <th>stu_teach_ratio</th>\n",
              "      <th>avg_score_15</th>\n",
              "      <th>avg_score_16</th>\n",
              "      <th>full_time_teachers</th>\n",
              "      <th>percent_black</th>\n",
              "      <th>percent_white</th>\n",
              "      <th>percent_asian</th>\n",
              "      <th>percent_hispanic</th>\n",
              "    </tr>\n",
              "  </thead>\n",
              "  <tbody>\n",
              "    <tr>\n",
              "      <th>count</th>\n",
              "      <td>347.000000</td>\n",
              "      <td>347.000000</td>\n",
              "      <td>347.000000</td>\n",
              "      <td>347.000000</td>\n",
              "      <td>341.000000</td>\n",
              "      <td>347.000000</td>\n",
              "      <td>341.000000</td>\n",
              "      <td>347.000000</td>\n",
              "      <td>347.000000</td>\n",
              "      <td>347.000000</td>\n",
              "      <td>347.000000</td>\n",
              "      <td>347.000000</td>\n",
              "      <td>347.000000</td>\n",
              "    </tr>\n",
              "    <tr>\n",
              "      <th>mean</th>\n",
              "      <td>2.968300</td>\n",
              "      <td>699.472622</td>\n",
              "      <td>50.279539</td>\n",
              "      <td>58.801729</td>\n",
              "      <td>58.249267</td>\n",
              "      <td>15.461671</td>\n",
              "      <td>57.004692</td>\n",
              "      <td>57.049856</td>\n",
              "      <td>44.939481</td>\n",
              "      <td>21.197983</td>\n",
              "      <td>61.673487</td>\n",
              "      <td>2.642651</td>\n",
              "      <td>11.164553</td>\n",
              "    </tr>\n",
              "    <tr>\n",
              "      <th>std</th>\n",
              "      <td>1.690377</td>\n",
              "      <td>400.598636</td>\n",
              "      <td>25.480236</td>\n",
              "      <td>32.540747</td>\n",
              "      <td>32.702630</td>\n",
              "      <td>5.725170</td>\n",
              "      <td>26.696450</td>\n",
              "      <td>27.968974</td>\n",
              "      <td>22.053386</td>\n",
              "      <td>23.562538</td>\n",
              "      <td>27.274859</td>\n",
              "      <td>3.109629</td>\n",
              "      <td>12.030608</td>\n",
              "    </tr>\n",
              "    <tr>\n",
              "      <th>min</th>\n",
              "      <td>0.000000</td>\n",
              "      <td>53.000000</td>\n",
              "      <td>2.000000</td>\n",
              "      <td>0.200000</td>\n",
              "      <td>0.600000</td>\n",
              "      <td>4.700000</td>\n",
              "      <td>1.500000</td>\n",
              "      <td>0.100000</td>\n",
              "      <td>2.000000</td>\n",
              "      <td>0.000000</td>\n",
              "      <td>1.100000</td>\n",
              "      <td>0.000000</td>\n",
              "      <td>0.000000</td>\n",
              "    </tr>\n",
              "    <tr>\n",
              "      <th>25%</th>\n",
              "      <td>2.000000</td>\n",
              "      <td>420.500000</td>\n",
              "      <td>30.000000</td>\n",
              "      <td>30.950000</td>\n",
              "      <td>27.100000</td>\n",
              "      <td>13.700000</td>\n",
              "      <td>37.600000</td>\n",
              "      <td>37.000000</td>\n",
              "      <td>30.000000</td>\n",
              "      <td>3.600000</td>\n",
              "      <td>40.600000</td>\n",
              "      <td>0.750000</td>\n",
              "      <td>3.800000</td>\n",
              "    </tr>\n",
              "    <tr>\n",
              "      <th>50%</th>\n",
              "      <td>3.000000</td>\n",
              "      <td>595.000000</td>\n",
              "      <td>51.000000</td>\n",
              "      <td>66.400000</td>\n",
              "      <td>65.800000</td>\n",
              "      <td>15.000000</td>\n",
              "      <td>61.800000</td>\n",
              "      <td>60.700000</td>\n",
              "      <td>40.000000</td>\n",
              "      <td>13.500000</td>\n",
              "      <td>68.700000</td>\n",
              "      <td>1.600000</td>\n",
              "      <td>6.400000</td>\n",
              "    </tr>\n",
              "    <tr>\n",
              "      <th>75%</th>\n",
              "      <td>4.000000</td>\n",
              "      <td>851.000000</td>\n",
              "      <td>71.500000</td>\n",
              "      <td>88.000000</td>\n",
              "      <td>88.600000</td>\n",
              "      <td>16.700000</td>\n",
              "      <td>79.600000</td>\n",
              "      <td>80.250000</td>\n",
              "      <td>54.000000</td>\n",
              "      <td>28.350000</td>\n",
              "      <td>85.950000</td>\n",
              "      <td>3.100000</td>\n",
              "      <td>13.800000</td>\n",
              "    </tr>\n",
              "    <tr>\n",
              "      <th>max</th>\n",
              "      <td>5.000000</td>\n",
              "      <td>2314.000000</td>\n",
              "      <td>98.000000</td>\n",
              "      <td>99.800000</td>\n",
              "      <td>99.800000</td>\n",
              "      <td>111.000000</td>\n",
              "      <td>99.000000</td>\n",
              "      <td>98.900000</td>\n",
              "      <td>140.000000</td>\n",
              "      <td>97.400000</td>\n",
              "      <td>99.700000</td>\n",
              "      <td>21.100000</td>\n",
              "      <td>65.200000</td>\n",
              "    </tr>\n",
              "  </tbody>\n",
              "</table>\n",
              "</div>\n",
              "    <div class=\"colab-df-buttons\">\n",
              "\n",
              "  <div class=\"colab-df-container\">\n",
              "    <button class=\"colab-df-convert\" onclick=\"convertToInteractive('df-d8e76956-0fd1-42a6-beb8-dd8e1d091f80')\"\n",
              "            title=\"Convert this dataframe to an interactive table.\"\n",
              "            style=\"display:none;\">\n",
              "\n",
              "  <svg xmlns=\"http://www.w3.org/2000/svg\" height=\"24px\" viewBox=\"0 -960 960 960\">\n",
              "    <path d=\"M120-120v-720h720v720H120Zm60-500h600v-160H180v160Zm220 220h160v-160H400v160Zm0 220h160v-160H400v160ZM180-400h160v-160H180v160Zm440 0h160v-160H620v160ZM180-180h160v-160H180v160Zm440 0h160v-160H620v160Z\"/>\n",
              "  </svg>\n",
              "    </button>\n",
              "\n",
              "  <style>\n",
              "    .colab-df-container {\n",
              "      display:flex;\n",
              "      gap: 12px;\n",
              "    }\n",
              "\n",
              "    .colab-df-convert {\n",
              "      background-color: #E8F0FE;\n",
              "      border: none;\n",
              "      border-radius: 50%;\n",
              "      cursor: pointer;\n",
              "      display: none;\n",
              "      fill: #1967D2;\n",
              "      height: 32px;\n",
              "      padding: 0 0 0 0;\n",
              "      width: 32px;\n",
              "    }\n",
              "\n",
              "    .colab-df-convert:hover {\n",
              "      background-color: #E2EBFA;\n",
              "      box-shadow: 0px 1px 2px rgba(60, 64, 67, 0.3), 0px 1px 3px 1px rgba(60, 64, 67, 0.15);\n",
              "      fill: #174EA6;\n",
              "    }\n",
              "\n",
              "    .colab-df-buttons div {\n",
              "      margin-bottom: 4px;\n",
              "    }\n",
              "\n",
              "    [theme=dark] .colab-df-convert {\n",
              "      background-color: #3B4455;\n",
              "      fill: #D2E3FC;\n",
              "    }\n",
              "\n",
              "    [theme=dark] .colab-df-convert:hover {\n",
              "      background-color: #434B5C;\n",
              "      box-shadow: 0px 1px 3px 1px rgba(0, 0, 0, 0.15);\n",
              "      filter: drop-shadow(0px 1px 2px rgba(0, 0, 0, 0.3));\n",
              "      fill: #FFFFFF;\n",
              "    }\n",
              "  </style>\n",
              "\n",
              "    <script>\n",
              "      const buttonEl =\n",
              "        document.querySelector('#df-d8e76956-0fd1-42a6-beb8-dd8e1d091f80 button.colab-df-convert');\n",
              "      buttonEl.style.display =\n",
              "        google.colab.kernel.accessAllowed ? 'block' : 'none';\n",
              "\n",
              "      async function convertToInteractive(key) {\n",
              "        const element = document.querySelector('#df-d8e76956-0fd1-42a6-beb8-dd8e1d091f80');\n",
              "        const dataTable =\n",
              "          await google.colab.kernel.invokeFunction('convertToInteractive',\n",
              "                                                    [key], {});\n",
              "        if (!dataTable) return;\n",
              "\n",
              "        const docLinkHtml = 'Like what you see? Visit the ' +\n",
              "          '<a target=\"_blank\" href=https://colab.research.google.com/notebooks/data_table.ipynb>data table notebook</a>'\n",
              "          + ' to learn more about interactive tables.';\n",
              "        element.innerHTML = '';\n",
              "        dataTable['output_type'] = 'display_data';\n",
              "        await google.colab.output.renderOutput(dataTable, element);\n",
              "        const docLink = document.createElement('div');\n",
              "        docLink.innerHTML = docLinkHtml;\n",
              "        element.appendChild(docLink);\n",
              "      }\n",
              "    </script>\n",
              "  </div>\n",
              "\n",
              "\n",
              "<div id=\"df-583e54a8-4faf-450e-9ca1-35ba05e47247\">\n",
              "  <button class=\"colab-df-quickchart\" onclick=\"quickchart('df-583e54a8-4faf-450e-9ca1-35ba05e47247')\"\n",
              "            title=\"Suggest charts\"\n",
              "            style=\"display:none;\">\n",
              "\n",
              "<svg xmlns=\"http://www.w3.org/2000/svg\" height=\"24px\"viewBox=\"0 0 24 24\"\n",
              "     width=\"24px\">\n",
              "    <g>\n",
              "        <path d=\"M19 3H5c-1.1 0-2 .9-2 2v14c0 1.1.9 2 2 2h14c1.1 0 2-.9 2-2V5c0-1.1-.9-2-2-2zM9 17H7v-7h2v7zm4 0h-2V7h2v10zm4 0h-2v-4h2v4z\"/>\n",
              "    </g>\n",
              "</svg>\n",
              "  </button>\n",
              "\n",
              "<style>\n",
              "  .colab-df-quickchart {\n",
              "      --bg-color: #E8F0FE;\n",
              "      --fill-color: #1967D2;\n",
              "      --hover-bg-color: #E2EBFA;\n",
              "      --hover-fill-color: #174EA6;\n",
              "      --disabled-fill-color: #AAA;\n",
              "      --disabled-bg-color: #DDD;\n",
              "  }\n",
              "\n",
              "  [theme=dark] .colab-df-quickchart {\n",
              "      --bg-color: #3B4455;\n",
              "      --fill-color: #D2E3FC;\n",
              "      --hover-bg-color: #434B5C;\n",
              "      --hover-fill-color: #FFFFFF;\n",
              "      --disabled-bg-color: #3B4455;\n",
              "      --disabled-fill-color: #666;\n",
              "  }\n",
              "\n",
              "  .colab-df-quickchart {\n",
              "    background-color: var(--bg-color);\n",
              "    border: none;\n",
              "    border-radius: 50%;\n",
              "    cursor: pointer;\n",
              "    display: none;\n",
              "    fill: var(--fill-color);\n",
              "    height: 32px;\n",
              "    padding: 0;\n",
              "    width: 32px;\n",
              "  }\n",
              "\n",
              "  .colab-df-quickchart:hover {\n",
              "    background-color: var(--hover-bg-color);\n",
              "    box-shadow: 0 1px 2px rgba(60, 64, 67, 0.3), 0 1px 3px 1px rgba(60, 64, 67, 0.15);\n",
              "    fill: var(--button-hover-fill-color);\n",
              "  }\n",
              "\n",
              "  .colab-df-quickchart-complete:disabled,\n",
              "  .colab-df-quickchart-complete:disabled:hover {\n",
              "    background-color: var(--disabled-bg-color);\n",
              "    fill: var(--disabled-fill-color);\n",
              "    box-shadow: none;\n",
              "  }\n",
              "\n",
              "  .colab-df-spinner {\n",
              "    border: 2px solid var(--fill-color);\n",
              "    border-color: transparent;\n",
              "    border-bottom-color: var(--fill-color);\n",
              "    animation:\n",
              "      spin 1s steps(1) infinite;\n",
              "  }\n",
              "\n",
              "  @keyframes spin {\n",
              "    0% {\n",
              "      border-color: transparent;\n",
              "      border-bottom-color: var(--fill-color);\n",
              "      border-left-color: var(--fill-color);\n",
              "    }\n",
              "    20% {\n",
              "      border-color: transparent;\n",
              "      border-left-color: var(--fill-color);\n",
              "      border-top-color: var(--fill-color);\n",
              "    }\n",
              "    30% {\n",
              "      border-color: transparent;\n",
              "      border-left-color: var(--fill-color);\n",
              "      border-top-color: var(--fill-color);\n",
              "      border-right-color: var(--fill-color);\n",
              "    }\n",
              "    40% {\n",
              "      border-color: transparent;\n",
              "      border-right-color: var(--fill-color);\n",
              "      border-top-color: var(--fill-color);\n",
              "    }\n",
              "    60% {\n",
              "      border-color: transparent;\n",
              "      border-right-color: var(--fill-color);\n",
              "    }\n",
              "    80% {\n",
              "      border-color: transparent;\n",
              "      border-right-color: var(--fill-color);\n",
              "      border-bottom-color: var(--fill-color);\n",
              "    }\n",
              "    90% {\n",
              "      border-color: transparent;\n",
              "      border-bottom-color: var(--fill-color);\n",
              "    }\n",
              "  }\n",
              "</style>\n",
              "\n",
              "  <script>\n",
              "    async function quickchart(key) {\n",
              "      const quickchartButtonEl =\n",
              "        document.querySelector('#' + key + ' button');\n",
              "      quickchartButtonEl.disabled = true;  // To prevent multiple clicks.\n",
              "      quickchartButtonEl.classList.add('colab-df-spinner');\n",
              "      try {\n",
              "        const charts = await google.colab.kernel.invokeFunction(\n",
              "            'suggestCharts', [key], {});\n",
              "      } catch (error) {\n",
              "        console.error('Error during call to suggestCharts:', error);\n",
              "      }\n",
              "      quickchartButtonEl.classList.remove('colab-df-spinner');\n",
              "      quickchartButtonEl.classList.add('colab-df-quickchart-complete');\n",
              "    }\n",
              "    (() => {\n",
              "      let quickchartButtonEl =\n",
              "        document.querySelector('#df-583e54a8-4faf-450e-9ca1-35ba05e47247 button');\n",
              "      quickchartButtonEl.style.display =\n",
              "        google.colab.kernel.accessAllowed ? 'block' : 'none';\n",
              "    })();\n",
              "  </script>\n",
              "</div>\n",
              "\n",
              "    </div>\n",
              "  </div>\n"
            ]
          },
          "metadata": {},
          "execution_count": 17
        }
      ]
    },
    {
      "cell_type": "code",
      "source": [
        "df.groupby('school_rating')['reduced_lunch'].count()"
      ],
      "metadata": {
        "colab": {
          "base_uri": "https://localhost:8080/"
        },
        "id": "Y6BtkIgFXFSS",
        "outputId": "bc67951e-7211-4144-9574-1afe6512e787"
      },
      "execution_count": 21,
      "outputs": [
        {
          "output_type": "execute_result",
          "data": {
            "text/plain": [
              "school_rating\n",
              "0.0    43\n",
              "1.0    40\n",
              "2.0    44\n",
              "3.0    56\n",
              "4.0    86\n",
              "5.0    78\n",
              "Name: reduced_lunch, dtype: int64"
            ]
          },
          "metadata": {},
          "execution_count": 21
        }
      ]
    },
    {
      "cell_type": "code",
      "source": [
        "df['school_rating'].corr(df['reduced_lunch'])"
      ],
      "metadata": {
        "colab": {
          "base_uri": "https://localhost:8080/"
        },
        "id": "yAKLDQDnYC8M",
        "outputId": "f81d00b1-defb-4458-824d-7702f2dc6793"
      },
      "execution_count": 22,
      "outputs": [
        {
          "output_type": "execute_result",
          "data": {
            "text/plain": [
              "-0.8157567373058027"
            ]
          },
          "metadata": {},
          "execution_count": 22
        }
      ]
    },
    {
      "cell_type": "code",
      "source": [
        "import matplotlib.pyplot as plt"
      ],
      "metadata": {
        "id": "59LQqpjZYvTz"
      },
      "execution_count": 23,
      "outputs": []
    },
    {
      "cell_type": "code",
      "source": [
        "plt.scatter(df['reduced_lunch'], df['school_rating'])\n",
        "plt.show()"
      ],
      "metadata": {
        "colab": {
          "base_uri": "https://localhost:8080/",
          "height": 430
        },
        "id": "dASB-0MIY70C",
        "outputId": "028677a7-7788-4fad-c740-d7b87650ee74"
      },
      "execution_count": 24,
      "outputs": [
        {
          "output_type": "display_data",
          "data": {
            "text/plain": [
              "<Figure size 640x480 with 1 Axes>"
            ],
            "image/png": "[encoded data removed]"
          },
          "metadata": {}
        }
      ]
    },
    {
      "cell_type": "code",
      "source": [
        "plt.scatter(df['reduced_lunch'], df['school_rating'])\n",
        "\n",
        "plt.plot(np.unique(df['reduced_lunch']),\n",
        "         np.poly1d(np.polyfit(df['reduced_lunch'], df['school_rating'], 1))\n",
        "         (np.unique(df['reduced_lunch'])), color='red')"
      ],
      "metadata": {
        "colab": {
          "base_uri": "https://localhost:8080/",
          "height": 447
        },
        "id": "YRruoi6BZFgb",
        "outputId": "92637af5-e359-4312-fe8f-1bc055190c8f"
      },
      "execution_count": 26,
      "outputs": [
        {
          "output_type": "execute_result",
          "data": {
            "text/plain": [
              "[<matplotlib.lines.Line2D at 0x78118e6f2ef0>]"
            ]
          },
          "metadata": {},
          "execution_count": 26
        },
        {
          "output_type": "display_data",
          "data": {
            "text/plain": [
              "<Figure size 640x480 with 1 Axes>"
            ],
            "image/png": "[encoded data removed]"
          },
          "metadata": {}
        }
      ]
    },
    {
      "cell_type": "code",
      "source": [],
      "metadata": {
        "id": "eMMJ9jirZoQ6"
      },
      "execution_count": null,
      "outputs": []
    }
  ]
}