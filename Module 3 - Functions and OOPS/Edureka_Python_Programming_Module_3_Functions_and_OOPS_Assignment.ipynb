{
  "nbformat": 4,
  "nbformat_minor": 0,
  "metadata": {
    "colab": {
      "provenance": []
    },
    "kernelspec": {
      "name": "python3",
      "display_name": "Python 3"
    },
    "language_info": {
      "name": "python"
    }
  },
  "cells": [
    {
      "cell_type": "markdown",
      "source": [
        "**1.Create a dog object that will inherit all the variables and methods of the parent class Animal and display it.**"
      ],
      "metadata": {
        "id": "IzofwuEEM2BA"
      }
    },
    {
      "cell_type": "code",
      "execution_count": 15,
      "metadata": {
        "id": "B1j0OigNMriH"
      },
      "outputs": [],
      "source": [
        "class Animal:\n",
        "    def __init__(self, animalType):\n",
        "        print(\"Animal constructor.\")\n",
        "        self.animalType = animalType\n",
        "\n",
        "    def __del__(self):\n",
        "        print(\"Animal destructor.\")\n",
        "\n",
        "    def action(self, s):\n",
        "        print(f'{self.animalType} {s}.')\n",
        "\n",
        "class Dog(Animal):\n",
        "    def __init__(self):\n",
        "        print(\"Dog constructor.\")\n",
        "        super().__init__('Dog')\n",
        "\n",
        "    def __del__(self):\n",
        "        print(\"Dog destructor.\")\n",
        "\n",
        "    @classmethod\n",
        "    def getDog(cls):\n",
        "        return cls()"
      ]
    },
    {
      "cell_type": "code",
      "source": [
        "dog = Dog()\n",
        "dog.action('Barks');\n",
        "print(\" \")\n",
        "dog2 = Dog.getDog()\n",
        "dog2.action('Barks')\n",
        "dog2.action('wags tail')\n",
        "print(\" \")\n",
        "del dog\n",
        "del dog2"
      ],
      "metadata": {
        "colab": {
          "base_uri": "https://localhost:8080/"
        },
        "id": "vR12eHqqO56P",
        "outputId": "9f04bc4f-7e65-46a7-ebca-47f08ba2f988"
      },
      "execution_count": 20,
      "outputs": [
        {
          "output_type": "stream",
          "name": "stdout",
          "text": [
            "Dog constructor.\n",
            "Animal constructor.\n",
            "Dog Barks.\n",
            " \n",
            "Dog constructor.\n",
            "Animal constructor.\n",
            "Dog Barks.\n",
            "Dog wags tail.\n",
            " \n",
            "Dog destructor.\n",
            "Dog destructor.\n"
          ]
        }
      ]
    },
    {
      "cell_type": "markdown",
      "source": [
        "**2.Demonstrate the working of Polymorphism by creating two classes -Car and Bike. Display the information like name, color, and number of wheels.**"
      ],
      "metadata": {
        "id": "XlKrxis-X9B-"
      }
    },
    {
      "cell_type": "code",
      "source": [
        "class Vehicle:\n",
        "    def __init__(self, vehicleType):\n",
        "        self.vehicleType = vehicleType\n",
        "\n",
        "    def props(self, name, color, no_of_wheels):\n",
        "        print(f'{self.vehicleType} - Name: {name}, Color: {color}, Wheels - {no_of_wheels}.')\n",
        "\n",
        "class Car(Vehicle):\n",
        "    def __init__(self):\n",
        "        super().__init__('Car')\n",
        "\n",
        "    def props(self, name, color, no_of_wheels):\n",
        "        print(f'{self.vehicleType} - Name: {name}, Color: {color}, Wheels - {no_of_wheels}.')\n",
        "\n",
        "class Bike(Vehicle):\n",
        "    def __init__(self):\n",
        "        super().__init__('Bike')\n",
        "\n",
        "    def props(self, name, color, no_of_wheels):\n",
        "        print(f'{self.vehicleType} - Name: {name}, Color: {color}, Wheels - {no_of_wheels}.')"
      ],
      "metadata": {
        "id": "z3x7DrGmPN4t"
      },
      "execution_count": 21,
      "outputs": []
    },
    {
      "cell_type": "code",
      "source": [
        "c = Car()\n",
        "c.props('Lamborghini', 'Orange', 4)\n",
        "\n",
        "b = Bike()\n",
        "b.props('BMW', 'Blue', 2)"
      ],
      "metadata": {
        "colab": {
          "base_uri": "https://localhost:8080/"
        },
        "id": "oY9HD_gqacTE",
        "outputId": "61adfb13-c3c2-43b4-d56d-e5078026c04c"
      },
      "execution_count": 24,
      "outputs": [
        {
          "output_type": "stream",
          "name": "stdout",
          "text": [
            "Car - Name: Lamborghini, Color: Orange, Wheels - 4.\n",
            "Bike - Name: BMW, Color: Blue, Wheels - 2.\n"
          ]
        }
      ]
    },
    {
      "cell_type": "markdown",
      "source": [
        "**3.Create a list of tuples containing the 5 planets of our solar system along with their moons as-earth having 1 moon, Jupiter having 79 moons, Saturnhaving 82 moons, Uranushaving 27 moons and Neptunehaving 14 moons.Sort the list according to the ascending number of moons along with the names of planet using Lambda function. Display both original and sorted list**"
      ],
      "metadata": {
        "id": "JQ3Ml2MhbJCZ"
      }
    },
    {
      "cell_type": "code",
      "source": [
        "planets = [('Earth', 1), ('Jupiter', 79), ('Saturn', 82), ('Uranus', 27), ('Neptune', 14)]\n",
        "print(\"Original List:\", planets)\n",
        "planets_sorted = sorted(planets, key=lambda planet: planet[1]) # using lambda funtion to get the keys to be sorted\n",
        "print(\"Sorted List:\", planets_sorted)"
      ],
      "metadata": {
        "colab": {
          "base_uri": "https://localhost:8080/"
        },
        "id": "Y00dmbbkatNk",
        "outputId": "f4dd66e5-c4ac-49b2-ae82-a5882a19362e"
      },
      "execution_count": 41,
      "outputs": [
        {
          "output_type": "stream",
          "name": "stdout",
          "text": [
            "Original List: [('Earth', 1), ('Jupiter', 79), ('Saturn', 82), ('Uranus', 27), ('Neptune', 14)]\n",
            "Sorted List: [('Earth', 1), ('Neptune', 14), ('Uranus', 27), ('Jupiter', 79), ('Saturn', 82)]\n"
          ]
        }
      ]
    },
    {
      "cell_type": "markdown",
      "source": [
        "**4.Create two functions -fillup and use, which uses a global variable as tank. Use the global variable in both the functions to return the quantity of fuel present in the tank after filling up the tank and after using the fuel of the tank. Show the working of two functions only. It is not necessary to display the outputs**"
      ],
      "metadata": {
        "id": "-zla9x5ffzAa"
      }
    },
    {
      "cell_type": "code",
      "source": [
        "tank='half'\n",
        "\n",
        "def fillup():\n",
        "    global tank;\n",
        "    tank = 'full'\n",
        "    return tank;\n",
        "\n",
        "def use():\n",
        "    global tank;\n",
        "    tank = 'empty'\n",
        "    return tank;"
      ],
      "metadata": {
        "id": "59O1dGAScBef"
      },
      "execution_count": 43,
      "outputs": []
    },
    {
      "cell_type": "code",
      "source": [
        "tank"
      ],
      "metadata": {
        "colab": {
          "base_uri": "https://localhost:8080/",
          "height": 35
        },
        "id": "jk-A0wuIgQgO",
        "outputId": "c83c21e8-e9a0-495d-f42e-ef038925c8e0"
      },
      "execution_count": 44,
      "outputs": [
        {
          "output_type": "execute_result",
          "data": {
            "text/plain": [
              "'half'"
            ],
            "application/vnd.google.colaboratory.intrinsic+json": {
              "type": "string"
            }
          },
          "metadata": {},
          "execution_count": 44
        }
      ]
    },
    {
      "cell_type": "code",
      "source": [
        "fillup()"
      ],
      "metadata": {
        "colab": {
          "base_uri": "https://localhost:8080/",
          "height": 35
        },
        "id": "7qnkrlaYgYzy",
        "outputId": "d71c88e8-52cb-470d-af40-de0e75e43b75"
      },
      "execution_count": 45,
      "outputs": [
        {
          "output_type": "execute_result",
          "data": {
            "text/plain": [
              "'full'"
            ],
            "application/vnd.google.colaboratory.intrinsic+json": {
              "type": "string"
            }
          },
          "metadata": {},
          "execution_count": 45
        }
      ]
    },
    {
      "cell_type": "code",
      "source": [
        "use()"
      ],
      "metadata": {
        "colab": {
          "base_uri": "https://localhost:8080/",
          "height": 35
        },
        "id": "AC7A3wMEgZ-a",
        "outputId": "b130450b-9840-4ea3-af31-17ae86501c56"
      },
      "execution_count": 46,
      "outputs": [
        {
          "output_type": "execute_result",
          "data": {
            "text/plain": [
              "'empty'"
            ],
            "application/vnd.google.colaboratory.intrinsic+json": {
              "type": "string"
            }
          },
          "metadata": {},
          "execution_count": 46
        }
      ]
    },
    {
      "cell_type": "code",
      "source": [
        "tank"
      ],
      "metadata": {
        "colab": {
          "base_uri": "https://localhost:8080/",
          "height": 35
        },
        "id": "a4uPrtB3gatJ",
        "outputId": "5b4fa8c2-cf17-42ce-e52e-81bb7707e1a5"
      },
      "execution_count": 47,
      "outputs": [
        {
          "output_type": "execute_result",
          "data": {
            "text/plain": [
              "'empty'"
            ],
            "application/vnd.google.colaboratory.intrinsic+json": {
              "type": "string"
            }
          },
          "metadata": {},
          "execution_count": 47
        }
      ]
    },
    {
      "cell_type": "markdown",
      "source": [
        "**5.Write a program to depict the use of multiple inheritance. The program should contain 4 classes -class 4 should inherit from class 2 and class 3. Similarly, class 2 should inherit from class 1. Class 3 should inherit from class 1. Each class should have its own print statement.**"
      ],
      "metadata": {
        "id": "4GUXAiO-ghdB"
      }
    },
    {
      "cell_type": "code",
      "source": [
        "class One():\n",
        "    def m1(self):\n",
        "        print(\"Class 1\")\n",
        "\n",
        "class Two(One):\n",
        "    def m2(self):\n",
        "        print(\"Class 2\")\n",
        "\n",
        "class Three(One):\n",
        "    def m3(self):\n",
        "        print(\"Class 3\")\n",
        "\n",
        "class Four(Two, Three):\n",
        "    def m4(self):\n",
        "        print(\"Class 4\")\n",
        "\n",
        "c1 = One()\n",
        "c2 = Two()\n",
        "c3 = Three()\n",
        "c4 = Four()\n",
        "\n",
        "print(\"Class 2 Inherits Class 1\")\n",
        "c2.m1()\n",
        "c2.m2()\n",
        "\n",
        "print(\"Class 3 Inherits Class 1\")\n",
        "c3.m1()\n",
        "c3.m3()\n",
        "\n",
        "print(\"Class 4 Inherits Class 2 and Class 3 there by Class 1.\")\n",
        "c4.m1()\n",
        "c4.m2()\n",
        "c4.m3()\n",
        "c4.m4()"
      ],
      "metadata": {
        "colab": {
          "base_uri": "https://localhost:8080/"
        },
        "id": "YQyOOsTfgbfK",
        "outputId": "3cf970c4-de9a-48ef-cf2f-2d5ee67d3642"
      },
      "execution_count": 55,
      "outputs": [
        {
          "output_type": "stream",
          "name": "stdout",
          "text": [
            "Class 2 Inherits Class 1\n",
            "Class 1\n",
            "Class 2\n",
            "Class 3 Inherits Class 1\n",
            "Class 1\n",
            "Class 3\n",
            "Class 4 Inherits Class 2 and Class 3 there by Class 1.\n",
            "Class 1\n",
            "Class 2\n",
            "Class 3\n",
            "Class 4\n"
          ]
        }
      ]
    },
    {
      "cell_type": "markdown",
      "source": [
        "**6.Use Getter and Setter method to set the name and age of a person. Moreover, get the name and age of the same person.**"
      ],
      "metadata": {
        "id": "zz9uXjN0jXnf"
      }
    },
    {
      "cell_type": "code",
      "source": [
        "class Person():\n",
        "    def __init__(self):\n",
        "        self.__name = ''\n",
        "        self.__age = ''\n",
        "\n",
        "    def setName(self, name):\n",
        "        self.__name = name\n",
        "\n",
        "    def setAge(self, age):\n",
        "        self.__age = age\n",
        "\n",
        "    def getName(self):\n",
        "        return self.__name\n",
        "\n",
        "    def getAge(self):\n",
        "        return self.__age\n",
        "\n",
        "p = Person()\n",
        "p.setName('John')\n",
        "p.setAge(24)\n",
        "print(f'Person Details \\nName: {p.getName()} \\nAge: {p.getAge()}')"
      ],
      "metadata": {
        "colab": {
          "base_uri": "https://localhost:8080/"
        },
        "id": "5QACCaVBhiYu",
        "outputId": "3280bbb6-a9a0-418a-a1d5-c69dfe27f84c"
      },
      "execution_count": 64,
      "outputs": [
        {
          "output_type": "stream",
          "name": "stdout",
          "text": [
            "Person Details \n",
            "Name: John \n",
            "Age: 24\n"
          ]
        }
      ]
    }
  ]
}