{
  "nbformat": 4,
  "nbformat_minor": 0,
  "metadata": {
    "colab": {
      "provenance": []
    },
    "kernelspec": {
      "name": "python3",
      "display_name": "Python 3"
    },
    "language_info": {
      "name": "python"
    }
  },
  "cells": [
    {
      "cell_type": "markdown",
      "source": [
        "**1. Write a program to find the factors of a given number and check whether the factor is even or odd.**\n",
        "\n",
        "**Hint:** Use Loop with if-else statements"
      ],
      "metadata": {
        "id": "gBLLdmy6kS-W"
      }
    },
    {
      "cell_type": "code",
      "source": [
        "num = int(input('Enter a number: '))\n",
        "for i in range(1,num+1):\n",
        "    if num%i == 0:\n",
        "        if i%2 == 0:\n",
        "            print(f'The factor {i} of the given number {num} is even.')\n",
        "        else:\n",
        "            print(f'The factor {i} of the given number {num} is odd.')"
      ],
      "metadata": {
        "colab": {
          "base_uri": "https://localhost:8080/"
        },
        "id": "j9PtRvZRkWI2",
        "outputId": "83da2959-a000-4149-d715-d39e59c59540"
      },
      "execution_count": 39,
      "outputs": [
        {
          "output_type": "stream",
          "name": "stdout",
          "text": [
            "Enter a number: 100\n",
            "The factor 1 of the given number 100 is odd.\n",
            "The factor 2 of the given number 100 is even.\n",
            "The factor 4 of the given number 100 is even.\n",
            "The factor 5 of the given number 100 is odd.\n",
            "The factor 10 of the given number 100 is even.\n",
            "The factor 20 of the given number 100 is even.\n",
            "The factor 25 of the given number 100 is odd.\n",
            "The factor 50 of the given number 100 is even.\n",
            "The factor 100 of the given number 100 is even.\n"
          ]
        }
      ]
    },
    {
      "cell_type": "markdown",
      "source": [
        "**2.Write a code that accepts a sequence of words as input and prints the words in a sequence after sorting them alphabetically.**\n",
        "\n",
        "**Hint:** Use split() to split the string into a list and then apply sort()"
      ],
      "metadata": {
        "id": "vw5ycKjLn1QU"
      }
    },
    {
      "cell_type": "code",
      "source": [
        "phrase = input('Enter a phrase: ')\n",
        "splitted = phrase.split()\n",
        "splitted.sort()\n",
        "print(splitted, '\\n')\n",
        "print('Sorted sequence of words.')\n",
        "for s in splitted:\n",
        "    print(s)"
      ],
      "metadata": {
        "colab": {
          "base_uri": "https://localhost:8080/"
        },
        "id": "ODiAwEiykzck",
        "outputId": "e1268d5a-a852-49c8-f1bd-b839705b84d2"
      },
      "execution_count": 40,
      "outputs": [
        {
          "output_type": "stream",
          "name": "stdout",
          "text": [
            "Enter a phrase: My Name is abc\n",
            "['My', 'Name', 'abc', 'is'] \n",
            "\n",
            "Sorted sequence of words.\n",
            "My\n",
            "Name\n",
            "abc\n",
            "is\n"
          ]
        }
      ]
    },
    {
      "cell_type": "markdown",
      "source": [
        "**3.Write a program that will find all the numbers between 1000 and 3000 (both excluded) such that each digit of a number is an odd number. Print the number of such elements**"
      ],
      "metadata": {
        "id": "fPCgNBXmprGQ"
      }
    },
    {
      "cell_type": "code",
      "source": [
        "print('Numbers between 1000 and 3000 (both excluded) such that each digit of a number is an odd number.')\n",
        "\n",
        "for num in range(1001, 3000):\n",
        "    s3 = str(num)\n",
        "    all_digits_are_odd = True\n",
        "    for num1 in s3:\n",
        "        if int(num1)%2 == 0:\n",
        "            all_digits_are_odd = False\n",
        "    if all_digits_are_odd == True:\n",
        "        print(num)"
      ],
      "metadata": {
        "colab": {
          "base_uri": "https://localhost:8080/"
        },
        "id": "cCxGh0iPoLI1",
        "outputId": "7e6c2537-7226-4237-ffa9-0952e179de58"
      },
      "execution_count": 41,
      "outputs": [
        {
          "output_type": "stream",
          "name": "stdout",
          "text": [
            "Numbers between 1000 and 3000 (both excluded) such that each digit of a number is an odd number.\n",
            "1111\n",
            "1113\n",
            "1115\n",
            "1117\n",
            "1119\n",
            "1131\n",
            "1133\n",
            "1135\n",
            "1137\n",
            "1139\n",
            "1151\n",
            "1153\n",
            "1155\n",
            "1157\n",
            "1159\n",
            "1171\n",
            "1173\n",
            "1175\n",
            "1177\n",
            "1179\n",
            "1191\n",
            "1193\n",
            "1195\n",
            "1197\n",
            "1199\n",
            "1311\n",
            "1313\n",
            "1315\n",
            "1317\n",
            "1319\n",
            "1331\n",
            "1333\n",
            "1335\n",
            "1337\n",
            "1339\n",
            "1351\n",
            "1353\n",
            "1355\n",
            "1357\n",
            "1359\n",
            "1371\n",
            "1373\n",
            "1375\n",
            "1377\n",
            "1379\n",
            "1391\n",
            "1393\n",
            "1395\n",
            "1397\n",
            "1399\n",
            "1511\n",
            "1513\n",
            "1515\n",
            "1517\n",
            "1519\n",
            "1531\n",
            "1533\n",
            "1535\n",
            "1537\n",
            "1539\n",
            "1551\n",
            "1553\n",
            "1555\n",
            "1557\n",
            "1559\n",
            "1571\n",
            "1573\n",
            "1575\n",
            "1577\n",
            "1579\n",
            "1591\n",
            "1593\n",
            "1595\n",
            "1597\n",
            "1599\n",
            "1711\n",
            "1713\n",
            "1715\n",
            "1717\n",
            "1719\n",
            "1731\n",
            "1733\n",
            "1735\n",
            "1737\n",
            "1739\n",
            "1751\n",
            "1753\n",
            "1755\n",
            "1757\n",
            "1759\n",
            "1771\n",
            "1773\n",
            "1775\n",
            "1777\n",
            "1779\n",
            "1791\n",
            "1793\n",
            "1795\n",
            "1797\n",
            "1799\n",
            "1911\n",
            "1913\n",
            "1915\n",
            "1917\n",
            "1919\n",
            "1931\n",
            "1933\n",
            "1935\n",
            "1937\n",
            "1939\n",
            "1951\n",
            "1953\n",
            "1955\n",
            "1957\n",
            "1959\n",
            "1971\n",
            "1973\n",
            "1975\n",
            "1977\n",
            "1979\n",
            "1991\n",
            "1993\n",
            "1995\n",
            "1997\n",
            "1999\n"
          ]
        }
      ]
    },
    {
      "cell_type": "markdown",
      "source": [
        "**4. Write a program that accepts a stringand calculatesthe number of letters and digits.Suppose if the entered string is: Edureka123**\n",
        "\n",
        "Then the output will be:\n",
        "LETTERS:- 7\n",
        "DIGITS:- 3"
      ],
      "metadata": {
        "id": "aYdHU2XztDvg"
      }
    },
    {
      "cell_type": "code",
      "source": [
        "s4 = input('Enter a string: ')\n",
        "\n",
        "digit_count = 0\n",
        "letter_count = 0\n",
        "\n",
        "for c in s4:\n",
        "    if c.isdigit() == True:\n",
        "        digit_count += 1\n",
        "    if c.isalpha() == True:\n",
        "        letter_count += 1\n",
        "\n",
        "print('LETTERS:-', letter_count)\n",
        "print('DIGITS:-', digit_count)"
      ],
      "metadata": {
        "colab": {
          "base_uri": "https://localhost:8080/"
        },
        "id": "SN6foLTlq321",
        "outputId": "f4da7708-9d79-4555-ff2b-c6088e89aac1"
      },
      "execution_count": 42,
      "outputs": [
        {
          "output_type": "stream",
          "name": "stdout",
          "text": [
            "Enter a string: Python 007\n",
            "LETTERS:- 6\n",
            "DIGITS:- 3\n"
          ]
        }
      ]
    },
    {
      "cell_type": "markdown",
      "source": [
        "**5.Design a code which will find whether the given number is Palindrome number or not.**\n"
      ],
      "metadata": {
        "id": "Q-1c65dvvq4Z"
      }
    },
    {
      "cell_type": "code",
      "source": [
        "cnt = 0\n",
        "while cnt < 2:\n",
        "    cnt += 1\n",
        "    num = input('Enter a number: ')\n",
        "\n",
        "    if num == num[::-1]:\n",
        "        print('The given number is a Palindrome.')\n",
        "    else:\n",
        "        print('The given number is NOT a Palindrome.')"
      ],
      "metadata": {
        "colab": {
          "base_uri": "https://localhost:8080/"
        },
        "id": "AH2jO9U1utEy",
        "outputId": "4c155da6-1971-40fb-add5-3820f9e9cd21"
      },
      "execution_count": 43,
      "outputs": [
        {
          "output_type": "stream",
          "name": "stdout",
          "text": [
            "Enter a number: 1234\n",
            "The given number is NOT a Palindrome.\n",
            "Enter a number: 4114\n",
            "The given number is a Palindrome.\n"
          ]
        }
      ]
    },
    {
      "cell_type": "code",
      "source": [],
      "metadata": {
        "id": "jtpUrz9kJH2q"
      },
      "execution_count": 43,
      "outputs": []
    }
  ]
}