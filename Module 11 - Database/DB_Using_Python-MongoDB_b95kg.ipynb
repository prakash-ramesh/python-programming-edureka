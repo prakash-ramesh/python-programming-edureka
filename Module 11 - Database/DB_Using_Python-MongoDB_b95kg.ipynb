{
 "cells": [
  {
   "cell_type": "code",
   "execution_count": 4,
   "id": "96a5f3f6",
   "metadata": {},
   "outputs": [],
   "source": [
    "#test PyMongo\n",
    "import pymongo"
   ]
  },
  {
   "cell_type": "code",
   "execution_count": 3,
   "id": "a5d4f47d",
   "metadata": {},
   "outputs": [
    {
     "name": "stdout",
     "output_type": "stream",
     "text": [
      "Collecting pymongo\n",
      "  Obtaining dependency information for pymongo from https://files.pythonhosted.org/packages/c5/6a/7a356bbe85aceee14299af5fa8947bfb8c55fb131476220c3627891a6258/pymongo-4.6.0-cp312-cp312-win_amd64.whl.metadata\n",
      "  Downloading pymongo-4.6.0-cp312-cp312-win_amd64.whl.metadata (22 kB)\n",
      "Collecting dnspython<3.0.0,>=1.16.0 (from pymongo)\n",
      "  Obtaining dependency information for dnspython<3.0.0,>=1.16.0 from https://files.pythonhosted.org/packages/f6/b4/0a9bee52c50f226a3cbfb54263d02bb421c7f2adc136520729c2c689c1e5/dnspython-2.4.2-py3-none-any.whl.metadata\n",
      "  Downloading dnspython-2.4.2-py3-none-any.whl.metadata (4.9 kB)\n",
      "Downloading pymongo-4.6.0-cp312-cp312-win_amd64.whl (472 kB)\n",
      "   ---------------------------------------- 0.0/472.8 kB ? eta -:--:--\n",
      "    --------------------------------------- 10.2/472.8 kB ? eta -:--:--\n",
      "   --- ----------------------------------- 41.0/472.8 kB 495.5 kB/s eta 0:00:01\n",
      "   ----- --------------------------------- 71.7/472.8 kB 563.7 kB/s eta 0:00:01\n",
      "   ------------------- -------------------- 225.3/472.8 kB 1.4 MB/s eta 0:00:01\n",
      "   ------------------------- -------------- 307.2/472.8 kB 1.6 MB/s eta 0:00:01\n",
      "   ------------------------------------ --- 430.1/472.8 kB 1.9 MB/s eta 0:00:01\n",
      "   ---------------------------------------  471.0/472.8 kB 1.8 MB/s eta 0:00:01\n",
      "   ---------------------------------------  471.0/472.8 kB 1.8 MB/s eta 0:00:01\n",
      "   ---------------------------------------- 472.8/472.8 kB 1.2 MB/s eta 0:00:00\n",
      "Downloading dnspython-2.4.2-py3-none-any.whl (300 kB)\n",
      "   ---------------------------------------- 0.0/300.4 kB ? eta -:--:--\n",
      "   ----------------------------------- ---- 266.2/300.4 kB 5.6 MB/s eta 0:00:01\n",
      "   ---------------------------------------- 300.4/300.4 kB 4.7 MB/s eta 0:00:00\n",
      "Installing collected packages: dnspython, pymongo\n",
      "Successfully installed dnspython-2.4.2 pymongo-4.6.0\n"
     ]
    },
    {
     "name": "stderr",
     "output_type": "stream",
     "text": [
      "\n",
      "[notice] A new release of pip is available: 23.2.1 -> 23.3.1\n",
      "[notice] To update, run: python.exe -m pip install --upgrade pip\n"
     ]
    }
   ],
   "source": [
    "!pip install pymongo\n",
    "#mongodb://localhost:27017"
   ]
  },
  {
   "cell_type": "code",
   "execution_count": 5,
   "id": "7a08abbe",
   "metadata": {},
   "outputs": [],
   "source": [
    "#MongoDB will create the database if it does not exist, and make a connection to it.\n",
    "import pymongo\n",
    "#mongodb://localhost:27017\n",
    "myclient = pymongo.MongoClient(\"mongodb://localhost:27017/\")\n",
    "\n",
    "mydb = myclient[\"oct23\"]\n",
    "\n",
    "#Return a list of your system's databases\n",
    "#print(myclient.list_database_names())"
   ]
  },
  {
   "cell_type": "code",
   "execution_count": 6,
   "id": "d47ea8ff",
   "metadata": {},
   "outputs": [],
   "source": [
    "#create a collection in MongoDB\n",
    "import pymongo\n",
    "\n",
    "myclient = pymongo.MongoClient(\"mongodb://localhost:27017/\")\n",
    "mydb = myclient[\"oct23\"]\n",
    "\n",
    "mycol = mydb[\"customers\"]\n",
    "#Return a list of all collections in your database:\n",
    "#print(mydb.list_collection_names())"
   ]
  },
  {
   "cell_type": "code",
   "execution_count": 7,
   "id": "12b6ebde",
   "metadata": {},
   "outputs": [
    {
     "name": "stdout",
     "output_type": "stream",
     "text": [
      "655f38b13de8b4b1482251a3\n"
     ]
    }
   ],
   "source": [
    "#Insert a record in the \"customers\" collection:\n",
    "import pymongo\n",
    "\n",
    "myclient = pymongo.MongoClient(\"mongodb://localhost:27017/\")\n",
    "mydb = myclient[\"oct23\"]\n",
    "mycol = mydb[\"customers\"]\n",
    "\n",
    "mydict = { \"name\": \"John\", \"address\": \"Highway 37\" }\n",
    "\n",
    "x = mycol.insert_one(mydict)\n",
    "print(x.inserted_id)"
   ]
  },
  {
   "cell_type": "code",
   "execution_count": 8,
   "id": "eba7b5d1",
   "metadata": {},
   "outputs": [
    {
     "name": "stdout",
     "output_type": "stream",
     "text": [
      "[ObjectId('655f39773de8b4b1482251a5'), ObjectId('655f39773de8b4b1482251a6'), ObjectId('655f39773de8b4b1482251a7'), ObjectId('655f39773de8b4b1482251a8'), ObjectId('655f39773de8b4b1482251a9'), ObjectId('655f39773de8b4b1482251aa'), ObjectId('655f39773de8b4b1482251ab'), ObjectId('655f39773de8b4b1482251ac'), ObjectId('655f39773de8b4b1482251ad'), ObjectId('655f39773de8b4b1482251ae'), ObjectId('655f39773de8b4b1482251af'), ObjectId('655f39773de8b4b1482251b0')]\n"
     ]
    }
   ],
   "source": [
    "#Insert multiple records in the \"customers\" collection:\n",
    "import pymongo\n",
    "\n",
    "myclient = pymongo.MongoClient(\"mongodb://localhost:27017/\")\n",
    "mydb = myclient[\"oct23\"]\n",
    "mycol = mydb[\"customers\"]\n",
    "\n",
    "mylist = [\n",
    "  { \"name\": \"Amy\", \"address\": \"Apple st 652\"},\n",
    "  { \"name\": \"Hannah\", \"address\": \"Mountain 21\"},\n",
    "  { \"name\": \"Michael\", \"address\": \"Valley 345\"},\n",
    "  { \"name\": \"Sandy\", \"address\": \"Ocean blvd 2\"},\n",
    "  { \"name\": \"Betty\", \"address\": \"Green Grass 1\"},\n",
    "  { \"name\": \"Richard\", \"address\": \"Sky st 331\"},\n",
    "  { \"name\": \"Susan\", \"address\": \"One way 98\"},\n",
    "  { \"name\": \"Vicky\", \"address\": \"Yellow Garden 2\"},\n",
    "  { \"name\": \"Ben\", \"address\": \"Park Lane 38\"},\n",
    "  { \"name\": \"William\", \"address\": \"Central st 954\"},\n",
    "  { \"name\": \"Chuck\", \"address\": \"Main Road 989\"},\n",
    "  { \"name\": \"Viola\", \"address\": \"Sideway 1633\"}\n",
    "]\n",
    "\n",
    "x = mycol.insert_many(mylist)\n",
    "\n",
    "#print list of the _id values of the inserted documents:\n",
    "print(x.inserted_ids)"
   ]
  },
  {
   "cell_type": "code",
   "execution_count": 10,
   "id": "b3c40e2c",
   "metadata": {},
   "outputs": [
    {
     "name": "stdout",
     "output_type": "stream",
     "text": [
      "{'_id': ObjectId('655f38b13de8b4b1482251a3'), 'name': 'John', 'address': 'Highway 37'}\n",
      "<class 'dict'>\n"
     ]
    }
   ],
   "source": [
    "#Find the first document in the customers collection\n",
    "import pymongo\n",
    "\n",
    "myclient = pymongo.MongoClient(\"mongodb://localhost:27017/\")\n",
    "mydb = myclient[\"oct23\"]\n",
    "mycol = mydb[\"customers\"]\n",
    "\n",
    "x = mycol.find_one()\n",
    "\n",
    "print(x)\n",
    "print(type(x))"
   ]
  },
  {
   "cell_type": "code",
   "execution_count": 11,
   "id": "a6a42a2d",
   "metadata": {},
   "outputs": [
    {
     "name": "stdout",
     "output_type": "stream",
     "text": [
      "{'_id': ObjectId('655f38b13de8b4b1482251a3'), 'name': 'John', 'address': 'Highway 37'}\n",
      "{'_id': ObjectId('655f39773de8b4b1482251a5'), 'name': 'Amy', 'address': 'Apple st 652'}\n",
      "{'_id': ObjectId('655f39773de8b4b1482251a6'), 'name': 'Hannah', 'address': 'Mountain 21'}\n",
      "{'_id': ObjectId('655f39773de8b4b1482251a7'), 'name': 'Michael', 'address': 'Valley 345'}\n",
      "{'_id': ObjectId('655f39773de8b4b1482251a8'), 'name': 'Sandy', 'address': 'Ocean blvd 2'}\n",
      "{'_id': ObjectId('655f39773de8b4b1482251a9'), 'name': 'Betty', 'address': 'Green Grass 1'}\n",
      "{'_id': ObjectId('655f39773de8b4b1482251aa'), 'name': 'Richard', 'address': 'Sky st 331'}\n",
      "{'_id': ObjectId('655f39773de8b4b1482251ab'), 'name': 'Susan', 'address': 'One way 98'}\n",
      "{'_id': ObjectId('655f39773de8b4b1482251ac'), 'name': 'Vicky', 'address': 'Yellow Garden 2'}\n",
      "{'_id': ObjectId('655f39773de8b4b1482251ad'), 'name': 'Ben', 'address': 'Park Lane 38'}\n",
      "{'_id': ObjectId('655f39773de8b4b1482251ae'), 'name': 'William', 'address': 'Central st 954'}\n",
      "{'_id': ObjectId('655f39773de8b4b1482251af'), 'name': 'Chuck', 'address': 'Main Road 989'}\n",
      "{'_id': ObjectId('655f39773de8b4b1482251b0'), 'name': 'Viola', 'address': 'Sideway 1633'}\n"
     ]
    }
   ],
   "source": [
    "#Return all documents in the \"customers\" collection, and print each document:\n",
    "import pymongo\n",
    "\n",
    "myclient = pymongo.MongoClient(\"mongodb://localhost:27017/\")\n",
    "mydb = myclient[\"oct23\"]\n",
    "mycol = mydb[\"customers\"]\n",
    "\n",
    "for x in mycol.find():\n",
    "  print(x)"
   ]
  },
  {
   "cell_type": "code",
   "execution_count": 12,
   "id": "dfa1429d",
   "metadata": {},
   "outputs": [
    {
     "name": "stdout",
     "output_type": "stream",
     "text": [
      "{'name': 'John', 'address': 'Highway 37'}\n",
      "{'name': 'Amy', 'address': 'Apple st 652'}\n",
      "{'name': 'Hannah', 'address': 'Mountain 21'}\n",
      "{'name': 'Michael', 'address': 'Valley 345'}\n",
      "{'name': 'Sandy', 'address': 'Ocean blvd 2'}\n",
      "{'name': 'Betty', 'address': 'Green Grass 1'}\n",
      "{'name': 'Richard', 'address': 'Sky st 331'}\n",
      "{'name': 'Susan', 'address': 'One way 98'}\n",
      "{'name': 'Vicky', 'address': 'Yellow Garden 2'}\n",
      "{'name': 'Ben', 'address': 'Park Lane 38'}\n",
      "{'name': 'William', 'address': 'Central st 954'}\n",
      "{'name': 'Chuck', 'address': 'Main Road 989'}\n",
      "{'name': 'Viola', 'address': 'Sideway 1633'}\n"
     ]
    }
   ],
   "source": [
    "#Return only the names and addresses, not the _ids\n",
    "import pymongo\n",
    "\n",
    "myclient = pymongo.MongoClient(\"mongodb://localhost:27017/\")\n",
    "mydb = myclient[\"oct23\"]\n",
    "mycol = mydb[\"customers\"]\n",
    "\n",
    "for x in mycol.find({},{ \"_id\": 0, \"name\": 1, \"address\": 1 }):\n",
    "  print(x)"
   ]
  },
  {
   "cell_type": "code",
   "execution_count": 13,
   "id": "1475b4ed",
   "metadata": {},
   "outputs": [
    {
     "name": "stdout",
     "output_type": "stream",
     "text": [
      "Hannah\n"
     ]
    }
   ],
   "source": [
    "#Find document(s) with the address \"Park Lane 38\":\n",
    "import pymongo\n",
    "\n",
    "myclient = pymongo.MongoClient(\"mongodb://localhost:27017/\")\n",
    "mydb = myclient[\"oct23\"]\n",
    "mycol = mydb[\"customers\"]\n",
    "\n",
    "myquery = { \"address\": \"Mountain 21\" }\n",
    "\n",
    "mydoc = mycol.find(myquery)\n",
    "\n",
    "for x in mydoc:\n",
    "  print(x['name'])"
   ]
  },
  {
   "cell_type": "code",
   "execution_count": null,
   "id": "b4aaf035",
   "metadata": {},
   "outputs": [],
   "source": [
    "#Regular Exp Example,Find documents where the address starts with the letter \"S\"\n",
    "import pymongo\n",
    "\n",
    "myclient = pymongo.MongoClient(\"mongodb://localhost:27017/\")\n",
    "mydb = myclient[\"DSML79\"]\n",
    "mycol = mydb[\"customers\"]\n",
    "\n",
    "myquery = { \"address\": { \"$regex\": \"^S\" } }\n",
    "\n",
    "mydoc = mycol.find(myquery)\n",
    "\n",
    "for x in mydoc:\n",
    "  print(x)"
   ]
  },
  {
   "cell_type": "code",
   "execution_count": 14,
   "id": "c6ffd200",
   "metadata": {},
   "outputs": [
    {
     "name": "stdout",
     "output_type": "stream",
     "text": [
      "{'_id': ObjectId('65183f384f5e6608deb46126'), 'name': 'John', 'address': 'Highway 37'}\n",
      "{'_id': ObjectId('651840364f5e6608deb46135'), 'name': 'Amy', 'address': 'Apple st 652'}\n",
      "{'_id': ObjectId('651840364f5e6608deb46137'), 'name': 'Michael', 'address': 'Canyon 123'}\n",
      "{'_id': ObjectId('651840364f5e6608deb46138'), 'name': 'Sandy', 'address': 'Ocean blvd 2'}\n",
      "{'_id': ObjectId('651840364f5e6608deb46139'), 'name': 'Betty', 'address': 'Green Grass 1'}\n",
      "{'_id': ObjectId('651840364f5e6608deb4613a'), 'name': 'Richard', 'address': 'Sky st 331'}\n",
      "{'_id': ObjectId('651840364f5e6608deb4613b'), 'name': 'Susan', 'address': 'One way 98'}\n",
      "{'_id': ObjectId('651840364f5e6608deb4613c'), 'name': 'Vicky', 'address': 'Yellow Garden 2'}\n",
      "{'_id': ObjectId('651840364f5e6608deb4613d'), 'name': 'Ben', 'address': 'Park Lane 38'}\n",
      "{'_id': ObjectId('651840364f5e6608deb4613e'), 'name': 'William', 'address': 'Central st 954'}\n",
      "{'_id': ObjectId('651840364f5e6608deb4613f'), 'name': 'Chuck', 'address': 'Main Road 989'}\n",
      "{'_id': ObjectId('651840364f5e6608deb46140'), 'name': 'Viola', 'address': 'Sideway 1633'}\n"
     ]
    }
   ],
   "source": [
    "#Update:Change the address from \"Valley 345\" to \"Canyon 123\":\n",
    "import pymongo\n",
    "\n",
    "myclient = pymongo.MongoClient(\"mongodb://localhost:27017/\")\n",
    "mydb = myclient[\"DSML79\"]\n",
    "mycol = mydb[\"customers\"]\n",
    "\n",
    "myquery = { \"address\": \"Valley 345\" }\n",
    "newvalues = { \"$set\": { \"address\": \"Canyon 123\" } }\n",
    "\n",
    "mycol.update_one(myquery, newvalues)\n",
    "\n",
    "#print \"customers\" after the update:\n",
    "for x in mycol.find():\n",
    "  print(x)"
   ]
  },
  {
   "cell_type": "code",
   "execution_count": 15,
   "id": "4728864b",
   "metadata": {},
   "outputs": [
    {
     "name": "stdout",
     "output_type": "stream",
     "text": [
      "{'_id': ObjectId('655f39773de8b4b1482251a5'), 'name': 'Amy', 'address': 'Apple st 652'}\n",
      "{'_id': ObjectId('655f39773de8b4b1482251a6'), 'name': 'Hannah', 'address': 'Mountain 21'}\n",
      "{'_id': ObjectId('655f39773de8b4b1482251a7'), 'name': 'Michael', 'address': 'Valley 345'}\n",
      "{'_id': ObjectId('655f39773de8b4b1482251a8'), 'name': 'Sandy', 'address': 'Ocean blvd 2'}\n",
      "{'_id': ObjectId('655f39773de8b4b1482251a9'), 'name': 'Betty', 'address': 'Green Grass 1'}\n",
      "{'_id': ObjectId('655f39773de8b4b1482251aa'), 'name': 'Richard', 'address': 'Sky st 331'}\n",
      "{'_id': ObjectId('655f39773de8b4b1482251ab'), 'name': 'Susan', 'address': 'One way 98'}\n",
      "{'_id': ObjectId('655f39773de8b4b1482251ac'), 'name': 'Vicky', 'address': 'Yellow Garden 2'}\n",
      "{'_id': ObjectId('655f39773de8b4b1482251ad'), 'name': 'Ben', 'address': 'Park Lane 38'}\n",
      "{'_id': ObjectId('655f39773de8b4b1482251ae'), 'name': 'William', 'address': 'Central st 954'}\n",
      "{'_id': ObjectId('655f39773de8b4b1482251af'), 'name': 'Chuck', 'address': 'Main Road 989'}\n",
      "{'_id': ObjectId('655f39773de8b4b1482251b0'), 'name': 'Viola', 'address': 'Sideway 1633'}\n"
     ]
    }
   ],
   "source": [
    "#Delete:Delete the document with the address \"Mountain 21\":\n",
    "import pymongo\n",
    "\n",
    "myclient = pymongo.MongoClient(\"mongodb://localhost:27017/\")\n",
    "mydb = myclient[\"oct23\"]\n",
    "mycol = mydb[\"customers\"]\n",
    "\n",
    "myquery = { \"address\": \"Highway 37\" }\n",
    "\n",
    "mycol.delete_one(myquery)\n",
    "\n",
    "for x in mycol.find():\n",
    "  print(x)\n",
    "#Delete all doccuments in collection\n",
    "#x = mycol.delete_many({})"
   ]
  },
  {
   "cell_type": "code",
   "execution_count": null,
   "id": "a64dd332",
   "metadata": {},
   "outputs": [],
   "source": []
  }
 ],
 "metadata": {
  "kernelspec": {
   "display_name": "Python 3 (ipykernel)",
   "language": "python",
   "name": "python3"
  },
  "language_info": {
   "codemirror_mode": {
    "name": "ipython",
    "version": 3
   },
   "file_extension": ".py",
   "mimetype": "text/x-python",
   "name": "python",
   "nbconvert_exporter": "python",
   "pygments_lexer": "ipython3",
   "version": "3.12.0"
  }
 },
 "nbformat": 4,
 "nbformat_minor": 5
}
