{
 "cells": [
  {
   "cell_type": "code",
   "execution_count": 1,
   "id": "6a440d83-cd3a-4cad-96a7-75a0aef79857",
   "metadata": {},
   "outputs": [],
   "source": [
    "import mysql.connector"
   ]
  },
  {
   "cell_type": "code",
   "execution_count": 2,
   "id": "cba0a686-b0e6-469a-b0ea-de0ae94d3e95",
   "metadata": {},
   "outputs": [
    {
     "name": "stdout",
     "output_type": "stream",
     "text": [
      "<mysql.connector.connection_cext.CMySQLConnection object at 0x0000024CAAF952D0>\n",
      "<class 'mysql.connector.connection_cext.CMySQLConnection'>\n"
     ]
    }
   ],
   "source": [
    "#Step1:Connect with DB server\n",
    "mydb = mysql.connector.connect(\n",
    "  host=\"localhost\",\n",
    "  user=\"root\",\n",
    "  password=\"password123\"\n",
    ")\n",
    "\n",
    "print(mydb)\n",
    "print(type(mydb))"
   ]
  },
  {
   "cell_type": "code",
   "execution_count": 3,
   "id": "99e31fcf-2333-45fd-9846-0552b98098a8",
   "metadata": {},
   "outputs": [],
   "source": [
    "mycursor = mydb.cursor()\n",
    "\n",
    "mycursor.execute(\"CREATE DATABASE retails\")"
   ]
  },
  {
   "cell_type": "code",
   "execution_count": 4,
   "id": "2c969264-34fb-446f-8331-3daf4452339c",
   "metadata": {},
   "outputs": [
    {
     "name": "stdout",
     "output_type": "stream",
     "text": [
      "('information_schema',)\n",
      "('mysql',)\n",
      "('performance_schema',)\n",
      "('retails',)\n",
      "('sakila',)\n",
      "('sys',)\n",
      "('world',)\n"
     ]
    }
   ],
   "source": [
    "#Check for exsisting DB\n",
    "mycursor.execute(\"SHOW DATABASES\")\n",
    "\n",
    "for x in mycursor:\n",
    "    print(x)"
   ]
  },
  {
   "cell_type": "code",
   "execution_count": 5,
   "id": "1821d817-31af-453a-a169-4a0814f14d5e",
   "metadata": {},
   "outputs": [],
   "source": [
    "mydb = mysql.connector.connect(\n",
    "  host=\"localhost\",\n",
    "  user=\"root\",\n",
    "  password=\"password123\",\n",
    "  database=\"retails\"\n",
    ")"
   ]
  },
  {
   "cell_type": "code",
   "execution_count": 7,
   "id": "f2603621-27f7-4141-bb3d-9760c34b5776",
   "metadata": {},
   "outputs": [],
   "source": [
    "mycursor = mydb.cursor()\n",
    "\n",
    "cc_ddl = '''\n",
    "  CREATE TABLE `retails`.`customers` (\n",
    "  `customer_id` INT NOT NULL AUTO_INCREMENT,\n",
    "  `age` INT NULL,\n",
    "  `location` VARCHAR(45) NULL,\n",
    "  `gender` VARCHAR(45) NULL,\n",
    "  PRIMARY KEY (`customer_id`))\n",
    "'''\n",
    "\n",
    "mycursor.execute(cc_ddl)"
   ]
  },
  {
   "cell_type": "code",
   "execution_count": 11,
   "id": "5937ea1f-95f4-4974-898d-9ce5a85971c1",
   "metadata": {},
   "outputs": [],
   "source": [
    "sql = \"INSERT INTO customers (age, location, gender) VALUES (%s, %s, %s)\"\n",
    "val = [\n",
    "    (34, \"Austin\", \"male\"),\n",
    "    (37, 'Houston', 'male'),\n",
    "    (25, 'Austin', 'female'),\n",
    "    (28, 'Houston', 'female'),\n",
    "    (22, 'Dallas', 'male')\n",
    "]\n",
    "\n",
    "mycursor.executemany(sql, val)\n",
    "\n",
    "mydb.commit()"
   ]
  },
  {
   "cell_type": "code",
   "execution_count": 12,
   "id": "95287367-fe50-4619-b052-4af6b2ed8372",
   "metadata": {},
   "outputs": [
    {
     "name": "stdout",
     "output_type": "stream",
     "text": [
      "[(1, 34, 'Austin', 'male'), (3, 25, 'Austin', 'female')]\n"
     ]
    }
   ],
   "source": [
    "sql = \"SELECT * FROM retails.customers where location = 'Austin'\"\n",
    "mycursor.execute(sql)\n",
    "\n",
    "myresult = mycursor.fetchall()\n",
    "\n",
    "print(myresult)"
   ]
  },
  {
   "cell_type": "code",
   "execution_count": 13,
   "id": "d02e761d-2692-41da-8bbe-bb49b610984b",
   "metadata": {},
   "outputs": [
    {
     "name": "stdout",
     "output_type": "stream",
     "text": [
      "[(2, 'Austin'), (2, 'Houston'), (1, 'Dallas')]\n"
     ]
    }
   ],
   "source": [
    "sql = \"SELECT count(customer_id), location FROM retails.customers group by location\"\n",
    "mycursor.execute(sql)\n",
    "\n",
    "myresult = mycursor.fetchall()\n",
    "\n",
    "print(myresult)"
   ]
  },
  {
   "cell_type": "code",
   "execution_count": 14,
   "id": "eea0b76c-9b72-4903-8f6a-5d5f9d292acc",
   "metadata": {},
   "outputs": [
    {
     "name": "stdout",
     "output_type": "stream",
     "text": [
      "[(3, 'male'), (2, 'female')]\n"
     ]
    }
   ],
   "source": [
    "sql = \"SELECT count(customer_id), gender FROM retails.customers group by gender\"\n",
    "mycursor.execute(sql)\n",
    "\n",
    "myresult = mycursor.fetchall()\n",
    "\n",
    "print(myresult)"
   ]
  }
 ],
 "metadata": {
  "kernelspec": {
   "display_name": "Python 3 (ipykernel)",
   "language": "python",
   "name": "python3"
  },
  "language_info": {
   "codemirror_mode": {
    "name": "ipython",
    "version": 3
   },
   "file_extension": ".py",
   "mimetype": "text/x-python",
   "name": "python",
   "nbconvert_exporter": "python",
   "pygments_lexer": "ipython3",
   "version": "3.10.4"
  }
 },
 "nbformat": 4,
 "nbformat_minor": 5
}
