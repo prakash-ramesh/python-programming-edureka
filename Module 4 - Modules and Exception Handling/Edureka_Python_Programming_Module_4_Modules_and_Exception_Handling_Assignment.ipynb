{
  "nbformat": 4,
  "nbformat_minor": 0,
  "metadata": {
    "colab": {
      "provenance": []
    },
    "kernelspec": {
      "name": "python3",
      "display_name": "Python 3"
    },
    "language_info": {
      "name": "python"
    }
  },
  "cells": [
    {
      "cell_type": "markdown",
      "source": [
        "**1.A Robot moves in a Plane starting from the origin point (0,0). The robot can move UP, DOWN, LEFT, and RIGHT. The trace of Robot movement is as given following:**\n",
        "UP 5 DOWN 3 LEFT 3 RIGHT 2 (The numbers after directions are steps)  \n",
        "\n",
        "Write a program to compute the current distance from the origin point after sequencing of movements.\n",
        "\n",
        "Hint:Use the math module"
      ],
      "metadata": {
        "id": "NaWIFtUDqq6C"
      }
    },
    {
      "cell_type": "code",
      "source": [
        "import math\n",
        "\n",
        "x = 0\n",
        "y = 0\n",
        "\n",
        "def getCoordinates(direction, step):\n",
        "    global x, y\n",
        "\n",
        "    match direction:\n",
        "        case 'UP':\n",
        "            y += step\n",
        "        case 'DOWN':\n",
        "            y -= step\n",
        "        case 'RIGHT':\n",
        "            x += step\n",
        "        case 'LEFT':\n",
        "            x -= step\n",
        "        case _:\n",
        "            pass\n",
        "\n",
        "    return [x, y]\n",
        "\n",
        "def calcualteDistance(c1, c2):\n",
        "    '''\n",
        "    Returns distance between (x1, y1) and (x2, y2)\n",
        "    '''\n",
        "    return math.dist(c1, c2)\n",
        "\n",
        "trace_1 = calcualteDistance([x, y], getCoordinates('UP', 5))\n",
        "trace_2 = calcualteDistance([x, y], getCoordinates('DOWN', 3))\n",
        "trace_3 = calcualteDistance([x, y], getCoordinates('LEFT', 3))\n",
        "trace_4 = calcualteDistance([x, y], getCoordinates('RIGHT', 2))\n",
        "\n",
        "print(\"Total Distance\", trace_1 + trace_2 + trace_3 + trace_4)"
      ],
      "metadata": {
        "colab": {
          "base_uri": "https://localhost:8080/"
        },
        "id": "yTlTgOPEtS1f",
        "outputId": "0e0e60a8-59a6-4d46-d7c7-c1eb7549d812"
      },
      "execution_count": null,
      "outputs": [
        {
          "output_type": "stream",
          "name": "stdout",
          "text": [
            "Total Distance 13.0\n"
          ]
        }
      ]
    },
    {
      "cell_type": "markdown",
      "source": [
        "**2.Data of XYZ company is stored in a sorted list. Write a program to search for specific data from that list.**\n",
        "\n",
        "Hint:Use if/elif to deal with conditions"
      ],
      "metadata": {
        "id": "epwlsEQyx82l"
      }
    },
    {
      "cell_type": "code",
      "source": [
        "lst = [5, 8, 9, 7, 4, 6, 2, 3, 1]\n",
        "sorted_lst = sorted(lst)\n",
        "\n",
        "data = int(input(\"Enter Data to find:\"))\n",
        "\n",
        "if data in sorted_lst:\n",
        "    print(\"Data Available.\")\n",
        "else:\n",
        "    print(\"Data Unavailable.\")"
      ],
      "metadata": {
        "colab": {
          "base_uri": "https://localhost:8080/"
        },
        "id": "aFl5BkQ3w-g3",
        "outputId": "a57d5dff-fdec-4e71-d610-6869c5d4825b"
      },
      "execution_count": null,
      "outputs": [
        {
          "output_type": "stream",
          "name": "stdout",
          "text": [
            "Enter Data to find:5\n",
            "Data Available.\n"
          ]
        }
      ]
    },
    {
      "cell_type": "markdown",
      "source": [
        "**3.A weather forecasting organization wants to show whether it is day or night. Write a program to findwhether is it dark outside or notbased on the local system time.**\n",
        "\n",
        "Hint:Use the time module"
      ],
      "metadata": {
        "id": "MLSUqRlm0U_B"
      }
    },
    {
      "cell_type": "code",
      "source": [
        "import datetime\n",
        "\n",
        "local_time = datetime.datetime.now()\n",
        "\n",
        "if local_time.hour > 6 and local_time.hour < 18:\n",
        "    print(\"Day\")\n",
        "else:\n",
        "    print(\"Night - Dark Outside.\")"
      ],
      "metadata": {
        "colab": {
          "base_uri": "https://localhost:8080/"
        },
        "id": "0DKmze9Azif2",
        "outputId": "0300c53f-a357-48d3-c7fc-92da58010ffd"
      },
      "execution_count": null,
      "outputs": [
        {
          "output_type": "stream",
          "name": "stdout",
          "text": [
            "Night - Dark Outside.\n"
          ]
        }
      ]
    },
    {
      "cell_type": "markdown",
      "source": [
        "**4.Write a program to find the distancebetween two locations when their latitude and longitudes are given.**\n",
        "\n",
        "Hint:Use the math module."
      ],
      "metadata": {
        "id": "Xu9ioNDQ1Q8v"
      }
    },
    {
      "cell_type": "code",
      "source": [
        "from math import radians, sin, cos, acos\n",
        "\n",
        "# Input coordinates of two points\n",
        "slat = radians(float(input(\"Starting latitude: \")))\n",
        "slon = radians(float(input(\"Starting longitude: \")))\n",
        "elat = radians(float(input(\"Ending latitude: \")))\n",
        "elon = radians(float(input(\"Ending longitude: \")))\n",
        "\n",
        "# Calculate the distance between the two points\n",
        "dist = 6371 * acos(sin(slat) * sin(elat) + cos(slat) * cos(elat) * cos(slon - elon))\n",
        "\n",
        "# Print the distance\n",
        "print(f\"The distance is {dist} km.\")"
      ],
      "metadata": {
        "colab": {
          "base_uri": "https://localhost:8080/"
        },
        "id": "ZiNG5jZs0iZW",
        "outputId": "6d7d0930-02b1-47c0-d635-3a01bfa8824d"
      },
      "execution_count": null,
      "outputs": [
        {
          "output_type": "stream",
          "name": "stdout",
          "text": [
            "Starting latitude: 28.65\n",
            "Starting longitude: 77.23\n",
            "Ending latitude: 13.09\n",
            "Ending longitude: 80.28\n",
            "The distance is 1758.720491816383 km.\n"
          ]
        }
      ]
    },
    {
      "cell_type": "markdown",
      "source": [
        "**5.Design a banking system software withoptions like cash withdrawal, cash credit,and change password. The software must display appropriate results based on user inputs.**\n",
        "\n",
        "Hint:Use if else statements and functions"
      ],
      "metadata": {
        "id": "20ziTT4lTtdE"
      }
    },
    {
      "cell_type": "code",
      "source": [
        "bal = 0\n",
        "pwd = 'abc'\n",
        "\n",
        "def bank(option):\n",
        "    if option == 1:\n",
        "        withdraw = int(input(\"Enter amount to withdraw:\"))\n",
        "\n",
        "        if bal > withdraw:\n",
        "            print(f\"Withdraw Success. Remaining Balance {bal - withdraw}\")\n",
        "        else:\n",
        "            print(\"Insufficient Balance.\")\n",
        "    elif option == 2:\n",
        "        credit = int(input(\"Enter amount to deposit:\"))\n",
        "        print(f\"Deposit Success. Remaining Balance {bal + credit}\")\n",
        "    elif option == 3:\n",
        "        curr_pwd = int(input(\"Enter Current Password:\"))\n",
        "        change_pwd = int(input(\"Enter New Password:\"))\n",
        "\n",
        "        if pwd == curr_pwd:\n",
        "            pwd = change_pwd\n",
        "            print(f\"Change Password Success.\")\n",
        "        else:\n",
        "            print(\"Incorrect Password.\")\n",
        "    else:\n",
        "        print(\"Invalid Option.\")"
      ],
      "metadata": {
        "id": "nvQ8FUx41-lL"
      },
      "execution_count": null,
      "outputs": []
    },
    {
      "cell_type": "code",
      "source": [
        "print(\"1-Withdraw\\n2-Credit\\n3-Password\")\n",
        "option = int(input(\"Please enter one of the above options to proceed:\"))\n",
        "bank(option)"
      ],
      "metadata": {
        "id": "4n5Q2mCKdNLp",
        "colab": {
          "base_uri": "https://localhost:8080/"
        },
        "outputId": "758ade79-902b-48e0-ff88-57d6554059c8"
      },
      "execution_count": null,
      "outputs": [
        {
          "output_type": "stream",
          "name": "stdout",
          "text": [
            "1-Withdraw\n",
            "2-Credit\n",
            "3-Password\n",
            "Please enter one of the above options to proceed:2\n",
            "Enter amount to deposit:1500\n",
            "Deposit Success. Remaining Balance 1500\n"
          ]
        }
      ]
    },
    {
      "cell_type": "code",
      "source": [
        "option = int(input(\"Please enter one of the above options to proceed:\"))\n",
        "bank(option)"
      ],
      "metadata": {
        "colab": {
          "base_uri": "https://localhost:8080/"
        },
        "id": "_fLusmdMVZ3U",
        "outputId": "d4a8b087-2d54-4f9a-9aa6-99d02cbd3fb3"
      },
      "execution_count": null,
      "outputs": [
        {
          "output_type": "stream",
          "name": "stdout",
          "text": [
            "Please enter one of the above options to proceed:1\n",
            "Enter amount to withdraw:2000\n",
            "Insufficient Balance.\n"
          ]
        }
      ]
    },
    {
      "cell_type": "markdown",
      "source": [
        "**6.Write a prograthatch will find all numbers which are divisible by 7 but are not a multiple of 5, between 2,000 and 3,200(both included). The numbers obtained should be printed in a comma-separated sequence on a single line**"
      ],
      "metadata": {
        "id": "nKOFKIT1VqED"
      }
    },
    {
      "cell_type": "code",
      "source": [
        "res = [num for num in range(2000, 3201) if num%7 == 0 and num%5 != 0]\n",
        "print(res)"
      ],
      "metadata": {
        "colab": {
          "base_uri": "https://localhost:8080/"
        },
        "id": "WSQxx77wViUE",
        "outputId": "407ad62f-4cdf-4899-b509-9dd2e8c66f38"
      },
      "execution_count": null,
      "outputs": [
        {
          "output_type": "stream",
          "name": "stdout",
          "text": [
            "[2002, 2009, 2016, 2023, 2037, 2044, 2051, 2058, 2072, 2079, 2086, 2093, 2107, 2114, 2121, 2128, 2142, 2149, 2156, 2163, 2177, 2184, 2191, 2198, 2212, 2219, 2226, 2233, 2247, 2254, 2261, 2268, 2282, 2289, 2296, 2303, 2317, 2324, 2331, 2338, 2352, 2359, 2366, 2373, 2387, 2394, 2401, 2408, 2422, 2429, 2436, 2443, 2457, 2464, 2471, 2478, 2492, 2499, 2506, 2513, 2527, 2534, 2541, 2548, 2562, 2569, 2576, 2583, 2597, 2604, 2611, 2618, 2632, 2639, 2646, 2653, 2667, 2674, 2681, 2688, 2702, 2709, 2716, 2723, 2737, 2744, 2751, 2758, 2772, 2779, 2786, 2793, 2807, 2814, 2821, 2828, 2842, 2849, 2856, 2863, 2877, 2884, 2891, 2898, 2912, 2919, 2926, 2933, 2947, 2954, 2961, 2968, 2982, 2989, 2996, 3003, 3017, 3024, 3031, 3038, 3052, 3059, 3066, 3073, 3087, 3094, 3101, 3108, 3122, 3129, 3136, 3143, 3157, 3164, 3171, 3178, 3192, 3199]\n"
          ]
        }
      ]
    },
    {
      "cell_type": "markdown",
      "source": [
        "**7.Write  a  prograthatch that can  compute  the  factorial ofgiven  numbers.  Use recursion to find it.**"
      ],
      "metadata": {
        "id": "E0yM92NoXlmx"
      }
    },
    {
      "cell_type": "code",
      "source": [
        "def fact(n):\n",
        "    if n == 1:\n",
        "        return 1;\n",
        "    else:\n",
        "        return n*fact(n-1)\n",
        "\n",
        "print(fact(int(input(\"Enter a number:\"))))"
      ],
      "metadata": {
        "colab": {
          "base_uri": "https://localhost:8080/"
        },
        "id": "jtdWCkEoW5KM",
        "outputId": "b0e2a3e9-1246-45c2-a402-6b2372057342"
      },
      "execution_count": null,
      "outputs": [
        {
          "output_type": "stream",
          "name": "stdout",
          "text": [
            "Enter a number:6\n",
            "720\n"
          ]
        }
      ]
    },
    {
      "cell_type": "markdown",
      "source": [
        "**8.Write  a  program  that  calculates  and  prints  the value  according  to  the  given formula:Q = Square root of [(2 * C * D)/H]**\n",
        "\n",
        "Following are the fixed values of C and H: C is 50. H is 30.D  is  the  variable  whose  values  should  be  input  to  your  program  in  a comma-separatedsequence.\n",
        "\n",
        "ExampleLet  us  assume  the  following comma-separatedinput  sequence  is  given  to  the program:100,150,180The output of the program should be:18,22,24"
      ],
      "metadata": {
        "id": "LYLEgU2lYN7e"
      }
    },
    {
      "cell_type": "code",
      "source": [
        "from functools import reduce\n",
        "from math import sqrt, floor\n",
        "\n",
        "c= 50\n",
        "h = 30\n",
        "\n",
        "input_seq = input(\"Enter Sequence.\")\n",
        "lst = input_seq.split(',')\n",
        "\n",
        "x = list(map(lambda d: floor(sqrt((2*c*int(d))/h)), lst))\n",
        "print(x)"
      ],
      "metadata": {
        "id": "aGy7ddntXy8r",
        "colab": {
          "base_uri": "https://localhost:8080/"
        },
        "outputId": "48d72927-6a4d-4e37-dafd-dc6eade9718c"
      },
      "execution_count": 10,
      "outputs": [
        {
          "output_type": "stream",
          "name": "stdout",
          "text": [
            "Enter Sequence.100,150,180\n",
            "[18, 22, 24]\n"
          ]
        }
      ]
    },
    {
      "cell_type": "markdown",
      "source": [
        "**9. Write a program thattakes 2 digits, X, Yas input and generates a 2-dimensional array.**\n",
        "\n",
        "The element value in the ith row and jthcolumn of the array should be i*j.Note:I =0,1,.., X-1; j=0,1,¡-Y-1.\n",
        "\n",
        "Example Suppose the following inputs are given to the program:3,5\n",
        "\n",
        "Then, the output of the program should be:[[0, 0, 0, 0, 0], [0, 1, 2, 3, 4], [0, 2, 4, 6, 8]]"
      ],
      "metadata": {
        "id": "r-YfJVcBhK_K"
      }
    },
    {
      "cell_type": "markdown",
      "source": [
        "**10.Write  a  program  that  accepts  a comma-separatedsequence  of  words  as  input and  prints  the  words  in  a  comma-separated  sequence  after  sorting  them alphabetically.**\n",
        "\n",
        "Suppose the following input is supplied to the program:without,hello,bag,worldThen, the output should be:bag,hello,without,world"
      ],
      "metadata": {
        "id": "l-_9kD3nhuOy"
      }
    },
    {
      "cell_type": "code",
      "source": [
        "input_seq = input(\"Enter Sequence.\")\n",
        "lst = input_seq.split(',')\n",
        "print(sorted(lst))"
      ],
      "metadata": {
        "colab": {
          "base_uri": "https://localhost:8080/"
        },
        "id": "Kyf9LZThey9Q",
        "outputId": "ced547ab-9a31-4d9a-b57f-0ab3d2dfe42b"
      },
      "execution_count": 11,
      "outputs": [
        {
          "output_type": "stream",
          "name": "stdout",
          "text": [
            "Enter Sequence.without,hello,bag,world\n",
            "['bag', 'hello', 'without', 'world']\n"
          ]
        }
      ]
    },
    {
      "cell_type": "markdown",
      "source": [
        "**11.Write  a  program  that  accepts a sequence  of  lines  as  input  and  prints  the  lines after making all characters in the sentence capitalized.**\n",
        "\n",
        " Suppose the following input is supplied to the program:•Hello world•Practice makes perfectThen, the output should be:•HELLO WORLD•PRACTICE MAKES PERFECT"
      ],
      "metadata": {
        "id": "fb1kBqDBiqY3"
      }
    },
    {
      "cell_type": "code",
      "source": [
        "no_of_lines = 2\n",
        "lines = \"\"\n",
        "\n",
        "for i in range(no_of_lines):\n",
        "    y = input(f\"Enter Line {i+1}:\")\n",
        "    lines += y.upper() + \"\\n\"\n",
        "\n",
        "print(lines)"
      ],
      "metadata": {
        "colab": {
          "base_uri": "https://localhost:8080/"
        },
        "id": "asiYyQXph7kg",
        "outputId": "90adc634-f19b-4a19-e09a-83ad6c0ed7a6"
      },
      "execution_count": 16,
      "outputs": [
        {
          "output_type": "stream",
          "name": "stdout",
          "text": [
            "Enter Line 1:Hello world\n",
            "Enter Line 2:Practice makes perfect\n",
            "HELLO WORLD\n",
            "PRACTICE MAKES PERFECT\n",
            "\n"
          ]
        }
      ]
    },
    {
      "cell_type": "markdown",
      "source": [
        "**12.Write  a  program  that  accepts  a  sequence  of whitespace-separatedwords  as input and prints the words after removing all duplicate words and sorting them alphanumerically.**\n",
        "\n",
        "Suppose the following input is supplied to the program:\n",
        "\n",
        "hello world and practice makes perfect and hello world again\n",
        "\n",
        "Then, the output should be: again and hello makes perfect practice world"
      ],
      "metadata": {
        "id": "QtnO6kjFj2So"
      }
    },
    {
      "cell_type": "code",
      "source": [
        "input_seq = input(\"Enter Sequence:\\n\")\n",
        "print(\"\")\n",
        "lst = input_seq.split(' ')\n",
        "s = list(set(lst))\n",
        "y= list(s)\n",
        "y.sort()\n",
        "print(' '.join(y))"
      ],
      "metadata": {
        "colab": {
          "base_uri": "https://localhost:8080/"
        },
        "id": "D5LUl8JYizP9",
        "outputId": "80200fc0-958d-4634-bb8c-5f4dd670f832"
      },
      "execution_count": 44,
      "outputs": [
        {
          "output_type": "stream",
          "name": "stdout",
          "text": [
            "Enter Sequence:\n",
            "hello world and practice makes perfect and hello world again\n",
            "\n",
            "again and hello makes perfect practice world\n"
          ]
        }
      ]
    },
    {
      "cell_type": "markdown",
      "source": [
        "**13.Write  a  program thataccepts  a  sequence  of comma-separated4-digitbinary numbers as its input and then check whether they are divisible by 5 or not. The numbers  that  are  divisible  by  5  are  to  be  printed  in  a comma-separatedsequence.**\n",
        "\n",
        "Example  0100,0011,1010,1001\n",
        "\n",
        "Then the output should be:1010"
      ],
      "metadata": {
        "id": "HbqyZU7QnAjp"
      }
    },
    {
      "cell_type": "code",
      "source": [
        "input_seq = input(\"Enter binary numbers.\")\n",
        "lst = input_seq.split(',')\n",
        "out_lst = []\n",
        "\n",
        "for bnum in lst:\n",
        "    num = int(bnum, 2)\n",
        "    if num%5 == 0:\n",
        "        out_lst.append(bnum)\n",
        "\n",
        "print(','.join(out_lst))"
      ],
      "metadata": {
        "colab": {
          "base_uri": "https://localhost:8080/"
        },
        "id": "fy5gu4EqkVCH",
        "outputId": "33183270-6d12-4c30-826a-d463d34920a8"
      },
      "execution_count": 49,
      "outputs": [
        {
          "output_type": "stream",
          "name": "stdout",
          "text": [
            "Enter binary numbers.0100,0011,1010,1001\n",
            "1010\n"
          ]
        }
      ]
    },
    {
      "cell_type": "markdown",
      "source": [
        "**14.Write a program that accepts a sentence and calculatethe number of upper-caseletters and lower-caseletters.**\n",
        "\n",
        "Suppose the following input is supplied to the program: Hello world!\n",
        "\n",
        "Then, the output should be:\n",
        "\n",
        "UPPER CASE 1\n",
        "\n",
        "LOWER CASE 9"
      ],
      "metadata": {
        "id": "mr3Vd68woHU8"
      }
    },
    {
      "cell_type": "code",
      "source": [
        "uc_cnt = 0\n",
        "lc_cnt = 0\n",
        "\n",
        "s = input(\"Enter Sentence.\")\n",
        "for ch in list(s):\n",
        "    if ch.isupper():\n",
        "        uc_cnt += 1\n",
        "    elif ch.islower():\n",
        "        lc_cnt += 1\n",
        "\n",
        "print(f\"Upper Case: {uc_cnt}\\n\", f\"Lower Case: {lc_cnt}\")"
      ],
      "metadata": {
        "colab": {
          "base_uri": "https://localhost:8080/"
        },
        "id": "cHLG_B-7ndU8",
        "outputId": "c129b67a-923a-447c-a893-e7e54866d8b5"
      },
      "execution_count": 52,
      "outputs": [
        {
          "output_type": "stream",
          "name": "stdout",
          "text": [
            "Enter Sentence.Hello world!\n",
            "Upper Case: 1\n",
            " Lower Case: 9\n"
          ]
        }
      ]
    },
    {
      "cell_type": "markdown",
      "source": [
        "**15.Give an example of fsum and sum function of math library**"
      ],
      "metadata": {
        "id": "2FMF0xm5pJQK"
      }
    },
    {
      "cell_type": "code",
      "source": [
        "from math import fsum\n",
        "fs = fsum([1.7, 0.3, 1.5, 4.5])\n",
        "s = sum([1.7, 0.3, 1.5, 4.5])\n",
        "\n",
        "print(fs, s)"
      ],
      "metadata": {
        "colab": {
          "base_uri": "https://localhost:8080/"
        },
        "id": "yMZRbFk1o119",
        "outputId": "6fe09c31-7702-48ea-f2fe-bf2b4bd72a39"
      },
      "execution_count": 57,
      "outputs": [
        {
          "output_type": "stream",
          "name": "stdout",
          "text": [
            "8.0 8.0\n"
          ]
        }
      ]
    },
    {
      "cell_type": "code",
      "source": [],
      "metadata": {
        "id": "O58tKXmepjy0"
      },
      "execution_count": null,
      "outputs": []
    }
  ]
}