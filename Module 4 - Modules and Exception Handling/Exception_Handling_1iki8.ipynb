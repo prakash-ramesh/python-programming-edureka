{
 "cells": [
  {
   "cell_type": "code",
   "execution_count": 4,
   "id": "4044059f-ca27-412a-967e-2e86450f3302",
   "metadata": {},
   "outputs": [
    {
     "name": "stdin",
     "output_type": "stream",
     "text": [
      "Enter first number: 10\n",
      "Enter second number: 0\n"
     ]
    },
    {
     "ename": "ZeroDivisionError",
     "evalue": "division by zero",
     "output_type": "error",
     "traceback": [
      "\u001b[1;31m---------------------------------------------------------------------------\u001b[0m",
      "\u001b[1;31mZeroDivisionError\u001b[0m                         Traceback (most recent call last)",
      "Cell \u001b[1;32mIn[4], line 3\u001b[0m\n\u001b[0;32m      1\u001b[0m var1\u001b[38;5;241m=\u001b[39m\u001b[38;5;28mint\u001b[39m(\u001b[38;5;28minput\u001b[39m(\u001b[38;5;124m\"\u001b[39m\u001b[38;5;124mEnter first number:\u001b[39m\u001b[38;5;124m\"\u001b[39m))\n\u001b[0;32m      2\u001b[0m var2\u001b[38;5;241m=\u001b[39m\u001b[38;5;28mint\u001b[39m(\u001b[38;5;28minput\u001b[39m(\u001b[38;5;124m\"\u001b[39m\u001b[38;5;124mEnter second number:\u001b[39m\u001b[38;5;124m\"\u001b[39m))\n\u001b[1;32m----> 3\u001b[0m var3\u001b[38;5;241m=\u001b[39m\u001b[43mvar1\u001b[49m\u001b[38;5;241;43m/\u001b[39;49m\u001b[43mvar2\u001b[49m\n\u001b[0;32m      4\u001b[0m \u001b[38;5;28mprint\u001b[39m(var3)\n",
      "\u001b[1;31mZeroDivisionError\u001b[0m: division by zero"
     ]
    }
   ],
   "source": [
    "var1=int(input(\"Enter first number:\"))\n",
    "var2=int(input(\"Enter second number:\"))\n",
    "var3=var1/var2\n",
    "print(var3)"
   ]
  },
  {
   "cell_type": "code",
   "execution_count": 11,
   "id": "2db7684c-3586-45cb-92af-c042cbd81645",
   "metadata": {},
   "outputs": [
    {
     "name": "stdin",
     "output_type": "stream",
     "text": [
      "Enter first number: 10\n",
      "Enter second number: 0\n"
     ]
    },
    {
     "name": "stdout",
     "output_type": "stream",
     "text": [
      "Some Exception Occured\n",
      "(<class 'ZeroDivisionError'>, ZeroDivisionError('division by zero'), <traceback object at 0x000001D70B88BFC0>)\n",
      "Always Exceucuting\n"
     ]
    }
   ],
   "source": [
    "#Handling exceptions: try,except,else,finally\n",
    "import sys\n",
    "try:\n",
    "    var1=int(input(\"Enter first number:\"))\n",
    "    var2=int(input(\"Enter second number:\"))\n",
    "    var3=var1/var2\n",
    "    print(var3)\n",
    "except:\n",
    "    print(\"Some Exception Occured\")\n",
    "    print(sys.exc_info())\n",
    "else:\n",
    "    print(\"No Exception\")\n",
    "finally:\n",
    "    print(\"Always Exceucuting\")"
   ]
  },
  {
   "cell_type": "code",
   "execution_count": 9,
   "id": "e84b9210-ff35-4c54-b356-f9f099f51b80",
   "metadata": {},
   "outputs": [
    {
     "name": "stdout",
     "output_type": "stream",
     "text": [
      "The index is out of range\n"
     ]
    }
   ],
   "source": [
    "# Example 8 -- Multiple Except Blocks \n",
    "try:\n",
    "    var1=10\n",
    "    var2=3\n",
    "    if var2==0:\n",
    "        raise ZeroDivisionError\n",
    "    list1=[1,2,3]\n",
    "    list1[2]=var1/var2\n",
    "    print(list1[3])\n",
    "except ZeroDivisionError:\n",
    "    print('Numbers cant be divided by zero')\n",
    "except ValueError:\n",
    "    print('It is a value error')\n",
    "except IndexError:\n",
    "    print('The index is out of range')\n",
    "except:\n",
    "    print('Some Exception Happened')\n",
    "    print(sys.exc_info())   "
   ]
  },
  {
   "cell_type": "code",
   "execution_count": 15,
   "id": "011b7580-4313-49b9-994c-2fa283f64995",
   "metadata": {},
   "outputs": [
    {
     "name": "stdout",
     "output_type": "stream",
     "text": [
      "Closing File...\n"
     ]
    }
   ],
   "source": [
    "# Example 11 -- try-except-finally block\n",
    "try:\n",
    "    file_obj=open('File_new.txt','w')\n",
    "    file_obj.write('Python is Awesome')\n",
    "except:\n",
    "    print('Some Exception Occured')\n",
    "    print(sys.exc_info())  \n",
    "finally:\n",
    "    file_obj.close()\n",
    "    print(\"Closing File...\")"
   ]
  },
  {
   "cell_type": "code",
   "execution_count": 16,
   "id": "450d7e9c-33ca-40d9-9229-fabbd29b57d4",
   "metadata": {},
   "outputs": [
    {
     "ename": "TypeError",
     "evalue": "carfuelandkm.__init__() missing 1 required positional argument: 'brand'",
     "output_type": "error",
     "traceback": [
      "\u001b[1;31m---------------------------------------------------------------------------\u001b[0m",
      "\u001b[1;31mTypeError\u001b[0m                                 Traceback (most recent call last)",
      "Cell \u001b[1;32mIn[16], line 34\u001b[0m\n\u001b[0;32m     31\u001b[0m             \u001b[38;5;28;01melse\u001b[39;00m:\n\u001b[0;32m     32\u001b[0m                 \u001b[38;5;28mprint\u001b[39m(\u001b[38;5;124mf\u001b[39m\u001b[38;5;124m\"\u001b[39m\u001b[38;5;124mFuel in the tank now is \u001b[39m\u001b[38;5;132;01m{\u001b[39;00mno_ltr\u001b[38;5;241m+\u001b[39mcur_fuelin_tank\u001b[38;5;132;01m}\u001b[39;00m\u001b[38;5;124m and if you want you can put  \u001b[39m\u001b[38;5;132;01m{\u001b[39;00mtank_cap\u001b[38;5;241m-\u001b[39mtot_ltr\u001b[38;5;132;01m}\u001b[39;00m\u001b[38;5;124m ltr\u001b[39m\u001b[38;5;124m\"\u001b[39m)\n\u001b[1;32m---> 34\u001b[0m obj2\u001b[38;5;241m=\u001b[39m\u001b[43mfuelfillup\u001b[49m\u001b[43m(\u001b[49m\u001b[43m)\u001b[49m\n",
      "Cell \u001b[1;32mIn[16], line 22\u001b[0m, in \u001b[0;36mfuelfillup.__init__\u001b[1;34m(self)\u001b[0m\n\u001b[0;32m     21\u001b[0m \u001b[38;5;28;01mdef\u001b[39;00m \u001b[38;5;21m__init__\u001b[39m(\u001b[38;5;28mself\u001b[39m):\n\u001b[1;32m---> 22\u001b[0m         \u001b[43mcarfuelandkm\u001b[49m\u001b[38;5;241;43m.\u001b[39;49m\u001b[38;5;21;43m__init__\u001b[39;49m\u001b[43m(\u001b[49m\u001b[38;5;124;43m\"\u001b[39;49m\u001b[38;5;124;43mToyoto Camry\u001b[39;49m\u001b[38;5;124;43m\"\u001b[39;49m\u001b[43m)\u001b[49m\n\u001b[0;32m     23\u001b[0m         cur_fuelin_tank\u001b[38;5;241m=\u001b[39m random\u001b[38;5;241m.\u001b[39mrandint(\u001b[38;5;241m1\u001b[39m,tank_cap)\n\u001b[0;32m     24\u001b[0m         \u001b[38;5;28mprint\u001b[39m(\u001b[38;5;124mf\u001b[39m\u001b[38;5;124m\"\u001b[39m\u001b[38;5;124mavailable litre in tank \u001b[39m\u001b[38;5;132;01m{\u001b[39;00mcur_fuelin_tank\u001b[38;5;132;01m}\u001b[39;00m\u001b[38;5;124m\"\u001b[39m)\n",
      "\u001b[1;31mTypeError\u001b[0m: carfuelandkm.__init__() missing 1 required positional argument: 'brand'"
     ]
    }
   ],
   "source": [
    "class carfuelandkm():\n",
    "    import random\n",
    "    #brand=str(input(\"Enter your car brand: \"))\n",
    "    def __init__(self,brand):\n",
    "        if brand == \"Toyoto Camry\":\n",
    "                tank_cap=60\n",
    "                km_per_litre=12\n",
    "                print(f\"Car type is sedan and tank capacity is: {tank_cap} and kilo meter per liter is : {km_per_litre}\")\n",
    "        elif brand == \"Toyoto Kluger\":\n",
    "                tank_cap=80\n",
    "                km_per_litre=9\n",
    "                print(f\"Car type is SUV and tank capacity is: {tank_cap} and kilo meter per liter is : {km_per_litre}\")\n",
    "        elif brand ==\"Kia Cerata\":\n",
    "                tank_cap=45\n",
    "                km_per_litre=12\n",
    "                print(f\"Car type is Hatch back and tank capacity is: {tank_cap} and kilo meter per liter is : {km_per_litre}\")\n",
    "\n",
    "            \n",
    "class fuelfillup(carfuelandkm):\n",
    "    import random\n",
    "    def __init__(self):\n",
    "            carfuelandkm.__init__(\"Toyoto Camry\")\n",
    "            cur_fuelin_tank= random.randint(1,tank_cap)\n",
    "            print(f\"available litre in tank {cur_fuelin_tank}\")\n",
    "            no_ltr=int(input(\"Enter the litere to be filled: \"))\n",
    "            tot_ltr= no_ltr + int(cur_fuelin_tank)\n",
    "            print(tot_ltr)\n",
    "            if tot_ltr > tank_cap:\n",
    "                print(f\"tank capacity is {tank_cap} and you already have {cur_fuelin_tank},you can put maximum of {tank_cap-cur_fuelin_tank}\")\n",
    "   \n",
    "            else:\n",
    "                print(f\"Fuel in the tank now is {no_ltr+cur_fuelin_tank} and if you want you can put  {tank_cap-tot_ltr} ltr\")\n",
    "      \n",
    "obj2=fuelfillup()"
   ]
  },
  {
   "cell_type": "code",
   "execution_count": null,
   "id": "00cdd23c-3a1f-4376-bc4d-c02ca8998e70",
   "metadata": {},
   "outputs": [],
   "source": []
  }
 ],
 "metadata": {
  "kernelspec": {
   "display_name": "Python 3 (ipykernel)",
   "language": "python",
   "name": "python3"
  },
  "language_info": {
   "codemirror_mode": {
    "name": "ipython",
    "version": 3
   },
   "file_extension": ".py",
   "mimetype": "text/x-python",
   "name": "python",
   "nbconvert_exporter": "python",
   "pygments_lexer": "ipython3",
   "version": "3.12.1"
  }
 },
 "nbformat": 4,
 "nbformat_minor": 5
}
