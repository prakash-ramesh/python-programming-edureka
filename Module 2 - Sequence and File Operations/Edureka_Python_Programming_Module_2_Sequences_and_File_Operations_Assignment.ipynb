{
  "nbformat": 4,
  "nbformat_minor": 0,
  "metadata": {
    "colab": {
      "provenance": []
    },
    "kernelspec": {
      "name": "python3",
      "display_name": "Python 3"
    },
    "language_info": {
      "name": "python"
    }
  },
  "cells": [
    {
      "cell_type": "markdown",
      "source": [
        "**1. Smith wishes to register on a ticket booking website for booking bus tickets. To authenticate the registration, he needs to provide a user-id and password. There are some built-in rules for checking the validity of the passwords entered by the users.Following are therules for checking the validity of a password:**\n",
        "\n",
        "* i.At least 1 alphabet\n",
        "* ii.At least 1 digitbetween [0–9]\n",
        "* iii.At least 1 character from [@&]\n",
        "* iv.Minimum length of transaction password: 5\n",
        "* v.Maximum length of transaction password: 10"
      ],
      "metadata": {
        "id": "B7qWuRtPXRop"
      }
    },
    {
      "cell_type": "code",
      "execution_count": 7,
      "metadata": {
        "colab": {
          "base_uri": "https://localhost:8080/"
        },
        "id": "TaSffXsiXG0h",
        "outputId": "cc5e50f1-84ff-4715-afc8-8815af494084"
      },
      "outputs": [
        {
          "output_type": "stream",
          "name": "stdout",
          "text": [
            "Enter Password: 123#sdf\n",
            "Invalid Password.\n"
          ]
        }
      ],
      "source": [
        "pwd = input(\"Enter Password: \")\n",
        "\n",
        "pwd_len = len(pwd)\n",
        "\n",
        "has_num = any(ch.isdigit() for ch in pwd)\n",
        "has_alpha = any(ch.isalpha() for ch in pwd)\n",
        "has_special_char = \"@\" in pwd or \"&\" in pwd\n",
        "\n",
        "if pwd_len >= 5 and pwd_len <= 10 and has_num and has_alpha and has_special_char:\n",
        "    print(\"Valid Password.\")\n",
        "else:\n",
        "    print(\"Invalid Password.\")"
      ]
    },
    {
      "cell_type": "markdown",
      "source": [
        "**2.Write a program for printing all elements of a list and their indexes in the list.Take the list as user input**"
      ],
      "metadata": {
        "id": "sDyiL5GgaKCY"
      }
    },
    {
      "cell_type": "code",
      "source": [
        "len = int(input(\"Enter the Length of the List: \"))\n",
        "\n",
        "lst = []\n",
        "for i in range(1, len+1):\n",
        "    y = input(f\"Enter element {i} to be added in the List: \")\n",
        "    lst.append(y)\n",
        "print(\"\\n--Result--\")\n",
        "for index, el in enumerate(lst):\n",
        "    print(el, f'at index {index}')"
      ],
      "metadata": {
        "colab": {
          "base_uri": "https://localhost:8080/"
        },
        "id": "9pz4AFTaYMC5",
        "outputId": "29aea91c-380a-412c-9e08-a9415eba36ea"
      },
      "execution_count": 9,
      "outputs": [
        {
          "output_type": "stream",
          "name": "stdout",
          "text": [
            "Enter the Length of the List: 3\n",
            "Enter element 1 to be added in the List: [123, (2,4)]\n",
            "Enter element 2 to be added in the List: 759\n",
            "Enter element 3 to be added in the List: 2+3j\n",
            "\n",
            "--Result--\n",
            "[123, (2,4)] at index 0\n",
            "759 at index 1\n",
            "2+3j at index 2\n"
          ]
        }
      ]
    },
    {
      "cell_type": "markdown",
      "source": [
        "**3. Write  a  program thataccepts a  string from the  console and printsthe  characters that have even indexes if the character is an alphabet. Concatenate the characters and print.**\n",
        "\n",
        "Example: If the following string is given as input to the program: Ed12ur3ka1Python12\n",
        "\n",
        "Then, the output of the program should be:EuaPto"
      ],
      "metadata": {
        "id": "4WELhsv2cIsm"
      }
    },
    {
      "cell_type": "code",
      "source": [
        "s3 = input(\"Enter string: \")\n",
        "res = ''\n",
        "\n",
        "for index, ch in enumerate(s3):\n",
        "    if index%2 == 0 and ch.isalpha():\n",
        "        res += ch\n",
        "\n",
        "print(res)"
      ],
      "metadata": {
        "colab": {
          "base_uri": "https://localhost:8080/"
        },
        "id": "j33kQHwTbmJy",
        "outputId": "1527a5ab-14a7-4213-9a5c-1eb7ef493485"
      },
      "execution_count": 10,
      "outputs": [
        {
          "output_type": "stream",
          "name": "stdout",
          "text": [
            "Enter string: Ed12ur3ka1Python12\n",
            "EuaPto\n"
          ]
        }
      ]
    },
    {
      "cell_type": "markdown",
      "source": [
        "**4.Please  write  a  program thataccepts  a  string  from the console  and  printsit  in reverse order.**\n",
        "\n",
        "Example\n",
        "\n",
        "If the following string is given as input to the program:\n",
        "welcome to edureka\n",
        "\n",
        "Then, the output of the program should be:\n",
        "akerude ot emoclew"
      ],
      "metadata": {
        "id": "wBxdMByXdPPi"
      }
    },
    {
      "cell_type": "code",
      "source": [
        "s4 = input(\"Enter string: \")\n",
        "print(s4[::-1])"
      ],
      "metadata": {
        "colab": {
          "base_uri": "https://localhost:8080/"
        },
        "id": "xvsZMg-bdEUC",
        "outputId": "d314c477-21f1-4150-c0fb-bf78d8d674e2"
      },
      "execution_count": 12,
      "outputs": [
        {
          "output_type": "stream",
          "name": "stdout",
          "text": [
            "Enter string: welcome to edureka\n",
            "akerude ot emoclew\n"
          ]
        }
      ]
    },
    {
      "cell_type": "markdown",
      "source": [
        "**5.Please write a program thatcountsand printsthe numbers of each character in a string input bytheconsole.**"
      ],
      "metadata": {
        "id": "2GTBDqOPdx4Z"
      }
    },
    {
      "cell_type": "code",
      "source": [
        "s5 = input(\"Enter string: \")\n",
        "s5_set = set(s5)\n",
        "\n",
        "for ch in s5_set:\n",
        "    print(f'Count of {ch} - {s5.count(ch)}')"
      ],
      "metadata": {
        "colab": {
          "base_uri": "https://localhost:8080/"
        },
        "id": "t-Z26wA3dkSi",
        "outputId": "db87467a-4d47-4a99-9ed5-58663718768a"
      },
      "execution_count": 16,
      "outputs": [
        {
          "output_type": "stream",
          "name": "stdout",
          "text": [
            "Enter string: aakjhklkkwmmlaqq\n",
            "Count of l - 2\n",
            "Count of j - 1\n",
            "Count of q - 2\n",
            "Count of a - 3\n",
            "Count of h - 1\n",
            "Count of w - 1\n",
            "Count of k - 4\n",
            "Count of m - 2\n"
          ]
        }
      ]
    }
  ]
}