{
  "nbformat": 4,
  "nbformat_minor": 0,
  "metadata": {
    "colab": {
      "provenance": []
    },
    "kernelspec": {
      "name": "python3",
      "display_name": "Python 3"
    },
    "language_info": {
      "name": "python"
    }
  },
  "cells": [
    {
      "cell_type": "markdown",
      "source": [
        "\n",
        "```\n",
        "1. Convert the given list into a numpy array and replace the odd elements with -2.\n",
        "Lst=[[1,2,3], [4,5,6], [7,8,9]]\n",
        "```"
      ],
      "metadata": {
        "id": "A2rnIPDJSGO9"
      }
    },
    {
      "cell_type": "code",
      "execution_count": 6,
      "metadata": {
        "colab": {
          "base_uri": "https://localhost:8080/"
        },
        "id": "ufd7pPhRSAMF",
        "outputId": "edeb7458-5456-443d-9843-a8a94c5f0650"
      },
      "outputs": [
        {
          "output_type": "execute_result",
          "data": {
            "text/plain": [
              "array([[-2,  2, -2],\n",
              "       [ 4, -2,  6],\n",
              "       [-2,  8, -2]])"
            ]
          },
          "metadata": {},
          "execution_count": 6
        }
      ],
      "source": [
        "import numpy as np\n",
        "lst = [[1,2,3], [4,5,6], [7,8,9]]\n",
        "arr = np.array(lst)\n",
        "arr[arr%2 != 0] = -2\n",
        "arr"
      ]
    },
    {
      "cell_type": "markdown",
      "source": [
        "```\n",
        "2. In the numpyarray given below print all the elements ranging from 8 to 15.\n",
        "\n",
        "arr = [1,2,3,4,5,8,9,10,12,22,32,54,99,6,7]\n",
        "```"
      ],
      "metadata": {
        "id": "mrJLZMbbVTSm"
      }
    },
    {
      "cell_type": "code",
      "source": [
        "arr2 = np.array([1,2,3,4,5,8,9,10,12,22,32,54,99,6,7])\n",
        "x = arr2[(arr2 > 7) & (arr2 < 16)]\n",
        "print(x)"
      ],
      "metadata": {
        "colab": {
          "base_uri": "https://localhost:8080/"
        },
        "id": "YrY7OaXLSfjZ",
        "outputId": "551bb511-7c43-40ea-f958-f63d6eb5d8e4"
      },
      "execution_count": 11,
      "outputs": [
        {
          "output_type": "stream",
          "name": "stdout",
          "text": [
            "[ 8  9 10 12]\n"
          ]
        }
      ]
    },
    {
      "cell_type": "markdown",
      "source": [
        "```\n",
        "3. Create a 3*3 narray thatincludes numbersfrom 1 to 9 and swap columns1 and2\n",
        "```"
      ],
      "metadata": {
        "id": "xnDvAETtWILi"
      }
    },
    {
      "cell_type": "code",
      "source": [
        "arr3 = np.arange(1, 10).reshape(3,3)\n",
        "arr3"
      ],
      "metadata": {
        "colab": {
          "base_uri": "https://localhost:8080/"
        },
        "id": "kepLtra_Vq0v",
        "outputId": "6ed008c6-0ff2-4154-8c61-a11a827ed7b1"
      },
      "execution_count": 13,
      "outputs": [
        {
          "output_type": "execute_result",
          "data": {
            "text/plain": [
              "array([[1, 2, 3],\n",
              "       [4, 5, 6],\n",
              "       [7, 8, 9]])"
            ]
          },
          "metadata": {},
          "execution_count": 13
        }
      ]
    },
    {
      "cell_type": "code",
      "source": [
        "arr3[:, [0, 1]] = arr3[:, [1, 0]]\n",
        "arr3"
      ],
      "metadata": {
        "colab": {
          "base_uri": "https://localhost:8080/"
        },
        "id": "0jS4vXcxWVwH",
        "outputId": "2fbb6016-3a4d-4062-8a4c-d5e13defe342"
      },
      "execution_count": 19,
      "outputs": [
        {
          "output_type": "execute_result",
          "data": {
            "text/plain": [
              "array([[2, 1, 3],\n",
              "       [5, 4, 6],\n",
              "       [8, 7, 9]])"
            ]
          },
          "metadata": {},
          "execution_count": 19
        }
      ]
    },
    {
      "cell_type": "markdown",
      "source": [
        "```\n",
        "In the given numpyarray replace the NaN values with the average of columns\n",
        "arr= np.array([[1.3, 2.5, 3.6, np.nan], [2.6, 3.3, np.nan, 5.5], [2.1, 3.2, 5.4, 6.5]])\n",
        "```"
      ],
      "metadata": {
        "id": "8fVJpTCeX_XD"
      }
    },
    {
      "cell_type": "code",
      "source": [
        "arr4= np.array([[1.3, 2.5, 3.6, np.nan], [2.6, 3.3, np.nan, 5.5], [2.1, 3.2, 5.4, 6.5]])\n",
        "col_mean = np.nanmean(arr4, axis=0)\n",
        "print(col_mean)\n",
        "\n",
        "inds = np.where(np.isnan(arr4))\n",
        "\n",
        "print(\"\\n\", arr4[inds], inds[1], \"\\n\")\n",
        "\n",
        "arr4[inds] = np.take(col_mean, inds[1])\n",
        "\n",
        "print(arr4)"
      ],
      "metadata": {
        "colab": {
          "base_uri": "https://localhost:8080/"
        },
        "id": "mxtmELBZW7vH",
        "outputId": "9e9ec8c5-d97d-4e5b-debe-3def717dc6c8"
      },
      "execution_count": 72,
      "outputs": [
        {
          "output_type": "stream",
          "name": "stdout",
          "text": [
            "[2.  3.  4.5 6. ]\n",
            "\n",
            " [nan nan] [3 2] \n",
            "\n",
            "[[1.3 2.5 3.6 6. ]\n",
            " [2.6 3.3 4.5 5.5]\n",
            " [2.1 3.2 5.4 6.5]]\n"
          ]
        }
      ]
    },
    {
      "cell_type": "markdown",
      "source": [
        "```\n",
        "5. For the numpyarray given below perform the following operation:i.Convert the numpyarray into a numpymatrixii.Sort the values in a matrix\n",
        "arr = [[2,4,6],[1,3,5]]\n",
        "```"
      ],
      "metadata": {
        "id": "-83KrzwTiGrQ"
      }
    },
    {
      "cell_type": "code",
      "source": [
        "arr5 = np.array([[2,4,6],[1,3,5]])\n",
        "m1 = np.asmatrix(arr5)\n",
        "m1.sort(axis=0)"
      ],
      "metadata": {
        "id": "8rsYGG_GdXgR"
      },
      "execution_count": 80,
      "outputs": []
    },
    {
      "cell_type": "code",
      "source": [
        "m1"
      ],
      "metadata": {
        "colab": {
          "base_uri": "https://localhost:8080/"
        },
        "id": "i9Ey3zkvieoR",
        "outputId": "b1b62f97-e5a3-4ea2-aed4-af53f1b1b39a"
      },
      "execution_count": 81,
      "outputs": [
        {
          "output_type": "execute_result",
          "data": {
            "text/plain": [
              "matrix([[1, 3, 5],\n",
              "        [2, 4, 6]])"
            ]
          },
          "metadata": {},
          "execution_count": 81
        }
      ]
    }
  ]
}