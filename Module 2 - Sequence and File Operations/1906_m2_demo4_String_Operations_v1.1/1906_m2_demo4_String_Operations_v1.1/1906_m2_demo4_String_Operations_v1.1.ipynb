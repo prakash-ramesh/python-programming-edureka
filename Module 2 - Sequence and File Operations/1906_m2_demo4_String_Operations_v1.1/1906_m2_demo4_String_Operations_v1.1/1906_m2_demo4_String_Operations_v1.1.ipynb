{
  "cells": [
    {
      "cell_type": "markdown",
      "source": [
        "##Demo 4 - String Operations\n",
        "\n",
        "In this demo, you will learn about different operations performed on String Data type."
      ],
      "metadata": {
        "id": "1m1FusNhh7C8"
      }
    },
    {
      "cell_type": "markdown",
      "source": [
        "Initializing String in Python."
      ],
      "metadata": {
        "id": "X7l8ztd9iCKy"
      }
    },
    {
      "cell_type": "code",
      "execution_count": null,
      "metadata": {
        "colab": {
          "base_uri": "https://localhost:8080/"
        },
        "id": "J_601vsyhyR5",
        "outputId": "5f8abd36-c698-4c87-fce8-2add8c344bc5"
      },
      "outputs": [
        {
          "output_type": "stream",
          "name": "stdout",
          "text": [
            "Good Morning Students From \n",
            "    Edureka\n"
          ]
        }
      ],
      "source": [
        "# Smith is working on Strings\n",
        "# Different ways to initialize strings in python\n",
        "A=\"Good\"\n",
        "B=\"Morning\"\n",
        "C=\"\"\"Students\"\"\"\n",
        "D='''From \n",
        "    Edureka''' #can be multiline\n",
        "print(A,B,C,D)"
      ]
    },
    {
      "cell_type": "markdown",
      "source": [
        "Different operations in String"
      ],
      "metadata": {
        "id": "wmu_lO0WkMT0"
      }
    },
    {
      "cell_type": "code",
      "execution_count": null,
      "metadata": {
        "colab": {
          "base_uri": "https://localhost:8080/"
        },
        "id": "TwiZj6ekhySA",
        "outputId": "a90e8b6d-a57c-4d44-e502-6ab926c9d119"
      },
      "outputs": [
        {
          "output_type": "stream",
          "name": "stdout",
          "text": [
            "Hello!\n",
            "Edureka\n",
            "Cat goes?out\n",
            "Cats 'out'\n",
            "C:\\Python32\\Lib\n"
          ]
        }
      ],
      "source": [
        "# He learns that there are various escape sequences provided in python that can be used to display quotes, newline, \n",
        "# Backslash\n",
        "A='Hello!\\nEdureka'\n",
        "print(A)\n",
        "B=input('Cat goes?')\n",
        "print('Cats \\'%s\\''%B)\n",
        "\n",
        "print(\"C:\\\\Python32\\\\Lib\")"
      ]
    },
    {
      "cell_type": "code",
      "execution_count": null,
      "metadata": {
        "colab": {
          "base_uri": "https://localhost:8080/"
        },
        "id": "YZyTwGEbhySB",
        "outputId": "45787a5c-7164-4ef3-e741-879032f07a0e"
      },
      "outputs": [
        {
          "output_type": "stream",
          "name": "stdout",
          "text": [
            "Names:deb,deba\n",
            "['deb', 'deba']\n"
          ]
        }
      ],
      "source": [
        "# John now takes names and surnames of all her friends as input, seperated by ,\n",
        "Names=input('Names:').split(',')\n",
        "print(Names)"
      ]
    },
    {
      "cell_type": "code",
      "execution_count": null,
      "metadata": {
        "colab": {
          "base_uri": "https://localhost:8080/"
        },
        "id": "KddV3hyIhySC",
        "outputId": "3392a4ba-87ab-442d-8be2-0775e72144b4"
      },
      "outputs": [
        {
          "output_type": "stream",
          "name": "stdout",
          "text": [
            "Deba\n"
          ]
        }
      ],
      "source": [
        "#wait a second! He didn't capitalize first letter of some names\n",
        "print(Names[1].capitalize())"
      ]
    },
    {
      "cell_type": "code",
      "execution_count": null,
      "metadata": {
        "colab": {
          "base_uri": "https://localhost:8080/"
        },
        "id": "mE5O4ukAhySD",
        "outputId": "64301027-e8dd-47a3-9f0a-0b0843055988"
      },
      "outputs": [
        {
          "output_type": "stream",
          "name": "stdout",
          "text": [
            "Surnames: John,Patel\n",
            "['John', 'Patel']\n"
          ]
        }
      ],
      "source": [
        "Surnames=input('Surnames: ').split(',')\n",
        "print(Surnames)"
      ]
    },
    {
      "cell_type": "code",
      "execution_count": null,
      "metadata": {
        "colab": {
          "base_uri": "https://localhost:8080/"
        },
        "id": "1Tbk2ocJhySE",
        "outputId": "293d60c1-7d13-4449-b9e1-1e4dc651b4da"
      },
      "outputs": [
        {
          "output_type": "stream",
          "name": "stdout",
          "text": [
            "Deba Patel\n"
          ]
        }
      ],
      "source": [
        "# The the full name of second friend will be\n",
        "print(Names[1].capitalize()+' '+Surnames[1].capitalize()) "
      ]
    },
    {
      "cell_type": "code",
      "execution_count": null,
      "metadata": {
        "colab": {
          "base_uri": "https://localhost:8080/"
        },
        "id": "UAL8pbMrhySF",
        "outputId": "c143792e-8611-4c60-998a-43fb58c5daeb"
      },
      "outputs": [
        {
          "output_type": "stream",
          "name": "stdout",
          "text": [
            "Quote 1 Starts with 'Happiness': True\n",
            "Quote 2 Starts with 'Happiness': False\n",
            "Quote 1 Ends with 'gardens': False\n",
            "Quote 2 Ends with 'gardens': True\n"
          ]
        }
      ],
      "source": [
        "# Let us see some more functions on strings\n",
        "quote1='''Happiness can be defined, in part at least, \n",
        "        as the fruit of the desire and ability to sacrifice \n",
        "        what we want now for what we want eventually\n",
        "     '''\n",
        "quote2='Sadness is but a wall between two gardens'\n",
        "print('Quote 1 Starts with \\'Happiness\\': %s'%quote1.startswith('Happiness'))\n",
        "print('Quote 2 Starts with \\'Happiness\\': %s'%quote2.startswith('Happiness'))\n",
        "print('Quote 1 Ends with \\'gardens\\': %s'%quote1.endswith('gardens'))\n",
        "print('Quote 2 Ends with \\'gardens\\': %s'%quote2.endswith('gardens'))"
      ]
    },
    {
      "cell_type": "markdown",
      "source": [
        "Slicing in String"
      ],
      "metadata": {
        "id": "JOXWT7JVldCm"
      }
    },
    {
      "cell_type": "code",
      "execution_count": null,
      "metadata": {
        "colab": {
          "base_uri": "https://localhost:8080/"
        },
        "id": "Qxh-O_KKhySH",
        "outputId": "2b47fdca-084d-4789-8d41-8ce869c7c48c"
      },
      "outputs": [
        {
          "output_type": "stream",
          "name": "stdout",
          "text": [
            "index of 'fruit': 60\n",
            "fruit\n",
            "fruit of the desire and ability to sacrifice \n",
            "        what we want now for what we want eventually\n",
            "     \n",
            "Happiness can be defined, in part at least, \n",
            "        as the \n",
            "     \n",
            "yllautneve tnaw ew tahw rof won tnaw ew tahw        \n",
            " ecifircas ot ytiliba dna erised eht fo tiurf eht sa        \n",
            " ,tsael ta trap ni ,denifed eb nac ssenippaH\n",
            "fruit of the desire and ability to sacrifice \n",
            "        what we want now for what we want \n"
          ]
        }
      ],
      "source": [
        "print('index of \\'fruit\\': %d'%quote1.index('fruit'))\n",
        "print(quote1[60:65]) #slicing in strings\n",
        "print(quote1[60:])\n",
        "print(quote1[:60])\n",
        "print(quote1[::-1]) # reverse of string\n",
        "print(quote1[60:-16])"
      ]
    },
    {
      "cell_type": "code",
      "execution_count": null,
      "metadata": {
        "colab": {
          "base_uri": "https://localhost:8080/"
        },
        "id": "hqdpOs9YhySI",
        "outputId": "417b2a1a-d1a4-4233-ea59-c768454c6cff"
      },
      "outputs": [
        {
          "output_type": "stream",
          "name": "stdout",
          "text": [
            "Happiness can be defined, in part at least, \n",
            "        as the fruit of the desire and ability to sacrifice \n",
            "        what we want now for what we want eventually\n",
            "     \n",
            "Happiness can be defined, in part at least, \n",
            "        as the result of the desire and ability to sacrifice \n",
            "        what we want now for what we want eventually\n",
            "     \n"
          ]
        }
      ],
      "source": [
        "quote1.replace('fruit','result')\n",
        "print(quote1) #no change why? Strings are immutable we need to assign to new one\n",
        "quote3=quote1.replace('fruit','result')\n",
        "print(quote3)"
      ]
    },
    {
      "cell_type": "code",
      "execution_count": null,
      "metadata": {
        "colab": {
          "base_uri": "https://localhost:8080/"
        },
        "id": "o1u_gXVwhySJ",
        "outputId": "9b18e948-4b50-445c-c331-0286cef87ae7"
      },
      "outputs": [
        {
          "output_type": "stream",
          "name": "stdout",
          "text": [
            "String:Edureka\n",
            "False\n",
            "True\n"
          ]
        }
      ],
      "source": [
        "# Smith wants to find out whether the given string is a number or text\n",
        "# if its text, he wants to change the case\n",
        "\n",
        "text=input('String:')\n",
        "print(text.isnumeric())\n",
        "print(text.isalpha())"
      ]
    },
    {
      "cell_type": "code",
      "execution_count": null,
      "metadata": {
        "colab": {
          "base_uri": "https://localhost:8080/"
        },
        "id": "hJ8kASsdhySL",
        "outputId": "c3fb7933-9ed8-4403-ee99-82c0f0142c34"
      },
      "outputs": [
        {
          "output_type": "stream",
          "name": "stdout",
          "text": [
            "False\n",
            "False\n"
          ]
        }
      ],
      "source": [
        "print(text.isupper())\n",
        "print(text.islower())"
      ]
    },
    {
      "cell_type": "code",
      "execution_count": null,
      "metadata": {
        "colab": {
          "base_uri": "https://localhost:8080/"
        },
        "id": "33NS12KShySL",
        "outputId": "dae98e08-ec1d-4440-868a-28b833ba7909"
      },
      "outputs": [
        {
          "output_type": "stream",
          "name": "stdout",
          "text": [
            "EDUREKA\n"
          ]
        }
      ],
      "source": [
        "#upper will change the case to uppercase, lower for lowercase and swapcase function will change case of every character\n",
        "print(text.upper())"
      ]
    },
    {
      "cell_type": "code",
      "execution_count": null,
      "metadata": {
        "colab": {
          "base_uri": "https://localhost:8080/"
        },
        "id": "Av5gfkOghySM",
        "outputId": "f1b076e6-5cee-4562-b4b3-303c847fccc6"
      },
      "outputs": [
        {
          "output_type": "stream",
          "name": "stdout",
          "text": [
            "age 24\n",
            "name John\n",
            "my age is: 24 and name is :John\n"
          ]
        }
      ],
      "source": [
        "# Format Function\n",
        "print(\"my age is: {0} and name is :{1}\".format(input(\"age \"),input(\"name \")))"
      ]
    },
    {
      "cell_type": "markdown",
      "source": [
        "Encode and Decode Function"
      ],
      "metadata": {
        "id": "4g-XG7pFUGIx"
      }
    },
    {
      "cell_type": "code",
      "execution_count": null,
      "metadata": {
        "colab": {
          "base_uri": "https://localhost:8080/"
        },
        "id": "OoW44eQfhySM",
        "outputId": "c122eab2-a604-4660-b57f-36d1f3713128"
      },
      "outputs": [
        {
          "output_type": "stream",
          "name": "stdout",
          "text": [
            "<class 'str'>\n",
            "b'Edureka'\n",
            "<class 'bytes'>\n",
            "Edureka\n",
            "<class 'str'>\n"
          ]
        }
      ],
      "source": [
        "## SENDER SIDE\n",
        "str1='Edureka'\n",
        "print(type(str1))\n",
        "str2=str1.encode('utf-8')\n",
        "print(str2)\n",
        "print(type(str2))\n",
        "\n",
        "## RECEIVER SIDE\n",
        "result=str2.decode('utf-8')\n",
        "print(result)\n",
        "print(type(result))\n"
      ]
    },
    {
      "cell_type": "code",
      "execution_count": null,
      "metadata": {
        "colab": {
          "base_uri": "https://localhost:8080/",
          "height": 226
        },
        "id": "kb3HMd51hySN",
        "outputId": "5228e6e3-48dd-409d-9317-772d9fce5d3f"
      },
      "outputs": [
        {
          "output_type": "stream",
          "name": "stdout",
          "text": [
            "-1\n"
          ]
        },
        {
          "output_type": "error",
          "ename": "ValueError",
          "evalue": "ignored",
          "traceback": [
            "\u001b[0;31m---------------------------------------------------------------------------\u001b[0m",
            "\u001b[0;31mValueError\u001b[0m                                Traceback (most recent call last)",
            "\u001b[0;32m<ipython-input-16-701ba24c11bb>\u001b[0m in \u001b[0;36m<module>\u001b[0;34m()\u001b[0m\n\u001b[1;32m      2\u001b[0m \u001b[0;34m\u001b[0m\u001b[0m\n\u001b[1;32m      3\u001b[0m \u001b[0mprint\u001b[0m\u001b[0;34m(\u001b[0m\u001b[0;34m'Edureka'\u001b[0m\u001b[0;34m.\u001b[0m\u001b[0mfind\u001b[0m\u001b[0;34m(\u001b[0m\u001b[0;34m'x'\u001b[0m\u001b[0;34m)\u001b[0m\u001b[0;34m)\u001b[0m  \u001b[0;31m#returns -1 if missing\u001b[0m\u001b[0;34m\u001b[0m\u001b[0;34m\u001b[0m\u001b[0m\n\u001b[0;32m----> 4\u001b[0;31m \u001b[0mprint\u001b[0m\u001b[0;34m(\u001b[0m\u001b[0;34m'Edureka'\u001b[0m\u001b[0;34m.\u001b[0m\u001b[0mindex\u001b[0m\u001b[0;34m(\u001b[0m\u001b[0;34m'x'\u001b[0m\u001b[0;34m)\u001b[0m\u001b[0;34m)\u001b[0m  \u001b[0;31m# returns value error if missing\u001b[0m\u001b[0;34m\u001b[0m\u001b[0;34m\u001b[0m\u001b[0m\n\u001b[0m",
            "\u001b[0;31mValueError\u001b[0m: substring not found"
          ]
        }
      ],
      "source": [
        "## Find vs Index\n",
        "\n",
        "print('Edureka'.find('x'))  #returns -1 if missing\n",
        "print('Edureka'.index('x'))  # returns value error if missing"
      ]
    }
  ],
  "metadata": {
    "kernelspec": {
      "display_name": "Python 3",
      "language": "python",
      "name": "python3"
    },
    "language_info": {
      "codemirror_mode": {
        "name": "ipython",
        "version": 3
      },
      "file_extension": ".py",
      "mimetype": "text/x-python",
      "name": "python",
      "nbconvert_exporter": "python",
      "pygments_lexer": "ipython3",
      "version": "3.7.3"
    },
    "colab": {
      "name": "1906_m2_demo4 - String Operations_v1.1.ipynb",
      "provenance": []
    }
  },
  "nbformat": 4,
  "nbformat_minor": 0
}