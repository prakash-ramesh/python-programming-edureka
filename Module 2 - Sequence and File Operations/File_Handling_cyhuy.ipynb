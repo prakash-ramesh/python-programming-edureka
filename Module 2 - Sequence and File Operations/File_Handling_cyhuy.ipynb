{
 "cells": [
  {
   "cell_type": "code",
   "execution_count": null,
   "id": "3c710dd4-761f-4da2-8eca-8c79780fd279",
   "metadata": {},
   "outputs": [],
   "source": [
    "#File Handling\n",
    "#Basic(Native) File handling: text\n",
    "#Advanced File handling(Numpy and Pandas):csv,excel,JSON, make use of module"
   ]
  },
  {
   "cell_type": "code",
   "execution_count": null,
   "id": "b0998873-8180-4bfe-9786-389cede9bd18",
   "metadata": {},
   "outputs": [],
   "source": [
    "#Open()-->Operations(read,write)-->Close()\n",
    "#open(File_name,File_mode)\n",
    "#File_mode:r,w,a,r+   20+"
   ]
  },
  {
   "cell_type": "code",
   "execution_count": 5,
   "id": "10e4e457-81cf-4507-b3cc-b4502a979b89",
   "metadata": {},
   "outputs": [
    {
     "name": "stdout",
     "output_type": "stream",
     "text": [
      "['This is a sample file content to access from python code.\\n', 'Line1\\n', 'Line2\\n', 'Line3\\n', 'Line4\\n', 'Line5']\n"
     ]
    }
   ],
   "source": [
    "file_obj=open(\"File1.txt\",'r')\n",
    "#data=file_obj.read()\n",
    "data=file_obj.readlines()\n",
    "print(data)\n",
    "file_obj.close()"
   ]
  },
  {
   "cell_type": "code",
   "execution_count": 6,
   "id": "7d887560-8c5d-4a05-bdd2-d9172dcdd795",
   "metadata": {},
   "outputs": [
    {
     "name": "stdout",
     "output_type": "stream",
     "text": [
      "Email IDs to share\n",
      "ryricha006@gmail.com\n",
      "Samarth007sadh@gmail.com\n",
      "manas21shukla@gmail.com\n"
     ]
    }
   ],
   "source": [
    "file_obj=open(\"C:\\\\Users\\\\Dell\\\\Desktop\\\\Email IDs to share.txt\",'r')\n",
    "data=file_obj.read()\n",
    "print(data)\n",
    "file_obj.close()"
   ]
  },
  {
   "cell_type": "code",
   "execution_count": 8,
   "id": "8d9df1ab-3bc5-4be0-91ed-578c0162e9f5",
   "metadata": {},
   "outputs": [
    {
     "ename": "UnsupportedOperation",
     "evalue": "not writable",
     "output_type": "error",
     "traceback": [
      "\u001b[1;31m---------------------------------------------------------------------------\u001b[0m",
      "\u001b[1;31mUnsupportedOperation\u001b[0m                      Traceback (most recent call last)",
      "Cell \u001b[1;32mIn[8], line 3\u001b[0m\n\u001b[0;32m      1\u001b[0m \u001b[38;5;66;03m#Write: w & a\u001b[39;00m\n\u001b[0;32m      2\u001b[0m file_obj\u001b[38;5;241m=\u001b[39m\u001b[38;5;28mopen\u001b[39m(\u001b[38;5;124m\"\u001b[39m\u001b[38;5;124mFile1.txt\u001b[39m\u001b[38;5;124m\"\u001b[39m,\u001b[38;5;124m'\u001b[39m\u001b[38;5;124mr\u001b[39m\u001b[38;5;124m'\u001b[39m)\n\u001b[1;32m----> 3\u001b[0m \u001b[43mfile_obj\u001b[49m\u001b[38;5;241;43m.\u001b[39;49m\u001b[43mwrite\u001b[49m\u001b[43m(\u001b[49m\u001b[38;5;124;43m\"\u001b[39;49m\u001b[38;5;124;43mNew content\u001b[39;49m\u001b[38;5;124;43m\"\u001b[39;49m\u001b[43m)\u001b[49m\n\u001b[0;32m      4\u001b[0m file_obj\u001b[38;5;241m.\u001b[39mclose()\n",
      "\u001b[1;31mUnsupportedOperation\u001b[0m: not writable"
     ]
    }
   ],
   "source": [
    "#Write: w & a\n",
    "file_obj=open(\"File1.txt\",'w')\n",
    "file_obj.write(\"New content\")\n",
    "file_obj.close()"
   ]
  },
  {
   "cell_type": "code",
   "execution_count": 9,
   "id": "836e5560-10fb-4b0c-a3bc-968836f6f539",
   "metadata": {},
   "outputs": [],
   "source": [
    "file_obj=open(\"File1.txt\",'a')\n",
    "file_obj.write(\"This is content appended at the last\")\n",
    "file_obj.close()"
   ]
  },
  {
   "cell_type": "code",
   "execution_count": 10,
   "id": "f9d72027-61d1-4c35-8fc5-30a6697d1885",
   "metadata": {},
   "outputs": [],
   "source": [
    "#Renaming\n",
    "import os\n",
    "os.rename(\"File1.txt\",\"File_new.txt\")"
   ]
  },
  {
   "cell_type": "code",
   "execution_count": null,
   "id": "42659913-8c5a-44e9-aa9f-dd20eeb204b7",
   "metadata": {},
   "outputs": [],
   "source": [
    "#seek() and tell()"
   ]
  }
 ],
 "metadata": {
  "kernelspec": {
   "display_name": "Python 3 (ipykernel)",
   "language": "python",
   "name": "python3"
  },
  "language_info": {
   "codemirror_mode": {
    "name": "ipython",
    "version": 3
   },
   "file_extension": ".py",
   "mimetype": "text/x-python",
   "name": "python",
   "nbconvert_exporter": "python",
   "pygments_lexer": "ipython3",
   "version": "3.12.1"
  }
 },
 "nbformat": 4,
 "nbformat_minor": 5
}
