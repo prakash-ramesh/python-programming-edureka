{
 "cells": [
  {
   "cell_type": "code",
   "execution_count": 6,
   "id": "b154f6ba-b2e9-4b71-9a10-38532b3a39e7",
   "metadata": {},
   "outputs": [
    {
     "name": "stdout",
     "output_type": "stream",
     "text": [
      "Hello Ajit, welcome to the company\n",
      "Hello Ramesh, welcome to the company\n",
      "This is a sample doc string\n"
     ]
    }
   ],
   "source": [
    "#Create Class\n",
    "class Employee:\n",
    "    \"This is a sample doc string\"  #Doc string\n",
    "    name=\"\"\n",
    "    def greet(self,name):\n",
    "        print(f\"Hello {name}, welcome to the company\")\n",
    "\n",
    "#Create objects\n",
    "ob1=Employee()   #obj_name=class_name()\n",
    "ob1.greet(\"Ajit\") #ob1.greet(ob1,\"Ajit\")\n",
    "\n",
    "ob2=Employee()\n",
    "ob2.greet(\"Ramesh\")\n",
    "\n",
    "print(ob1.__doc__)"
   ]
  },
  {
   "cell_type": "code",
   "execution_count": 9,
   "id": "67cc8954-e927-4547-8763-63862affbec9",
   "metadata": {},
   "outputs": [
    {
     "name": "stdout",
     "output_type": "stream",
     "text": [
      "Memorey of Self  1979903282352\n",
      "Memorey of object  1979903282352\n",
      "Memorey of Self  1979903357152\n",
      "Memorey of object  1979903357152\n"
     ]
    }
   ],
   "source": [
    "#Self\n",
    "class Employee:\n",
    "    \"This is a sample doc string\"  #Doc string\n",
    "    name=\"\"\n",
    "    def greet(self,name):\n",
    "        print(\"Memorey of Self \",id(self))\n",
    "\n",
    "#Create objects\n",
    "ob1=Employee()   #obj_name=class_name()\n",
    "ob1.greet(\"Ajit\") #ob1.greet(ob1,\"Ajit\")\n",
    "print(\"Memorey of object \",id(ob1))\n",
    "\n",
    "ob2=Employee()\n",
    "ob2.greet(\"Ramesh\")\n",
    "print(\"Memorey of object \",id(ob2))"
   ]
  },
  {
   "cell_type": "code",
   "execution_count": null,
   "id": "1ab32717-f21d-4897-96d7-88390bbe244c",
   "metadata": {},
   "outputs": [],
   "source": [
    "#Concepts in OOP:\n",
    "#1.Data Abstraction (Data Encapsulation)\n",
    "#Inheritence\n",
    "#Polymorphism"
   ]
  },
  {
   "cell_type": "code",
   "execution_count": 17,
   "id": "daeaec43-2695-4502-aef2-96b4c430b900",
   "metadata": {},
   "outputs": [
    {
     "name": "stdout",
     "output_type": "stream",
     "text": [
      "I am public\n",
      "I am protected\n"
     ]
    },
    {
     "ename": "AttributeError",
     "evalue": "'Edureka' object has no attribute 'func'",
     "output_type": "error",
     "traceback": [
      "\u001b[1;31m---------------------------------------------------------------------------\u001b[0m",
      "\u001b[1;31mAttributeError\u001b[0m                            Traceback (most recent call last)",
      "Cell \u001b[1;32mIn[17], line 18\u001b[0m\n\u001b[0;32m     16\u001b[0m \u001b[38;5;28mprint\u001b[39m(ob\u001b[38;5;241m.\u001b[39m_pro)\n\u001b[0;32m     17\u001b[0m \u001b[38;5;66;03m#print(ob.__pri)\u001b[39;00m\n\u001b[1;32m---> 18\u001b[0m \u001b[43mob\u001b[49m\u001b[38;5;241;43m.\u001b[39;49m\u001b[43mfunc\u001b[49m()\n",
      "\u001b[1;31mAttributeError\u001b[0m: 'Edureka' object has no attribute 'func'"
     ]
    }
   ],
   "source": [
    "#Data Encapsulation\n",
    "#Access specifiers(modifiers): Public,private,protected\n",
    "\n",
    "class Edureka:\n",
    "    def __init__(self):\n",
    "        self.__pri=\"I am private\"\n",
    "        self.pub=\"I am public\"\n",
    "        self._pro=\"I am protected\"\n",
    "\n",
    "    def func(self):\n",
    "        print(self.__pri)\n",
    "\n",
    "ob=Edureka()\n",
    "print(ob.pub)\n",
    "print(ob._pro)\n",
    "#print(ob.__pri)\n",
    "ob.func()"
   ]
  },
  {
   "cell_type": "code",
   "execution_count": null,
   "id": "b0c15083-127c-4fe7-b022-a2cd0fe52c30",
   "metadata": {},
   "outputs": [],
   "source": [
    "#Constructors and Destructors\n",
    "\"\"\"\n",
    "1.Special Functions/methods\n",
    "2.Const are use to allocate memorey to the objects\n",
    "3.Always public\n",
    "4.Name is same as class\n",
    "\n",
    "ob=Edureka()--->Pointing to the constructor\n",
    "\"\"\""
   ]
  },
  {
   "cell_type": "code",
   "execution_count": 21,
   "id": "af78e4a9-20e6-4769-b81f-1cbb3edfed10",
   "metadata": {},
   "outputs": [
    {
     "name": "stdout",
     "output_type": "stream",
     "text": [
      "Constructor is called, object created\n",
      "Constructor is called, object created\n",
      "Destructor is called,object deleted\n"
     ]
    }
   ],
   "source": [
    "class testclass:\n",
    "    def __init__(self):\n",
    "        print(\"Constructor is called, object created\")\n",
    "    def __del__(self):\n",
    "        print(\"Destructor is called,object deleted\")\n",
    "\n",
    "ob1=testclass()\n",
    "ob2=testclass()\n",
    "del ob1"
   ]
  },
  {
   "cell_type": "code",
   "execution_count": 23,
   "id": "a179a2c3-336c-4123-9b66-8cd51cadc5a8",
   "metadata": {},
   "outputs": [
    {
     "name": "stdout",
     "output_type": "stream",
     "text": [
      "This is parent class constructor\n",
      "This is child class constructor\n",
      "This is parent method\n",
      "This is child method\n"
     ]
    },
    {
     "ename": "AttributeError",
     "evalue": "'Parent' object has no attribute 'child_method'",
     "output_type": "error",
     "traceback": [
      "\u001b[1;31m---------------------------------------------------------------------------\u001b[0m",
      "\u001b[1;31mAttributeError\u001b[0m                            Traceback (most recent call last)",
      "Cell \u001b[1;32mIn[23], line 24\u001b[0m\n\u001b[0;32m     21\u001b[0m Child_Object\u001b[38;5;241m.\u001b[39mchild_method()  \u001b[38;5;66;03m# calling child method through child object\u001b[39;00m\n\u001b[0;32m     23\u001b[0m \u001b[38;5;66;03m#Child_Object.parent_method() # calling parent method using child object. This is the advantage of inheritance. \u001b[39;00m\n\u001b[1;32m---> 24\u001b[0m \u001b[43mParent_Object\u001b[49m\u001b[38;5;241;43m.\u001b[39;49m\u001b[43mchild_method\u001b[49m() \u001b[38;5;66;03m# This line will throw error if executed because parent can't access child\u001b[39;00m\n",
      "\u001b[1;31mAttributeError\u001b[0m: 'Parent' object has no attribute 'child_method'"
     ]
    }
   ],
   "source": [
    "#Inheritance-Code Reusabilty\n",
    "# Single Inheritance\n",
    "# Example 1\n",
    "\n",
    "class Parent:  #Base\n",
    "    def __init__(self):\n",
    "        print('This is parent class constructor')\n",
    "    def parent_method(self):\n",
    "        print('This is parent method')\n",
    "\n",
    "class Child(Parent):  #Derived      Class Der_class(Base_class)\n",
    "    def __init__(self):\n",
    "        print('This is child class constructor')\n",
    "    def child_method(self):\n",
    "        print('This is child method')\n",
    "        \n",
    "Parent_Object=Parent() # parent object creation\n",
    "Child_Object=Child()   # child object creation\n",
    "\n",
    "Parent_Object.parent_method()  # calling parent method through parent object\n",
    "Child_Object.child_method()  # calling child method through child object\n",
    "\n",
    "#Child_Object.parent_method() # calling parent method using child object. This is the advantage of inheritance. \n",
    "Parent_Object.child_method() # This line will throw error if executed because parent can't access child"
   ]
  },
  {
   "cell_type": "code",
   "execution_count": 24,
   "id": "13e7787b-3f58-4954-91bb-fb79fb284102",
   "metadata": {},
   "outputs": [
    {
     "name": "stdout",
     "output_type": "stream",
     "text": [
      "This is child class constructor\n",
      "This is child method\n",
      "This is 1st parent method\n",
      "This is 2nd parent method\n"
     ]
    }
   ],
   "source": [
    "# Multiple Inheritance\n",
    "# Example 2\n",
    "\n",
    "class Parent_1:\n",
    "    def __init__(self):\n",
    "        print('This is 1st parent class constructor')\n",
    "    def parent_method_1(self):\n",
    "        print('This is 1st parent method')\n",
    "class Parent_2:\n",
    "    def __init__(self):\n",
    "        print('This is 2nd parent class constructor')\n",
    "    def parent_method_2(self):\n",
    "        print('This is 2nd parent method')\n",
    "\n",
    "class Child(Parent_1,Parent_2):\n",
    "    \n",
    "    def __init__(self):\n",
    "        print('This is child class constructor')\n",
    "    def child_method(self):\n",
    "        print('This is child method')\n",
    "\n",
    "Child_Object=Child()\n",
    "Child_Object.child_method()\n",
    "\n",
    "Child_Object.parent_method_1()\n",
    "Child_Object.parent_method_2()"
   ]
  },
  {
   "cell_type": "code",
   "execution_count": 32,
   "id": "1d4d3a5d-675e-448a-98a1-a5f0a2d9027a",
   "metadata": {},
   "outputs": [
    {
     "name": "stdout",
     "output_type": "stream",
     "text": [
      "This is child class constructor\n",
      "This is 2nd parent method\n",
      "This is 1st parent method\n"
     ]
    }
   ],
   "source": [
    "# Method Resolution Order(MRO)\n",
    "\n",
    "class Parent_1:\n",
    "    def __init__(self):\n",
    "        print('This is 1st parent class constructor')\n",
    "    def parent_method(self):\n",
    "        print('This is 1st parent method')\n",
    "class Parent_2:\n",
    "    def __init__(self):\n",
    "        print('This is 2nd parent class constructor')\n",
    "    def parent_method(self):\n",
    "        print('This is 2nd parent method')\n",
    "\n",
    "class Child(Parent_2,Parent_1):   #Order of the class inherited\n",
    "    \n",
    "    def __init__(self):\n",
    "        print('This is child class constructor')\n",
    "    def child_method(self):\n",
    "        print('This is child method')\n",
    "\n",
    "Child_Object=Child()\n",
    "Child_Object.parent_method()\n",
    "Parent_1.parent_method(Child_Object)"
   ]
  },
  {
   "cell_type": "code",
   "execution_count": 33,
   "id": "e8f07d21-44f6-4f6c-9e9b-7a5735ea1949",
   "metadata": {},
   "outputs": [
    {
     "name": "stdout",
     "output_type": "stream",
     "text": [
      "This is grandparent method\n",
      "This is parent method\n",
      "This is child method\n"
     ]
    }
   ],
   "source": [
    "# Multilevel Inheritance\n",
    "# Example 6\n",
    "\n",
    "class Grand_Parent:\n",
    "    def method_1(self):\n",
    "        print('This is grandparent method')\n",
    "\n",
    "class Parent(Grand_Parent):\n",
    "    def method_2(self):\n",
    "        print('This is parent method')\n",
    "\n",
    "class Child(Parent):\n",
    "    def method_3(self):\n",
    "        print('This is child method')\n",
    "        \n",
    "Child_Object=Child()\n",
    "Child_Object.method_1() # Child is accessing grandparent method\n",
    "Child_Object.method_2() # Child is accessing parent method\n",
    "Child_Object.method_3() # Child is accessing its own method"
   ]
  },
  {
   "cell_type": "code",
   "execution_count": 34,
   "id": "c8a35cc6-b811-4b07-8230-48616d53891a",
   "metadata": {},
   "outputs": [
    {
     "name": "stdout",
     "output_type": "stream",
     "text": [
      "Name:  R2J\n",
      "Roll:  1706256\n",
      "Branch:  Information Technology\n"
     ]
    }
   ],
   "source": [
    "# Protected access modifier in a class\n",
    "# base class\n",
    "class Student:    \n",
    "     # protected data members\n",
    "     _name = None\n",
    "     _roll = None\n",
    "     _branch = None\n",
    "     # constructor\n",
    "     def __init__(self, name, roll, branch): \n",
    "          self._name = name\n",
    "          self._roll = roll\n",
    "          self._branch = branch\n",
    "     # protected member function  \n",
    "     def _displayRollAndBranch(self):\n",
    "          # accessing protected data members\n",
    "          print(\"Roll: \", self._roll)\n",
    "          print(\"Branch: \", self._branch)\n",
    " \n",
    "# derived class\n",
    "class Edureka(Student):\n",
    "       # constructor\n",
    "       def __init__(self, name, roll, branch):\n",
    "                Student.__init__(self, name, roll, branch) #Constructor Chaining\n",
    "       # public member function\n",
    "       def displayDetails(self):        \n",
    "                 # accessing protected data members of super class\n",
    "                print(\"Name: \", self._name)  \n",
    "                 # accessing protected member functions of super class\n",
    "                self._displayRollAndBranch()\n",
    " \n",
    "# creating objects of the derived class       \n",
    "obj = Edureka(\"R2J\", 1706256, \"Information Technology\")\n",
    "# calling public member functions of the class\n",
    "obj.displayDetails()"
   ]
  },
  {
   "cell_type": "code",
   "execution_count": 36,
   "id": "4aaa9ffd-b42d-4c8b-b683-797345646c6b",
   "metadata": {},
   "outputs": [
    {
     "name": "stdout",
     "output_type": "stream",
     "text": [
      "Constructor is invoked; object created - 1979902066608\n",
      "Destructor is called, object deleted - 1979902213728\n",
      "Constructor is invoked; object created - 1979902213728\n",
      "Destructor is called, object deleted - 1979902056384\n",
      "\n",
      "Constructor is invoked; object created - 1979901795776\n",
      "Destructor is called, object deleted - 1979901795776\n"
     ]
    }
   ],
   "source": [
    "#Anuj Code\n",
    "class Test:\n",
    "  def __init__(self):\n",
    "    print(f\"Constructor is invoked; object created - {id(self)}\")\n",
    "\n",
    "  def __del__(self):\n",
    "    print(f\"Destructor is called, object deleted - {id(self)}\")\n",
    "\n",
    "test1=Test()\n",
    "test2=Test()\n",
    "\n",
    "#del test1\n",
    "\n",
    "print()\n",
    "def scoping():\n",
    "  test3=Test()\n",
    "\n",
    "scoping()"
   ]
  },
  {
   "cell_type": "code",
   "execution_count": null,
   "id": "844ef0bc-ba71-4960-bca1-d4aee931d034",
   "metadata": {},
   "outputs": [],
   "source": [
    "class Singleton:\n",
    "    _instance = None\n",
    "\n",
    "    def __new__(cls, *args, **kwargs):\n",
    "        if not cls._instance:\n",
    "            cls._instance = super(Singleton, cls).__new__(cls, *args, **kwargs)\n",
    "        return cls._instance\n",
    "\n",
    "s1 = Singleton()\n",
    "s2 = Singleton()\n",
    "\n",
    "print(s1 == s2)"
   ]
  },
  {
   "cell_type": "code",
   "execution_count": 3,
   "id": "0ee5acf8-5641-499f-9c67-3374bfb617ff",
   "metadata": {},
   "outputs": [
    {
     "name": "stdout",
     "output_type": "stream",
     "text": [
      "Inside Parent\n",
      "Inside Child\n",
      "10\n",
      "10\n",
      "20\n"
     ]
    }
   ],
   "source": [
    "#Polymorphism\n",
    "#Method overridding\n",
    "class Parent():\n",
    "    # Constructor\n",
    "    def __init__(self):\n",
    "        self.value = \"Inside Parent\"\n",
    "        self.var1=10    \n",
    "    # Parent's show method\n",
    "    def show(self):\n",
    "        print(self.value) \n",
    "    def func(self,var1):\n",
    "        print(var1)\n",
    "          \n",
    "# Defining child class\n",
    "class Child(Parent):\n",
    "    # Constructor\n",
    "    def __init__(self):\n",
    "        self.value = \"Inside Child\"\n",
    "        self.var2=20\n",
    "        self.var3=30  \n",
    "    # Child's show method\n",
    "    def show(self):  #Overridding\n",
    "        print(self.value)    \n",
    "    def func(self,var2,var3):  #Overloading\n",
    "        print(var2)\n",
    "        print(var3)\n",
    "        \n",
    "obj1 = Parent()\n",
    "obj2 = Child()\n",
    "  \n",
    "obj1.show()\n",
    "obj2.show()\n",
    "obj1.func(10)\n",
    "obj2.func(10,20)"
   ]
  },
  {
   "cell_type": "code",
   "execution_count": null,
   "id": "6f7a0d4c-590a-4fe9-a27b-6fd75d33b557",
   "metadata": {},
   "outputs": [],
   "source": [
    "# Example 14 (Method Overriding)\n",
    "\n",
    "class Rectangle():\n",
    "    def __init__(self,length,breadth):\n",
    "        self.length = length\n",
    "        self.breadth = breadth\n",
    "    def getArea(self):\n",
    "        print(self.length*self.breadth,\" is area of rectangle\")\n",
    "        \n",
    "class Square(Rectangle):\n",
    "    def __init__(self,s):\n",
    "        self.side = s\n",
    "        #Rectangle.__init__(self,side,side)\n",
    "    def getArea(self):\n",
    "        print(self.side*self.side,\" is area of square\")\n",
    "        \n",
    "s = Square(4)\n",
    "#s1=Square(10)\n",
    "r = Rectangle(2,4)\n",
    "s.getArea()\n",
    "r.getArea()"
   ]
  },
  {
   "cell_type": "code",
   "execution_count": 4,
   "id": "893a0609-3fdb-4636-8fa3-b9cf1e3bbf4e",
   "metadata": {},
   "outputs": [
    {
     "name": "stdout",
     "output_type": "stream",
     "text": [
      "This is child constructor\n",
      "This is parent constructor\n",
      "This is parent method\n",
      "This is child method\n"
     ]
    }
   ],
   "source": [
    "# Example 10\n",
    "# Super()\n",
    "class Parent:\n",
    "    def __init__(self):\n",
    "        print('This is parent constructor')\n",
    "    \n",
    "    def parent_method(self):\n",
    "        print('This is parent method')\n",
    "\n",
    "\n",
    "class Child(Parent):\n",
    "    def __init__(self):\n",
    "        print('This is child constructor')\n",
    "        #Parent.__init__() # It is calling parent Constructor\n",
    "        super().__init__()\n",
    "        #Patent1().__init__()\n",
    "        #Patent2().__init__()\n",
    "        \n",
    "    def child_method(self):\n",
    "        super().parent_method() # It is calling parent method inside child method\n",
    "        print('This is child method')\n",
    "\n",
    "Child_Obj=Child()\n",
    "Child_Obj.child_method()"
   ]
  },
  {
   "cell_type": "code",
   "execution_count": null,
   "id": "443f9018-1816-4add-98ef-cadd50b6a0ad",
   "metadata": {},
   "outputs": [],
   "source": []
  }
 ],
 "metadata": {
  "kernelspec": {
   "display_name": "Python 3 (ipykernel)",
   "language": "python",
   "name": "python3"
  },
  "language_info": {
   "codemirror_mode": {
    "name": "ipython",
    "version": 3
   },
   "file_extension": ".py",
   "mimetype": "text/x-python",
   "name": "python",
   "nbconvert_exporter": "python",
   "pygments_lexer": "ipython3",
   "version": "3.12.1"
  }
 },
 "nbformat": 4,
 "nbformat_minor": 5
}
