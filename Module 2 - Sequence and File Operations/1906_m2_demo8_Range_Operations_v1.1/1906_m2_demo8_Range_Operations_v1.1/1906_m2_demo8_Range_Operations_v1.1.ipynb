{
  "nbformat": 4,
  "nbformat_minor": 0,
  "metadata": {
    "colab": {
      "name": "1906_m2_demo8_v1_1.ipynb",
      "provenance": [],
      "collapsed_sections": []
    },
    "kernelspec": {
      "name": "python3",
      "display_name": "Python 3"
    },
    "language_info": {
      "name": "python"
    }
  },
  "cells": [
    {
      "cell_type": "markdown",
      "source": [
        "##Demo 8 – Range Operations\n",
        "\n",
        "In this demo, you will learn about different operations performed on Range Function"
      ],
      "metadata": {
        "id": "jF9DqxBrIF5t"
      }
    },
    {
      "cell_type": "markdown",
      "source": [
        "Kevin recentlty started learning Python and came across range() and wants to learn different tasks that can be performed by the range() function.\n"
      ],
      "metadata": {
        "id": "ptHo3lmoZeEX"
      }
    },
    {
      "cell_type": "code",
      "execution_count": null,
      "metadata": {
        "id": "p41v4_gmppQw",
        "colab": {
          "base_uri": "https://localhost:8080/"
        },
        "outputId": "24b92119-5f53-4862-fbb8-16cf8241ef2c"
      },
      "outputs": [
        {
          "output_type": "stream",
          "name": "stdout",
          "text": [
            "<class 'range'>\n"
          ]
        }
      ],
      "source": [
        "#return type of range()\n",
        "\n",
        "data = range(1,5)\n",
        "print(type(data))"
      ]
    },
    {
      "cell_type": "markdown",
      "source": [
        "###range() with only stop parameter\n",
        "\n",
        "####Note: If the step argument is not passed by default, step is assumed to be 1."
      ],
      "metadata": {
        "id": "dwcFCx4usbnC"
      }
    },
    {
      "cell_type": "code",
      "source": [
        "#printing a sequence of numbers using range()\n",
        "print(\"List generated using only stop parameter:\")\n",
        "for i in range(6):\n",
        "  print(i) "
      ],
      "metadata": {
        "colab": {
          "base_uri": "https://localhost:8080/"
        },
        "id": "5UfSt67conYr",
        "outputId": "18f41366-e48b-45ff-9aaf-3c079829f6e6"
      },
      "execution_count": null,
      "outputs": [
        {
          "output_type": "stream",
          "name": "stdout",
          "text": [
            "List generated using only stop parameter:\n",
            "0\n",
            "1\n",
            "2\n",
            "3\n",
            "4\n",
            "5\n"
          ]
        }
      ]
    },
    {
      "cell_type": "code",
      "source": [
        "#changing the value in range()\n",
        "\n",
        "data[3] = 10\n",
        "print(data)"
      ],
      "metadata": {
        "colab": {
          "base_uri": "https://localhost:8080/",
          "height": 226
        },
        "id": "4bSFbnUvphPb",
        "outputId": "cf49cf44-4965-4016-c05f-941d9c60bee3"
      },
      "execution_count": null,
      "outputs": [
        {
          "output_type": "error",
          "ename": "TypeError",
          "evalue": "ignored",
          "traceback": [
            "\u001b[0;31m---------------------------------------------------------------------------\u001b[0m",
            "\u001b[0;31mTypeError\u001b[0m                                 Traceback (most recent call last)",
            "\u001b[0;32m<ipython-input-7-d434b1310ce5>\u001b[0m in \u001b[0;36m<module>\u001b[0;34m()\u001b[0m\n\u001b[1;32m      1\u001b[0m \u001b[0;31m#changing the value in range()\u001b[0m\u001b[0;34m\u001b[0m\u001b[0;34m\u001b[0m\u001b[0;34m\u001b[0m\u001b[0m\n\u001b[1;32m      2\u001b[0m \u001b[0;34m\u001b[0m\u001b[0m\n\u001b[0;32m----> 3\u001b[0;31m \u001b[0mdata\u001b[0m\u001b[0;34m[\u001b[0m\u001b[0;36m3\u001b[0m\u001b[0;34m]\u001b[0m \u001b[0;34m=\u001b[0m \u001b[0;36m10\u001b[0m\u001b[0;34m\u001b[0m\u001b[0;34m\u001b[0m\u001b[0m\n\u001b[0m\u001b[1;32m      4\u001b[0m \u001b[0mprint\u001b[0m\u001b[0;34m(\u001b[0m\u001b[0mdata\u001b[0m\u001b[0;34m)\u001b[0m\u001b[0;34m\u001b[0m\u001b[0;34m\u001b[0m\u001b[0m\n",
            "\u001b[0;31mTypeError\u001b[0m: 'range' object does not support item assignment"
          ]
        }
      ]
    },
    {
      "cell_type": "markdown",
      "source": [
        "###Why Error?\n",
        "####The above code did not execute because the range() is immtable.\n",
        "####It means that once the range () has been created and a value assigned to it, the values cannot be changed."
      ],
      "metadata": {
        "id": "WQFC2h40purh"
      }
    },
    {
      "cell_type": "markdown",
      "source": [
        "range() with start and stop parameter."
      ],
      "metadata": {
        "id": "3uabad5ZskFv"
      }
    },
    {
      "cell_type": "code",
      "source": [
        "#intializing the list using range function\n",
        "data = list(range(1,10))\n",
        "print(\"The list generated using start and stop parameter:\",data)\n",
        "\n",
        "data_negative = list(range(-10,0))\n",
        "print(\"The list generated using start and stop parameter with neagative indexing:\",data_negative)"
      ],
      "metadata": {
        "colab": {
          "base_uri": "https://localhost:8080/"
        },
        "id": "XyOqfj19sp7B",
        "outputId": "dd50aa03-1b87-4fea-b5fb-15c1e7597e1e"
      },
      "execution_count": null,
      "outputs": [
        {
          "output_type": "stream",
          "name": "stdout",
          "text": [
            "The list generated using start and stop parameter: [1, 2, 3, 4, 5, 6, 7, 8, 9]\n",
            "The list generated using start and stop parameter with neagative parameters: [-10, -9, -8, -7, -6, -5, -4, -3, -2, -1]\n"
          ]
        }
      ]
    },
    {
      "cell_type": "markdown",
      "source": [
        "range() with all three parameters such as start, stop, and step."
      ],
      "metadata": {
        "id": "QRGxu30svk-Y"
      }
    },
    {
      "cell_type": "code",
      "source": [
        "data = list(range(1,10,2)) \n",
        "print(\"The list generated using start, stop and step parameter\", data)\n",
        "\n",
        "data_negative = list(range(-15,15,3))\n",
        "print(\"The list generated using start, stop and step parameter using neagative indexing\",data_negative)"
      ],
      "metadata": {
        "colab": {
          "base_uri": "https://localhost:8080/"
        },
        "id": "bWy4RCeMqSrL",
        "outputId": "fbe44678-606b-4e2b-989a-46bcd337fdbd"
      },
      "execution_count": null,
      "outputs": [
        {
          "output_type": "stream",
          "name": "stdout",
          "text": [
            "The list generated using start, stop and step parameter [1, 3, 5, 7, 9]\n",
            "The list generated using start, stop and step parameter using neagative indexing [-15, -12, -9, -6, -3, 0, 3, 6, 9, 12]\n"
          ]
        }
      ]
    },
    {
      "cell_type": "code",
      "source": [
        "#range() with 0 step\n",
        "print(range(1,10,0))"
      ],
      "metadata": {
        "colab": {
          "base_uri": "https://localhost:8080/",
          "height": 190
        },
        "id": "ZD1_l-dOxMfL",
        "outputId": "c1113693-0dbb-4012-f6ba-5143388c2e63"
      },
      "execution_count": null,
      "outputs": [
        {
          "output_type": "error",
          "ename": "ValueError",
          "evalue": "ignored",
          "traceback": [
            "\u001b[0;31m---------------------------------------------------------------------------\u001b[0m",
            "\u001b[0;31mValueError\u001b[0m                                Traceback (most recent call last)",
            "\u001b[0;32m<ipython-input-40-9b19c1d7cc46>\u001b[0m in \u001b[0;36m<module>\u001b[0;34m()\u001b[0m\n\u001b[1;32m      1\u001b[0m \u001b[0;31m#range() with 0 step\u001b[0m\u001b[0;34m\u001b[0m\u001b[0;34m\u001b[0m\u001b[0;34m\u001b[0m\u001b[0m\n\u001b[0;32m----> 2\u001b[0;31m \u001b[0mprint\u001b[0m\u001b[0;34m(\u001b[0m\u001b[0mrange\u001b[0m\u001b[0;34m(\u001b[0m\u001b[0;36m1\u001b[0m\u001b[0;34m,\u001b[0m\u001b[0;36m10\u001b[0m\u001b[0;34m,\u001b[0m\u001b[0;36m0\u001b[0m\u001b[0;34m)\u001b[0m\u001b[0;34m)\u001b[0m\u001b[0;34m\u001b[0m\u001b[0;34m\u001b[0m\u001b[0m\n\u001b[0m",
            "\u001b[0;31mValueError\u001b[0m: range() arg 3 must not be zero"
          ]
        }
      ]
    },
    {
      "cell_type": "markdown",
      "source": [
        "The above did not run because the step size was 0."
      ],
      "metadata": {
        "id": "35VAEcVjyITY"
      }
    },
    {
      "cell_type": "markdown",
      "source": [
        " The size should not be 0. It can either be a negative or positive whole number but cannot be 0."
      ],
      "metadata": {
        "id": "02JdP3qhypWp"
      }
    },
    {
      "cell_type": "code",
      "source": [
        ""
      ],
      "metadata": {
        "id": "-MNxJ3oPo-vH"
      },
      "execution_count": null,
      "outputs": []
    }
  ]
}