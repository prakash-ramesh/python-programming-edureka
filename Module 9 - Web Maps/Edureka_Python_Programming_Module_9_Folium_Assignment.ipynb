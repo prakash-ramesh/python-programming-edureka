{
  "nbformat": 4,
  "nbformat_minor": 0,
  "metadata": {
    "colab": {
      "provenance": []
    },
    "kernelspec": {
      "name": "python3",
      "display_name": "Python 3"
    },
    "language_info": {
      "name": "python"
    }
  },
  "cells": [
    {
      "cell_type": "code",
      "execution_count": 2,
      "metadata": {
        "colab": {
          "base_uri": "https://localhost:8080/"
        },
        "id": "phtSrwphtiTv",
        "outputId": "804f05ee-35b9-4710-be7f-f14ad6424321"
      },
      "outputs": [
        {
          "output_type": "stream",
          "name": "stderr",
          "text": [
            "<ipython-input-2-27829c43c1b8>:4: UserWarning: Boolean Series key will be reindexed to match DataFrame index.\n",
            "  lat_lon_wrangled_df = lat_wrangled_df[pd.notnull(data['Longitude'])]\n"
          ]
        }
      ],
      "source": [
        "import pandas as pd\n",
        "data = pd.read_csv('Police_Department_Incident_Reports__2018_to_Present_20240127.csv')\n",
        "lat_wrangled_df = data[pd.notnull(data['Latitude'])]\n",
        "lat_lon_wrangled_df = lat_wrangled_df[pd.notnull(data['Longitude'])]\n",
        "first_100 = lat_lon_wrangled_df.head(100)"
      ]
    },
    {
      "cell_type": "code",
      "source": [
        "import folium\n",
        "map = folium.Map(location=[first_100.Latitude.mean(),first_100.Longitude.mean()], zoom_start=1000, control_scale=True)\n",
        "\n",
        "longitude = first_100[\"Longitude\"]\n",
        "latitude = first_100[\"Latitude\"]\n",
        "name = first_100[\"Incident Category\"]\n",
        "\n",
        "for lat, long, name in zip(latitude, longitude, name):\n",
        "    marker = folium.Marker([lat,long], popup=f\"{name}\", icon=folium.Icon(color='orange'))\n",
        "    marker.add_to(map)\n",
        "\n",
        "map.save(\"BasicWebMap.html\")"
      ],
      "metadata": {
        "id": "IZcYWySPufYs"
      },
      "execution_count": 3,
      "outputs": []
    },
    {
      "cell_type": "code",
      "source": [
        "robbery = lat_lon_wrangled_df[lat_lon_wrangled_df['Incident Category'] == 'Robbery'].head(100)\n",
        "\n",
        "map = folium.Map(location=[robbery.Latitude.mean(),robbery.Longitude.mean()], zoom_start=1000, control_scale=True)\n",
        "\n",
        "longitude = robbery[\"Longitude\"]\n",
        "latitude = robbery[\"Latitude\"]\n",
        "\n",
        "for lat, long in zip(latitude, longitude):\n",
        "    marker = folium.Marker([lat,long], popup=\"Robbery\", icon=folium.Icon(color='red'))\n",
        "    marker.add_to(map)\n",
        "\n",
        "map.save(\"Robbery.html\")"
      ],
      "metadata": {
        "id": "tJ7eBV7Gv6oi"
      },
      "execution_count": 4,
      "outputs": []
    },
    {
      "cell_type": "code",
      "source": [
        "cat = ['Fraud', 'Gambling']\n",
        "\n",
        "fraud_gambling = lat_lon_wrangled_df[lat_lon_wrangled_df['Incident Category'].isin(cat)].head(100)\n",
        "\n",
        "map = folium.Map(location=[fraud_gambling.Latitude.mean(),fraud_gambling.Longitude.mean()], zoom_start=1000, control_scale=True)\n",
        "\n",
        "longitude = fraud_gambling[\"Longitude\"]\n",
        "latitude = fraud_gambling[\"Latitude\"]\n",
        "name = fraud_gambling[\"Incident Category\"]\n",
        "\n",
        "for lat, long, name in zip(latitude, longitude, name):\n",
        "    marker = folium.Marker([lat,long], popup=name, icon=folium.Icon(icon='fa-map-marker'))\n",
        "    marker.add_to(map)\n",
        "\n",
        "map.save(\"fraud_gambling.html\")"
      ],
      "metadata": {
        "id": "OpQP-IuGygiA"
      },
      "execution_count": 5,
      "outputs": []
    },
    {
      "cell_type": "code",
      "source": [],
      "metadata": {
        "id": "ZRDWCg7-tLby"
      },
      "execution_count": null,
      "outputs": []
    }
  ]
}