{
 "cells": [
  {
   "cell_type": "markdown",
   "metadata": {
    "id": "ZoxUiPjTnwXy"
   },
   "source": [
    "## Demo 7 - Bytes and Byte Array Operations\n",
    "\n",
    "In this demo, you will learn about different operations performed on Bytes and ByteArray Function"
   ]
  },
  {
   "cell_type": "markdown",
   "metadata": {
    "id": "I4-cygfTWH0X"
   },
   "source": [
    "Converting string using bytes abd bytearray function"
   ]
  },
  {
   "cell_type": "code",
   "execution_count": 12,
   "metadata": {
    "colab": {
     "base_uri": "https://localhost:8080/",
     "height": 208
    },
    "id": "zWs6cD-QnvkC",
    "outputId": "bf1eae9a-eddc-4837-fd4e-16d87bec49d0"
   },
   "outputs": [
    {
     "ename": "TypeError",
     "evalue": "string argument without an encoding",
     "output_type": "error",
     "traceback": [
      "\u001b[1;31m---------------------------------------------------------------------------\u001b[0m",
      "\u001b[1;31mTypeError\u001b[0m                                 Traceback (most recent call last)",
      "\u001b[1;32m<ipython-input-12-df6271be12d8>\u001b[0m in \u001b[0;36m<module>\u001b[1;34m\u001b[0m\n\u001b[1;32m----> 1\u001b[1;33m \u001b[0mtext_bytes\u001b[0m \u001b[1;33m=\u001b[0m \u001b[0mbytes\u001b[0m\u001b[1;33m(\u001b[0m\u001b[1;34m'Welcome to Edureka!'\u001b[0m\u001b[1;33m)\u001b[0m\u001b[1;33m\u001b[0m\u001b[1;33m\u001b[0m\u001b[0m\n\u001b[0m\u001b[0;32m      2\u001b[0m \u001b[0mtext_byteArray\u001b[0m \u001b[1;33m=\u001b[0m \u001b[0mbytearray\u001b[0m\u001b[1;33m(\u001b[0m\u001b[1;34m'Python'\u001b[0m\u001b[1;33m)\u001b[0m\u001b[1;33m\u001b[0m\u001b[1;33m\u001b[0m\u001b[0m\n\u001b[0;32m      3\u001b[0m \u001b[0mprint\u001b[0m\u001b[1;33m(\u001b[0m\u001b[0mtext_bytes\u001b[0m\u001b[1;33m,\u001b[0m\u001b[0mtext_byteArray\u001b[0m\u001b[1;33m)\u001b[0m\u001b[1;33m\u001b[0m\u001b[1;33m\u001b[0m\u001b[0m\n",
      "\u001b[1;31mTypeError\u001b[0m: string argument without an encoding"
     ]
    }
   ],
   "source": [
    "text_bytes = bytes('Welcome to Edureka!')\n",
    "text_byteArray = bytearray('Python') \n",
    "print(text_bytes,text_byteArray)"
   ]
  },
  {
   "cell_type": "markdown",
   "metadata": {
    "id": "YduX3UHvcvyL"
   },
   "source": [
    "##### Why TypeError?\n",
    "When source is a string, then it is necessary to pass the other 2 parameters. If not, then the Python interpreter will return TypeError\n",
    "\n"
   ]
  },
  {
   "cell_type": "code",
   "execution_count": 13,
   "metadata": {
    "colab": {
     "base_uri": "https://localhost:8080/"
    },
    "id": "VCEQKdqldBp-",
    "outputId": "05cb0ae2-a8f1-42bc-cccd-ca7b9f0dd378"
   },
   "outputs": [
    {
     "name": "stdout",
     "output_type": "stream",
     "text": [
      "b'Welcome to Edureka'\n",
      "bytearray(b'Python')\n",
      "b''\n",
      "bytearray(b'')\n"
     ]
    }
   ],
   "source": [
    "text_bytes = bytes('Welcome to Edureka','utf-8')\n",
    "text_byteArray = bytearray('Python','utf-8')\n",
    "\n",
    "print(text_bytes)\n",
    "print(text_byteArray)\n",
    "\n",
    "#bytes() and bytearray() returns empty byte object when empty source it passed\n",
    "print(bytes('','utf-8'))\n",
    "print(bytearray('','utf-8'))"
   ]
  },
  {
   "cell_type": "markdown",
   "metadata": {
    "id": "pwh2MAw4mPsG"
   },
   "source": [
    "#### Error Handlers: \n",
    "##### ignore: Ignores the unencodable character and encodes the remaining string\n",
    "##### replace: Replaces the unencodable character with a ‘?’\n",
    "##### strict: Returns default UnicodeDecodeError in case of encoding failure"
   ]
  },
  {
   "cell_type": "code",
   "execution_count": 14,
   "metadata": {
    "colab": {
     "base_uri": "https://localhost:8080/",
     "height": 317
    },
    "id": "FCamyWsWgI2R",
    "outputId": "ce59385f-778f-46a8-b518-62e98cccefb2"
   },
   "outputs": [
    {
     "name": "stdout",
     "output_type": "stream",
     "text": [
      "Byte conversion: b'Python prgram is easy t learn'\n",
      "ByteArray conversion: bytearray(b'Python prgram is easy t learn')\n",
      "Byte conversion: b'Python pr?gram is easy t? learn'\n",
      "ByteArray conversion: bytearray(b'Python pr?gram is easy t? learn')\n"
     ]
    },
    {
     "ename": "UnicodeEncodeError",
     "evalue": "'ascii' codec can't encode character '\\xf3' in position 9: ordinal not in range(128)",
     "output_type": "error",
     "traceback": [
      "\u001b[1;31m---------------------------------------------------------------------------\u001b[0m",
      "\u001b[1;31mUnicodeEncodeError\u001b[0m                        Traceback (most recent call last)",
      "\u001b[1;32m<ipython-input-14-f08d829d38de>\u001b[0m in \u001b[0;36m<module>\u001b[1;34m\u001b[0m\n\u001b[0;32m     14\u001b[0m \u001b[1;33m\u001b[0m\u001b[0m\n\u001b[0;32m     15\u001b[0m \u001b[1;31m# encoding = ascii, errors are strict, will throw error\u001b[0m\u001b[1;33m\u001b[0m\u001b[1;33m\u001b[0m\u001b[1;33m\u001b[0m\u001b[0m\n\u001b[1;32m---> 16\u001b[1;33m \u001b[0mresult_bytes\u001b[0m \u001b[1;33m=\u001b[0m \u001b[0mbytes\u001b[0m\u001b[1;33m(\u001b[0m\u001b[0mstring\u001b[0m\u001b[1;33m,\u001b[0m \u001b[1;34m'ascii'\u001b[0m\u001b[1;33m,\u001b[0m \u001b[0merrors\u001b[0m \u001b[1;33m=\u001b[0m \u001b[1;34m'strict'\u001b[0m\u001b[1;33m)\u001b[0m\u001b[1;33m\u001b[0m\u001b[1;33m\u001b[0m\u001b[0m\n\u001b[0m\u001b[0;32m     17\u001b[0m \u001b[0mresult_bytearray\u001b[0m \u001b[1;33m=\u001b[0m \u001b[0mbytearray\u001b[0m\u001b[1;33m(\u001b[0m\u001b[0mstring\u001b[0m\u001b[1;33m,\u001b[0m \u001b[1;34m'ascii'\u001b[0m\u001b[1;33m,\u001b[0m \u001b[0merrors\u001b[0m \u001b[1;33m=\u001b[0m \u001b[1;34m'strict'\u001b[0m\u001b[1;33m)\u001b[0m\u001b[1;33m\u001b[0m\u001b[1;33m\u001b[0m\u001b[0m\n\u001b[0;32m     18\u001b[0m \u001b[0mprint\u001b[0m\u001b[1;33m(\u001b[0m\u001b[1;34m'Byte conversion:'\u001b[0m\u001b[1;33m,\u001b[0m \u001b[0mresult_bytes\u001b[0m\u001b[1;33m)\u001b[0m\u001b[1;33m\u001b[0m\u001b[1;33m\u001b[0m\u001b[0m\n",
      "\u001b[1;31mUnicodeEncodeError\u001b[0m: 'ascii' codec can't encode character '\\xf3' in position 9: ordinal not in range(128)"
     ]
    }
   ],
   "source": [
    "string = 'Python prógram is easy tó learn'\n",
    "\n",
    "# encoding = ascii, errors are ignored\n",
    "result_bytes = bytes(string, 'ascii', errors = 'ignore')\n",
    "result_bytearray = bytearray(string, 'ascii', errors = 'ignore')\n",
    "print('Byte conversion:', result_bytes)\n",
    "print('ByteArray conversion:', result_bytearray)\n",
    "\n",
    "# encoding = ascii, errors are replaced\n",
    "result_bytes = bytes(string, 'ascii', errors = 'replace')\n",
    "result_bytearray = bytearray(string, 'ascii', errors = 'replace')\n",
    "print('Byte conversion:', result_bytes)\n",
    "print('ByteArray conversion:', result_bytearray)\n",
    "\n",
    "# encoding = ascii, errors are strict, will throw error\n",
    "result_bytes = bytes(string, 'ascii', errors = 'strict')\n",
    "result_bytearray = bytearray(string, 'ascii', errors = 'strict')\n",
    "print('Byte conversion:', result_bytes)\n",
    "print('ByteArray conversion:', result_bytearray)"
   ]
  },
  {
   "cell_type": "markdown",
   "metadata": {
    "id": "tfaD7mcg1Iku"
   },
   "source": [
    "#### Byte array can be used to edit a string"
   ]
  },
  {
   "cell_type": "code",
   "execution_count": 15,
   "metadata": {
    "colab": {
     "base_uri": "https://localhost:8080/",
     "height": 217
    },
    "id": "K9ypM71C1NY8",
    "outputId": "b2e5f65a-7d63-4916-b99e-6406371fbeae"
   },
   "outputs": [
    {
     "ename": "TypeError",
     "evalue": "'str' object does not support item assignment",
     "output_type": "error",
     "traceback": [
      "\u001b[1;31m---------------------------------------------------------------------------\u001b[0m",
      "\u001b[1;31mTypeError\u001b[0m                                 Traceback (most recent call last)",
      "\u001b[1;32m<ipython-input-15-8c1f0d08546d>\u001b[0m in \u001b[0;36m<module>\u001b[1;34m\u001b[0m\n\u001b[0;32m      2\u001b[0m \u001b[1;33m\u001b[0m\u001b[0m\n\u001b[0;32m      3\u001b[0m \u001b[1;31m#Change the last name to John in the above name defined\u001b[0m\u001b[1;33m\u001b[0m\u001b[1;33m\u001b[0m\u001b[1;33m\u001b[0m\u001b[0m\n\u001b[1;32m----> 4\u001b[1;33m \u001b[0mname\u001b[0m\u001b[1;33m[\u001b[0m\u001b[1;36m6\u001b[0m\u001b[1;33m]\u001b[0m \u001b[1;33m=\u001b[0m \u001b[1;34m\"John\"\u001b[0m\u001b[1;33m\u001b[0m\u001b[1;33m\u001b[0m\u001b[0m\n\u001b[0m\u001b[0;32m      5\u001b[0m \u001b[1;33m\u001b[0m\u001b[0m\n\u001b[0;32m      6\u001b[0m \u001b[0mprint\u001b[0m\u001b[1;33m(\u001b[0m\u001b[0mname\u001b[0m\u001b[1;33m)\u001b[0m\u001b[1;33m\u001b[0m\u001b[1;33m\u001b[0m\u001b[0m\n",
      "\u001b[1;31mTypeError\u001b[0m: 'str' object does not support item assignment"
     ]
    }
   ],
   "source": [
    "name = \"Olivia Smith\"\n",
    "\n",
    "#Change the last name to John in the above name defined\n",
    "name[6] = \"John\"\n",
    "\n",
    "print(name)"
   ]
  },
  {
   "cell_type": "markdown",
   "metadata": {
    "id": "l67fL_107fNK"
   },
   "source": [
    "We cannot change the content of the string object as it is immutable. Hence, we can use byte array as:"
   ]
  },
  {
   "cell_type": "code",
   "execution_count": 16,
   "metadata": {
    "colab": {
     "base_uri": "https://localhost:8080/"
    },
    "id": "-o2a0xD42iVX",
    "outputId": "cd011561-9cbb-4118-abbd-2f08963ad8f9"
   },
   "outputs": [
    {
     "name": "stdout",
     "output_type": "stream",
     "text": [
      "Last name of Olivia initally: bytearray(b'Olivia Smith')\n",
      "Last name of Olivia now: bytearray(b'Olivia John')\n",
      "Olivia John\n"
     ]
    },
    {
     "data": {
      "text/plain": [
       "str"
      ]
     },
     "execution_count": 16,
     "metadata": {},
     "output_type": "execute_result"
    }
   ],
   "source": [
    "name = \"Olivia Smith\"\n",
    "\n",
    "#Convert name to bytearray\n",
    "name_byte = bytearray(name, encoding = 'ascii')\n",
    "print(\"Last name of Olivia initally:\", name_byte)\n",
    "\n",
    "#Change last name to John\n",
    "name_byte[7:] = bytearray(\"John\", encoding = 'ascii')\n",
    "print(\"Last name of Olivia now:\", name_byte)\n",
    "#The above print statement prints the byte array. To convert this to 'str' we can use the decode() method.\n",
    "name_byte = name_byte.decode()\n",
    "print(name_byte)\n",
    "#To check the data type of name_byte\n",
    "type(name_byte)"
   ]
  },
  {
   "cell_type": "markdown",
   "metadata": {
    "id": "gnHFw0QejPrJ"
   },
   "source": [
    "#### Converting integer using bytes abd bytearray function"
   ]
  },
  {
   "cell_type": "code",
   "execution_count": null,
   "metadata": {
    "colab": {
     "base_uri": "https://localhost:8080/"
    },
    "id": "0a-6OlI3m5M7",
    "outputId": "a943c0ef-fa8b-4cd3-b6db-3f823b2257bf"
   },
   "outputs": [
    {
     "name": "stdout",
     "output_type": "stream",
     "text": [
      "Byte conversion: b'\\x00\\x00\\x00\\x00\\x00\\x00\\x00\\x00\\x00\\x00'\n",
      "Byte conversion: bytearray(b'\\x00\\x00\\x00\\x00\\x00\\x00\\x00\\x00\\x00\\x00')\n"
     ]
    }
   ],
   "source": [
    "number = 10\n",
    "number_bytes = bytes(number)\n",
    "number_bytearray = bytearray(number)\n",
    "\n",
    "print('Byte conversion:', number_bytes)\n",
    "print('Byte conversion:', number_bytearray)"
   ]
  },
  {
   "cell_type": "markdown",
   "metadata": {
    "id": "gLwoUzR9oakF"
   },
   "source": [
    "#### Convert iterable list to bytes() and bytearray()"
   ]
  },
  {
   "cell_type": "code",
   "execution_count": null,
   "metadata": {
    "colab": {
     "base_uri": "https://localhost:8080/"
    },
    "id": "bSVIXltqntrP",
    "outputId": "661e545b-2bf1-4b01-f17c-22e67c84b0d0"
   },
   "outputs": [
    {
     "name": "stdout",
     "output_type": "stream",
     "text": [
      "bytearray(b'\\x02\\x04\\x06\\x08')\n",
      "b'\\x02\\x04\\x06\\x08'\n"
     ]
    }
   ],
   "source": [
    "# simple list of integers\n",
    "list = [2, 4, 6, 8]\n",
    "\n",
    "# iterable as source\n",
    "array_bytes = bytes(list)\n",
    "array = bytearray(list)\n",
    "\n",
    "print(array)\n",
    "print(array_bytes)"
   ]
  },
  {
   "cell_type": "markdown",
   "metadata": {
    "id": "BrLECZN65vhH"
   },
   "source": [
    "#### Conclusion: In this demo you learnt byte and bytearray operations performed on integer, string, etc. We also learnt how to mutate a string datatype using bytearray."
   ]
  }
 ],
 "metadata": {
  "colab": {
   "collapsed_sections": [],
   "name": "1906_m2_demo7_Bytes_and_Byte_Array_Operations_v1.1.ipynb",
   "provenance": []
  },
  "kernelspec": {
   "display_name": "Python 3",
   "language": "python",
   "name": "python3"
  },
  "language_info": {
   "codemirror_mode": {
    "name": "ipython",
    "version": 3
   },
   "file_extension": ".py",
   "mimetype": "text/x-python",
   "name": "python",
   "nbconvert_exporter": "python",
   "pygments_lexer": "ipython3",
   "version": "3.7.6"
  }
 },
 "nbformat": 4,
 "nbformat_minor": 1
}
