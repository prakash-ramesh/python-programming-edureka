{
 "cells": [
  {
   "cell_type": "code",
   "execution_count": 5,
   "id": "fae96b7e-6ee3-4082-9c6f-80411ae686f7",
   "metadata": {},
   "outputs": [
    {
     "name": "stdout",
     "output_type": "stream",
     "text": [
      "Welcome to the function\n",
      "Welcome to the function\n",
      "Welcome to the function\n"
     ]
    }
   ],
   "source": [
    "#Write once-use many\n",
    "#Block of code  (Difining & Calling)\n",
    "def func1():\n",
    "    print(\"Welcome to the function\")   #Function Body\n",
    "\n",
    "func1()  #Function calling\n",
    "func1()\n",
    "func1()"
   ]
  },
  {
   "cell_type": "code",
   "execution_count": 8,
   "id": "145dab4e-f3c7-4271-abba-c49b3a6fc5fc",
   "metadata": {},
   "outputs": [
    {
     "name": "stdout",
     "output_type": "stream",
     "text": [
      "Result: 90\n",
      "Result: 777\n"
     ]
    }
   ],
   "source": [
    "#Functions with arguments\n",
    "def func2(x,y):\n",
    "    print(\"Result:\",x+y)\n",
    "\n",
    "func2(56,34)\n",
    "func2(456,321)"
   ]
  },
  {
   "cell_type": "code",
   "execution_count": 9,
   "id": "820a81fb-fbf5-46c1-9713-dd1304f0ba41",
   "metadata": {},
   "outputs": [
    {
     "name": "stdout",
     "output_type": "stream",
     "text": [
      "[12, 44, 50, 42, 28]\n"
     ]
    }
   ],
   "source": [
    "#Function with return\n",
    "def func3(lst):\n",
    "    even=[]\n",
    "    for i in lst:\n",
    "        if i%2==0:\n",
    "            even.append(i)\n",
    "    return even\n",
    "\n",
    "result=func3([45,63,89,75,23,12,45,44,63,50,42,28])\n",
    "print(result)"
   ]
  },
  {
   "cell_type": "code",
   "execution_count": 12,
   "id": "f72c0f15-53be-47ce-8307-9dbe2f195b49",
   "metadata": {},
   "outputs": [
    {
     "name": "stdin",
     "output_type": "stream",
     "text": [
      "Enter age 36\n",
      "Enter name 23\n"
     ]
    },
    {
     "name": "stdout",
     "output_type": "stream",
     "text": [
      "Your age is: 23\n",
      "Your name is: 36\n"
     ]
    },
    {
     "ename": "TypeError",
     "evalue": "func5() missing 1 required positional argument: 'name'",
     "output_type": "error",
     "traceback": [
      "\u001b[1;31m---------------------------------------------------------------------------\u001b[0m",
      "\u001b[1;31mTypeError\u001b[0m                                 Traceback (most recent call last)",
      "Cell \u001b[1;32mIn[12], line 14\u001b[0m\n\u001b[0;32m     12\u001b[0m func5(user_name,user_age)  \u001b[38;5;66;03m# This function call won't throw an error but at the place of age, name will be displayed. So, \u001b[39;00m\n\u001b[0;32m     13\u001b[0m                             \u001b[38;5;66;03m# here argument position matters\u001b[39;00m\n\u001b[1;32m---> 14\u001b[0m \u001b[43mfunc5\u001b[49m\u001b[43m(\u001b[49m\u001b[43muser_age\u001b[49m\u001b[43m)\u001b[49m\n",
      "\u001b[1;31mTypeError\u001b[0m: func5() missing 1 required positional argument: 'name'"
     ]
    }
   ],
   "source": [
    "#Types of arguments in function\n",
    "# 1.Positional Required argument\n",
    "\n",
    "def func5(age,name):\n",
    "    print('Your age is:', age)\n",
    "    print('Your name is:', name)\n",
    "    \n",
    "user_age=int(input('Enter age'))\n",
    "user_name=input('Enter name')\n",
    "\n",
    "#func5(user_age,user_name)\n",
    "func5(user_name,user_age)  # This function call won't throw an error but at the place of age, name will be displayed. So, \n",
    "                            # here argument position matters\n",
    "#func5(user_age)"
   ]
  },
  {
   "cell_type": "code",
   "execution_count": 13,
   "id": "b5da0dbc-a2e9-47e9-a9df-ce67ccadf242",
   "metadata": {},
   "outputs": [
    {
     "name": "stdin",
     "output_type": "stream",
     "text": [
      "Enter age 36\n",
      "Enter name Amit\n"
     ]
    },
    {
     "name": "stdout",
     "output_type": "stream",
     "text": [
      "Your age is: 36\n",
      "Your name is: Amit\n"
     ]
    }
   ],
   "source": [
    "#2.Key-word Arguments\n",
    "def func6(age,name):\n",
    "    print('Your age is:', age)\n",
    "    print('Your name is:', name)\n",
    "    \n",
    "user_age=int(input('Enter age'))\n",
    "user_name=input('Enter name')\n",
    "\n",
    "func6(name=user_name,age=user_age) "
   ]
  },
  {
   "cell_type": "code",
   "execution_count": 15,
   "id": "3f1a7b9e-8ef5-42f7-985f-4490cccc2861",
   "metadata": {},
   "outputs": [
    {
     "name": "stdout",
     "output_type": "stream",
     "text": [
      "Your age is: 36\n",
      "Your name is: Amit\n"
     ]
    }
   ],
   "source": [
    "#Default Arguments\n",
    "def func7(name,age=20):\n",
    "    print('Your age is:', age)\n",
    "    print('Your name is:', name)\n",
    "\n",
    "func7('Amit',36)"
   ]
  },
  {
   "cell_type": "code",
   "execution_count": 16,
   "id": "054c339b-a806-4ae4-bdbe-4ec0ae713304",
   "metadata": {},
   "outputs": [
    {
     "name": "stdout",
     "output_type": "stream",
     "text": [
      "Welcome, Kapil\n",
      "Welcome, John\n",
      "Welcome, Ranu\n"
     ]
    }
   ],
   "source": [
    "#Arbitary (multiple values agaist single argument)\n",
    "def func8(*names):\n",
    "    for name in names:\n",
    "        print(\"Welcome,\",name)\n",
    "\n",
    "func8(\"Kapil\",\"John\",\"Ranu\")"
   ]
  },
  {
   "cell_type": "code",
   "execution_count": 17,
   "id": "bfbe3fb9-7624-4a87-ac22-7a14086453a2",
   "metadata": {},
   "outputs": [
    {
     "name": "stdout",
     "output_type": "stream",
     "text": [
      "Welcome, Kapil\n",
      "Welcome, John\n",
      "Welcome, Ranu\n"
     ]
    }
   ],
   "source": [
    "def func8(names):\n",
    "    for name in names:\n",
    "        print(\"Welcome,\",name)\n",
    "\n",
    "func8([\"Kapil\",\"John\",\"Ranu\"])"
   ]
  },
  {
   "cell_type": "code",
   "execution_count": null,
   "id": "3dabfe35-6af1-4540-88c9-991697b8659f",
   "metadata": {},
   "outputs": [],
   "source": [
    "#Key-arbitary arguments  **kwargs"
   ]
  },
  {
   "cell_type": "code",
   "execution_count": 19,
   "id": "2e567cb6-9fe9-4e39-a249-e2af666967cf",
   "metadata": {},
   "outputs": [
    {
     "name": "stdout",
     "output_type": "stream",
     "text": [
      "200\n",
      "140704546116248\n"
     ]
    },
    {
     "ename": "NameError",
     "evalue": "name 'var2' is not defined",
     "output_type": "error",
     "traceback": [
      "\u001b[1;31m---------------------------------------------------------------------------\u001b[0m",
      "\u001b[1;31mNameError\u001b[0m                                 Traceback (most recent call last)",
      "Cell \u001b[1;32mIn[19], line 10\u001b[0m\n\u001b[0;32m      7\u001b[0m     \u001b[38;5;28mprint\u001b[39m(\u001b[38;5;28mid\u001b[39m(var2))\n\u001b[0;32m      9\u001b[0m func9()\n\u001b[1;32m---> 10\u001b[0m \u001b[38;5;28mprint\u001b[39m(\u001b[43mvar2\u001b[49m)\n\u001b[0;32m     11\u001b[0m \u001b[38;5;28mprint\u001b[39m(var1)\n\u001b[0;32m     12\u001b[0m \u001b[38;5;28mprint\u001b[39m(\u001b[38;5;28mid\u001b[39m(var1))\n",
      "\u001b[1;31mNameError\u001b[0m: name 'var2' is not defined"
     ]
    }
   ],
   "source": [
    "#Scope of the variable: Global and local\n",
    "var1=100  #Global Varible\n",
    "\n",
    "def func9():\n",
    "    var2=200  #Local Varible\n",
    "    print(var2)\n",
    "    print(id(var2))\n",
    "\n",
    "func9()\n",
    "print(var2)\n",
    "print(var1)\n",
    "print(id(var1))\n"
   ]
  },
  {
   "cell_type": "code",
   "execution_count": 23,
   "id": "ad0863fa-ad2e-49a4-b594-52bace7f76c4",
   "metadata": {},
   "outputs": [
    {
     "name": "stdout",
     "output_type": "stream",
     "text": [
      "1000\n",
      "1905555796912\n",
      "1000\n",
      "1905555796912\n"
     ]
    }
   ],
   "source": [
    "var1=100  #Global Varible\n",
    "\n",
    "def func9():\n",
    "    global var1\n",
    "    var1=1000\n",
    "    print(var1)\n",
    "    print(id(var1))\n",
    "\n",
    "func9()\n",
    "print(var1)\n",
    "print(id(var1))"
   ]
  },
  {
   "cell_type": "code",
   "execution_count": 26,
   "id": "bf806a9b-cbfb-43b0-b400-9c09eb6dcfa3",
   "metadata": {},
   "outputs": [
    {
     "name": "stdin",
     "output_type": "stream",
     "text": [
      "Enter any number: 8\n"
     ]
    },
    {
     "name": "stdout",
     "output_type": "stream",
     "text": [
      "40320\n"
     ]
    }
   ],
   "source": [
    "#Calculate the factorial of given number: 5--->5*4*3*2*1\n",
    "n=int(input(\"Enter any number:\"))\n",
    "\n",
    "def fact(n):\n",
    "    if n==1:\n",
    "        return 1\n",
    "    else:\n",
    "        return n*fact(n-1)  #Recursion\n",
    "\n",
    "print(fact(n))"
   ]
  },
  {
   "cell_type": "code",
   "execution_count": 29,
   "id": "8b204217-6cec-4af3-970e-8defa7d79969",
   "metadata": {},
   "outputs": [
    {
     "name": "stdout",
     "output_type": "stream",
     "text": [
      "61\n",
      "143\n",
      "300\n"
     ]
    }
   ],
   "source": [
    "#Lambda Function\n",
    "#1.No name\n",
    "#2.Argument and exp\n",
    "#3.Default return\n",
    "#4.Single line in lambda body\n",
    "#Syntax:\n",
    "#lambda <args>:<exp>\n",
    "\n",
    "x=lambda a,b:a+b\n",
    "print(x(25,36))\n",
    "print(x(96,47))\n",
    "print((lambda a,b:a+b)(100,200))"
   ]
  },
  {
   "cell_type": "code",
   "execution_count": 31,
   "id": "22c4e2f7-98f5-42ce-833c-65c0ddd104cc",
   "metadata": {},
   "outputs": [
    {
     "name": "stdout",
     "output_type": "stream",
     "text": [
      "[144, 529, 2025, 6084]\n"
     ]
    }
   ],
   "source": [
    "#Map(),Filter(),reduce()\n",
    "#map(lambda,iteratable object)\n",
    "lst=[12,23,45,78]\n",
    "new_lst=map(lambda x:x**2,lst)\n",
    "print(list(new_lst))"
   ]
  },
  {
   "cell_type": "code",
   "execution_count": 32,
   "id": "400f1859-a4fd-4353-8638-dd0a07bd66e4",
   "metadata": {},
   "outputs": [
    {
     "name": "stdout",
     "output_type": "stream",
     "text": [
      "[78, 96, 78]\n"
     ]
    }
   ],
   "source": [
    "#Filter(lambda,iteratable)\n",
    "lst=[12,23,45,78,40,96,78,23,25]\n",
    "new_lst=filter(lambda x:x>50,lst)\n",
    "print(list(new_lst))"
   ]
  },
  {
   "cell_type": "code",
   "execution_count": 35,
   "id": "8375ce2d-d916-42f2-b9a2-d2d2d233926e",
   "metadata": {},
   "outputs": [
    {
     "name": "stdout",
     "output_type": "stream",
     "text": [
      "['e', 'i']\n"
     ]
    }
   ],
   "source": [
    "lst=['f','e','i','p']\n",
    "vowel=filter(lambda x:(x=='a' or x=='e' or x=='i'or x=='o'or x=='u'), lst)\n",
    "print(list(vowel))"
   ]
  },
  {
   "cell_type": "code",
   "execution_count": 37,
   "id": "2290496c-10ee-42d6-a176-e43a57435892",
   "metadata": {},
   "outputs": [
    {
     "name": "stdout",
     "output_type": "stream",
     "text": [
      "1193875200000000000\n"
     ]
    }
   ],
   "source": [
    "#Reduce()\n",
    "from functools import reduce\n",
    "sale=[4500,6300,4700,2800,3200]\n",
    "total_sale=reduce(lambda x,y:x*y,sale)\n",
    "print(total_sale)"
   ]
  },
  {
   "cell_type": "code",
   "execution_count": null,
   "id": "fe0c6f42-d138-4113-a19a-de7fc8ed6004",
   "metadata": {},
   "outputs": [],
   "source": [
    "new_var=set(lst)"
   ]
  },
  {
   "cell_type": "code",
   "execution_count": 40,
   "id": "bdc32078-dc95-4d4a-a1f9-421f6c730f35",
   "metadata": {},
   "outputs": [
    {
     "name": "stdout",
     "output_type": "stream",
     "text": [
      "{123, 55, 63}\n",
      "[123, 55, 63]\n",
      "()\n"
     ]
    }
   ],
   "source": [
    "lst=[1,33,63,123,2,55,63]\n",
    "lst3=filter(lambda x:x>50,lst) \n",
    "s=set(lst3)\n",
    "print(s)\n",
    "\n",
    "\n",
    "l=list(s)\n",
    "print(l)\n",
    "t=tuple(lst3)\n",
    "print(t)"
   ]
  },
  {
   "cell_type": "code",
   "execution_count": null,
   "id": "d53ecb4b-1fcd-480c-9146-4f6b75c0867b",
   "metadata": {},
   "outputs": [],
   "source": []
  }
 ],
 "metadata": {
  "kernelspec": {
   "display_name": "Python 3 (ipykernel)",
   "language": "python",
   "name": "python3"
  },
  "language_info": {
   "codemirror_mode": {
    "name": "ipython",
    "version": 3
   },
   "file_extension": ".py",
   "mimetype": "text/x-python",
   "name": "python",
   "nbconvert_exporter": "python",
   "pygments_lexer": "ipython3",
   "version": "3.12.1"
  }
 },
 "nbformat": 4,
 "nbformat_minor": 5
}
