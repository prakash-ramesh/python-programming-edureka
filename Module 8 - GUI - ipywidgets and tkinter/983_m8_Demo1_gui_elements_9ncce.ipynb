{
 "cells": [
  {
   "cell_type": "markdown",
   "metadata": {},
   "source": [
    "## Numeric Widgets\n"
   ]
  },
  {
   "cell_type": "code",
   "execution_count": 6,
   "metadata": {},
   "outputs": [
    {
     "data": {
      "application/vnd.jupyter.widget-view+json": {
       "model_id": "cdf70a6e1a344ca3b782397533a34401",
       "version_major": 2,
       "version_minor": 0
      },
      "text/plain": [
       "IntSlider(value=10, continuous_update=False, description='First IntSlider:', max=20)"
      ]
     },
     "metadata": {},
     "output_type": "display_data"
    }
   ],
   "source": [
    "# Example 1\n",
    "# IntSlider\n",
    "from ipywidgets import widgets\n",
    "from IPython.display import display\n",
    "\n",
    "intSlider=widgets.IntSlider(\n",
    "value=10,min=0,\n",
    "max=20,step=1,\n",
    "description='First IntSlider:',\n",
    "disabled=False,\n",
    "continuous_update=False,\n",
    "orientation='horizontal',\n",
    "readout=True,\n",
    "readout_format='d')\n",
    "\n",
    "display(intSlider)"
   ]
  },
  {
   "cell_type": "code",
   "execution_count": null,
   "metadata": {},
   "outputs": [],
   "source": [
    "pip install ipywidgets"
   ]
  },
  {
   "cell_type": "code",
   "execution_count": 8,
   "metadata": {},
   "outputs": [
    {
     "data": {
      "application/vnd.jupyter.widget-view+json": {
       "model_id": "09498283889448bb8ab3d73820dd7037",
       "version_major": 2,
       "version_minor": 0
      },
      "text/plain": [
       "FloatSlider(value=6.5, description='First FloatSlider:', max=15.5, orientation='vertical')"
      ]
     },
     "execution_count": 8,
     "metadata": {},
     "output_type": "execute_result"
    }
   ],
   "source": [
    "\n",
    "#FloatSlider\n",
    "from ipywidgets import widgets\n",
    "from IPython.display import display\n",
    "\n",
    "floatSlider=widgets.FloatSlider(\n",
    "value=6.5,min=0,\n",
    "max=15.5,step=0.1,\n",
    "description='First FloatSlider:',\n",
    "disabled=False,\n",
    "continuous_update=True,\n",
    "orientation='vertical',\n",
    "readout=True,readout_format='.2f')\n",
    "display(floatSlider)"
   ]
  },
  {
   "cell_type": "code",
   "execution_count": 9,
   "metadata": {},
   "outputs": [
    {
     "data": {
      "application/vnd.jupyter.widget-view+json": {
       "model_id": "732fdaab6a4e4acbb1e7d2e770bddf90",
       "version_major": 2,
       "version_minor": 0
      },
      "text/plain": [
       "IntRangeSlider(value=(6, 9), continuous_update=False, description='Testing IntRangeSlider:', max=15)"
      ]
     },
     "execution_count": 9,
     "metadata": {},
     "output_type": "execute_result"
    }
   ],
   "source": [
    "# IntRangeSlider\n",
    "\n",
    "from ipywidgets import widgets\n",
    "from IPython.display import display\n",
    "\n",
    "intRangeSlider=widgets.IntRangeSlider(\n",
    "value=[6, 9],min=0,\n",
    "max=15,step=1,\n",
    "description='Testing IntRangeSlider:',\n",
    "disabled=False,\n",
    "continuous_update=False,orientation='horizontal',\n",
    "readout=True,readout_format='d')\n",
    "intRangeSlider"
   ]
  },
  {
   "cell_type": "code",
   "execution_count": 10,
   "metadata": {},
   "outputs": [
    {
     "data": {
      "application/vnd.jupyter.widget-view+json": {
       "model_id": "80ad739b261843d2884c0c0fa6ae128a",
       "version_major": 2,
       "version_minor": 0
      },
      "text/plain": [
       "FloatRangeSlider(value=(4.5, 8.5), continuous_update=False, description='Testing FloatSlider:', max=10.5, read…"
      ]
     },
     "execution_count": 10,
     "metadata": {},
     "output_type": "execute_result"
    }
   ],
   "source": [
    "# Example 6\n",
    "\n",
    "# FloatRangeSlider\n",
    "\n",
    "from ipywidgets import widgets\n",
    "from IPython.display import display\n",
    "floatRangeSlider=widgets.FloatRangeSlider(\n",
    "value=[4.5, 8.5],min=0,\n",
    "max=10.5,step=0.1,\n",
    "description='Testing FloatSlider:',\n",
    "disabled=False,\n",
    "continuous_update=False,orientation='horizontal',\n",
    "readout=True,readout_format='.1f')\n",
    "floatRangeSlider"
   ]
  },
  {
   "cell_type": "markdown",
   "metadata": {},
   "source": [
    "## Boolean Widgets"
   ]
  },
  {
   "cell_type": "code",
   "execution_count": 14,
   "metadata": {},
   "outputs": [
    {
     "data": {
      "application/vnd.jupyter.widget-view+json": {
       "model_id": "c7fd43b3301e46859010e0aaee693973",
       "version_major": 2,
       "version_minor": 0
      },
      "text/plain": [
       "ToggleButton(value=True, button_style='warning', description='Click me', icon='check', tooltip='Click here')"
      ]
     },
     "execution_count": 14,
     "metadata": {},
     "output_type": "execute_result"
    }
   ],
   "source": [
    "# Example 10\n",
    "# ToggleButton\n",
    "from ipywidgets import widgets\n",
    "from IPython.display import display\n",
    "\n",
    "togButton=widgets.ToggleButton(\n",
    "value=True,description='Click me',\n",
    "disabled=False,button_style='warning',  #  button style can be 'success', 'info', 'warning', 'danger'\n",
    "tooltip='Click here',icon='check')\n",
    "togButton\n"
   ]
  },
  {
   "cell_type": "code",
   "execution_count": 15,
   "metadata": {},
   "outputs": [
    {
     "data": {
      "application/vnd.jupyter.widget-view+json": {
       "model_id": "3d01e52af26f449f8a6fb3bfbe0583bd",
       "version_major": 2,
       "version_minor": 0
      },
      "text/plain": [
       "Checkbox(value=False, description='Check Here')"
      ]
     },
     "execution_count": 15,
     "metadata": {},
     "output_type": "execute_result"
    }
   ],
   "source": [
    "# Example 12\n",
    "# Checkbox\n",
    "from ipywidgets import widgets\n",
    "from IPython.display import display\n",
    "\n",
    "chkBox=widgets.Checkbox(\n",
    "value=False,\n",
    "description='Check Here',\n",
    "disabled=False)\n",
    "chkBox\n"
   ]
  },
  {
   "cell_type": "markdown",
   "metadata": {},
   "source": [
    "## Selection Widgets"
   ]
  },
  {
   "cell_type": "code",
   "execution_count": 17,
   "metadata": {},
   "outputs": [
    {
     "data": {
      "application/vnd.jupyter.widget-view+json": {
       "model_id": "91f364803cb94563b0e0e0562d955d65",
       "version_major": 2,
       "version_minor": 0
      },
      "text/plain": [
       "Dropdown(description='Rank:', options=('First', 'Second', 'Third', 'forth'), value='First')"
      ]
     },
     "execution_count": 17,
     "metadata": {},
     "output_type": "execute_result"
    }
   ],
   "source": [
    "# Example 13\n",
    "\n",
    "# Dropdown\n",
    "\n",
    "from ipywidgets import widgets\n",
    "from IPython.display import display\n",
    "\n",
    "DropDown=widgets.Dropdown(\n",
    "options=['First', 'Second', 'Third',\"forth\"],\n",
    "value='First',\n",
    "description='Rank:',disabled=False)\n",
    "DropDown"
   ]
  },
  {
   "cell_type": "code",
   "execution_count": 18,
   "metadata": {},
   "outputs": [
    {
     "data": {
      "application/vnd.jupyter.widget-view+json": {
       "model_id": "c3cf718166a84ba8b24126eecd1b4bb4",
       "version_major": 2,
       "version_minor": 0
      },
      "text/plain": [
       "RadioButtons(description='Programming Language', options=('Python', 'Java', 'C#'), value='Python')"
      ]
     },
     "execution_count": 18,
     "metadata": {},
     "output_type": "execute_result"
    }
   ],
   "source": [
    "# Example 14\n",
    "\n",
    "# RadioButtons\n",
    "from ipywidgets import widgets\n",
    "from IPython.display import display\n",
    "\n",
    "radioButton=widgets.RadioButtons(\n",
    "options=['Python', 'Java', 'C#'],\n",
    "description='Programming Language',\n",
    "disabled=False)\n",
    "radioButton"
   ]
  },
  {
   "cell_type": "code",
   "execution_count": 19,
   "metadata": {},
   "outputs": [
    {
     "data": {
      "application/vnd.jupyter.widget-view+json": {
       "model_id": "265120c0bbb84a738ebed9248aaec0e6",
       "version_major": 2,
       "version_minor": 0
      },
      "text/plain": [
       "Select(description='City:', index=1, options=('Pune', 'Bangalore', 'Mumbai'), value='Bangalore')"
      ]
     },
     "execution_count": 19,
     "metadata": {},
     "output_type": "execute_result"
    }
   ],
   "source": [
    "# Example 15\n",
    "# Select\n",
    "from ipywidgets import widgets\n",
    "from IPython.display import display\n",
    "select=widgets.Select(\n",
    "options=['Pune', 'Bangalore', 'Mumbai'],\n",
    "value='Bangalore',description='City:',\n",
    "disabled=False)\n",
    "select"
   ]
  },
  {
   "cell_type": "markdown",
   "metadata": {},
   "source": [
    "## String Widgets"
   ]
  },
  {
   "cell_type": "code",
   "execution_count": 21,
   "metadata": {},
   "outputs": [
    {
     "data": {
      "application/vnd.jupyter.widget-view+json": {
       "model_id": "5a8780b2f8324fada92f301642640406",
       "version_major": 2,
       "version_minor": 0
      },
      "text/plain": [
       "Text(value='')"
      ]
     },
     "metadata": {},
     "output_type": "display_data"
    },
    {
     "name": "stderr",
     "output_type": "stream",
     "text": [
      "C:\\Users\\Dell\\AppData\\Local\\Temp\\ipykernel_11788\\565387624.py:13: DeprecationWarning: on_submit is deprecated. Instead, set the .continuous_update attribute to False and observe the value changing with: mywidget.observe(callback, 'value').\n",
      "  text_input.on_submit(text_submit)  # Listens to the activity and calls a function to handle the activity\n"
     ]
    }
   ],
   "source": [
    "# Example 17\n",
    "# Text\n",
    "from ipywidgets import widgets\n",
    "from IPython.display import display\n",
    "\n",
    "text_input = widgets.Text()\n",
    "display(text_input)\n",
    "\n",
    "\n",
    "def text_submit(sender):\n",
    "    print(text_input.value)\n",
    "    \n",
    "text_input.on_submit(text_submit)  # Listens to the activity and calls a function to handle the activity\n"
   ]
  },
  {
   "cell_type": "code",
   "execution_count": 22,
   "metadata": {},
   "outputs": [
    {
     "data": {
      "application/vnd.jupyter.widget-view+json": {
       "model_id": "ca31ebaa27b247bcb2584b5a73a05409",
       "version_major": 2,
       "version_minor": 0
      },
      "text/plain": [
       "Password(description='Password:', placeholder='Enter password')"
      ]
     },
     "execution_count": 22,
     "metadata": {},
     "output_type": "execute_result"
    }
   ],
   "source": [
    "from ipywidgets import widgets\n",
    "from IPython.display import display\n",
    "widgets.Password(\n",
    "    value='password',\n",
    "    placeholder='Enter password',\n",
    "    description='Password:',\n",
    "    disabled=False\n",
    ")"
   ]
  },
  {
   "cell_type": "markdown",
   "metadata": {},
   "source": [
    "## Button"
   ]
  },
  {
   "cell_type": "code",
   "execution_count": 24,
   "metadata": {},
   "outputs": [
    {
     "data": {
      "application/vnd.jupyter.widget-view+json": {
       "model_id": "bfe398f7b70a4508a0a283c363f23bcc",
       "version_major": 2,
       "version_minor": 0
      },
      "text/plain": [
       "Button(button_style='success', description='Click me', icon='check', style=ButtonStyle(), tooltip='Click me')"
      ]
     },
     "metadata": {},
     "output_type": "display_data"
    }
   ],
   "source": [
    "# Example 18\n",
    "# Button (different from Toggle Button)\n",
    "\n",
    "from ipywidgets import widgets\n",
    "from IPython.display import display\n",
    "\n",
    "button = widgets.Button(description='Click me',\n",
    "disabled=False,\n",
    "button_style='success',tooltip='Click me',\n",
    "icon='check')\n",
    "\n",
    "display(button)\n",
    "\n",
    "def on_button_clicked(b):\n",
    "    print(\"Python is awesome\")\n",
    "    \n",
    "button.on_click(on_button_clicked)\n"
   ]
  },
  {
   "cell_type": "code",
   "execution_count": 26,
   "metadata": {},
   "outputs": [
    {
     "data": {
      "application/vnd.jupyter.widget-view+json": {
       "model_id": "dae98f0283ef4829bf59f0a5de17046c",
       "version_major": 2,
       "version_minor": 0
      },
      "text/plain": [
       "Label(value='First Number:')"
      ]
     },
     "metadata": {},
     "output_type": "display_data"
    },
    {
     "data": {
      "application/vnd.jupyter.widget-view+json": {
       "model_id": "66d0ec2da5b741cfa00043c866cb492c",
       "version_major": 2,
       "version_minor": 0
      },
      "text/plain": [
       "Text(value='')"
      ]
     },
     "metadata": {},
     "output_type": "display_data"
    },
    {
     "data": {
      "application/vnd.jupyter.widget-view+json": {
       "model_id": "435f7aba9c0746d8992b23902e2e69a8",
       "version_major": 2,
       "version_minor": 0
      },
      "text/plain": [
       "Label(value='Second Number:')"
      ]
     },
     "metadata": {},
     "output_type": "display_data"
    },
    {
     "data": {
      "application/vnd.jupyter.widget-view+json": {
       "model_id": "a434c97c2b874ef7bc64118415a12605",
       "version_major": 2,
       "version_minor": 0
      },
      "text/plain": [
       "Text(value='')"
      ]
     },
     "metadata": {},
     "output_type": "display_data"
    },
    {
     "data": {
      "application/vnd.jupyter.widget-view+json": {
       "model_id": "e456a479a41c4d259a9dbcdb2a4e78a2",
       "version_major": 2,
       "version_minor": 0
      },
      "text/plain": [
       "Button(description='Add', style=ButtonStyle())"
      ]
     },
     "metadata": {},
     "output_type": "display_data"
    },
    {
     "data": {
      "application/vnd.jupyter.widget-view+json": {
       "model_id": "66f696460d9f4b57a51381b2f2b02f97",
       "version_major": 2,
       "version_minor": 0
      },
      "text/plain": [
       "Label(value='')"
      ]
     },
     "metadata": {},
     "output_type": "display_data"
    }
   ],
   "source": [
    "#Small but complete example\n",
    "from ipywidgets import widgets\n",
    "\n",
    "lbl1=widgets.Label(\"First Number:\")\n",
    "display(lbl1)\n",
    "\n",
    "text1=widgets.Text()\n",
    "display(text1)\n",
    "\n",
    "lbl2=widgets.Label(\"Second Number:\")\n",
    "display(lbl2)\n",
    "\n",
    "text2=widgets.Text()\n",
    "display(text2)\n",
    "\n",
    "btn=widgets.Button(description=\"Add\")\n",
    "display(btn)\n",
    "\n",
    "lbl3=widgets.Label()\n",
    "display(lbl3)\n",
    "\n",
    "def add(b):\n",
    "    x=int(text1.value)\n",
    "    y=int(text2.value)\n",
    "    lbl3.value=\"Result:\"+str(x+y)\n",
    "\n",
    "btn.on_click(add)"
   ]
  },
  {
   "cell_type": "markdown",
   "metadata": {},
   "source": [
    "## Date Picker"
   ]
  },
  {
   "cell_type": "code",
   "execution_count": 27,
   "metadata": {},
   "outputs": [
    {
     "data": {
      "application/vnd.jupyter.widget-view+json": {
       "model_id": "9b5347732c274d11b1c64f94f0c88b49",
       "version_major": 2,
       "version_minor": 0
      },
      "text/plain": [
       "DatePicker(value=None, description='Select a Date', step=1)"
      ]
     },
     "execution_count": 27,
     "metadata": {},
     "output_type": "execute_result"
    }
   ],
   "source": [
    "# Example 20\n",
    "# Date Picker\n",
    "from ipywidgets import widgets\n",
    "from IPython.display import display\n",
    "\n",
    "widgets.DatePicker(\n",
    "description='Select a Date',disabled=False)\n"
   ]
  },
  {
   "cell_type": "code",
   "execution_count": null,
   "metadata": {},
   "outputs": [],
   "source": [
    "from ipywidgets import widgets\n",
    "from IPython.display import display\n",
    "\n",
    "tab_contents = ['P0', 'P1', 'P2', 'P3', 'P4']\n",
    "children = [widgets.Text(description=name) for name in tab_contents]\n",
    "tab = widgets.Tab()\n",
    "tab.children = children\n",
    "tab"
   ]
  },
  {
   "cell_type": "code",
   "execution_count": 25,
   "metadata": {},
   "outputs": [
    {
     "data": {
      "application/vnd.jupyter.widget-view+json": {
       "model_id": "7bfe8bce94ef450e8470b92f0f9a735b",
       "version_major": 2,
       "version_minor": 0
      },
      "text/plain": [
       "Button(description='Click Me!', style=ButtonStyle())"
      ]
     },
     "metadata": {},
     "output_type": "display_data"
    },
    {
     "data": {
      "application/vnd.jupyter.widget-view+json": {
       "model_id": "f0604be813c745ceb8fc1d4827382678",
       "version_major": 2,
       "version_minor": 0
      },
      "text/plain": [
       "Output()"
      ]
     },
     "metadata": {},
     "output_type": "display_data"
    }
   ],
   "source": [
    "from IPython.display import display\n",
    "button = widgets.Button(description=\"Click Me!\")\n",
    "output = widgets.Output()\n",
    "\n",
    "display(button, output)\n",
    "\n",
    "def on_button_clicked(b):\n",
    "    with output:\n",
    "        print(\"Button clicked.\")\n",
    "\n",
    "button.on_click(on_button_clicked)"
   ]
  },
  {
   "cell_type": "code",
   "execution_count": null,
   "metadata": {},
   "outputs": [],
   "source": []
  }
 ],
 "metadata": {
  "kernelspec": {
   "display_name": "Python 3 (ipykernel)",
   "language": "python",
   "name": "python3"
  },
  "language_info": {
   "codemirror_mode": {
    "name": "ipython",
    "version": 3
   },
   "file_extension": ".py",
   "mimetype": "text/x-python",
   "name": "python",
   "nbconvert_exporter": "python",
   "pygments_lexer": "ipython3",
   "version": "3.12.1"
  }
 },
 "nbformat": 4,
 "nbformat_minor": 4
}
