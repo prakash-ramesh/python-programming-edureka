{
  "cells": [
    {
      "cell_type": "markdown",
      "source": [
        "##Demo 3 - Tuple Operations\n",
        "\n",
        "In this demo, you will learn about different operations performed on Tuple Data type."
      ],
      "metadata": {
        "id": "N44vrgYSg5cr"
      }
    },
    {
      "cell_type": "markdown",
      "metadata": {
        "id": "e2K-1_3kgrTn"
      },
      "source": [
        "## Tuples and its various operations"
      ]
    },
    {
      "cell_type": "code",
      "execution_count": null,
      "metadata": {
        "colab": {
          "base_uri": "https://localhost:8080/"
        },
        "id": "cs28C52HgrTv",
        "outputId": "1b98174f-c234-4d67-ba15-67c4f96dd95c"
      },
      "outputs": [
        {
          "output_type": "stream",
          "name": "stdout",
          "text": [
            "10\n",
            "20\n",
            "30\n",
            "40\n"
          ]
        }
      ],
      "source": [
        "# Example 1\n",
        "tuple1=(10,20,30,40)\n",
        "for i in tuple1:\n",
        "    print(i)"
      ]
    },
    {
      "cell_type": "code",
      "execution_count": null,
      "metadata": {
        "colab": {
          "base_uri": "https://localhost:8080/"
        },
        "id": "DG5eOrV0grTy",
        "outputId": "d043bb50-f441-4a65-9103-be819f1f24b8"
      },
      "outputs": [
        {
          "output_type": "execute_result",
          "data": {
            "text/plain": [
              "(10, 20, 30, 40)"
            ]
          },
          "metadata": {},
          "execution_count": 5
        }
      ],
      "source": [
        "# Example 2\n",
        "list1=[10,20,30,40]\n",
        "tuple2=tuple(list1)\n",
        "tuple2"
      ]
    },
    {
      "cell_type": "code",
      "execution_count": null,
      "metadata": {
        "colab": {
          "base_uri": "https://localhost:8080/",
          "height": 244
        },
        "id": "3BAcZTJagrTz",
        "outputId": "816f443f-2dc2-439e-b615-d422f5305a3c"
      },
      "outputs": [
        {
          "output_type": "stream",
          "name": "stdout",
          "text": [
            "[10, 20, 50, 40]\n"
          ]
        },
        {
          "output_type": "error",
          "ename": "TypeError",
          "evalue": "ignored",
          "traceback": [
            "\u001b[0;31m---------------------------------------------------------------------------\u001b[0m",
            "\u001b[0;31mTypeError\u001b[0m                                 Traceback (most recent call last)",
            "\u001b[0;32m<ipython-input-3-c826c5ffe7b0>\u001b[0m in \u001b[0;36m<module>\u001b[0;34m()\u001b[0m\n\u001b[1;32m      5\u001b[0m \u001b[0mprint\u001b[0m\u001b[0;34m(\u001b[0m\u001b[0mlist1\u001b[0m\u001b[0;34m)\u001b[0m\u001b[0;34m\u001b[0m\u001b[0;34m\u001b[0m\u001b[0m\n\u001b[1;32m      6\u001b[0m \u001b[0mtuple1\u001b[0m\u001b[0;34m=\u001b[0m\u001b[0;34m(\u001b[0m\u001b[0;36m10\u001b[0m\u001b[0;34m,\u001b[0m\u001b[0;36m20\u001b[0m\u001b[0;34m,\u001b[0m\u001b[0;36m30\u001b[0m\u001b[0;34m,\u001b[0m\u001b[0;36m40\u001b[0m\u001b[0;34m)\u001b[0m\u001b[0;34m\u001b[0m\u001b[0;34m\u001b[0m\u001b[0m\n\u001b[0;32m----> 7\u001b[0;31m \u001b[0mtuple1\u001b[0m\u001b[0;34m[\u001b[0m\u001b[0;36m2\u001b[0m\u001b[0;34m]\u001b[0m\u001b[0;34m=\u001b[0m\u001b[0;36m30\u001b[0m  \u001b[0;31m# Observe that even though we put the same vale, it throws an error because tuple object doesn't support item assignment\u001b[0m\u001b[0;34m\u001b[0m\u001b[0;34m\u001b[0m\u001b[0m\n\u001b[0m\u001b[1;32m      8\u001b[0m \u001b[0mprint\u001b[0m\u001b[0;34m(\u001b[0m\u001b[0mtuple1\u001b[0m\u001b[0;34m)\u001b[0m\u001b[0;34m\u001b[0m\u001b[0;34m\u001b[0m\u001b[0m\n",
            "\u001b[0;31mTypeError\u001b[0m: 'tuple' object does not support item assignment"
          ]
        }
      ],
      "source": [
        "# Example 3\n",
        "# List is mutable but tuple is immutable\n",
        "list1=[10,20,30,40]\n",
        "list1[2]=50\n",
        "print(list1)\n",
        "tuple1=(10,20,30,40)\n",
        "tuple1[2]=30  # Observe that even though we put the same vale, it throws an error because tuple object doesn't support item assignment\n",
        "print(tuple1)"
      ]
    },
    {
      "cell_type": "markdown",
      "metadata": {
        "id": "AGfOrzNLgrT1"
      },
      "source": [
        "## Can a list be immutable? "
      ]
    },
    {
      "cell_type": "code",
      "execution_count": null,
      "metadata": {
        "colab": {
          "base_uri": "https://localhost:8080/",
          "height": 226
        },
        "id": "XnhO9FtrgrT1",
        "outputId": "ad91538f-1912-4c48-8d0b-a1c4e78226fa"
      },
      "outputs": [
        {
          "output_type": "error",
          "ename": "TypeError",
          "evalue": "ignored",
          "traceback": [
            "\u001b[0;31m---------------------------------------------------------------------------\u001b[0m",
            "\u001b[0;31mTypeError\u001b[0m                                 Traceback (most recent call last)",
            "\u001b[0;32m<ipython-input-6-c2a1dbae0c50>\u001b[0m in \u001b[0;36m<module>\u001b[0;34m()\u001b[0m\n\u001b[1;32m      1\u001b[0m \u001b[0;31m# When you create a list of only tuples then the list becomes immutable\u001b[0m\u001b[0;34m\u001b[0m\u001b[0;34m\u001b[0m\u001b[0;34m\u001b[0m\u001b[0m\n\u001b[1;32m      2\u001b[0m \u001b[0mlist_1\u001b[0m\u001b[0;34m=\u001b[0m\u001b[0;34m[\u001b[0m\u001b[0;34m(\u001b[0m\u001b[0;36m10\u001b[0m\u001b[0;34m,\u001b[0m\u001b[0;36m20\u001b[0m\u001b[0;34m)\u001b[0m\u001b[0;34m,\u001b[0m\u001b[0;34m(\u001b[0m\u001b[0;36m30\u001b[0m\u001b[0;34m,\u001b[0m\u001b[0;36m40\u001b[0m\u001b[0;34m)\u001b[0m\u001b[0;34m]\u001b[0m\u001b[0;34m\u001b[0m\u001b[0;34m\u001b[0m\u001b[0m\n\u001b[0;32m----> 3\u001b[0;31m \u001b[0mlist_1\u001b[0m\u001b[0;34m[\u001b[0m\u001b[0;36m0\u001b[0m\u001b[0;34m]\u001b[0m\u001b[0;34m[\u001b[0m\u001b[0;36m1\u001b[0m\u001b[0;34m]\u001b[0m\u001b[0;34m=\u001b[0m\u001b[0;36m100\u001b[0m\u001b[0;34m\u001b[0m\u001b[0;34m\u001b[0m\u001b[0m\n\u001b[0m\u001b[1;32m      4\u001b[0m \u001b[0mprint\u001b[0m\u001b[0;34m(\u001b[0m\u001b[0mlist_1\u001b[0m\u001b[0;34m)\u001b[0m\u001b[0;34m\u001b[0m\u001b[0;34m\u001b[0m\u001b[0m\n",
            "\u001b[0;31mTypeError\u001b[0m: 'tuple' object does not support item assignment"
          ]
        }
      ],
      "source": [
        "# When you create a list of only tuples then the list becomes immutable\n",
        "list_1=[(10,20),(30,40)]   \n",
        "list_1[0][1]=100\n",
        "print(list_1)"
      ]
    },
    {
      "cell_type": "markdown",
      "metadata": {
        "id": "OKXljda2grT2"
      },
      "source": [
        "## Can a tuple be mutable?"
      ]
    },
    {
      "cell_type": "code",
      "execution_count": null,
      "metadata": {
        "colab": {
          "base_uri": "https://localhost:8080/"
        },
        "id": "2wXSRYpTgrT3",
        "outputId": "a909fd1f-66f5-4517-c519-e5d530c257a2"
      },
      "outputs": [
        {
          "output_type": "execute_result",
          "data": {
            "text/plain": [
              "([10, 20], [30, 50])"
            ]
          },
          "metadata": {},
          "execution_count": 7
        }
      ],
      "source": [
        "# When you create a tuple of lists, it becomes mutable due to mutable nature of list.\n",
        "tuple_1=([10,20],[30,40])\n",
        "tuple_1[1][1]=50\n",
        "tuple_1"
      ]
    },
    {
      "cell_type": "markdown",
      "metadata": {
        "id": "GZrfNNtHgrT5"
      },
      "source": [
        "## Basic operations in a tuple"
      ]
    },
    {
      "cell_type": "code",
      "execution_count": null,
      "metadata": {
        "colab": {
          "base_uri": "https://localhost:8080/"
        },
        "id": "8TxIww9NgrT6",
        "outputId": "e2a79be8-faa4-48c0-fa72-6ffcf9fe5441"
      },
      "outputs": [
        {
          "output_type": "stream",
          "name": "stdout",
          "text": [
            "4\n",
            "40\n",
            "10\n",
            "[10, 20, 30, 40]\n",
            "(40, 30, 20, 10)\n",
            "(20, 30, 40)\n",
            "(10, 20, 30, 40, 10, 20, 30, 40)\n",
            "True\n"
          ]
        }
      ],
      "source": [
        "tuple_2=(10,20,30,40)\n",
        "print(len(tuple_2))\n",
        "print(max(tuple_2))\n",
        "print(min(tuple_2))\n",
        "print(sorted(tuple_2))\n",
        "print(tuple_2[::-1])\n",
        "print(tuple_2[1:7])\n",
        "print(tuple_2*2)\n",
        "print(20 in tuple_2)"
      ]
    },
    {
      "cell_type": "code",
      "execution_count": null,
      "metadata": {
        "colab": {
          "base_uri": "https://localhost:8080/"
        },
        "id": "BEc_kHiNgrT7",
        "outputId": "3fbbf29e-16e9-4d56-e50d-2223ad583024"
      },
      "outputs": [
        {
          "output_type": "stream",
          "name": "stdout",
          "text": [
            "([10, 20], [30])\n",
            "[[10, 20], [30]]\n"
          ]
        }
      ],
      "source": [
        "# As it is a tuple of lists, we can delete element.\n",
        "tuple_3=([10,20],[30,40])\n",
        "del(tuple_3[1][1])\n",
        "print(tuple_3)\n",
        "list_3=list(tuple_3)  # Converting the tuple to a list\n",
        "print(list_3)"
      ]
    },
    {
      "cell_type": "code",
      "execution_count": null,
      "metadata": {
        "colab": {
          "base_uri": "https://localhost:8080/"
        },
        "id": "yJPOe72TgrT7",
        "outputId": "a31c443b-db5b-45b8-a82c-350c118347fe"
      },
      "outputs": [
        {
          "output_type": "stream",
          "name": "stdout",
          "text": [
            "2\n",
            "1\n"
          ]
        }
      ],
      "source": [
        "# Count the number of occurences and printing index\n",
        "\n",
        "tuple_new=(10,20,20,30,40)\n",
        "print(tuple_new.count(20))\n",
        "print(tuple_new.index(20))   # It will print the index of the 1st occurence of that element"
      ]
    },
    {
      "cell_type": "markdown",
      "metadata": {
        "id": "qtHvy7B4grT8"
      },
      "source": [
        "##  Example with respect to usage of id() on lists and tuples\n"
      ]
    },
    {
      "cell_type": "code",
      "execution_count": null,
      "metadata": {
        "colab": {
          "base_uri": "https://localhost:8080/"
        },
        "id": "T1bxz7rSgrT9",
        "outputId": "124a8b8a-633b-43f7-ca79-f1c3abc494fc"
      },
      "outputs": [
        {
          "output_type": "stream",
          "name": "stdout",
          "text": [
            "139899190565136\n",
            "139899137223568\n",
            "139899137286800\n"
          ]
        }
      ],
      "source": [
        "# Check all the ids are different\n",
        "list1=[1,2,3]\n",
        "tup1=tuple(list1)\n",
        "list2=id(tup1)\n",
        "print(id(tup1))\n",
        "print(id(list1))\n",
        "print(id(list2))"
      ]
    }
  ],
  "metadata": {
    "kernelspec": {
      "display_name": "Python 3",
      "language": "python",
      "name": "python3"
    },
    "language_info": {
      "codemirror_mode": {
        "name": "ipython",
        "version": 3
      },
      "file_extension": ".py",
      "mimetype": "text/x-python",
      "name": "python",
      "nbconvert_exporter": "python",
      "pygments_lexer": "ipython3",
      "version": "3.7.4"
    },
    "colab": {
      "name": "1906_m2_demo3 - Tuples Operations_v1.0.ipynb",
      "provenance": []
    }
  },
  "nbformat": 4,
  "nbformat_minor": 0
}