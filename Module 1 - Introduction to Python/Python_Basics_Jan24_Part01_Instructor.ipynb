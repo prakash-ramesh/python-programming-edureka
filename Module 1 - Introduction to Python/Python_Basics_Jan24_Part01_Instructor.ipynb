{
 "cells": [
  {
   "cell_type": "code",
   "execution_count": 2,
   "id": "be8c3875-0f7b-45a9-9f45-a08cc9890483",
   "metadata": {},
   "outputs": [
    {
     "name": "stdout",
     "output_type": "stream",
     "text": [
      "Hello in the world of Python\n"
     ]
    }
   ],
   "source": [
    "print(\"Hello in the world of Python\")"
   ]
  },
  {
   "cell_type": "code",
   "execution_count": 4,
   "id": "134f260a-2525-478c-9e6d-579986fa20ca",
   "metadata": {},
   "outputs": [
    {
     "data": {
      "text/plain": [
       "' \\nThis is \\na\\nmultiline comment\\n'"
      ]
     },
     "execution_count": 4,
     "metadata": {},
     "output_type": "execute_result"
    }
   ],
   "source": [
    "#This is a single line comment\n",
    "\"\"\" \n",
    "This is \n",
    "a\n",
    "multiline comment\n",
    "\"\"\""
   ]
  },
  {
   "cell_type": "code",
   "execution_count": 6,
   "id": "5ce78caa-8bc6-47aa-ace4-2761e3b1460f",
   "metadata": {},
   "outputs": [
    {
     "name": "stdout",
     "output_type": "stream",
     "text": [
      "25\n",
      "36\n"
     ]
    }
   ],
   "source": [
    "#Variables/Identifiers\n",
    "age=25\n",
    "print(age)\n",
    "age=36\n",
    "print(age)"
   ]
  },
  {
   "cell_type": "code",
   "execution_count": 9,
   "id": "d6e0b5ee-e0f6-4569-8328-04f5b2f52407",
   "metadata": {},
   "outputs": [
    {
     "ename": "SyntaxError",
     "evalue": "invalid syntax (1568875142.py, line 8)",
     "output_type": "error",
     "traceback": [
      "\u001b[1;36m  Cell \u001b[1;32mIn[9], line 8\u001b[1;36m\u001b[0m\n\u001b[1;33m    Total amount=5000\u001b[0m\n\u001b[1;37m          ^\u001b[0m\n\u001b[1;31mSyntaxError\u001b[0m\u001b[1;31m:\u001b[0m invalid syntax\n"
     ]
    }
   ],
   "source": [
    "#Identifiers rules\n",
    "#1.Python is case sensetive   age,Age\n",
    "#2.cant not stat with a number\n",
    "#3.only _ can be used\n",
    "age1=35\n",
    "age2=36\n",
    "#3age=50\n",
    "Total_amount=5000\n",
    "def MyFunc():\n",
    "    "
   ]
  },
  {
   "cell_type": "code",
   "execution_count": null,
   "id": "19721856-c414-4d32-bde4-4ac519f77d19",
   "metadata": {},
   "outputs": [],
   "source": [
    "#Data Types\n",
    "#Numerical: int,float,complex\n",
    "#AlphaNumerical: string\n",
    "#Collection Datatypes/Sequences: list,tuple,set,Dict"
   ]
  },
  {
   "cell_type": "code",
   "execution_count": 12,
   "id": "6aceb39a-9711-4285-aaaa-435c9c4978c9",
   "metadata": {},
   "outputs": [
    {
     "name": "stdout",
     "output_type": "stream",
     "text": [
      "<class 'int'>\n",
      "<class 'float'>\n",
      "<class 'complex'>\n"
     ]
    }
   ],
   "source": [
    "#Numerial Datatypes\n",
    "total_count=452\n",
    "print(type(total_count))\n",
    "roi=14.99\n",
    "print(type(roi))\n",
    "comp=10+15j\n",
    "print(type(comp))"
   ]
  },
  {
   "cell_type": "code",
   "execution_count": 17,
   "id": "8f85635a-d8c1-4e2e-9132-553d524ca62a",
   "metadata": {},
   "outputs": [
    {
     "name": "stdout",
     "output_type": "stream",
     "text": [
      "<class 'int'>\n",
      "<class 'float'>\n",
      "<class 'str'>\n",
      "<class 'list'>\n",
      "[10, 20, 30, 40, 50]\n"
     ]
    }
   ],
   "source": [
    "#Dynamic Typing\n",
    "#int age=25; static Typing\n",
    "var=45\n",
    "print(type(var))\n",
    "var=14.36\n",
    "print(type(var))\n",
    "var=\"Amit\"\n",
    "print(type(var))\n",
    "var=[10,20,30,40,50]\n",
    "print(type(var))\n",
    "print(var)"
   ]
  },
  {
   "cell_type": "code",
   "execution_count": 28,
   "id": "c7d343b6-764b-4c90-940d-4dd147eb3e18",
   "metadata": {},
   "outputs": [
    {
     "name": "stdout",
     "output_type": "stream",
     "text": [
      "141\n",
      "300\n",
      "5.0\n",
      "3\n",
      "1\n",
      "60\n",
      "7962624\n"
     ]
    }
   ],
   "source": [
    "#Airthmetic Operators  +,-,/,*\n",
    "print(45+96)\n",
    "a=100\n",
    "b=200\n",
    "print(a+b)\n",
    "print(10/2)  #Returns a float value\n",
    "print(10//3) #Floor Division\n",
    "print(10%3)  #Modulo(remainder)\n",
    "print(10*6)\n",
    "print(24**5) #power opr"
   ]
  },
  {
   "cell_type": "code",
   "execution_count": 29,
   "id": "5227296a-3112-4a3b-8c68-34c5aa333585",
   "metadata": {},
   "outputs": [
    {
     "name": "stdout",
     "output_type": "stream",
     "text": [
      "3.33\n"
     ]
    }
   ],
   "source": [
    "print(round(10/3,2))"
   ]
  },
  {
   "cell_type": "code",
   "execution_count": 32,
   "id": "fb330a52-e127-4d16-bdaf-d02f9ef2a3e6",
   "metadata": {},
   "outputs": [
    {
     "name": "stdout",
     "output_type": "stream",
     "text": [
      "123\n",
      "73\n"
     ]
    }
   ],
   "source": [
    "#Assignment Operators: =,+=,-=\n",
    "var=23\n",
    "#var1=var2\n",
    "var+=100 #var=var+100\n",
    "print(var)\n",
    "var-=50  #var=var-50\n",
    "print(var)"
   ]
  },
  {
   "cell_type": "code",
   "execution_count": 39,
   "id": "19147e44-42be-4a93-b74b-317d88889a46",
   "metadata": {},
   "outputs": [
    {
     "name": "stdout",
     "output_type": "stream",
     "text": [
      "True\n",
      "False\n",
      "True\n",
      "False\n"
     ]
    }
   ],
   "source": [
    "#Relational/Comparision Opr: >,<,==,!=,>=,<=\n",
    "a=45\n",
    "b=63\n",
    "print(a<b)\n",
    "print(a>b)\n",
    "print(a!=b)\n",
    "print(a>=b)"
   ]
  },
  {
   "cell_type": "code",
   "execution_count": 44,
   "id": "c97fb1da-68d2-4efe-9e49-31348d9392fd",
   "metadata": {},
   "outputs": [
    {
     "name": "stdout",
     "output_type": "stream",
     "text": [
      "False\n",
      "True\n",
      "True\n"
     ]
    }
   ],
   "source": [
    "#Logical Opr: and,or,not\n",
    "age=45\n",
    "print(age==18 and age<=40)\n",
    "print(age>18 or age<=40)\n",
    "print(not age<=40)"
   ]
  },
  {
   "cell_type": "code",
   "execution_count": 45,
   "id": "291e2300-47d5-4860-94a8-fc9d5bb4cff2",
   "metadata": {},
   "outputs": [
    {
     "name": "stdout",
     "output_type": "stream",
     "text": [
      "True\n"
     ]
    }
   ],
   "source": [
    "a=23 \n",
    "print(a>18)"
   ]
  },
  {
   "cell_type": "code",
   "execution_count": 48,
   "id": "0f863ea7-1db5-4f2f-ba89-ff09b780eee7",
   "metadata": {},
   "outputs": [
    {
     "name": "stdin",
     "output_type": "stream",
     "text": [
      "Enter your age 56\n"
     ]
    },
    {
     "name": "stdout",
     "output_type": "stream",
     "text": [
      "your age is: 56\n",
      "<class 'int'>\n"
     ]
    }
   ],
   "source": [
    "#Input from user\n",
    "#age=input(\"Enter your age\")\n",
    "age=int(input(\"Enter your age\"))\n",
    "print(\"your age is:\",age)\n",
    "print(type(age))"
   ]
  },
  {
   "cell_type": "code",
   "execution_count": 50,
   "id": "6db98c38-f07a-4758-b724-4f5de8d0fbe1",
   "metadata": {},
   "outputs": [
    {
     "name": "stdout",
     "output_type": "stream",
     "text": [
      "<class 'float'>\n",
      "<class 'int'>\n"
     ]
    }
   ],
   "source": [
    "#Type conversion/Type casting\n",
    "var=23.54\n",
    "print(type(var))\n",
    "var1=int(var)\n",
    "print(type(var1))\n",
    "\n",
    "#int(),float(),str(),list()"
   ]
  },
  {
   "cell_type": "code",
   "execution_count": 51,
   "id": "85241790-4516-40fa-ba48-56a14217e274",
   "metadata": {},
   "outputs": [
    {
     "ename": "ValueError",
     "evalue": "invalid literal for int() with base 10: 'abc'",
     "output_type": "error",
     "traceback": [
      "\u001b[1;31m---------------------------------------------------------------------------\u001b[0m",
      "\u001b[1;31mValueError\u001b[0m                                Traceback (most recent call last)",
      "Cell \u001b[1;32mIn[51], line 1\u001b[0m\n\u001b[1;32m----> 1\u001b[0m \u001b[38;5;28mprint\u001b[39m(\u001b[38;5;28;43mint\u001b[39;49m\u001b[43m(\u001b[49m\u001b[38;5;124;43m'\u001b[39;49m\u001b[38;5;124;43mabc\u001b[39;49m\u001b[38;5;124;43m'\u001b[39;49m\u001b[43m)\u001b[49m)\n",
      "\u001b[1;31mValueError\u001b[0m: invalid literal for int() with base 10: 'abc'"
     ]
    }
   ],
   "source": [
    "print(int('abc'))"
   ]
  },
  {
   "cell_type": "code",
   "execution_count": 52,
   "id": "b6a56a0a-b1cd-4d07-b420-2173a44dc6e5",
   "metadata": {},
   "outputs": [
    {
     "name": "stdout",
     "output_type": "stream",
     "text": [
      "['A', 'j', 'i', 't', 'a', 'b', 'h']\n"
     ]
    }
   ],
   "source": [
    "name=\"Ajitabh\"\n",
    "print(list(name))"
   ]
  },
  {
   "cell_type": "code",
   "execution_count": 53,
   "id": "7ed48bb5-69c5-4f22-86c5-f2699ed32a09",
   "metadata": {},
   "outputs": [
    {
     "name": "stdout",
     "output_type": "stream",
     "text": [
      "45.0\n"
     ]
    }
   ],
   "source": [
    "print(float(45))"
   ]
  },
  {
   "cell_type": "code",
   "execution_count": null,
   "id": "d27838a9-eb11-4519-ac4d-3643fa5848bc",
   "metadata": {},
   "outputs": [],
   "source": [
    "if a>18:\n",
    "    print(...)\n",
    "else:\n",
    "    print(...)"
   ]
  },
  {
   "cell_type": "code",
   "execution_count": 55,
   "id": "fc5231f1-258b-4c41-b598-44f7b15a0f9d",
   "metadata": {},
   "outputs": [
    {
     "ename": "SyntaxError",
     "evalue": "invalid decimal literal (<string>, line 1)",
     "output_type": "error",
     "traceback": [
      "Traceback \u001b[1;36m(most recent call last)\u001b[0m:\n",
      "\u001b[0m  File \u001b[0;32m~\\AppData\\Local\\Programs\\Python\\Python312\\Lib\\site-packages\\IPython\\core\\interactiveshell.py:3526\u001b[0m in \u001b[0;35mrun_code\u001b[0m\n    exec(code_obj, self.user_global_ns, self.user_ns)\u001b[0m\n",
      "\u001b[1;36m  Cell \u001b[1;32mIn[55], line 1\u001b[1;36m\n\u001b[1;33m    print(eval('45+36-10a'))\u001b[1;36m\n",
      "\u001b[1;36m  File \u001b[1;32m<string>:1\u001b[1;36m\u001b[0m\n\u001b[1;33m    45+36-10a\u001b[0m\n\u001b[1;37m           ^\u001b[0m\n\u001b[1;31mSyntaxError\u001b[0m\u001b[1;31m:\u001b[0m invalid decimal literal\n"
     ]
    }
   ],
   "source": [
    "print(eval('45+36-10'))"
   ]
  },
  {
   "cell_type": "code",
   "execution_count": 56,
   "id": "f5c7249f-b1b6-4db3-b76e-0c7d49633c02",
   "metadata": {},
   "outputs": [
    {
     "name": "stdin",
     "output_type": "stream",
     "text": [
      "enter 1st num 56\n",
      "enter 2nd num 36\n"
     ]
    },
    {
     "name": "stdout",
     "output_type": "stream",
     "text": [
      "2016\n"
     ]
    }
   ],
   "source": [
    "num_1 = eval(input(\"enter 1st num\"))\n",
    "num_2 = eval(input(\"enter 2nd num\"))\n",
    "c = num_1 * num_2\n",
    "result = print(c)"
   ]
  },
  {
   "cell_type": "code",
   "execution_count": 57,
   "id": "819ccccc-c60b-41e6-a258-f836356bb3f2",
   "metadata": {},
   "outputs": [
    {
     "name": "stdout",
     "output_type": "stream",
     "text": [
      "True\n"
     ]
    }
   ],
   "source": [
    "print((23>18) == True)"
   ]
  },
  {
   "cell_type": "code",
   "execution_count": null,
   "id": "f66e14fb-c060-4084-ba1e-a2e3c667d780",
   "metadata": {},
   "outputs": [],
   "source": []
  }
 ],
 "metadata": {
  "kernelspec": {
   "display_name": "Python 3 (ipykernel)",
   "language": "python",
   "name": "python3"
  },
  "language_info": {
   "codemirror_mode": {
    "name": "ipython",
    "version": 3
   },
   "file_extension": ".py",
   "mimetype": "text/x-python",
   "name": "python",
   "nbconvert_exporter": "python",
   "pygments_lexer": "ipython3",
   "version": "3.12.1"
  }
 },
 "nbformat": 4,
 "nbformat_minor": 5
}
