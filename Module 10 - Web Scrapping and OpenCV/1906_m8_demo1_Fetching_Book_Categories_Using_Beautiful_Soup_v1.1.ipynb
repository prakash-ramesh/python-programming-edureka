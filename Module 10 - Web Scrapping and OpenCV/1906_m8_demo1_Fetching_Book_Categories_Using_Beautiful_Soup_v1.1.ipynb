{
  "cells": [
    {
      "cell_type": "markdown",
      "metadata": {
        "id": "TUNTQNmg_Jgv"
      },
      "source": [
        "## Demo 1 - Fetching Book Categories Using Beautiful Soup\n",
        "\n",
        "In this demo, you will learn how to fetch book categories from website goodreads.com using Beautiful Soup."
      ]
    },
    {
      "cell_type": "markdown",
      "metadata": {
        "id": "FbXyffnz_Jg0"
      },
      "source": [
        "<h3>1. Importing Libraries"
      ]
    },
    {
      "cell_type": "code",
      "execution_count": null,
      "metadata": {
        "id": "NdU4HKaW_Jg3"
      },
      "outputs": [],
      "source": [
        "import requests \n",
        "from bs4 import BeautifulSoup"
      ]
    },
    {
      "cell_type": "markdown",
      "metadata": {
        "id": "eT4FrKpf_Jg6"
      },
      "source": [
        "<h3>2. Sending Request"
      ]
    },
    {
      "cell_type": "code",
      "execution_count": null,
      "metadata": {
        "colab": {
          "base_uri": "https://localhost:8080/"
        },
        "id": "JUWpZocg_Jg7",
        "outputId": "eb7d5ed5-2fe1-437d-8149-9eb416399937"
      },
      "outputs": [
        {
          "output_type": "execute_result",
          "data": {
            "text/plain": [
              "200"
            ]
          },
          "metadata": {},
          "execution_count": 2
        }
      ],
      "source": [
        "r = requests.get('https://www.goodreads.com/')\n",
        "r.status_code  # status code 200 defines Success - OK"
      ]
    },
    {
      "cell_type": "markdown",
      "metadata": {
        "id": "Sk_LAay1_Jg9"
      },
      "source": [
        "![image.png](attachment:image.png)"
      ]
    },
    {
      "cell_type": "markdown",
      "metadata": {
        "id": "0M2tG0Fd_Jg-"
      },
      "source": [
        "<h3>3. Inspecting Webpage"
      ]
    },
    {
      "cell_type": "markdown",
      "metadata": {
        "id": "f3FR24hn_Jg_"
      },
      "source": [
        "- Navigate to the Categories"
      ]
    },
    {
      "cell_type": "markdown",
      "metadata": {
        "id": "JETXdcOa_JhA"
      },
      "source": [
        "![image.png](attachment:image.png)"
      ]
    },
    {
      "cell_type": "markdown",
      "metadata": {
        "id": "dl-6Vd8d_JhB"
      },
      "source": [
        "- Inspect any one of the Categories"
      ]
    },
    {
      "cell_type": "markdown",
      "metadata": {
        "id": "1iI4dKpD_JhC"
      },
      "source": [
        "![image.png](attachment:image.png)"
      ]
    },
    {
      "cell_type": "markdown",
      "metadata": {
        "id": "0DrID0dH_JhD"
      },
      "source": [
        "<h3>4. Parsing the Data"
      ]
    },
    {
      "cell_type": "code",
      "execution_count": null,
      "metadata": {
        "colab": {
          "base_uri": "https://localhost:8080/"
        },
        "id": "gjKmqvgv_JhD",
        "outputId": "c1efd489-a72e-402c-9b3c-6d580aa83b8a"
      },
      "outputs": [
        {
          "output_type": "execute_result",
          "data": {
            "text/plain": [
              "[<a class=\"gr-hyperlink\" href=\"/about/terms\" rel=\"noopener noreferrer\" target=\"_blank\">Terms of Service</a>,\n",
              " <a class=\"gr-hyperlink\" href=\"/about/privacy\" rel=\"noopener noreferrer\" target=\"_blank\">Privacy Policy</a>,\n",
              " <a class=\"gr-hyperlink\" href=\"/user/sign_in\">Sign In</a>,\n",
              " <a class=\"gr-hyperlink\" href=\"/genres/art\">Art</a>,\n",
              " <a class=\"gr-hyperlink\" href=\"/genres/biography\">Biography</a>,\n",
              " <a class=\"gr-hyperlink\" href=\"/genres/business\">Business</a>,\n",
              " <a class=\"gr-hyperlink\" href=\"/genres/children-s\">Children's</a>,\n",
              " <a class=\"gr-hyperlink\" href=\"/genres/christian\">Christian</a>,\n",
              " <a class=\"gr-hyperlink\" href=\"/genres/classics\">Classics</a>,\n",
              " <a class=\"gr-hyperlink\" href=\"/genres/comics\">Comics</a>,\n",
              " <a class=\"gr-hyperlink\" href=\"/genres/cookbooks\">Cookbooks</a>,\n",
              " <a class=\"gr-hyperlink\" href=\"/genres/ebooks\">Ebooks</a>,\n",
              " <a class=\"gr-hyperlink\" href=\"/genres/fantasy\">Fantasy</a>,\n",
              " <a class=\"gr-hyperlink\" href=\"/genres/fiction\">Fiction</a>,\n",
              " <a class=\"gr-hyperlink\" href=\"/genres/graphic-novels\">Graphic Novels</a>,\n",
              " <a class=\"gr-hyperlink\" href=\"/genres/historical-fiction\">Historical Fiction</a>,\n",
              " <a class=\"gr-hyperlink\" href=\"/genres/history\">History</a>,\n",
              " <a class=\"gr-hyperlink\" href=\"/genres/horror\">Horror</a>,\n",
              " <a class=\"gr-hyperlink\" href=\"/genres/memoir\">Memoir</a>,\n",
              " <a class=\"gr-hyperlink\" href=\"/genres/music\">Music</a>,\n",
              " <a class=\"gr-hyperlink\" href=\"/genres/mystery\">Mystery</a>,\n",
              " <a class=\"gr-hyperlink\" href=\"/genres/non-fiction\">Nonfiction</a>,\n",
              " <a class=\"gr-hyperlink\" href=\"/genres/poetry\">Poetry</a>,\n",
              " <a class=\"gr-hyperlink\" href=\"/genres/psychology\">Psychology</a>,\n",
              " <a class=\"gr-hyperlink\" href=\"/genres/romance\">Romance</a>,\n",
              " <a class=\"gr-hyperlink\" href=\"/genres/science\">Science</a>,\n",
              " <a class=\"gr-hyperlink\" href=\"/genres/science-fiction\">Science Fiction</a>,\n",
              " <a class=\"gr-hyperlink\" href=\"/genres/self-help\">Self Help</a>,\n",
              " <a class=\"gr-hyperlink\" href=\"/genres/sports\">Sports</a>,\n",
              " <a class=\"gr-hyperlink\" href=\"/genres/thriller\">Thriller</a>,\n",
              " <a class=\"gr-hyperlink\" href=\"/genres/travel\">Travel</a>,\n",
              " <a class=\"gr-hyperlink\" href=\"/genres/young-adult\">Young Adult</a>,\n",
              " <a class=\"gr-hyperlink\" href=\"/genres\">More genres</a>,\n",
              " <a class=\"gr-hyperlink\" href=\"/quotes\">Best quotes</a>,\n",
              " <a class=\"gr-hyperlink\" href=\"/quotes/tag/love\">Love quotes</a>,\n",
              " <a class=\"gr-hyperlink\" href=\"/quotes/tag/inspirational\">Inspirational quotes</a>,\n",
              " <a class=\"gr-hyperlink\" href=\"/quotes/tag/funny\">Funny quotes</a>,\n",
              " <a class=\"gr-hyperlink\" href=\"/quotes/tag/motivational\">Motivational quotes</a>,\n",
              " <a class=\"gr-hyperlink\" href=\"/quotes/tag/life\">Life quotes</a>,\n",
              " <a class=\"gr-hyperlink\" href=\"/quotes/tag/friends\">Friends quotes</a>,\n",
              " <a class=\"gr-hyperlink\" href=\"/quotes/tag/positive\">Positive quotes</a>,\n",
              " <a class=\"gr-hyperlink\" href=\"/quotes\">More quotes</a>,\n",
              " <a class=\"gr-hyperlink\" href=\"/choiceawards/best-books-2021\">Best Books 2021</a>,\n",
              " <a class=\"gr-hyperlink\" href=\"/choiceawards/best-fiction-books-2021\">Best Fiction</a>,\n",
              " <a class=\"gr-hyperlink\" href=\"/choiceawards/best-mystery-thriller-books-2021\">Best Mystery &amp; Thriller</a>,\n",
              " <a class=\"gr-hyperlink\" href=\"/choiceawards/best-historical-fiction-books-2021\">Best Historical Fiction</a>,\n",
              " <a class=\"gr-hyperlink\" href=\"/choiceawards/best-fantasy-books-2021\">Best Fantasy</a>,\n",
              " <a class=\"gr-hyperlink\" href=\"/choiceawards/best-romance-books-2021\">Best Romance</a>,\n",
              " <a class=\"gr-hyperlink\" href=\"/choiceawards/best-science-fiction-books-2021\">Best Science Fiction</a>,\n",
              " <a class=\"gr-hyperlink\" href=\"/choiceawards/best-horror-books-2021\">Best Horror</a>,\n",
              " <a class=\"gr-hyperlink\" href=\"/choiceawards/best-humor-books-2021\">Best Humor</a>,\n",
              " <a class=\"gr-hyperlink\" href=\"/choiceawards/best-nonfiction-books-2021\">Best Nonfiction</a>,\n",
              " <a class=\"gr-hyperlink\" href=\"/choiceawards/best-memoir-autobiography-books-2021\">Best Memoir &amp; Autobiography</a>,\n",
              " <a class=\"gr-hyperlink\" href=\"/choiceawards/best-history-biography-books-2021\">Best History &amp; Biography</a>,\n",
              " <a class=\"gr-hyperlink\" href=\"/choiceawards/best-graphic-novels-comics-2021\">Best Graphic Novels &amp; Comics</a>,\n",
              " <a class=\"gr-hyperlink\" href=\"/choiceawards/best-poetry-books-2021\">Best Poetry</a>,\n",
              " <a class=\"gr-hyperlink\" href=\"/choiceawards/best-debut-novel-2021\">Best Debut Novel</a>,\n",
              " <a class=\"gr-hyperlink\" href=\"/choiceawards/best-young-adult-fiction-books-2021\">Best Young Adult Fiction</a>,\n",
              " <a class=\"gr-hyperlink\" href=\"/choiceawards/best-young-adult-fantasy-books-2021\">Best Young Adult Fantasy &amp; Science Fiction</a>,\n",
              " <a class=\"gr-hyperlink\" href=\"/choiceawards/best-childrens-books-2021\">Best Middle Grade &amp; Children's</a>,\n",
              " <a class=\"gr-hyperlink\" href=\"/list\">More book lists</a>]"
            ]
          },
          "metadata": {},
          "execution_count": 3
        }
      ],
      "source": [
        "book_soup = BeautifulSoup(r.content, 'html.parser')\n",
        "categories=book_soup.find_all('a',attrs={'class':'gr-hyperlink'})\n",
        "categories"
      ]
    },
    {
      "cell_type": "markdown",
      "metadata": {
        "id": "TaMe66qH_JhE"
      },
      "source": [
        "<h3>5. Oragnizing the Data</h3>\n",
        "<ul><li> We only need the categories, rest of the data is useless.</li>\n",
        "    <li> Each category have hyperlink to respective genres."
      ]
    },
    {
      "cell_type": "code",
      "execution_count": null,
      "metadata": {
        "id": "3VsuOJZT_JhF"
      },
      "outputs": [],
      "source": [
        "txt_categories=[]\n",
        "for tag in categories:\n",
        "    if 'genres' in tag.get('href'):\n",
        "        txt_categories.append(tag.string)"
      ]
    },
    {
      "cell_type": "markdown",
      "metadata": {
        "id": "nsbMoXOa_JhF"
      },
      "source": [
        "<h3>6. Printing the Data"
      ]
    },
    {
      "cell_type": "code",
      "execution_count": null,
      "metadata": {
        "scrolled": false,
        "colab": {
          "base_uri": "https://localhost:8080/"
        },
        "id": "L21N2Z4L_JhG",
        "outputId": "43f35a24-5bf4-428f-aa1e-da2ae590f9e1"
      },
      "outputs": [
        {
          "output_type": "stream",
          "name": "stdout",
          "text": [
            "Art\n",
            "Biography\n",
            "Business\n",
            "Children's\n",
            "Christian\n",
            "Classics\n",
            "Comics\n",
            "Cookbooks\n",
            "Ebooks\n",
            "Fantasy\n",
            "Fiction\n",
            "Graphic Novels\n",
            "Historical Fiction\n",
            "History\n",
            "Horror\n",
            "Memoir\n",
            "Music\n",
            "Mystery\n",
            "Nonfiction\n",
            "Poetry\n",
            "Psychology\n",
            "Romance\n",
            "Science\n",
            "Science Fiction\n",
            "Self Help\n",
            "Sports\n",
            "Thriller\n",
            "Travel\n",
            "Young Adult\n",
            "More genres\n"
          ]
        }
      ],
      "source": [
        "for category in txt_categories:\n",
        "    print(category)"
      ]
    },
    {
      "cell_type": "markdown",
      "metadata": {
        "id": "yuvUyZPK_JhH"
      },
      "source": [
        "##### Conclusion: This code demonstrate how to fetch the data using Beautiful Soup."
      ]
    }
  ],
  "metadata": {
    "kernelspec": {
      "display_name": "Python 3",
      "language": "python",
      "name": "python3"
    },
    "language_info": {
      "codemirror_mode": {
        "name": "ipython",
        "version": 3
      },
      "file_extension": ".py",
      "mimetype": "text/x-python",
      "name": "python",
      "nbconvert_exporter": "python",
      "pygments_lexer": "ipython3",
      "version": "3.7.3"
    },
    "colab": {
      "name": "1906_m8_demo1_Fetching_Book_Categories_Using_Beautiful_Soup_v1.0.ipynb",
      "provenance": [],
      "collapsed_sections": []
    }
  },
  "nbformat": 4,
  "nbformat_minor": 0
}