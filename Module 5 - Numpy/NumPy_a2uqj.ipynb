{
 "cells": [
  {
   "cell_type": "code",
   "execution_count": 6,
   "id": "2d62eb6a-4308-4b84-9733-159af1ed414f",
   "metadata": {},
   "outputs": [
    {
     "name": "stdout",
     "output_type": "stream",
     "text": [
      "[10 20 30 40 50]\n",
      "<class 'numpy.ndarray'>\n",
      "int32\n"
     ]
    }
   ],
   "source": [
    "#Creating numpy Arrays\n",
    "import numpy as np\n",
    "arr=np.array([45,63,98,78,17]) #one dim\n",
    "arr=np.array((10,20,30,40,50))\n",
    "print(arr)\n",
    "print(type(arr))\n",
    "print(arr.dtype)"
   ]
  },
  {
   "cell_type": "code",
   "execution_count": 8,
   "id": "591eda86-5d37-479e-b97a-6ff5a1c0361d",
   "metadata": {},
   "outputs": [
    {
     "name": "stdout",
     "output_type": "stream",
     "text": [
      "[45.   63.   98.   78.   17.   12.99]\n",
      "float64\n"
     ]
    }
   ],
   "source": [
    "arr=np.array([45,63,98,78,17,12.99])\n",
    "print(arr)\n",
    "print(arr.dtype)"
   ]
  },
  {
   "cell_type": "code",
   "execution_count": 12,
   "id": "8655f2bb-2b4d-4c0c-8913-5b84ca892f95",
   "metadata": {},
   "outputs": [
    {
     "name": "stdout",
     "output_type": "stream",
     "text": [
      "[0. 0. 0. 0. 0.]\n",
      "[1. 1. 1. 1. 1. 1.]\n",
      "[1 1 1 1 1 1]\n"
     ]
    }
   ],
   "source": [
    "#Zeros(), once()\n",
    "a=np.zeros(5)\n",
    "print(a)\n",
    "a=np.ones(6)\n",
    "print(a)\n",
    "\n",
    "a=np.ones(6,dtype='int')\n",
    "print(a)"
   ]
  },
  {
   "cell_type": "code",
   "execution_count": 17,
   "id": "ef784b1c-bdaa-4f10-8de7-06d95ad34a86",
   "metadata": {},
   "outputs": [
    {
     "name": "stdout",
     "output_type": "stream",
     "text": [
      "[2.5 3.5 4.5 5.5 6.5 7.5 8.5 9.5]\n",
      "<class 'numpy.ndarray'>\n"
     ]
    }
   ],
   "source": [
    "#arange() [start,stop,step]\n",
    "#a=np.arange(2,10)\n",
    "a=np.arange(2.5,10.4)\n",
    "print(a)\n",
    "print(type(a))"
   ]
  },
  {
   "cell_type": "code",
   "execution_count": 16,
   "id": "697f2d3b-0516-44a0-99d4-7f0166e7181e",
   "metadata": {},
   "outputs": [
    {
     "name": "stdout",
     "output_type": "stream",
     "text": [
      "[2, 3, 4, 5, 6, 7, 8, 9]\n"
     ]
    }
   ],
   "source": [
    "a=range(2,10)\n",
    "print(list(a))"
   ]
  },
  {
   "cell_type": "code",
   "execution_count": 21,
   "id": "5f00a68e-5c5e-474e-b29f-e1cab8145108",
   "metadata": {},
   "outputs": [
    {
     "name": "stdout",
     "output_type": "stream",
     "text": [
      "[[ 10  20  30 100]\n",
      " [ 40  50  60 400]\n",
      " [ 70  80  90 300]]\n"
     ]
    }
   ],
   "source": [
    "#two dimensional\n",
    "arr_1d=np.array([45,63,98,78,17,12])\n",
    "arr_2d=np.array([[10,20,30,100],[40,50,60,400],[70,80,90,300]])\n",
    "print(arr)   #3x3"
   ]
  },
  {
   "cell_type": "code",
   "execution_count": 24,
   "id": "035c2ab3-ca56-4507-ae20-1b4326683e2a",
   "metadata": {},
   "outputs": [
    {
     "name": "stdout",
     "output_type": "stream",
     "text": [
      "98\n",
      "80\n"
     ]
    }
   ],
   "source": [
    "#indexing\n",
    "print(arr_1d[2])\n",
    "print(arr_2d[2][1])  #[row][col]"
   ]
  },
  {
   "cell_type": "code",
   "execution_count": 28,
   "id": "8772b41a-452c-4892-b9ad-7c72bee91794",
   "metadata": {},
   "outputs": [
    {
     "name": "stdout",
     "output_type": "stream",
     "text": [
      "Dimentions: 2\n",
      "Size: 12\n",
      "Shape: (3, 4)\n",
      "Item Size(byte): 4\n"
     ]
    }
   ],
   "source": [
    "arr_2d=np.array([[10,20,30,100],[40,50,60,400],[70,80,90,300]])\n",
    "print(\"Dimentions:\",arr_2d.ndim)\n",
    "print(\"Size:\",arr_2d.size)\n",
    "print(\"Shape:\",arr_2d.shape)\n",
    "print(\"Item Size(byte):\",arr_2d.itemsize)"
   ]
  },
  {
   "cell_type": "code",
   "execution_count": 29,
   "id": "47358ec0-14c7-4eb0-b60c-dc5957716a99",
   "metadata": {},
   "outputs": [
    {
     "name": "stdout",
     "output_type": "stream",
     "text": [
      "[[140 146]\n",
      " [320 335]]\n"
     ]
    }
   ],
   "source": [
    "#Array Multiplication\n",
    "arr1=np.array([[1,2,3],[4,5,6]])\n",
    "arr2=np.array([[10,11],[20,21],[30,31]])\n",
    "arr=np.dot(arr1,arr2)\n",
    "print(arr)"
   ]
  },
  {
   "cell_type": "code",
   "execution_count": 31,
   "id": "d864f862-5b1a-440c-8647-6d9c610d3338",
   "metadata": {},
   "outputs": [
    {
     "ename": "ValueError",
     "evalue": "shapes (2,4) and (3,2) not aligned: 4 (dim 1) != 3 (dim 0)",
     "output_type": "error",
     "traceback": [
      "\u001b[1;31m---------------------------------------------------------------------------\u001b[0m",
      "\u001b[1;31mValueError\u001b[0m                                Traceback (most recent call last)",
      "Cell \u001b[1;32mIn[31], line 3\u001b[0m\n\u001b[0;32m      1\u001b[0m arr1\u001b[38;5;241m=\u001b[39mnp\u001b[38;5;241m.\u001b[39marray([[\u001b[38;5;241m1\u001b[39m,\u001b[38;5;241m2\u001b[39m,\u001b[38;5;241m3\u001b[39m,\u001b[38;5;241m10\u001b[39m],[\u001b[38;5;241m4\u001b[39m,\u001b[38;5;241m5\u001b[39m,\u001b[38;5;241m6\u001b[39m,\u001b[38;5;241m20\u001b[39m]])\n\u001b[0;32m      2\u001b[0m arr2\u001b[38;5;241m=\u001b[39mnp\u001b[38;5;241m.\u001b[39marray([[\u001b[38;5;241m10\u001b[39m,\u001b[38;5;241m11\u001b[39m],[\u001b[38;5;241m20\u001b[39m,\u001b[38;5;241m21\u001b[39m],[\u001b[38;5;241m30\u001b[39m,\u001b[38;5;241m31\u001b[39m]])\n\u001b[1;32m----> 3\u001b[0m arr\u001b[38;5;241m=\u001b[39m\u001b[43mnp\u001b[49m\u001b[38;5;241;43m.\u001b[39;49m\u001b[43mdot\u001b[49m\u001b[43m(\u001b[49m\u001b[43marr1\u001b[49m\u001b[43m,\u001b[49m\u001b[43marr2\u001b[49m\u001b[43m)\u001b[49m\n\u001b[0;32m      4\u001b[0m \u001b[38;5;28mprint\u001b[39m(arr)\n",
      "\u001b[1;31mValueError\u001b[0m: shapes (2,4) and (3,2) not aligned: 4 (dim 1) != 3 (dim 0)"
     ]
    }
   ],
   "source": [
    "arr1=np.array([[1,2,3,10],[4,5,6,20]])\n",
    "arr2=np.array([[10,11],[20,21],[30,31]])\n",
    "arr=np.dot(arr1,arr2)\n",
    "print(arr)"
   ]
  },
  {
   "cell_type": "code",
   "execution_count": null,
   "id": "0979d9c4-fa7d-4f5f-b75f-e002ff6549e6",
   "metadata": {},
   "outputs": [],
   "source": [
    "#Hill-Cipher"
   ]
  },
  {
   "cell_type": "code",
   "execution_count": 33,
   "id": "fa6535ae-6da1-402f-871d-68271e614c74",
   "metadata": {},
   "outputs": [
    {
     "name": "stdout",
     "output_type": "stream",
     "text": [
      "[420 280 350 269 317 470 333 365 305 350 460 474 409 377 415 382 298 462\n",
      " 370 313 464 302 252 259 308 392 424 403 370 328 398 434 291 472 263 439\n",
      " 464 449 401 364 296 292 438 357 331 317 429 407 321 274 447 274 437 411\n",
      " 257 310 396 270 311 459 378 316 283 266 381 409 313 306 448 348 292 400\n",
      " 352 441 428 309 441 439 264 281 302 432 423 336 383 321 469 270 341 281\n",
      " 403 333 323 348 345 397 449 261 456 370 322 379 446 404 301 254 351 444\n",
      " 264 286 463 273 316 324 465 398 324 340 414 346 408 332 394 474 398 262\n",
      " 410 391 444 461]\n",
      "<class 'numpy.ndarray'>\n"
     ]
    }
   ],
   "source": [
    "#Import data from file\n",
    "import numpy as np\n",
    "data=np.loadtxt(\"marks.csv\",delimiter=',',usecols=(5),skiprows=1,dtype='int')\n",
    "print(data)\n",
    "print(type(data))"
   ]
  },
  {
   "cell_type": "code",
   "execution_count": 39,
   "id": "ab9ea5b1-af35-4f91-b235-cad911c21792",
   "metadata": {},
   "outputs": [
    {
     "name": "stdout",
     "output_type": "stream",
     "text": [
      "Sum of Marks: 47356\n",
      "Min: 252\n",
      "Max: 474\n",
      "Avg Marks: 364.2769230769231\n",
      "standard Deviations: 66.17947803971762\n",
      "Variance: 4379.723313609467\n"
     ]
    }
   ],
   "source": [
    "#Aggregate Functions in Numpy\n",
    "print(\"Sum of Marks:\",data.sum())\n",
    "print(\"Min:\",data.min())\n",
    "print(\"Max:\",data.max())\n",
    "print(\"Avg Marks:\",data.mean())\n",
    "print(\"standard Deviations:\",data.std())\n",
    "print(\"Variance:\",data.var())"
   ]
  },
  {
   "cell_type": "code",
   "execution_count": 44,
   "id": "5db3e815-f195-458b-aa71-d991d781552e",
   "metadata": {},
   "outputs": [
    {
     "name": "stdout",
     "output_type": "stream",
     "text": [
      "[ 3  6  9 12 15 96]\n",
      "Shape of a: (6,)\n",
      "[[ 3  6  9]\n",
      " [12 15 96]]\n",
      "Shape of b: (2, 3)\n",
      "[ 3  6  9 12 15 96]\n"
     ]
    }
   ],
   "source": [
    "#Reshaping array\n",
    "a = np.array([3,6,9,12,15,96])\n",
    "print(a)\n",
    "print(\"Shape of a:\",a.shape)\n",
    "b = a.reshape(2,3)\n",
    "print(b)\n",
    "print(\"Shape of b:\",b.shape)\n",
    "\n",
    "#a=np.array([3,6,9,12,63])\n",
    "#b = a.reshape(2,5)\n",
    "#print(b) #Error ! can not reshape\n",
    "\n",
    "c=b.flatten()   #ravel()\n",
    "print(c)"
   ]
  },
  {
   "cell_type": "code",
   "execution_count": 47,
   "id": "63afd21d-053c-4de2-83fa-7d8109491dcc",
   "metadata": {},
   "outputs": [
    {
     "name": "stdout",
     "output_type": "stream",
     "text": [
      "[[ 3  6  9]\n",
      " [12 15 96]]\n",
      "[[ 3 12]\n",
      " [ 6 15]\n",
      " [ 9 96]]\n"
     ]
    }
   ],
   "source": [
    "#Transpose\n",
    "print(b)  #2x3\n",
    "c=b.transpose()\n",
    "print(c)  #3x2"
   ]
  },
  {
   "cell_type": "code",
   "execution_count": 50,
   "id": "46912a5b-afe9-41b0-a8e2-b418512e1e8d",
   "metadata": {},
   "outputs": [
    {
     "name": "stdout",
     "output_type": "stream",
     "text": [
      "1st Input array : \n",
      " [1 2 3]\n",
      "2nd Input array : \n",
      " [4 5 6]\n",
      "Output verticle stacked array:\n",
      "  [[1 2 3]\n",
      " [4 5 6]]\n",
      "Output horizontal stacked array:\n",
      "  [1 2 3 4 5 6]\n"
     ]
    }
   ],
   "source": [
    "#Joining(Stacking) arrays\n",
    "arr1 = np.array(( 1, 2, 3 ))\n",
    "print (\"1st Input array : \\n\", arr1) \n",
    "  \n",
    "arr2 = np.array(( 4, 5, 6 ))\n",
    "print (\"2nd Input array : \\n\", arr2) \n",
    "  \n",
    "#Verticle stacking\n",
    "out_arr = np.stack((arr1, arr2))  #Normal Stacking\n",
    "print (\"Output verticle stacked array:\\n \", out_arr)\n",
    "\n",
    "#Horizontal stacking(Concatenation)\n",
    "out_arr = np.hstack((arr1, arr2))  #not Normal Stacking\n",
    "print (\"Output horizontal stacked array:\\n \", out_arr)\n"
   ]
  },
  {
   "cell_type": "code",
   "execution_count": 52,
   "id": "2df0f6a4-4eb2-473b-8c90-504afc5122df",
   "metadata": {},
   "outputs": [
    {
     "name": "stdout",
     "output_type": "stream",
     "text": [
      "1st Input array : \n",
      " [[ 10  20  30]\n",
      " [100 200 300]]\n",
      "2nd Input array : \n",
      " [[ 40  50  60]\n",
      " [400 500 600]]\n",
      "Output Vertical stacked array:\n",
      "  [[ 10  20  30]\n",
      " [100 200 300]\n",
      " [ 40  50  60]\n",
      " [400 500 600]]\n"
     ]
    }
   ],
   "source": [
    "arr1 = np.array([[10,20,30],[100,200,300]])\n",
    "print (\"1st Input array : \\n\", arr1) \n",
    "  \n",
    "arr2 = np.array([[40,50,60],[400,500,600]])\n",
    "print (\"2nd Input array : \\n\", arr2) \n",
    "\n",
    "out_arr = np.vstack([arr1, arr2])  #not Normal Stacking\n",
    "print (\"Output Vertical stacked array:\\n \", out_arr)"
   ]
  },
  {
   "cell_type": "code",
   "execution_count": 53,
   "id": "80338fe5-0886-4174-9a0c-4bd2af18dfb8",
   "metadata": {},
   "outputs": [
    {
     "name": "stdout",
     "output_type": "stream",
     "text": [
      "14\n",
      "[[12 56 96]\n",
      " [25 14 78]]\n"
     ]
    }
   ],
   "source": [
    "#Fancy Indexing, we can pass array of indices to access multiple array values\n",
    "a=np.array([3,78,23,12,56,96,78,25,34,78,14,19])\n",
    "print(a[10])  #Normal indexing\n",
    "\n",
    "ind=np.array([[3,4,5],[7,10,6]])\n",
    "print(a[ind]) #Fancy indexing"
   ]
  },
  {
   "cell_type": "code",
   "execution_count": 55,
   "id": "115d16b4-93d2-4a20-897d-e15c2f18fa1c",
   "metadata": {},
   "outputs": [
    {
     "name": "stdout",
     "output_type": "stream",
     "text": [
      "[10, 20, 30, 10, 20, 30, 10, 20, 30]\n",
      "[30 60 90]\n"
     ]
    }
   ],
   "source": [
    "#Broadcasting of Operations\n",
    "lst=[10,20,30]\n",
    "print(lst*3)\n",
    "ar=np.array(lst)\n",
    "print(ar*3)"
   ]
  },
  {
   "cell_type": "code",
   "execution_count": 56,
   "id": "6ec5709c-5ca8-4ee9-a0c7-f8782d133824",
   "metadata": {},
   "outputs": [
    {
     "name": "stdout",
     "output_type": "stream",
     "text": [
      "[450 680 930 120]\n",
      "[2025 4624 8649  144]\n"
     ]
    }
   ],
   "source": [
    "#Broadcasting airthmetical operations on ndarray\n",
    "#Operation is always applied to each element of the array\n",
    "A=np.array([45,68,93,12])\n",
    "new_A=A*10\n",
    "print(new_A)\n",
    "new_A1=A**2\n",
    "print(new_A1)"
   ]
  },
  {
   "cell_type": "code",
   "execution_count": 57,
   "id": "ee201db3-5ea7-4635-92e8-6cdda7126fef",
   "metadata": {},
   "outputs": [
    {
     "name": "stdout",
     "output_type": "stream",
     "text": [
      "[23 12 56 96 78 25]\n"
     ]
    }
   ],
   "source": [
    "#Slicing\n",
    "a=np.array([3,78,23,12,56,96,78,25,34,78,14,19])\n",
    "#slice start,stop,step\n",
    "print(a[2:8])"
   ]
  },
  {
   "cell_type": "code",
   "execution_count": 59,
   "id": "c96c64d7-9bdf-4cfe-a8b4-8d0399f74990",
   "metadata": {},
   "outputs": [
    {
     "name": "stdout",
     "output_type": "stream",
     "text": [
      "[[ 1  2  3  4  5]\n",
      " [ 6  7  8  9 10]\n",
      " [11 12 13 14 15]]\n",
      "[[ 8  9 10]\n",
      " [13 14 15]]\n",
      "[[1 2]\n",
      " [6 7]]\n"
     ]
    }
   ],
   "source": [
    "a=np.array([[1,2,3,4,5],[6,7,8,9,10],[11,12,13,14,15]])  #3x5\n",
    "print(a)\n",
    "print(a[1:,2:5])\n",
    "print(a[0:2,0:2]) #[row slice,col slice]"
   ]
  },
  {
   "cell_type": "code",
   "execution_count": 60,
   "id": "9cb00457-d405-48bb-888b-02701b7f468d",
   "metadata": {},
   "outputs": [
    {
     "name": "stdout",
     "output_type": "stream",
     "text": [
      "[1 2 3 4 5]\n",
      "[ 6  7  8  9 10]\n",
      "[11 12 13 14 15]\n"
     ]
    }
   ],
   "source": [
    "a=np.array([[1,2,3,4,5],[6,7,8,9,10],[11,12,13,14,15]])\n",
    "for i in a:\n",
    "    print(i)"
   ]
  },
  {
   "cell_type": "code",
   "execution_count": 61,
   "id": "318c3331-bff5-44a5-882e-62f1a5fe88a2",
   "metadata": {},
   "outputs": [
    {
     "name": "stdout",
     "output_type": "stream",
     "text": [
      "1\n",
      "2\n",
      "3\n",
      "4\n",
      "5\n",
      "6\n",
      "7\n",
      "8\n",
      "9\n",
      "10\n",
      "11\n",
      "12\n",
      "13\n",
      "14\n",
      "15\n"
     ]
    }
   ],
   "source": [
    "for i in np.nditer(a):\n",
    "    print(i)"
   ]
  },
  {
   "cell_type": "code",
   "execution_count": null,
   "id": "4e6e3f1f-9cf0-4c11-af29-02cf28da2da5",
   "metadata": {},
   "outputs": [],
   "source": []
  }
 ],
 "metadata": {
  "kernelspec": {
   "display_name": "Python 3 (ipykernel)",
   "language": "python",
   "name": "python3"
  },
  "language_info": {
   "codemirror_mode": {
    "name": "ipython",
    "version": 3
   },
   "file_extension": ".py",
   "mimetype": "text/x-python",
   "name": "python",
   "nbconvert_exporter": "python",
   "pygments_lexer": "ipython3",
   "version": "3.12.1"
  }
 },
 "nbformat": 4,
 "nbformat_minor": 5
}
