{
 "cells": [
  {
   "cell_type": "code",
   "execution_count": 15,
   "id": "9f124e63-3815-4cca-ac0b-fb43b94259a8",
   "metadata": {},
   "outputs": [],
   "source": [
    "from tkinter import *\n",
    "from tkinter.ttk import *"
   ]
  },
  {
   "cell_type": "markdown",
   "id": "c7fbaf8d-1bf1-41c3-90f6-582a10f39a70",
   "metadata": {},
   "source": [
    "```\n",
    "Write a Python GUI program to add a button in you rapplication using the Tkinter module\n",
    "```"
   ]
  },
  {
   "cell_type": "code",
   "execution_count": 17,
   "id": "efd66ee8-543a-4587-b02e-49e508f36523",
   "metadata": {},
   "outputs": [],
   "source": [
    "window = tk.Tk()\n",
    "window.title(\"GUI\")\n",
    "window.geometry(\"250x100\")\n",
    "bt = Button(window, text=\"Click Me!\").pack()\n",
    "window.mainloop()"
   ]
  },
  {
   "cell_type": "markdown",
   "id": "5f2ea98c-6be5-46b4-a676-35219c04c26c",
   "metadata": {},
   "source": [
    "```\n",
    "WriteaPythonGUIprogramtocreateaSpinboxwidgetusingthe Tkintermodule\n",
    "```"
   ]
  },
  {
   "cell_type": "code",
   "execution_count": 18,
   "id": "b59439f9-5b87-413b-a327-494bd8e0a214",
   "metadata": {},
   "outputs": [],
   "source": [
    "window = tk.Tk()\n",
    "window.title(\"GUI\")\n",
    "window.geometry(\"250x100\")\n",
    "sb = Spinbox(window, from_=0, to=20).pack()\n",
    "window.mainloop()"
   ]
  },
  {
   "cell_type": "markdown",
   "id": "16cae2bd-8cb1-4013-b607-bdda0d91e9fe",
   "metadata": {},
   "source": [
    "```\n",
    "Createaloginpagethatwillaskfor inputsuchasNameandPassword\n",
    "```"
   ]
  },
  {
   "cell_type": "code",
   "execution_count": null,
   "id": "73cc2e46-746c-4008-a4d5-742c87d0b065",
   "metadata": {},
   "outputs": [],
   "source": [
    "window = tk.Tk()\n",
    "window.title(\"GUI\")\n",
    "window.geometry(\"250x100\")\n",
    "lbl = Label(window, text=\"User Name: \").pack()\n",
    "e = Entry(window).pack()\n",
    "lblp = Label(window, text=\"Password: \").pack()\n",
    "e2 = Entry(window).pack()\n",
    "window.mainloop()"
   ]
  },
  {
   "cell_type": "markdown",
   "id": "3d717a29-fdc3-4e21-8eef-df856f72be07",
   "metadata": {},
   "source": [
    "```\n",
    "Createthreeradiobuttonsthatwillinclude3fields:First,Second,andThird\n",
    "```"
   ]
  },
  {
   "cell_type": "code",
   "execution_count": 12,
   "id": "f07000bf-ca37-4348-ad6c-5531c5f3b37f",
   "metadata": {},
   "outputs": [],
   "source": [
    "window = tk.Tk()\n",
    "window.title(\"GUI\")\n",
    "window.geometry(\"300x300\")\n",
    "\n",
    "v = StringVar(window, \"1\")\n",
    "options = {\"First\": \"1\", \"Second\": \"2\", \"Third\": \"3\"}\n",
    "\n",
    "for (txt, val) in options.items():\n",
    "    Radiobutton(window, text=txt, variable=v, value=val).pack()\n",
    "\n",
    "window.mainloop()"
   ]
  },
  {
   "cell_type": "markdown",
   "id": "ee16259c-81bd-4331-bb08-8878bffe7bc4",
   "metadata": {},
   "source": [
    "```\n",
    "CreateadropdownlistofcitynamessuchasBangalore,Mangalore,andMysoreusingipywidgets\n",
    "```"
   ]
  },
  {
   "cell_type": "code",
   "execution_count": 14,
   "id": "d1cbb2e6-4887-4e00-8e93-c551d35ce0f8",
   "metadata": {},
   "outputs": [
    {
     "ename": "NameError",
     "evalue": "name 'ttk' is not defined",
     "output_type": "error",
     "traceback": [
      "\u001b[1;31m---------------------------------------------------------------------------\u001b[0m",
      "\u001b[1;31mNameError\u001b[0m                                 Traceback (most recent call last)",
      "Cell \u001b[1;32mIn[14], line 6\u001b[0m\n\u001b[0;32m      3\u001b[0m window\u001b[38;5;241m.\u001b[39mgeometry(\u001b[38;5;124m\"\u001b[39m\u001b[38;5;124m300x300\u001b[39m\u001b[38;5;124m\"\u001b[39m)\n\u001b[0;32m      5\u001b[0m n \u001b[38;5;241m=\u001b[39m StringVar()\n\u001b[1;32m----> 6\u001b[0m cb \u001b[38;5;241m=\u001b[39m \u001b[43mttk\u001b[49m\u001b[38;5;241m.\u001b[39mCombobox(window, width\u001b[38;5;241m=\u001b[39m\u001b[38;5;241m27\u001b[39m, textvariable\u001b[38;5;241m=\u001b[39mn)\n\u001b[0;32m      7\u001b[0m cb[\u001b[38;5;124m'\u001b[39m\u001b[38;5;124mvalues\u001b[39m\u001b[38;5;124m'\u001b[39m] \u001b[38;5;241m=\u001b[39m (\u001b[38;5;124m'\u001b[39m\u001b[38;5;124mBangalore\u001b[39m\u001b[38;5;124m'\u001b[39m,\u001b[38;5;124m'\u001b[39m\u001b[38;5;124mMangalore\u001b[39m\u001b[38;5;124m'\u001b[39m,\u001b[38;5;124m'\u001b[39m\u001b[38;5;124mMysore\u001b[39m\u001b[38;5;124m'\u001b[39m)\n\u001b[0;32m      8\u001b[0m cb\u001b[38;5;241m.\u001b[39mcurrent()\n",
      "\u001b[1;31mNameError\u001b[0m: name 'ttk' is not defined"
     ]
    }
   ],
   "source": [
    "window = tk.Tk()\n",
    "window.title(\"GUI\")\n",
    "window.geometry(\"300x300\")\n",
    "\n",
    "n = StringVar()\n",
    "cb = ttk.Combobox(window, width=27, textvariable=n)\n",
    "cb['values'] = ('Bangalore','Mangalore','Mysore')\n",
    "cb.current()\n",
    "\n",
    "window.mainloop()"
   ]
  },
  {
   "cell_type": "code",
   "execution_count": null,
   "id": "393efc96-965e-4dab-9015-ee9ff3d0b8cb",
   "metadata": {},
   "outputs": [],
   "source": []
  }
 ],
 "metadata": {
  "kernelspec": {
   "display_name": "Python 3 (ipykernel)",
   "language": "python",
   "name": "python3"
  },
  "language_info": {
   "codemirror_mode": {
    "name": "ipython",
    "version": 3
   },
   "file_extension": ".py",
   "mimetype": "text/x-python",
   "name": "python",
   "nbconvert_exporter": "python",
   "pygments_lexer": "ipython3",
   "version": "3.10.4"
  }
 },
 "nbformat": 4,
 "nbformat_minor": 5
}
