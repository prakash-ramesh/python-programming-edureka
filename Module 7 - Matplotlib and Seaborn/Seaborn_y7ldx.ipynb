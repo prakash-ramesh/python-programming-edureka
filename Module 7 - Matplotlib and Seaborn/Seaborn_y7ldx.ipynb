{
 "cells": [
  {
   "cell_type": "markdown",
   "id": "a2fecf47",
   "metadata": {
    "id": "a2fecf47"
   },
   "source": [
    "### Loading built-in Data sets in Seaborn"
   ]
  },
  {
   "cell_type": "code",
   "execution_count": 1,
   "id": "12f728ca",
   "metadata": {
    "id": "12f728ca",
    "outputId": "42376ee5-1794-4aa7-e7e9-341f93424405"
   },
   "outputs": [
    {
     "name": "stdout",
     "output_type": "stream",
     "text": [
      "['anagrams', 'anscombe', 'attention', 'brain_networks', 'car_crashes', 'diamonds', 'dots', 'dowjones', 'exercise', 'flights', 'fmri', 'geyser', 'glue', 'healthexp', 'iris', 'mpg', 'penguins', 'planets', 'seaice', 'taxis', 'tips', 'titanic']\n"
     ]
    }
   ],
   "source": [
    "import pandas\n",
    "import matplotlib\n",
    "import seaborn as sns\n",
    "print(sns.get_dataset_names())"
   ]
  },
  {
   "cell_type": "code",
   "execution_count": null,
   "id": "20357b43-76f7-439a-ac43-cc42357a3f85",
   "metadata": {},
   "outputs": [],
   "source": [
    "pip install seaborn"
   ]
  },
  {
   "cell_type": "code",
   "execution_count": 2,
   "id": "5651040d",
   "metadata": {
    "colab": {
     "base_uri": "https://localhost:8080/"
    },
    "executionInfo": {
     "elapsed": 7,
     "status": "ok",
     "timestamp": 1659681834281,
     "user": {
      "displayName": "Ajay Rana",
      "userId": "03526414130070916627"
     },
     "user_tz": -330
    },
    "id": "5651040d",
    "outputId": "1d71a373-84fc-41fa-e614-3e3a655d9f42"
   },
   "outputs": [
    {
     "name": "stdout",
     "output_type": "stream",
     "text": [
      "   total  speeding  alcohol  not_distracted  no_previous  ins_premium  \\\n",
      "0   18.8     7.332    5.640          18.048       15.040       784.55   \n",
      "1   18.1     7.421    4.525          16.290       17.014      1053.48   \n",
      "2   18.6     6.510    5.208          15.624       17.856       899.47   \n",
      "3   22.4     4.032    5.824          21.056       21.280       827.34   \n",
      "4   12.0     4.200    3.360          10.920       10.680       878.41   \n",
      "\n",
      "   ins_losses abbrev  \n",
      "0      145.08     AL  \n",
      "1      133.93     AK  \n",
      "2      110.35     AZ  \n",
      "3      142.39     AR  \n",
      "4      165.63     CA  \n",
      "(51, 8)\n"
     ]
    }
   ],
   "source": [
    "import seaborn as sns\n",
    "df = sns.load_dataset('car_crashes')\n",
    "print(df.head())\n",
    "print(df.shape)"
   ]
  },
  {
   "cell_type": "markdown",
   "id": "fe5e5fff",
   "metadata": {
    "id": "fe5e5fff"
   },
   "source": [
    "### Styling and Themes in Seaborn"
   ]
  },
  {
   "cell_type": "markdown",
   "id": "65454324",
   "metadata": {
    "id": "65454324"
   },
   "source": [
    "### Seaborn Themes"
   ]
  },
  {
   "cell_type": "markdown",
   "id": "9e2ccff1",
   "metadata": {
    "id": "9e2ccff1"
   },
   "source": [
    "Seaborn supports various themes that can make styling the plots really easy and save a lot of time. Using the set_style() function of Seaborn we can set any of the themes available on Seaborn library. Here are a few of the popular themes:\n",
    "\n",
    "Darkgrid\n",
    "Whitegrid\n",
    "Dark\n",
    "White\n",
    "Ticks"
   ]
  },
  {
   "cell_type": "code",
   "execution_count": 6,
   "id": "55282b9a",
   "metadata": {
    "colab": {
     "base_uri": "https://localhost:8080/",
     "height": 265
    },
    "executionInfo": {
     "elapsed": 1033,
     "status": "ok",
     "timestamp": 1659682077525,
     "user": {
      "displayName": "Ajay Rana",
      "userId": "03526414130070916627"
     },
     "user_tz": -330
    },
    "id": "55282b9a",
    "outputId": "7b73a9b3-bd43-4233-cca5-f89ff9a0061c"
   },
   "outputs": [
    {
     "data": {
      "image/png": "[encoded data removed]",
      "text/plain": [
       "<Figure size 640x480 with 1 Axes>"
      ]
     },
     "metadata": {},
     "output_type": "display_data"
    }
   ],
   "source": [
    "from matplotlib import pyplot as plt\n",
    "import seaborn as sns\n",
    "plt.scatter(df.speeding,df.alcohol)\n",
    "#sns.set_style(\"whitegrid\")\n",
    "sns.set_style(\"dark\")\n",
    "#sns.set_style(\"white\")\n",
    "#sns.set_style(\"ticks\")\n",
    "plt.show()"
   ]
  },
  {
   "cell_type": "markdown",
   "id": "6412bafc",
   "metadata": {
    "id": "6412bafc"
   },
   "source": [
    "A palette means a flat surface on which a painter arranges and mixes paints. Here I’ll show some of the color palettes out of the 170 palettes offered by Seaborn."
   ]
  },
  {
   "cell_type": "code",
   "execution_count": 7,
   "id": "6711141b",
   "metadata": {
    "colab": {
     "base_uri": "https://localhost:8080/",
     "height": 85
    },
    "executionInfo": {
     "elapsed": 474,
     "status": "ok",
     "timestamp": 1659682310185,
     "user": {
      "displayName": "Ajay Rana",
      "userId": "03526414130070916627"
     },
     "user_tz": -330
    },
    "id": "6711141b",
    "outputId": "ffa0f2a7-b982-490a-f3df-31323276438e"
   },
   "outputs": [
    {
     "data": {
      "image/png": "[encoded data removed]",
      "text/plain": [
       "<Figure size 2000x100 with 1 Axes>"
      ]
     },
     "metadata": {},
     "output_type": "display_data"
    }
   ],
   "source": [
    "sns.palplot(sns.color_palette(\"deep\", 20))"
   ]
  },
  {
   "cell_type": "code",
   "execution_count": 8,
   "id": "75b95dd9",
   "metadata": {
    "colab": {
     "base_uri": "https://localhost:8080/",
     "height": 85
    },
    "executionInfo": {
     "elapsed": 508,
     "status": "ok",
     "timestamp": 1659682320332,
     "user": {
      "displayName": "Ajay Rana",
      "userId": "03526414130070916627"
     },
     "user_tz": -330
    },
    "id": "75b95dd9",
    "outputId": "6d30cf30-3728-4d1f-d496-2ac35a33e3a5"
   },
   "outputs": [
    {
     "data": {
      "image/png": "[encoded data removed]",
      "text/plain": [
       "<Figure size 1000x100 with 1 Axes>"
      ]
     },
     "metadata": {},
     "output_type": "display_data"
    }
   ],
   "source": [
    "sns.palplot(sns.color_palette(\"PiYG\", 10))"
   ]
  },
  {
   "cell_type": "code",
   "execution_count": 10,
   "id": "d795493f",
   "metadata": {
    "id": "d795493f",
    "outputId": "09848729-1253-4794-8bbb-7406b0b7b269"
   },
   "outputs": [
    {
     "data": {
      "image/png": "[encoded data removed]",
      "text/plain": [
       "<Figure size 1000x100 with 1 Axes>"
      ]
     },
     "metadata": {},
     "output_type": "display_data"
    }
   ],
   "source": [
    "sns.palplot(sns.color_palette(\"BrBG\", 10))"
   ]
  },
  {
   "cell_type": "markdown",
   "id": "e405c316",
   "metadata": {
    "id": "e405c316"
   },
   "source": [
    "Here is a list of palettes....\n",
    "'Accent', 'Accent_r', 'Blues', 'Blues_r', 'BrBG', \n",
    "'BrBG_r', 'BuGn', 'BuGn_r', 'BuPu', 'BuPu_r', 'CMRmap',\n",
    " 'CMRmap_r', 'Dark2', 'Dark2_r', 'GnBu', 'GnBu_r', \n",
    "'Greens', 'Greens_r', 'Greys', 'Greys_r', 'OrRd', \n",
    "'OrRd_r', 'Oranges', 'Oranges_r', 'PRGn', 'PRGn_r',\n",
    " 'Paired', 'Paired_r', 'Pastel1', 'Pastel1_r', 'Pastel2', \n",
    "'Pastel2_r', 'PiYG', 'PiYG_r', 'PuBu', 'PuBuGn', 'PuBuGn_r', \n",
    "'PuBu_r', 'PuOr', 'PuOr_r', 'PuRd', 'PuRd_r', 'Purples', \n",
    "'Purples_r', 'RdBu', 'RdBu_r', 'RdGy', 'RdGy_r', 'RdPu',\n",
    " 'RdPu_r', 'RdYlBu', 'RdYlBu_r', 'RdYlGn', 'RdYlGn_r',\n",
    " 'Reds', 'Reds_r', 'Set1', 'Set1_r', 'Set2', 'Set2_r', \n",
    "'Set3', 'Set3_r', 'Spectral', 'Spectral_r', 'Wistia',\n",
    " 'Wistia_r', 'YlGn', 'YlGnBu', 'YlGnBu_r', 'YlGn_r',\n",
    " 'YlOrBr', 'YlOrBr_r', 'YlOrRd', 'YlOrRd_r', 'afmhot', \n",
    "'afmhot_r', 'autumn', 'autumn_r', 'binary', 'binary_r',\n",
    " 'bone', 'bone_r', 'brg', 'brg_r', 'bwr', 'bwr_r', 'cividis',\n",
    " 'cividis_r', 'cool', 'cool_r', 'coolwarm', 'coolwarm_r', \n",
    "'copper', 'copper_r', 'cubehelix', 'cubehelix_r', 'flag', \n",
    "'flag_r', 'gist_earth', 'gist_earth_r', 'gist_gray', \n",
    "'gist_gray_r', 'gist_heat', 'gist_heat_r', 'gist_ncar',\n",
    " 'gist_ncar_r', 'gist_rainbow', 'gist_rainbow_r', \n",
    "'gist_stern', 'gist_stern_r', 'gist_yarg', 'gist_yarg_r',\n",
    " 'gnuplot', 'gnuplot2','gnuplot2_r', 'gnuplot_r',\n",
    " 'gray', 'gray_r', 'hot', 'hot_r', 'hsv',\n",
    " 'hsv_r', 'icefire', 'icefire_r', 'inferno', 'inferno_r', 'jet', \n",
    "'jet_r', 'magma', 'magma_r', 'mako', 'mako_r', "
   ]
  },
  {
   "cell_type": "markdown",
   "id": "932226b4",
   "metadata": {
    "id": "932226b4"
   },
   "source": [
    "### Barplots\n",
    "Vertical barplot and Horizontal barplots"
   ]
  },
  {
   "cell_type": "code",
   "execution_count": 12,
   "id": "b0fa3d70",
   "metadata": {
    "colab": {
     "base_uri": "https://localhost:8080/",
     "height": 368
    },
    "executionInfo": {
     "elapsed": 691,
     "status": "ok",
     "timestamp": 1659682822998,
     "user": {
      "displayName": "Ajay Rana",
      "userId": "03526414130070916627"
     },
     "user_tz": -330
    },
    "id": "b0fa3d70",
    "outputId": "60054b1e-cffb-4abc-9964-9c6e163135d4"
   },
   "outputs": [
    {
     "name": "stderr",
     "output_type": "stream",
     "text": [
      "C:\\Users\\Dell\\AppData\\Local\\Temp\\ipykernel_7620\\3134624651.py:8: FutureWarning: \n",
      "\n",
      "Passing `palette` without assigning `hue` is deprecated and will be removed in v0.14.0. Assign the `x` variable to `hue` and set `legend=False` for the same effect.\n",
      "\n",
      "  sns.barplot(x = 'embark_town', y = 'age', data = titanic,\n",
      "No artists with labels found to put in legend.  Note that artists whose label start with an underscore are ignored when legend() is called with no argument.\n"
     ]
    },
    {
     "data": {
      "image/png": "[encoded data removed]",
      "text/plain": [
       "<Figure size 640x480 with 1 Axes>"
      ]
     },
     "metadata": {},
     "output_type": "display_data"
    }
   ],
   "source": [
    "import matplotlib.pyplot as plt\n",
    "import seaborn as sns\n",
    "  \n",
    " \n",
    "# load dataset\n",
    "titanic = sns.load_dataset('titanic')\n",
    "# create plot\n",
    "sns.barplot(x = 'embark_town', y = 'age', data = titanic,\n",
    "            palette = 'BrBG')\n",
    "plt.legend()\n",
    "plt.show()\n",
    "#print(titanic.columns)"
   ]
  },
  {
   "cell_type": "markdown",
   "id": "8fc8b39d",
   "metadata": {
    "id": "8fc8b39d"
   },
   "source": [
    "### Count plot\n",
    "The count plot can be thought of as a histogram across a categorical variable."
   ]
  },
  {
   "cell_type": "code",
   "execution_count": 14,
   "id": "e7f1d4bf",
   "metadata": {
    "id": "e7f1d4bf",
    "outputId": "2f306bf8-75f3-4817-df9b-57de463a0111"
   },
   "outputs": [
    {
     "data": {
      "image/png": "[encoded data removed]",
      "text/plain": [
       "<Figure size 640x480 with 1 Axes>"
      ]
     },
     "metadata": {},
     "output_type": "display_data"
    }
   ],
   "source": [
    "import matplotlib.pyplot as plt\n",
    "import seaborn as sns\n",
    "  \n",
    "sns.set_context('paper')\n",
    " \n",
    "# load dataset\n",
    "titanic = sns.load_dataset('titanic')\n",
    "# create plot\n",
    "sns.countplot(x = 'class', hue = 'who', data = titanic, palette = 'flag_r')\n",
    "plt.title('Survivors')\n",
    "plt.show()"
   ]
  },
  {
   "cell_type": "code",
   "execution_count": null,
   "id": "6c0f8cf1",
   "metadata": {
    "id": "6c0f8cf1"
   },
   "outputs": [],
   "source": []
  }
 ],
 "metadata": {
  "colab": {
   "name": "Seaborn.ipynb",
   "provenance": []
  },
  "kernelspec": {
   "display_name": "Python 3 (ipykernel)",
   "language": "python",
   "name": "python3"
  },
  "language_info": {
   "codemirror_mode": {
    "name": "ipython",
    "version": 3
   },
   "file_extension": ".py",
   "mimetype": "text/x-python",
   "name": "python",
   "nbconvert_exporter": "python",
   "pygments_lexer": "ipython3",
   "version": "3.12.1"
  }
 },
 "nbformat": 4,
 "nbformat_minor": 5
}
