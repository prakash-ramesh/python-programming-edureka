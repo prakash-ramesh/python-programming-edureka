{
 "cells": [
  {
   "cell_type": "markdown",
   "metadata": {
    "id": "qKp4fObzset6"
   },
   "source": [
    "\n",
    "\n",
    "## Demo 1 - Numbers In Python\n",
    "\n",
    "Study about Python numbers with this demonstration. Apply multiple kinds and perform various operations on them using Python operators."
   ]
  },
  {
   "cell_type": "code",
   "execution_count": null,
   "metadata": {
    "id": "nmJAm9S0seuB",
    "outputId": "01c0c237-21d6-493d-ef6a-334c7f9257fa"
   },
   "outputs": [
    {
     "name": "stdout",
     "output_type": "stream",
     "text": [
      "10 20.1 (10+5j)\n",
      "<class 'int'> <class 'float'> <class 'complex'>\n"
     ]
    }
   ],
   "source": [
    "#Different types of numbers supported by python\n",
    "A=10 # Integer\n",
    "B=20.1 # float\n",
    "c=10+5j # complex\n",
    "print(A,B,c)\n",
    "print(type(A),type(B),type(c))\n"
   ]
  },
  {
   "cell_type": "code",
   "execution_count": null,
   "metadata": {
    "id": "F7VTdpIoseuD",
    "outputId": "78df16df-36df-4e30-cf14-d251b91216b6"
   },
   "outputs": [
    {
     "name": "stdout",
     "output_type": "stream",
     "text": [
      "Number of Modules:8\n",
      "Number of Assignments:75\n"
     ]
    },
    {
     "ename": "TypeError",
     "evalue": "unsupported operand type(s) for /: 'str' and 'str'",
     "output_type": "error",
     "traceback": [
      "\u001b[1;31m---------------------------------------------------------------------------\u001b[0m",
      "\u001b[1;31mTypeError\u001b[0m                                 Traceback (most recent call last)",
      "\u001b[1;32m<ipython-input-2-9280b653bb99>\u001b[0m in \u001b[0;36m<module>\u001b[1;34m\u001b[0m\n\u001b[0;32m      2\u001b[0m \u001b[0mNo_Of_Modules\u001b[0m\u001b[1;33m=\u001b[0m\u001b[0minput\u001b[0m\u001b[1;33m(\u001b[0m\u001b[1;34m'Number of Modules:'\u001b[0m\u001b[1;33m)\u001b[0m\u001b[1;33m\u001b[0m\u001b[1;33m\u001b[0m\u001b[0m\n\u001b[0;32m      3\u001b[0m \u001b[0mNo_Of_Assignments\u001b[0m\u001b[1;33m=\u001b[0m\u001b[0minput\u001b[0m\u001b[1;33m(\u001b[0m\u001b[1;34m'Number of Assignments:'\u001b[0m\u001b[1;33m)\u001b[0m\u001b[1;33m\u001b[0m\u001b[1;33m\u001b[0m\u001b[0m\n\u001b[1;32m----> 4\u001b[1;33m \u001b[0mprint\u001b[0m\u001b[1;33m(\u001b[0m\u001b[1;34m'Number of Assignments per module?'\u001b[0m\u001b[1;33m,\u001b[0m\u001b[0mNo_Of_Assignments\u001b[0m\u001b[1;33m/\u001b[0m\u001b[0mNo_Of_Modules\u001b[0m\u001b[1;33m)\u001b[0m \u001b[1;31m#Why? Type error. We cannot divide two strings.\u001b[0m\u001b[1;33m\u001b[0m\u001b[1;33m\u001b[0m\u001b[0m\n\u001b[0m",
      "\u001b[1;31mTypeError\u001b[0m: unsupported operand type(s) for /: 'str' and 'str'"
     ]
    }
   ],
   "source": [
    "# Payal is beginner in Python. She is just sitting outside and studying Python. Let us see how she applies Python here. \n",
    "No_Of_Modules=input('Number of Modules:')\n",
    "No_Of_Assignments=input('Number of Assignments:')\n",
    "print('Number of Assignments per module?',No_Of_Assignments/No_Of_Modules) #Why? Type error. We cannot divide two strings.\n"
   ]
  },
  {
   "cell_type": "code",
   "execution_count": null,
   "metadata": {
    "id": "S3F47Rk-seuE",
    "outputId": "c8f0a0dc-5e92-455d-87c0-dcb6efe01812"
   },
   "outputs": [
    {
     "name": "stdout",
     "output_type": "stream",
     "text": [
      "Number of Assignments per module? 9.375\n"
     ]
    }
   ],
   "source": [
    "# She tries to rectify the error by converting type to integer\n",
    "print('Number of Assignments per module?',int(No_Of_Assignments)/int(No_Of_Modules)) "
   ]
  },
  {
   "cell_type": "code",
   "execution_count": null,
   "metadata": {
    "id": "c7ZawP9hseuF",
    "outputId": "bae9bb9b-7660-475e-ddb8-43a2e426ac30"
   },
   "outputs": [
    {
     "name": "stdout",
     "output_type": "stream",
     "text": [
      "Number of Assignments each Module will have? 9\n"
     ]
    }
   ],
   "source": [
    "#It is not possible to lay half egg right?\n",
    "Assignment_Each_Module=int(No_Of_Assignments)//int(No_Of_Modules)\n",
    "print('Number of Assignments each Module will have?',Assignment_Each_Module)"
   ]
  },
  {
   "cell_type": "code",
   "execution_count": null,
   "metadata": {
    "id": "m038KaSpseuG",
    "outputId": "1eb52cc8-258e-45f6-fdb0-f9651e01fb6d"
   },
   "outputs": [
    {
     "name": "stdout",
     "output_type": "stream",
     "text": [
      "Enter length and breadth of the farm separated by comma:550,780\n",
      "Area of field: 429000.0\n"
     ]
    }
   ],
   "source": [
    "# %i represents an integer value\n",
    "# Now, Payal wants to measure the area of the farm. She asks her dad to enter length and breadth of the farm.\n",
    "length, breadth=input('Enter length and breadth of the farm separated by comma:').split(',')\n",
    "area=float(length)*float(breadth)\n",
    "print('Area of field:',area)"
   ]
  },
  {
   "cell_type": "code",
   "execution_count": null,
   "metadata": {
    "id": "FFf_ETnWseuG",
    "outputId": "f20347ce-770d-48fa-b205-9c615ff13235"
   },
   "outputs": [
    {
     "name": "stdout",
     "output_type": "stream",
     "text": [
      "Usable area: 428800.0\n"
     ]
    }
   ],
   "source": [
    "# Some of the land is used as grazing land. So, the usable area should be-\n",
    "grazing_land=200\n",
    "area -= 200\n",
    "print('Usable area:',area)"
   ]
  },
  {
   "cell_type": "code",
   "execution_count": null,
   "metadata": {
    "id": "n0mToy3RseuH",
    "outputId": "556ff0ef-9279-49eb-e105-441f2ba228bb"
   },
   "outputs": [
    {
     "name": "stdout",
     "output_type": "stream",
     "text": [
      "Area for each section: 61257.142857142855\n"
     ]
    }
   ],
   "source": [
    "# Rest of the area is evenly divided into 7 parts\n",
    "print('Area for each section:',area/7)"
   ]
  },
  {
   "cell_type": "code",
   "execution_count": null,
   "metadata": {
    "id": "t-OQ7FpMseuI",
    "outputId": "f22b8c06-a849-446e-8512-a48fbacff147"
   },
   "outputs": [
    {
     "name": "stdout",
     "output_type": "stream",
     "text": [
      "Area for each section 61257.1429\n"
     ]
    }
   ],
   "source": [
    "# The precision level is to high, Payal needs just 4 decimal places\n",
    "print('Area for each section %0.4f'%(area/7))"
   ]
  },
  {
   "cell_type": "code",
   "execution_count": null,
   "metadata": {
    "id": "dfCzKEs-seuJ",
    "outputId": "836bb866-fdc3-4312-9c6f-429100de78fc"
   },
   "outputs": [
    {
     "name": "stdout",
     "output_type": "stream",
     "text": [
      "Area for each section 61257.143\n"
     ]
    }
   ],
   "source": [
    "# Formatting can also be done using format() function\n",
    "print('Area for each section {:.3f}'.format(area/7))"
   ]
  },
  {
   "cell_type": "code",
   "execution_count": null,
   "metadata": {
    "id": "Bj9D--ZiseuK"
   },
   "outputs": [],
   "source": [
    "# later she learnt how to use complex number in python\n",
    "A=10+3j\n",
    "B=5-10j"
   ]
  },
  {
   "cell_type": "code",
   "execution_count": null,
   "metadata": {
    "id": "54vKMzD2seuO",
    "outputId": "0290746d-cabe-41cb-c111-301516d309b4"
   },
   "outputs": [
    {
     "name": "stdout",
     "output_type": "stream",
     "text": [
      "Addition of two complex numbers: (15-7j)\n",
      "Mulitplication of a complex number and an integer: (20+6j)\n",
      "Real part of a complex number: 10.0\n",
      "Conjugate of complex number: (10-3j)\n",
      "Imaginary part of a complex number: 3.0\n"
     ]
    }
   ],
   "source": [
    "#operations on complex numbers\n",
    "print('Addition of two complex numbers:',A+B)\n",
    "print('Mulitplication of a complex number and an integer:',A*2)\n",
    "print('Real part of a complex number:',A.real)\n",
    "print('Conjugate of complex number:',A.conjugate())\n",
    "print('Imaginary part of a complex number:',A.imag)"
   ]
  },
  {
   "cell_type": "code",
   "execution_count": null,
   "metadata": {
    "id": "LyPXHXBwseuP",
    "outputId": "b76794f0-2af3-429a-ad64-f7b8ed0bde8b"
   },
   "outputs": [
    {
     "name": "stdout",
     "output_type": "stream",
     "text": [
      "True\n"
     ]
    }
   ],
   "source": [
    "# Comparision of real part to an integer\n",
    "print(A.real == 10)"
   ]
  },
  {
   "cell_type": "code",
   "execution_count": null,
   "metadata": {
    "id": "qPsrJhBZseuP",
    "outputId": "f00cc49c-82aa-4616-e05a-d4ee6925e7f2"
   },
   "outputs": [
    {
     "data": {
      "text/plain": [
       "(20, 1)"
      ]
     },
     "execution_count": 15,
     "metadata": {},
     "output_type": "execute_result"
    }
   ],
   "source": [
    "# left shift and right shift\n",
    "# binary of 5= 00000101 so left shifting by two places\n",
    "# 101(5) << 2 => 10100 which is 20 in decimal\n",
    "\n",
    "5<<2,5>>2"
   ]
  },
  {
   "cell_type": "code",
   "execution_count": null,
   "metadata": {
    "id": "0-Va3PdIseuQ",
    "outputId": "9fd098b1-293a-4cc8-eca4-c7e2f38137d2"
   },
   "outputs": [
    {
     "name": "stdout",
     "output_type": "stream",
     "text": [
      "Enter a number:7\n",
      "octal 0o7:\n",
      "binary 0b111:\n",
      "hexadecimal 0x7:\n"
     ]
    }
   ],
   "source": [
    "#To represent a number in various number systems\n",
    "test=int(input('Enter a number:'))\n",
    "print('octal %s:'%oct(test))\n",
    "print('binary %s:'%bin(test))\n",
    "print('hexadecimal %s:'%hex(test))\n",
    "#why %s? these functions return specific value in string for representation"
   ]
  },
  {
   "cell_type": "code",
   "execution_count": null,
   "metadata": {
    "id": "DcmKvT_nseuQ",
    "outputId": "61403143-1bf5-43cc-e5cf-0081cc553190"
   },
   "outputs": [
    {
     "name": "stdout",
     "output_type": "stream",
     "text": [
      "2 to 5th power: 32\n",
      "three times ten to the fifth power: 300000\n"
     ]
    }
   ],
   "source": [
    "# Exponents and powers\n",
    "print('2 to 5th power: %d'%2**5)\n",
    "print('three times ten to the fifth power: %d'%3e5) #python supports E-notation"
   ]
  },
  {
   "cell_type": "code",
   "execution_count": null,
   "metadata": {
    "id": "JnyE0GIBseuR",
    "outputId": "e8492aae-d9bc-4daa-b22c-895e131470d4"
   },
   "outputs": [
    {
     "name": "stdout",
     "output_type": "stream",
     "text": [
      "False\n"
     ]
    }
   ],
   "source": [
    "# While playing with numbers she noticed something unsual\n",
    "print(1.1+2.2==3.3)"
   ]
  },
  {
   "cell_type": "code",
   "execution_count": null,
   "metadata": {
    "id": "ekNSi9AZseuR",
    "outputId": "b636433f-60fd-4a8a-c653-da2f077d79c0"
   },
   "outputs": [
    {
     "name": "stdout",
     "output_type": "stream",
     "text": [
      "False\n"
     ]
    }
   ],
   "source": [
    "#How can that be possible?\n",
    "x=1.1+2.20\n",
    "y=3.3\n",
    "print(x==y)"
   ]
  },
  {
   "cell_type": "code",
   "execution_count": null,
   "metadata": {
    "id": "DGIkYOIcseuR",
    "outputId": "556357ae-22e6-4f74-916f-017fd3c5bbc2"
   },
   "outputs": [
    {
     "name": "stdout",
     "output_type": "stream",
     "text": [
      "3.3000000000000003\n",
      "3.3\n"
     ]
    }
   ],
   "source": [
    "#  It due to machine error. Machines cannot store decimals precisely\n",
    "print(x)\n",
    "print(y)"
   ]
  },
  {
   "cell_type": "code",
   "execution_count": null,
   "metadata": {
    "id": "IZTSQmICseuS",
    "outputId": "e1fcba05-5d28-4095-c091-36a719e39ae7"
   },
   "outputs": [
    {
     "name": "stdout",
     "output_type": "stream",
     "text": [
      "Enter the temperature in fahrenheit: 98\n",
      "Celcuis: 36.67\n"
     ]
    }
   ],
   "source": [
    "''' Payal wants to convert temperature from Fahrenheit to Celcuis\n",
    "    Let us try to help her\n",
    "    She knows the Formula is: C = 5 / 9 * (F - 32)\n",
    "    One more thing! This is how we write multiline comments in Python.\n",
    "'''\n",
    "F=int(input('Enter the temperature in fahrenheit: '))\n",
    "C=5/9*(F-32)\n",
    "print('Celcuis: %0.2f'%C)\n"
   ]
  },
  {
   "cell_type": "markdown",
   "metadata": {
    "id": "r-9ZlPnIseuS"
   },
   "source": [
    "##### Conclusion: This Python code explains how to declare and carry out operations on numbers."
   ]
  },
  {
   "cell_type": "code",
   "execution_count": null,
   "metadata": {
    "id": "e0gyc-CsuNx4"
   },
   "outputs": [],
   "source": []
  }
 ],
 "metadata": {
  "colab": {
   "name": "1906_m1_demo1_numbers_in_python_v1.0.ipynb",
   "provenance": []
  },
  "kernelspec": {
   "display_name": "Python 3 (ipykernel)",
   "language": "python",
   "name": "python3"
  },
  "language_info": {
   "codemirror_mode": {
    "name": "ipython",
    "version": 3
   },
   "file_extension": ".py",
   "mimetype": "text/x-python",
   "name": "python",
   "nbconvert_exporter": "python",
   "pygments_lexer": "ipython3",
   "version": "3.9.7"
  }
 },
 "nbformat": 4,
 "nbformat_minor": 1
}
